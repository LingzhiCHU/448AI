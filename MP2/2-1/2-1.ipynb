{
 "cells": [
  {
   "cell_type": "code",
   "execution_count": 8,
   "metadata": {
    "collapsed": false
   },
   "outputs": [
    {
     "name": "stdout",
     "output_type": "stream",
     "text": [
      "[[-1, -1, -1, -1, -1, -1, -1, -1], [-1, -1, -1, -1, -1, -1, -1, -1], [0, 0, 0, 0, 0, 0, 0, 0], [0, 0, 0, 0, 0, 0, 0, 0], [0, 0, 0, 0, 0, 0, 0, 0], [0, 0, 0, 0, 0, 0, 0, 0], [1, 1, 1, 1, 1, 1, 1, 1], [1, 1, 1, 1, 1, 1, 1, 1]]\n"
     ]
    }
   ],
   "source": [
    "a = [[0 for x in range(8)] for y in range(8)]\n",
    "for i in range(8):\n",
    "    a[0][i] = -1\n",
    "    a[1][i] = -1\n",
    "    a[6][i] = 1\n",
    "    a[7][i] = 1\n",
    "print(a)\n",
    "\n",
    "\n"
   ]
  },
  {
   "cell_type": "code",
   "execution_count": 9,
   "metadata": {
    "collapsed": false
   },
   "outputs": [
    {
     "ename": "SyntaxError",
     "evalue": "invalid syntax (<ipython-input-9-6a56ed5f58bc>, line 2)",
     "output_type": "error",
     "traceback": [
      "\u001b[0;36m  File \u001b[0;32m\"<ipython-input-9-6a56ed5f58bc>\"\u001b[0;36m, line \u001b[0;32m2\u001b[0m\n\u001b[0;31m    if color = 1:\u001b[0m\n\u001b[0m             ^\u001b[0m\n\u001b[0;31mSyntaxError\u001b[0m\u001b[0;31m:\u001b[0m invalid syntax\n"
     ]
    }
   ],
   "source": [
    "def offensive_heuristic1(l):\n",
    "    return len(l)\n"
   ]
  },
  {
   "cell_type": "code",
   "execution_count": 18,
   "metadata": {
    "collapsed": true
   },
   "outputs": [],
   "source": [
    "def init_pieces():\n",
    "    wl = set()\n",
    "    bl = set()\n",
    "    for i in range(8):\n",
    "        bl.add((0, i))\n",
    "        bl.add((1, i))\n",
    "        wl.add((6, i))\n",
    "        wl.add((7, i))\n",
    "    return bl, wl"
   ]
  },
  {
   "cell_type": "code",
   "execution_count": null,
   "metadata": {
    "collapsed": true
   },
   "outputs": [],
   "source": []
  },
  {
   "cell_type": "code",
   "execution_count": 20,
   "metadata": {
    "collapsed": false
   },
   "outputs": [],
   "source": [
    "bl, wl = init_pieces()\n",
    "#print(bl)"
   ]
  },
  {
   "cell_type": "code",
   "execution_count": 24,
   "metadata": {
    "collapsed": false
   },
   "outputs": [],
   "source": [
    "# returns boolean, and the piece eaten\n",
    "def viable(color, new_pos, straight, bl, wl):\n",
    "    if color == 1:  # black moving\n",
    "        if new_pos[0] > 0 and new_pos[1] > 0 and new_pos[0] < 8 and new_pos[1] < 8:\n",
    "            # check whether moving onto black piece\n",
    "            if new_pos in bl:\n",
    "                return False\n",
    "            \n",
    "            # check whether moving onto white piece\n",
    "            if straight:\n",
    "                if new_pos in wl:\n",
    "                    return False\n",
    "            else: # may eat some piece\n",
    "                if new_pos in wl:\n",
    "                    return True, new_pos\n",
    "                \n",
    "            return True\n",
    "        \n",
    "        else:\n",
    "            return False\n",
    "    \n",
    "    else:           # white moving\n",
    "        if new_pos[0] > 0 and new_pos[1] > 0 and new_pos[0] < 8 and new_pos[1] < 8:\n",
    "            # check whether moving onto white piece\n",
    "            if new_pos in wl:\n",
    "                return False\n",
    "            \n",
    "            # check whether moving onto black piece\n",
    "            if straight:\n",
    "                if new_pos in bl:\n",
    "                    return False\n",
    "            else: # may eat some piece\n",
    "                if new_pos in bl:\n",
    "                    return True, new_pos\n",
    "                \n",
    "            return True\n",
    "        \n",
    "        else:\n",
    "            return False"
   ]
  },
  {
   "cell_type": "code",
   "execution_count": 25,
   "metadata": {
    "collapsed": false
   },
   "outputs": [],
   "source": [
    "def base_case(bl, wl):\n",
    "    if (not wl) or (not bl):\n",
    "        return True\n",
    "    for p in bl:\n",
    "        if p[0] == 7:\n",
    "            return True\n",
    "    for p in wl:\n",
    "        if p[0] == 0:\n",
    "            return True\n",
    "    \n",
    "    return False"
   ]
  },
  {
   "cell_type": "code",
   "execution_count": null,
   "metadata": {
    "collapsed": true
   },
   "outputs": [],
   "source": [
    "# black --> 1\n",
    "# white --> -1\n",
    "\n",
    "def maxmove(color, bl, wl, depth):\n",
    "    \n",
    "    # base case: all pieces of one agent die   or   one pieces of a agent reach the other side\n",
    "    if base_case(bl, wl) or depth == 0:\n",
    "        return offensive_heuristic1(bl, wl)\n",
    "    \n",
    "    if color == 1:\n",
    "        cur_max = 0\n",
    "        # also record best action\n",
    "        for p in bl:\n",
    "            \n",
    "            # left forward\n",
    "            new_pos = (p[0]+1, p[1]+1)\n",
    "            via = viable(1, new_pos, False, bl, wl)\n",
    "            if via[0]:\n",
    "                new_bl = bl.copy()\n",
    "                new_bl.remove(p)\n",
    "                new_bl.add(new_pos)\n",
    "                new_wl = wl.copy()\n",
    "                if via[1]:\n",
    "                    new_wl.remove(via[1])\n",
    "                    \n",
    "                val = minmove(-1, new_bl, new_wl, depth-1)\n",
    "                if (val > cur_max):\n",
    "                    curmax = val\n",
    "                    best_action = (-1, new_bl, new_wl)\n",
    "                    \n",
    "            # forward\n",
    "            new_pos = (p[0]+1, p[1])\n",
    "            via = viable(1, new_pos, True, bl, wl)\n",
    "            if via[0]:\n",
    "                new_bl = bl.copy()\n",
    "                new_bl.remove(p)\n",
    "                new_bl.add(new_pos)\n",
    "                new_wl = wl.copy()\n",
    "                val = minmove(-1, new_bl, new_wl, depth-1)\n",
    "\n",
    "                \n",
    "            # right forward\n",
    "            new_pos = (p[0]+1, p[1]-1)        \n",
    "            via = viable(1, new_pos, False, bl, wl)\n",
    "            if via[0]:\n",
    "                new_bl = bl.copy()\n",
    "                new_bl.remove(p)\n",
    "                new_bl.add(new_pos)\n",
    "                new_wl = wl.copy()\n",
    "                if via[1]:\n",
    "                    new_wl.remove(via[1])\n",
    "                    \n",
    "                val = minmove(-1, new_bl, new_wl, depth-1)\n",
    "                if (val > cur_max):\n",
    "                    curmax = val\n",
    "                    best_action = (-1, new_bl, new_wl)\n",
    "                    \n",
    "           \n",
    "        # return the most promising result after loop through all pieces\n",
    "        return cur_max\n",
    "    else:\n",
    "        "
   ]
  },
  {
   "cell_type": "code",
   "execution_count": 33,
   "metadata": {
    "collapsed": false
   },
   "outputs": [
    {
     "name": "stdout",
     "output_type": "stream",
     "text": [
      "5\n"
     ]
    }
   ],
   "source": [
    "\n",
    "if True:\n",
    "    best = 5\n",
    "print(best)"
   ]
  },
  {
   "cell_type": "code",
   "execution_count": null,
   "metadata": {
    "collapsed": true
   },
   "outputs": [],
   "source": [
    "def minmove():\n",
    "    "
   ]
  }
 ],
 "metadata": {
  "kernelspec": {
   "display_name": "Python 3",
   "language": "python",
   "name": "python3"
  },
  "language_info": {
   "codemirror_mode": {
    "name": "ipython",
    "version": 3
   },
   "file_extension": ".py",
   "mimetype": "text/x-python",
   "name": "python",
   "nbconvert_exporter": "python",
   "pygments_lexer": "ipython3",
   "version": "3.6.0"
  }
 },
 "nbformat": 4,
 "nbformat_minor": 2
}
