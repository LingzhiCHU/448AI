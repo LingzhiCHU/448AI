{
 "cells": [
  {
   "cell_type": "code",
   "execution_count": 11,
   "metadata": {},
   "outputs": [
    {
     "name": "stdout",
     "output_type": "stream",
     "text": [
      "Populating the interactive namespace from numpy and matplotlib\n"
     ]
    }
   ],
   "source": [
    "from __future__ import division\n",
    "%pylab inline\n",
    "import numpy as np\n",
    "import scipy.spatial.distance as dist\n",
    "from scipy import stats\n",
    "import pickle\n",
    "import math\n",
    "import collections\n",
    "import numpy as np"
   ]
  },
  {
   "cell_type": "code",
   "execution_count": null,
   "metadata": {
    "collapsed": true
   },
   "outputs": [],
   "source": [
    "def readRough(name=\"traininglabels\"):\n",
    "    with open(name) as label:\n",
    "        labels = []\n",
    "        for line in label:\n",
    "            labels.append(line[0])\n",
    "    return labels"
   ]
  },
  {
   "cell_type": "code",
   "execution_count": null,
   "metadata": {
    "collapsed": true
   },
   "outputs": [],
   "source": [
    "label = readRough()\n",
    "print(len(label))\n",
    "class_ = sorted(collections.Counter(label).items())\n",
    "print(class_)"
   ]
  },
  {
   "cell_type": "code",
   "execution_count": null,
   "metadata": {
    "collapsed": true
   },
   "outputs": [],
   "source": [
    "with open('labelstats.txt', 'wb') as fp:\n",
    "    pickle.dump(class_, fp)"
   ]
  },
  {
   "cell_type": "code",
   "execution_count": null,
   "metadata": {
    "collapsed": true
   },
   "outputs": [],
   "source": [
    "with open ('labelstats.txt', 'rb') as fp:\n",
    "    class_ = pickle.load(fp)"
   ]
  },
  {
   "cell_type": "code",
   "execution_count": null,
   "metadata": {
    "collapsed": true
   },
   "outputs": [],
   "source": [
    "print class_"
   ]
  },
  {
   "cell_type": "code",
   "execution_count": null,
   "metadata": {
    "collapsed": true
   },
   "outputs": [],
   "source": [
    "def inputDigit(name=\"trainingimages\"):\n",
    "    with open(name) as digitTxt:\n",
    "        image = [list(line)[0:28] for line in digitTxt]\n",
    "        rows = len(image)\n",
    "    return image\n"
   ]
  },
  {
   "cell_type": "code",
   "execution_count": null,
   "metadata": {
    "collapsed": true
   },
   "outputs": [],
   "source": [
    "data_training = inputDigit()"
   ]
  },
  {
   "cell_type": "code",
   "execution_count": null,
   "metadata": {
    "collapsed": true
   },
   "outputs": [],
   "source": [
    "# \" \" = high   =  1\n",
    "# \"%\" = low    =  0\n",
    "# len(row) = 10\n",
    "def countNum(name = \"yes_train.txt\"):\n",
    "    with open(name) as dataset:\n",
    "        num_lines = sum(1 for line in dataset)\n",
    "        return num_lines / 28\n",
    "    \n"
   ]
  },
  {
   "cell_type": "markdown",
   "metadata": {},
   "source": [
    "for training "
   ]
  },
  {
   "cell_type": "code",
   "execution_count": null,
   "metadata": {
    "collapsed": true
   },
   "outputs": [],
   "source": [
    "# label yes = 1\n",
    "# label no = 0\n",
    "Num_sample_yes =  countNum()\n",
    "Num_sample_no =  countNum(\"no_train.txt\")\n",
    "print(Num_sample_yes,Num_sample_no)"
   ]
  },
  {
   "cell_type": "code",
   "execution_count": null,
   "metadata": {
    "collapsed": true
   },
   "outputs": [],
   "source": [
    "Num_test_yes =  countNum(\"yes_test.txt\")\n",
    "Num_test_no =  countNum(\"no_test.txt\")\n",
    "print(Num_test_yes,Num_test_no)"
   ]
  },
  {
   "cell_type": "code",
   "execution_count": null,
   "metadata": {
    "collapsed": true
   },
   "outputs": [],
   "source": [
    "def inputDigit(name=\"yes_train.txt\"):\n",
    "    with open(name) as digitTxt:\n",
    "        image = [list(line)[0:10] for line in digitTxt]\n",
    "    return image"
   ]
  },
  {
   "cell_type": "code",
   "execution_count": null,
   "metadata": {
    "collapsed": true
   },
   "outputs": [],
   "source": [
    "data_yes = inputDigit()\n",
    "data_no = inputDigit(\"no_train.txt\")\n",
    "test_yes = inputDigit(\"yes_test.txt\")\n",
    "test_no = inputDigit(\"no_test.txt\")"
   ]
  },
  {
   "cell_type": "code",
   "execution_count": null,
   "metadata": {
    "collapsed": true
   },
   "outputs": [],
   "source": [
    "#   yes is class 0\n",
    "#   no is class 1\n",
    "k = 1\n",
    "    \n",
    "def training(yes_train, no_train, yes_num, no_num):\n",
    "    # \" \" = high   =  1\n",
    "    # \"%\" = low    =  0\n",
    "    \n",
    "    class_total = [yes_num, no_num]\n",
    "\n",
    "    training0 = np.zeros(shape=(2, 25, 10))   #high\n",
    "    training1 = np.zeros(shape=(2, 25, 10))   #low\n",
    "\n",
    "    count = 0\n",
    "    for i in range(int(yes_num)):\n",
    "        for row in range(25):\n",
    "            for col in range(10):\n",
    "                if yes_train[i*28 + row][col] == ' ':\n",
    "                    training1[0][row][col] += 1\n",
    "                    training0[0][row][col] += 0\n",
    "                else:\n",
    "                    training1[0][row][col] += 0\n",
    "                    training0[0][row][col] += 1\n",
    "                    \n",
    "    for i in range(int(no_num)):\n",
    "        for row in range(25):\n",
    "            for col in range(10):\n",
    "                if no_train[i*28 + row][col] == ' ':\n",
    "                    training1[1][row][col] += 1\n",
    "                    training0[1][row][col] += 0\n",
    "                else:\n",
    "                    training1[1][row][col] += 0\n",
    "                    training0[1][row][col] += 1\n",
    "\n",
    "    for i in range(2):\n",
    "        training1[i] = (training1[i] + k) / (class_total[i] + k * 2)\n",
    "        training0[i] = (training0[i] + k) / (class_total[i] + k * 2)\n",
    "#     print(training0[1][0])\n",
    "#     print(training1[1][0])\n",
    "    \n",
    "    return training0, training1"
   ]
  },
  {
   "cell_type": "code",
   "execution_count": null,
   "metadata": {
    "collapsed": true
   },
   "outputs": [],
   "source": [
    "training0, training1 = training(data_yes, data_no, Num_sample_yes, Num_sample_no)"
   ]
  },
  {
   "cell_type": "code",
   "execution_count": null,
   "metadata": {
    "collapsed": true
   },
   "outputs": [],
   "source": [
    "# log P(class) + log P(f1,1 | class) + log P(f1,2 | class) + ... + log P(f28,28 | class)\n",
    "\n",
    "# test_rough = inputDigit(name = \"digitdata/testimages\")\n",
    "def testing(yes_test, no_test, Num_test_yes, Num_test_no):\n",
    "\n",
    "    data_test = np.concatenate( (yes_test, no_test) , axis = 0 )\n",
    "# #     print len(data_test) / 28\n",
    "#     return \n",
    "\n",
    "    total = Num_test_yes + Num_test_no\n",
    "    answer = np.zeros(int(total))\n",
    "    \n",
    "    class_total = [Num_test_yes, Num_test_no]\n",
    "    \n",
    "    for i in range(int(total)):\n",
    "        test_image = np.zeros(shape=(25,10))\n",
    "        for row in range(25):\n",
    "            for col in range(10):\n",
    "                if data_test[i*28+row][col] == ' ':\n",
    "                    test_image[row][col] = 1\n",
    "                else:\n",
    "                    test_image[row][col] = 0\n",
    "                    \n",
    "\n",
    "        posteriori = np.zeros(2)\n",
    "        for class_num in range(2):\n",
    "            posteriori[class_num] = math.log(class_total[class_num])\n",
    "            for row in range(25):\n",
    "                for col in range(10):\n",
    "                    if test_image[row][col] == 0:\n",
    "                        posteriori[class_num] += math.log(training0[class_num][row][col])\n",
    "                    else:\n",
    "                        posteriori[class_num] += math.log(training1[class_num][row][col] )   \n",
    "        answer[i] = np.argmax(posteriori)\n",
    "\n",
    "    print(answer)\n",
    "\n"
   ]
  },
  {
   "cell_type": "code",
   "execution_count": null,
   "metadata": {
    "collapsed": true
   },
   "outputs": [],
   "source": [
    "testing(test_yes, test_no, Num_test_yes, Num_test_no)"
   ]
  },
  {
   "cell_type": "markdown",
   "metadata": {},
   "source": [
    "================================================================\n",
    "ec starts from here\n",
    "================================================================"
   ]
  },
  {
   "cell_type": "code",
   "execution_count": null,
   "metadata": {
    "collapsed": true
   },
   "outputs": [],
   "source": [
    "# combination of 8 y/n\n",
    "# sequence = label\n",
    "# 1 = yes, 0 = no\n",
    "\n",
    "# each dataset has shape 25 x 150\n"
   ]
  },
  {
   "cell_type": "raw",
   "metadata": {},
   "source": [
    "1. divide the training data into individual words\n",
    "\n",
    "method: hamming window\n",
    "\n",
    "total length = 150 \n",
    "\n",
    "by overservation, split into 10 frames: 8 words and start, end (2) \n",
    "\n",
    "len = 15, M is the overlap. \n",
    "\n",
    "1. try M = 2 (head and tail) and ignore start and end frame\n",
    "\n",
    "2. try M = 1 for tail and ignore start and end frame\n",
    "\n",
    "\n",
    "\n"
   ]
  },
  {
   "cell_type": "code",
   "execution_count": 1,
   "metadata": {
    "collapsed": true
   },
   "outputs": [],
   "source": [
    "import glob\n",
    "import numpy as np"
   ]
  },
  {
   "cell_type": "code",
   "execution_count": 2,
   "metadata": {
    "collapsed": true
   },
   "outputs": [],
   "source": [
    "def readFiles():\n",
    "    files = glob.glob(\"training/*.txt\")\n",
    "\n",
    "    \n",
    "    #threshold is the start of the slicing\n",
    "    #set threshold to converge the best solution\n",
    "    \n",
    "    # 1 = yes, 0 = no\n",
    "    \n",
    "    training0 = []    # 25 * 10 for each sample and space 3 lines\n",
    "    training1 = []  \n",
    "    \n",
    "    for fileName in files:\n",
    "        with open(fileName) as file_:\n",
    "            # fileName get label \n",
    "            labels = fileName[9:-4].split(\"_\")\n",
    "            # zero padding = [3, 10]\n",
    "            \n",
    "            padding = np.zeros(shape = (3, 10))\n",
    "            \n",
    "#             print len(labels)\n",
    "            threshold = 1\n",
    "            \n",
    "\n",
    "            \n",
    "            # slicing it and seperate into yes_train and no_train\n",
    "            # \" \" = high   =  1\n",
    "            # \"%\" = low    =  0\n",
    "            rawdata = np.zeros(shape = (25,150))\n",
    "            counter = 0 # count num of lines\n",
    "            for line in file_:\n",
    "                for i in range(len(line)-1):\n",
    "                    if line[i] == \" \":\n",
    "                        rawdata[counter][i] = 1\n",
    "                counter += 1\n",
    "            \n",
    "            \n",
    "            newstart = 0\n",
    "            num_slicing = 0\n",
    "            \n",
    "            for cow in range(len(line)-1):\n",
    "                if num_slicing >= 8:\n",
    "                    break\n",
    "                if cow < newstart:\n",
    "                    continue\n",
    "                if np.sum(rawdata[:,cow]) > threshold:\n",
    "                    #start slicing\n",
    "#                     print num_slicing\n",
    "                    if labels[num_slicing] == \"0\":   #no                        \n",
    "                        if len(training0) == 0:\n",
    "                            training0 = rawdata[:,cow:cow+10]\n",
    "                        else:\n",
    "                            training0 = np.concatenate( (training0,rawdata[:,cow:cow+10]),  axis = 0)\n",
    "                        \n",
    "                        training0 = np.concatenate( (training0,padding),  axis = 0)\n",
    "                    else:\n",
    "                        if len(training1) == 0:\n",
    "                            training1 = rawdata[:,cow:cow+10]\n",
    "                        else:\n",
    "                            training1 = np.concatenate( (training1,rawdata[:,cow:cow+10]),  axis = 0)                              \n",
    "                        training1 = np.concatenate( (training1,padding),  axis = 0)\n",
    "                    \n",
    "                    newstart = cow + 10\n",
    "                    \n",
    "                    #after slicing\n",
    "                    num_slicing += 1\n",
    "#     print len(training0)/28, len(training1)/28\n",
    "    return (training1,training0)   # (yes,no)\n"
   ]
  },
  {
   "cell_type": "code",
   "execution_count": 3,
   "metadata": {
    "scrolled": false
   },
   "outputs": [
    {
     "name": "stdout",
     "output_type": "stream",
     "text": [
      "251 229\n"
     ]
    }
   ],
   "source": [
    "trainingdata = readFiles()\n",
    "\n",
    "yes_num = len(trainingdata[0])/28\n",
    "no_num = len(trainingdata[1])/28\n",
    "\n",
    "print yes_num, no_num"
   ]
  },
  {
   "cell_type": "code",
   "execution_count": 4,
   "metadata": {
    "collapsed": true
   },
   "outputs": [],
   "source": [
    "#   yes is class 0\n",
    "#   no is class 1\n",
    "k = 1\n",
    "    \n",
    "def training(yes_train, no_train, yes_num, no_num):\n",
    "    # \" \" = high   =  1\n",
    "    # \"%\" = low    =  0\n",
    "    \n",
    "    class_total = [yes_num, no_num]\n",
    "\n",
    "    training0 = np.zeros(shape=(2, 25, 10))   #low\n",
    "    training1 = np.zeros(shape=(2, 25, 10))   #high\n",
    "\n",
    "    count = 0\n",
    "    for i in range(int(yes_num)):\n",
    "        for row in range(25):\n",
    "            for col in range(10):\n",
    "                if yes_train[i*28 + row][col] == 1:   #high\n",
    "                    training1[0][row][col] += 1\n",
    "                    training0[0][row][col] += 0\n",
    "                else:\n",
    "                    training1[0][row][col] += 0\n",
    "                    training0[0][row][col] += 1\n",
    "                    \n",
    "    for i in range(int(no_num)):\n",
    "        for row in range(25):\n",
    "            for col in range(10):\n",
    "                if no_train[i*28 + row][col] == 1:   #high\n",
    "                    training1[1][row][col] += 1\n",
    "                    training0[1][row][col] += 0\n",
    "                else:\n",
    "                    training1[1][row][col] += 0\n",
    "                    training0[1][row][col] += 1\n",
    "\n",
    "    for i in range(2):\n",
    "        training1[i] = (training1[i] + k) / (class_total[i] + k * 2)\n",
    "        training0[i] = (training0[i] + k) / (class_total[i] + k * 2)\n",
    "#     print(training0[1][0])\n",
    "#     print(training1[1][0])\n",
    "    \n",
    "    return training0, training1"
   ]
  },
  {
   "cell_type": "code",
   "execution_count": 5,
   "metadata": {
    "collapsed": true
   },
   "outputs": [],
   "source": [
    "training0, training1 = training(trainingdata[0],trainingdata[1],yes_num,no_num)"
   ]
  },
  {
   "cell_type": "code",
   "execution_count": null,
   "metadata": {
    "collapsed": true
   },
   "outputs": [],
   "source": [
    "# print trainingYes"
   ]
  },
  {
   "cell_type": "code",
   "execution_count": 6,
   "metadata": {
    "collapsed": true
   },
   "outputs": [],
   "source": [
    "def readTestFiles(directory):\n",
    "    padding = np.zeros(shape = (3, 10))    \n",
    "    files = glob.glob(directory)\n",
    "    \n",
    "    testingdata = []\n",
    "    \n",
    "    for fileName in files:\n",
    "        with open(fileName) as file_:\n",
    "            sample = [list(line)[0:10] for line in file_]\n",
    "        if len(testingdata) == 0:\n",
    "            testingdata = sample\n",
    "        else:\n",
    "            testingdata = np.concatenate((testingdata,sample), axis = 0)\n",
    "        testingdata = np.concatenate((testingdata,padding), axis = 0)\n",
    "\n",
    "    return testingdata\n",
    "        "
   ]
  },
  {
   "cell_type": "code",
   "execution_count": 7,
   "metadata": {
    "collapsed": true
   },
   "outputs": [],
   "source": [
    "test_no = readTestFiles(\"no_test/*.txt\")\n",
    "test_yes = readTestFiles(\"yes_test/*.txt\")"
   ]
  },
  {
   "cell_type": "code",
   "execution_count": 8,
   "metadata": {},
   "outputs": [
    {
     "name": "stdout",
     "output_type": "stream",
     "text": [
      "50\n",
      "50\n"
     ]
    }
   ],
   "source": [
    "print len(test_no) / 28\n",
    "print len(test_yes) / 28\n"
   ]
  },
  {
   "cell_type": "code",
   "execution_count": 9,
   "metadata": {
    "collapsed": true
   },
   "outputs": [],
   "source": [
    "# log P(class) + log P(f1,1 | class) + log P(f1,2 | class) + ... + log P(f28,28 | class)\n",
    "\n",
    "# test_rough = inputDigit(name = \"digitdata/testimages\")\n",
    "def testing(yes_test, no_test, Num_test_yes, Num_test_no):\n",
    "\n",
    "    data_test = np.concatenate( (yes_test, no_test) , axis = 0 )\n",
    "# #     print len(data_test) / 28\n",
    "#     return \n",
    "\n",
    "    total = Num_test_yes + Num_test_no\n",
    "    answer = np.zeros(int(total))\n",
    "    \n",
    "    class_total = [Num_test_yes, Num_test_no]\n",
    "    \n",
    "    for i in range(int(total)):\n",
    "        test_image = np.zeros(shape=(25,10))\n",
    "        for row in range(25):\n",
    "            for col in range(10):\n",
    "                if data_test[i*28+row][col] == ' ':\n",
    "                    test_image[row][col] = 1\n",
    "                else:\n",
    "                    test_image[row][col] = 0\n",
    "                    \n",
    "\n",
    "        posteriori = np.zeros(2)\n",
    "        for class_num in range(2):\n",
    "            posteriori[class_num] = math.log(class_total[class_num])\n",
    "            for row in range(25):\n",
    "                for col in range(10):\n",
    "                    if test_image[row][col] == 0:\n",
    "                        posteriori[class_num] += math.log(training0[class_num][row][col])\n",
    "                    else:\n",
    "                        posteriori[class_num] += math.log(training1[class_num][row][col] )   \n",
    "        answer[i] = np.argmax(posteriori)\n",
    "    print answer\n",
    "    return answer\n",
    "\n"
   ]
  },
  {
   "cell_type": "code",
   "execution_count": 12,
   "metadata": {},
   "outputs": [
    {
     "name": "stdout",
     "output_type": "stream",
     "text": [
      "[ 0.  0.  1.  0.  0.  0.  1.  0.  0.  0.  0.  0.  0.  0.  0.  0.  0.  0.\n",
      "  0.  0.  0.  0.  0.  0.  0.  0.  0.  0.  0.  0.  0.  0.  0.  0.  0.  0.\n",
      "  0.  0.  0.  0.  0.  0.  0.  0.  0.  0.  0.  0.  0.  0.  1.  1.  0.  1.\n",
      "  1.  1.  0.  1.  1.  1.  1.  1.  1.  1.  1.  1.  1.  1.  1.  1.  1.  1.\n",
      "  1.  1.  1.  1.  1.  1.  1.  1.  1.  1.  1.  1.  1.  1.  1.  1.  1.  1.\n",
      "  1.  1.  1.  1.  1.  1.  1.  1.  1.  1.]\n",
      "0.96\n"
     ]
    }
   ],
   "source": [
    "result = testing(test_yes, test_no, 50, 50)\n",
    "\n",
    "acc = 0\n",
    "\n",
    "for i in range(len(result)):\n",
    "    if i < 50:\n",
    "        if result[i] == 0:\n",
    "            acc += 1/100\n",
    "    else:\n",
    "        if result[i] == 1:\n",
    "            acc += 1/100\n",
    "\n",
    "print acc"
   ]
  },
  {
   "cell_type": "code",
   "execution_count": null,
   "metadata": {
    "collapsed": true
   },
   "outputs": [],
   "source": []
  }
 ],
 "metadata": {
  "kernelspec": {
   "display_name": "Python 2",
   "language": "python",
   "name": "python2"
  },
  "language_info": {
   "codemirror_mode": {
    "name": "ipython",
    "version": 2
   },
   "file_extension": ".py",
   "mimetype": "text/x-python",
   "name": "python",
   "nbconvert_exporter": "python",
   "pygments_lexer": "ipython2",
   "version": "2.7.13"
  }
 },
 "nbformat": 4,
 "nbformat_minor": 2
}
