{
 "cells": [
  {
   "cell_type": "code",
   "execution_count": 1,
   "metadata": {},
   "outputs": [
    {
     "name": "stdout",
     "output_type": "stream",
     "text": [
      "Populating the interactive namespace from numpy and matplotlib\n"
     ]
    }
   ],
   "source": [
    "from __future__ import division\n",
    "%pylab inline\n",
    "import numpy as np\n",
    "import scipy.spatial.distance as dist\n",
    "from scipy import stats\n",
    "import pickle\n",
    "import math\n",
    "import collections\n",
    "import numpy as np"
   ]
  },
  {
   "cell_type": "code",
   "execution_count": 2,
   "metadata": {
    "collapsed": true
   },
   "outputs": [],
   "source": [
    "# \" \" = high   =  1\n",
    "# \"%\" = low    =  0\n",
    "# len(row) = 10\n",
    "def countNum(name = \"yes_train.txt\"):\n",
    "    with open(name) as dataset:\n",
    "        num_lines = sum(1 for line in dataset)\n",
    "        return num_lines / 28\n",
    "    \n"
   ]
  },
  {
   "cell_type": "markdown",
   "metadata": {},
   "source": [
    "for training "
   ]
  },
  {
   "cell_type": "code",
   "execution_count": 3,
   "metadata": {},
   "outputs": [
    {
     "name": "stdout",
     "output_type": "stream",
     "text": [
      "(140.0, 131.0)\n"
     ]
    }
   ],
   "source": [
    "# label yes = 1\n",
    "# label no = 0\n",
    "Num_sample_yes =  countNum()\n",
    "Num_sample_no =  countNum(\"no_train.txt\")\n",
    "print(Num_sample_yes,Num_sample_no)"
   ]
  },
  {
   "cell_type": "code",
   "execution_count": 4,
   "metadata": {},
   "outputs": [
    {
     "name": "stdout",
     "output_type": "stream",
     "text": [
      "(50.0, 50.0)\n"
     ]
    }
   ],
   "source": [
    "Num_test_yes =  countNum(\"yes_test.txt\")\n",
    "Num_test_no =  countNum(\"no_test.txt\")\n",
    "print(Num_test_yes,Num_test_no)"
   ]
  },
  {
   "cell_type": "code",
   "execution_count": 5,
   "metadata": {
    "collapsed": true
   },
   "outputs": [],
   "source": [
    "def inputDigit(name=\"yes_train.txt\"):\n",
    "    with open(name) as digitTxt:\n",
    "        image = [list(line)[0:10] for line in digitTxt]\n",
    "    return image"
   ]
  },
  {
   "cell_type": "code",
   "execution_count": 6,
   "metadata": {
    "collapsed": true
   },
   "outputs": [],
   "source": [
    "data_yes = inputDigit()\n",
    "data_no = inputDigit(\"no_train.txt\")\n",
    "test_yes = inputDigit(\"yes_test.txt\")\n",
    "test_no = inputDigit(\"no_test.txt\")"
   ]
  },
  {
   "cell_type": "code",
   "execution_count": 7,
   "metadata": {
    "collapsed": true
   },
   "outputs": [],
   "source": [
    "#   yes is class 0\n",
    "#   no is class 1\n",
    "# k = 0\n",
    "    \n",
    "def training(yes_train, no_train, yes_num, no_num,k):\n",
    "    # \" \" = high   =  1\n",
    "    # \"%\" = low    =  0\n",
    "    \n",
    "    class_total = [yes_num, no_num]\n",
    "\n",
    "    training0 = np.zeros(shape=(2, 25, 10))   #high\n",
    "    training1 = np.zeros(shape=(2, 25, 10))   #low\n",
    "    \n",
    "    temp_training0 = np.zeros(shape=(2, 25)) \n",
    "    temp_training1 = np.zeros(shape=(2, 25))   \n",
    "    \n",
    "\n",
    "    count = 0\n",
    "    for i in range(int(yes_num)):\n",
    "        for row in range(25):\n",
    "            for col in range(10):\n",
    "                if yes_train[i*28 + row][col] == ' ':      # offset = i*28, since 25 + 3(blank rows)\n",
    "                    training1[0][row][col] += 1\n",
    "                else:\n",
    "                    training0[0][row][col] += 1\n",
    "    \n",
    "    for row in range(25):\n",
    "        temp_training1[0][row] = sum(training1[0][row]) / 10\n",
    "        temp_training0[0][row] = sum(training0[0][row]) / 10\n",
    "            \n",
    "    for i in range(int(no_num)):\n",
    "        for row in range(25):\n",
    "            for col in range(10):\n",
    "                if no_train[i*28 + row][col] == ' ':\n",
    "                    training1[1][row][col] += 1\n",
    "                else:\n",
    "                    training0[1][row][col] += 1\n",
    "    for row in range(25):\n",
    "        temp_training1[1][row] = sum(training1[1][row]) / 10\n",
    "        temp_training0[1][row] = sum(training0[1][row]) / 10\n",
    "        \n",
    "    # laplace smooth\n",
    "#     print k\n",
    "    for i in range(2):\n",
    "        temp_training1[i] = (temp_training1[i] + k) / (class_total[i] + k * 2)\n",
    "        \n",
    "        temp_training0[i] = (temp_training0[i] + k) / (class_total[i] + k * 2)\n",
    "#     print(temp_training0[1][0])\n",
    "#     print(temp_training1[1][0])\n",
    "#     print temp_training0.shape, temp_training1.shape\n",
    "    return temp_training0, temp_training1\n"
   ]
  },
  {
   "cell_type": "code",
   "execution_count": 8,
   "metadata": {},
   "outputs": [],
   "source": [
    "k = 1\n",
    "temp_training0, temp_training1 = training(data_yes, data_no, Num_sample_yes, Num_sample_no,k)"
   ]
  },
  {
   "cell_type": "code",
   "execution_count": 9,
   "metadata": {
    "collapsed": true
   },
   "outputs": [],
   "source": [
    "# log P(class) + log P(f1,1 | class) + log P(f1,2 | class) + ... + log P(f28,28 | class)\n",
    "\n",
    "# test_rough = inputDigit(name = \"digitdata/testimages\")\n",
    "def testing(yes_test, no_test, Num_test_yes, Num_test_no):\n",
    "\n",
    "    data_test = np.concatenate( (yes_test, no_test) , axis = 0 )\n",
    "# #     print len(data_test) / 28\n",
    "#     return \n",
    "\n",
    "    total = Num_test_yes + Num_test_no\n",
    "    answer = np.zeros(int(total))\n",
    "    \n",
    "    class_total = [Num_test_yes, Num_test_no]\n",
    "    \n",
    "    for i in range(int(total)):\n",
    "        test_image = np.zeros(shape=(25,10))\n",
    "        temp_test_image = np.zeros(25)\n",
    "        for row in range(25):\n",
    "            for col in range(10):\n",
    "                if data_test[i*28+row][col] == ' ':\n",
    "                    test_image[row][col] = 1\n",
    "                else:\n",
    "                    test_image[row][col] = 0\n",
    "                \n",
    "            temp_test_image[row] = sum(test_image[row]) / 10\n",
    "        \n",
    "#         print temp_test_image[row]\n",
    "\n",
    "        posteriori = np.zeros(2)\n",
    "        for class_num in range(2):\n",
    "            posteriori[class_num] = math.log(class_total[class_num])\n",
    "            for row in range(25):\n",
    "                if temp_test_image[row] == 0:\n",
    "                    posteriori[class_num] += math.log(temp_training0[class_num][row])\n",
    "                else:\n",
    "                    posteriori[class_num] += math.log(temp_training1[class_num][row])   \n",
    "        answer[i] = np.argmax(posteriori)\n",
    "\n",
    "    return answer"
   ]
  },
  {
   "cell_type": "code",
   "execution_count": 10,
   "metadata": {},
   "outputs": [],
   "source": [
    "answer = testing(test_yes, test_no, Num_test_yes, Num_test_no)"
   ]
  },
  {
   "cell_type": "code",
   "execution_count": 11,
   "metadata": {
    "collapsed": true
   },
   "outputs": [],
   "source": [
    "def confusion_matrix(pred):\n",
    "    conf_matrix = np.zeros(shape=(2,2))\n",
    "    #print(conf_matrix[0][0])\n",
    "    #print(int(answer[0]))\n",
    "    for i in range(100):\n",
    "        if i < 50:\n",
    "            conf_matrix[0][int(pred[i])] += 1\n",
    "        else:\n",
    "            conf_matrix[1][int(pred[i])] += 1\n",
    "            \n",
    "    for i in range(2):\n",
    "        for j in range(2):\n",
    "            conf_matrix[i][j] /= 50.0\n",
    "    \n",
    "    return conf_matrix"
   ]
  },
  {
   "cell_type": "code",
   "execution_count": 12,
   "metadata": {},
   "outputs": [
    {
     "name": "stdout",
     "output_type": "stream",
     "text": [
      "[ 0.98  0.02]\n",
      "[ 0.08  0.92]\n",
      "overall_accuracy = 0.95\n"
     ]
    }
   ],
   "source": [
    "# print confusion matrix\n",
    "conf_matrix = confusion_matrix(answer)\n",
    "conf_matrix = np.around(conf_matrix, 2)\n",
    "for row in conf_matrix:\n",
    "    print(row)\n",
    "overall_accuracy = 0\n",
    "for i in range(2):\n",
    "    overall_accuracy += conf_matrix[i][i] * 50.0\n",
    "print(\"overall_accuracy = \" + str(overall_accuracy/100))"
   ]
  },
  {
   "cell_type": "markdown",
   "metadata": {},
   "source": [
    "# Now, let's find the best k##"
   ]
  },
  {
   "cell_type": "code",
   "execution_count": 13,
   "metadata": {},
   "outputs": [
    {
     "name": "stdout",
     "output_type": "stream",
     "text": [
      "('accuracy =', 0.94999999999999996, 'when k is ', 9.9999999999999995e-07)\n",
      "('accuracy =', 0.94999999999999996, 'when k is ', 1.0000000000000001e-05)\n",
      "('accuracy =', 0.94999999999999996, 'when k is ', 0.0001)\n",
      "('accuracy =', 0.94999999999999996, 'when k is ', 0.001)\n",
      "('accuracy =', 0.94999999999999996, 'when k is ', 0.002)\n",
      "('accuracy =', 0.94999999999999996, 'when k is ', 0.0050000000000000001)\n",
      "('accuracy =', 0.94999999999999996, 'when k is ', 0.01)\n",
      "('accuracy =', 0.94999999999999996, 'when k is ', 0.02)\n",
      "('accuracy =', 0.94999999999999996, 'when k is ', 0.050000000000000003)\n",
      "('accuracy =', 0.94999999999999996, 'when k is ', 0.10000000000000001)\n",
      "('accuracy =', 0.94999999999999996, 'when k is ', 0.20000000000000001)\n",
      "('accuracy =', 0.94999999999999996, 'when k is ', 0.30000000000000004)\n",
      "('accuracy =', 0.94999999999999996, 'when k is ', 0.40000000000000002)\n",
      "('accuracy =', 0.94999999999999996, 'when k is ', 0.5)\n",
      "('accuracy =', 0.94999999999999996, 'when k is ', 0.59999999999999998)\n",
      "('accuracy =', 0.94999999999999996, 'when k is ', 0.70000000000000007)\n",
      "('accuracy =', 0.94999999999999996, 'when k is ', 0.80000000000000004)\n",
      "('accuracy =', 0.94999999999999996, 'when k is ', 0.90000000000000002)\n",
      "('accuracy =', 0.94999999999999996, 'when k is ', 1.0)\n",
      "('accuracy =', 0.94999999999999996, 'when k is ', 1.1000000000000001)\n",
      "('accuracy =', 0.94999999999999996, 'when k is ', 1.2000000000000002)\n",
      "('accuracy =', 0.94999999999999996, 'when k is ', 1.3000000000000003)\n",
      "('accuracy =', 0.94999999999999996, 'when k is ', 1.4000000000000001)\n",
      "('accuracy =', 0.94999999999999996, 'when k is ', 1.5000000000000002)\n",
      "('accuracy =', 0.94999999999999996, 'when k is ', 1.6000000000000001)\n",
      "('accuracy =', 0.94999999999999996, 'when k is ', 1.7000000000000002)\n",
      "('accuracy =', 0.94999999999999996, 'when k is ', 1.8000000000000003)\n",
      "('accuracy =', 0.94999999999999996, 'when k is ', 1.9000000000000001)\n",
      "('accuracy =', 0.94999999999999996, 'when k is ', 2.0)\n",
      "('accuracy =', 0.94999999999999996, 'when k is ', 2.1000000000000001)\n",
      "('accuracy =', 0.94999999999999996, 'when k is ', 2.2000000000000002)\n",
      "('accuracy =', 0.94999999999999996, 'when k is ', 2.3000000000000003)\n",
      "('accuracy =', 0.94999999999999996, 'when k is ', 2.4000000000000004)\n",
      "('accuracy =', 0.94999999999999996, 'when k is ', 2.5000000000000004)\n",
      "('accuracy =', 0.94999999999999996, 'when k is ', 2.6000000000000001)\n",
      "('accuracy =', 0.94999999999999996, 'when k is ', 2.7000000000000002)\n",
      "('accuracy =', 0.94999999999999996, 'when k is ', 2.8000000000000003)\n",
      "('accuracy =', 0.94999999999999996, 'when k is ', 2.9000000000000004)\n",
      "('accuracy =', 0.94999999999999996, 'when k is ', 3.0000000000000004)\n",
      "('accuracy =', 0.94999999999999996, 'when k is ', 3.1000000000000001)\n",
      "('accuracy =', 0.94999999999999996, 'when k is ', 3.2000000000000002)\n",
      "('accuracy =', 0.94999999999999996, 'when k is ', 3.3000000000000003)\n",
      "('accuracy =', 0.94999999999999996, 'when k is ', 3.4000000000000004)\n",
      "('accuracy =', 0.94999999999999996, 'when k is ', 3.5000000000000004)\n",
      "('accuracy =', 0.94999999999999996, 'when k is ', 3.6000000000000001)\n",
      "('accuracy =', 0.94999999999999996, 'when k is ', 3.7000000000000002)\n",
      "('accuracy =', 0.94999999999999996, 'when k is ', 3.8000000000000003)\n",
      "('accuracy =', 0.94999999999999996, 'when k is ', 3.9000000000000004)\n",
      "('accuracy =', 0.94999999999999996, 'when k is ', 4.0)\n",
      "('accuracy =', 0.94999999999999996, 'when k is ', 4.0999999999999996)\n",
      "('accuracy =', 0.94999999999999996, 'when k is ', 4.2000000000000002)\n",
      "('accuracy =', 0.94999999999999996, 'when k is ', 4.2999999999999998)\n",
      "('accuracy =', 0.94999999999999996, 'when k is ', 4.3999999999999995)\n",
      "('accuracy =', 0.94999999999999996, 'when k is ', 4.5)\n",
      "('accuracy =', 0.94999999999999996, 'when k is ', 4.5999999999999996)\n",
      "('accuracy =', 0.94999999999999996, 'when k is ', 4.7000000000000002)\n",
      "('accuracy =', 0.94999999999999996, 'when k is ', 4.7999999999999998)\n",
      "('accuracy =', 0.94999999999999996, 'when k is ', 4.9000000000000004)\n",
      "('accuracy =', 0.94999999999999996, 'when k is ', 5.0)\n",
      "('accuracy =', 0.94999999999999996, 'when k is ', 5.0999999999999996)\n",
      "('accuracy =', 0.94999999999999996, 'when k is ', 5.2000000000000002)\n",
      "('accuracy =', 0.94999999999999996, 'when k is ', 5.2999999999999998)\n",
      "('accuracy =', 0.94999999999999996, 'when k is ', 5.4000000000000004)\n",
      "('accuracy =', 0.94999999999999996, 'when k is ', 5.5)\n",
      "('accuracy =', 0.94999999999999996, 'when k is ', 5.5999999999999996)\n",
      "('accuracy =', 0.94999999999999996, 'when k is ', 5.7000000000000002)\n",
      "('accuracy =', 0.94999999999999996, 'when k is ', 5.7999999999999998)\n",
      "('accuracy =', 0.94999999999999996, 'when k is ', 5.9000000000000004)\n",
      "('accuracy =', 0.94999999999999996, 'when k is ', 6.0)\n",
      "('accuracy =', 0.94999999999999996, 'when k is ', 6.0999999999999996)\n",
      "('accuracy =', 0.94999999999999996, 'when k is ', 6.2000000000000002)\n",
      "('accuracy =', 0.94999999999999996, 'when k is ', 6.2999999999999998)\n",
      "('accuracy =', 0.94999999999999996, 'when k is ', 6.4000000000000004)\n",
      "('accuracy =', 0.94999999999999996, 'when k is ', 6.5)\n",
      "('accuracy =', 0.94999999999999996, 'when k is ', 6.5999999999999996)\n",
      "('accuracy =', 0.94999999999999996, 'when k is ', 6.7000000000000002)\n",
      "('accuracy =', 0.94999999999999996, 'when k is ', 6.7999999999999998)\n",
      "('accuracy =', 0.94999999999999996, 'when k is ', 6.9000000000000004)\n",
      "('accuracy =', 0.94999999999999996, 'when k is ', 7.0)\n",
      "('accuracy =', 0.94999999999999996, 'when k is ', 7.0999999999999996)\n",
      "('accuracy =', 0.94999999999999996, 'when k is ', 7.2000000000000002)\n",
      "('accuracy =', 0.94999999999999996, 'when k is ', 7.2999999999999998)\n",
      "('accuracy =', 0.94999999999999996, 'when k is ', 7.4000000000000004)\n",
      "('accuracy =', 0.94999999999999996, 'when k is ', 7.5)\n",
      "('accuracy =', 0.94999999999999996, 'when k is ', 7.5999999999999996)\n",
      "('accuracy =', 0.94999999999999996, 'when k is ', 7.7000000000000002)\n",
      "('accuracy =', 0.94999999999999996, 'when k is ', 7.7999999999999998)\n",
      "('accuracy =', 0.94999999999999996, 'when k is ', 7.9000000000000004)\n",
      "('accuracy =', 0.94999999999999996, 'when k is ', 8.0)\n",
      "('accuracy =', 0.94999999999999996, 'when k is ', 8.0999999999999996)\n",
      "('accuracy =', 0.94999999999999996, 'when k is ', 8.1999999999999993)\n",
      "('accuracy =', 0.94999999999999996, 'when k is ', 8.3000000000000007)\n",
      "('accuracy =', 0.94999999999999996, 'when k is ', 8.4000000000000004)\n",
      "('accuracy =', 0.94999999999999996, 'when k is ', 8.5)\n",
      "('accuracy =', 0.94999999999999996, 'when k is ', 8.5999999999999996)\n",
      "('accuracy =', 0.94999999999999996, 'when k is ', 8.6999999999999993)\n",
      "('accuracy =', 0.94999999999999996, 'when k is ', 8.8000000000000007)\n",
      "('accuracy =', 0.94999999999999996, 'when k is ', 8.9000000000000004)\n",
      "('accuracy =', 0.94999999999999996, 'when k is ', 9.0)\n",
      "('accuracy =', 0.94999999999999996, 'when k is ', 9.0999999999999996)\n",
      "('accuracy =', 0.94999999999999996, 'when k is ', 9.1999999999999993)\n",
      "('accuracy =', 0.94999999999999996, 'when k is ', 9.3000000000000007)\n",
      "('accuracy =', 0.94999999999999996, 'when k is ', 9.4000000000000004)\n",
      "('accuracy =', 0.94999999999999996, 'when k is ', 9.5)\n",
      "('accuracy =', 0.94999999999999996, 'when k is ', 9.5999999999999996)\n",
      "('accuracy =', 0.94999999999999996, 'when k is ', 9.7000000000000011)\n",
      "('accuracy =', 0.94999999999999996, 'when k is ', 9.8000000000000007)\n",
      "('accuracy =', 0.94999999999999996, 'when k is ', 9.9000000000000004)\n",
      "('accuracy =', 0.94999999999999996, 'when k is ', 10.0)\n"
     ]
    }
   ],
   "source": [
    "# Laplace smoothing constant\n",
    "k1 = np.array([10**(-6), 10**(-5), 10**(-4), 0.001, 0.002, 0.005, 0.01, 0.02, 0.05])\n",
    "k2 = np.linspace(0.1, 10, 100)\n",
    "k_grid = np.append(k1, k2)\n",
    "\n",
    "accuracy = np.zeros(109)\n",
    "\n",
    "for k_index in range(109):\n",
    "    k = k_grid[k_index]\n",
    "    #print(k)\n",
    "    training0, training1 = training(data_yes, data_no, Num_sample_yes, Num_sample_no,k)\n",
    "    answer = testing(test_yes, test_no, Num_test_yes, Num_test_no)\n",
    "    conf_matrix = confusion_matrix(answer)\n",
    "    overall_accuracy = 0\n",
    "    for i in range(2):\n",
    "        overall_accuracy += conf_matrix[i][i] * 50.0\n",
    "        accuracy[k_index] = overall_accuracy\n",
    "    print(\"accuracy =\", overall_accuracy/100.0, \"when k is \", k_grid[k_index])"
   ]
  },
  {
   "cell_type": "code",
   "execution_count": 14,
   "metadata": {},
   "outputs": [
    {
     "data": {
      "text/plain": [
       "<matplotlib.text.Text at 0x9a40978>"
      ]
     },
     "execution_count": 14,
     "metadata": {},
     "output_type": "execute_result"
    },
    {
     "data": {
      "image/png": "[encoded data removed]",
      "text/plain": [
       "<matplotlib.figure.Figure at 0x99d4e10>"
      ]
     },
     "metadata": {},
     "output_type": "display_data"
    }
   ],
   "source": [
    "%matplotlib inline\n",
    "plt.figure()\n",
    "ax = plt.gca()\n",
    "#ax.set_xscale('log')\n",
    "plt.scatter(k_grid[5:], accuracy[5:], label = 'f(x)')\n",
    "plt.xlabel(\"k\")\n",
    "plt.ylabel(\"Accuracy (percent)\")\n",
    "plt.title(\"Accuracy vs smoothing constant k\")"
   ]
  },
  {
   "cell_type": "code",
   "execution_count": 15,
   "metadata": {},
   "outputs": [
    {
     "name": "stdout",
     "output_type": "stream",
     "text": [
      "('accuracy =', 0.94999999999999996, 'when k is ', 3.0)\n",
      "('accuracy =', 0.94999999999999996, 'when k is ', 3.0101694915254238)\n",
      "('accuracy =', 0.94999999999999996, 'when k is ', 3.0203389830508476)\n",
      "('accuracy =', 0.94999999999999996, 'when k is ', 3.0305084745762714)\n",
      "('accuracy =', 0.94999999999999996, 'when k is ', 3.0406779661016947)\n",
      "('accuracy =', 0.94999999999999996, 'when k is ', 3.0508474576271185)\n",
      "('accuracy =', 0.94999999999999996, 'when k is ', 3.0610169491525423)\n",
      "('accuracy =', 0.94999999999999996, 'when k is ', 3.0711864406779661)\n",
      "('accuracy =', 0.94999999999999996, 'when k is ', 3.0813559322033899)\n",
      "('accuracy =', 0.94999999999999996, 'when k is ', 3.0915254237288137)\n",
      "('accuracy =', 0.94999999999999996, 'when k is ', 3.1016949152542375)\n",
      "('accuracy =', 0.94999999999999996, 'when k is ', 3.1118644067796613)\n",
      "('accuracy =', 0.94999999999999996, 'when k is ', 3.1220338983050846)\n",
      "('accuracy =', 0.94999999999999996, 'when k is ', 3.1322033898305084)\n",
      "('accuracy =', 0.94999999999999996, 'when k is ', 3.1423728813559322)\n",
      "('accuracy =', 0.94999999999999996, 'when k is ', 3.152542372881356)\n",
      "('accuracy =', 0.94999999999999996, 'when k is ', 3.1627118644067798)\n",
      "('accuracy =', 0.94999999999999996, 'when k is ', 3.1728813559322036)\n",
      "('accuracy =', 0.94999999999999996, 'when k is ', 3.1830508474576273)\n",
      "('accuracy =', 0.94999999999999996, 'when k is ', 3.1932203389830507)\n",
      "('accuracy =', 0.94999999999999996, 'when k is ', 3.2033898305084745)\n",
      "('accuracy =', 0.94999999999999996, 'when k is ', 3.2135593220338983)\n",
      "('accuracy =', 0.94999999999999996, 'when k is ', 3.2237288135593221)\n",
      "('accuracy =', 0.94999999999999996, 'when k is ', 3.2338983050847459)\n",
      "('accuracy =', 0.94999999999999996, 'when k is ', 3.2440677966101696)\n",
      "('accuracy =', 0.94999999999999996, 'when k is ', 3.2542372881355934)\n",
      "('accuracy =', 0.94999999999999996, 'when k is ', 3.2644067796610168)\n",
      "('accuracy =', 0.94999999999999996, 'when k is ', 3.2745762711864406)\n",
      "('accuracy =', 0.94999999999999996, 'when k is ', 3.2847457627118644)\n",
      "('accuracy =', 0.94999999999999996, 'when k is ', 3.2949152542372881)\n",
      "('accuracy =', 0.94999999999999996, 'when k is ', 3.3050847457627119)\n",
      "('accuracy =', 0.94999999999999996, 'when k is ', 3.3152542372881357)\n",
      "('accuracy =', 0.94999999999999996, 'when k is ', 3.3254237288135595)\n",
      "('accuracy =', 0.94999999999999996, 'when k is ', 3.3355932203389829)\n",
      "('accuracy =', 0.94999999999999996, 'when k is ', 3.3457627118644067)\n",
      "('accuracy =', 0.94999999999999996, 'when k is ', 3.3559322033898304)\n",
      "('accuracy =', 0.94999999999999996, 'when k is ', 3.3661016949152542)\n",
      "('accuracy =', 0.94999999999999996, 'when k is ', 3.376271186440678)\n",
      "('accuracy =', 0.94999999999999996, 'when k is ', 3.3864406779661018)\n",
      "('accuracy =', 0.94999999999999996, 'when k is ', 3.3966101694915256)\n",
      "('accuracy =', 0.94999999999999996, 'when k is ', 3.406779661016949)\n",
      "('accuracy =', 0.94999999999999996, 'when k is ', 3.4169491525423727)\n",
      "('accuracy =', 0.94999999999999996, 'when k is ', 3.4271186440677965)\n",
      "('accuracy =', 0.94999999999999996, 'when k is ', 3.4372881355932203)\n",
      "('accuracy =', 0.94999999999999996, 'when k is ', 3.4474576271186441)\n",
      "('accuracy =', 0.94999999999999996, 'when k is ', 3.4576271186440679)\n",
      "('accuracy =', 0.94999999999999996, 'when k is ', 3.4677966101694917)\n",
      "('accuracy =', 0.94999999999999996, 'when k is ', 3.4779661016949155)\n",
      "('accuracy =', 0.94999999999999996, 'when k is ', 3.4881355932203393)\n",
      "('accuracy =', 0.94999999999999996, 'when k is ', 3.4983050847457626)\n",
      "('accuracy =', 0.94999999999999996, 'when k is ', 3.5084745762711864)\n",
      "('accuracy =', 0.94999999999999996, 'when k is ', 3.5186440677966102)\n",
      "('accuracy =', 0.94999999999999996, 'when k is ', 3.528813559322034)\n",
      "('accuracy =', 0.94999999999999996, 'when k is ', 3.5389830508474578)\n",
      "('accuracy =', 0.94999999999999996, 'when k is ', 3.5491525423728811)\n",
      "('accuracy =', 0.94999999999999996, 'when k is ', 3.5593220338983054)\n",
      "('accuracy =', 0.94999999999999996, 'when k is ', 3.5694915254237287)\n",
      "('accuracy =', 0.94999999999999996, 'when k is ', 3.5796610169491525)\n",
      "('accuracy =', 0.94999999999999996, 'when k is ', 3.5898305084745763)\n",
      "('accuracy =', 0.94999999999999996, 'when k is ', 3.6000000000000001)\n"
     ]
    }
   ],
   "source": [
    "# Laplace smoothing constant\n",
    "k_grid = np.linspace(3.0, 3.6, 60)\n",
    "\n",
    "accuracy = np.zeros(60)\n",
    "\n",
    "for k_index in range(60):\n",
    "    k = k_grid[k_index]\n",
    "    #print(k)\n",
    "    training0, training1 = training(data_yes, data_no, Num_sample_yes, Num_sample_no,k)\n",
    "    answer = testing(test_yes, test_no, Num_test_yes, Num_test_no)\n",
    "    conf_matrix = confusion_matrix(answer)\n",
    "    overall_accuracy = 0\n",
    "    for i in range(2):\n",
    "        overall_accuracy += conf_matrix[i][i] * 50\n",
    "        accuracy[k_index] = overall_accuracy\n",
    "    print(\"accuracy =\", overall_accuracy/100, \"when k is \", k_grid[k_index])"
   ]
  },
  {
   "cell_type": "code",
   "execution_count": null,
   "metadata": {
    "collapsed": true
   },
   "outputs": [],
   "source": []
  }
 ],
 "metadata": {
  "kernelspec": {
   "display_name": "Python 2",
   "language": "python",
   "name": "python2"
  },
  "language_info": {
   "codemirror_mode": {
    "name": "ipython",
    "version": 2
   },
   "file_extension": ".py",
   "mimetype": "text/x-python",
   "name": "python",
   "nbconvert_exporter": "python",
   "pygments_lexer": "ipython2",
   "version": "2.7.13"
  }
 },
 "nbformat": 4,
 "nbformat_minor": 2
}
