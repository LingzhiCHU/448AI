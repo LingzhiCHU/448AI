{
 "cells": [
  {
   "cell_type": "code",
   "execution_count": 15,
   "metadata": {},
   "outputs": [
    {
     "name": "stdout",
     "output_type": "stream",
     "text": [
      "Populating the interactive namespace from numpy and matplotlib\n"
     ]
    },
    {
     "name": "stderr",
     "output_type": "stream",
     "text": [
      "C:\\Users\\123\\Anaconda2\\lib\\site-packages\\sklearn\\lda.py:6: DeprecationWarning: lda.LDA has been moved to discriminant_analysis.LinearDiscriminantAnalysis in 0.17 and will be removed in 0.19\n",
      "  \"in 0.17 and will be removed in 0.19\", DeprecationWarning)\n"
     ]
    }
   ],
   "source": [
    "from __future__ import division\n",
    "%pylab inline\n",
    "import numpy as np\n",
    "import scipy.spatial.distance as dist\n",
    "from scipy import stats\n",
    "import pickle\n",
    "import math\n",
    "import collections\n",
    "import numpy as np\n",
    "\n",
    "\n",
    "from sklearn.lda import LDA"
   ]
  },
  {
   "cell_type": "markdown",
   "metadata": {},
   "source": [
    "================================================================\n",
    "bullet one starts from here\n",
    "================================================================"
   ]
  },
  {
   "cell_type": "code",
   "execution_count": null,
   "metadata": {
    "collapsed": true
   },
   "outputs": [],
   "source": [
    "# combination of 8 y/n\n",
    "# sequence = label\n",
    "# 1 = yes, 0 = no\n",
    "\n",
    "# each dataset has shape 25 x 150\n"
   ]
  },
  {
   "cell_type": "raw",
   "metadata": {},
   "source": [
    "1. divide the training data into individual words\n",
    "\n",
    "method: hamming window\n",
    "\n",
    "total length = 150 \n",
    "\n",
    "by overservation, split into 10 frames: 8 words and start, end (2) \n",
    "\n",
    "len = 15, M is the overlap. \n",
    "\n",
    "1. try M = 2 (head and tail) and ignore start and end frame\n",
    "\n",
    "2. try M = 1 for tail and ignore start and end frame\n",
    "\n",
    "\n",
    "\n"
   ]
  },
  {
   "cell_type": "code",
   "execution_count": 1,
   "metadata": {
    "collapsed": true
   },
   "outputs": [],
   "source": [
    "import glob\n",
    "import numpy as np"
   ]
  },
  {
   "cell_type": "code",
   "execution_count": 2,
   "metadata": {
    "collapsed": true
   },
   "outputs": [],
   "source": [
    "def readFiles():\n",
    "    files = glob.glob(\"training/*.txt\")\n",
    "\n",
    "    \n",
    "    #threshold is the start of the slicing\n",
    "    #set threshold to converge the best solution\n",
    "    \n",
    "    # 1 = yes, 0 = no\n",
    "    \n",
    "    training0 = []    # 25 * 10 for each sample and space 3 lines\n",
    "    training1 = []  \n",
    "    \n",
    "    for fileName in files:\n",
    "        with open(fileName) as file_:\n",
    "            # fileName get label \n",
    "            labels = fileName[9:-4].split(\"_\")\n",
    "            # zero padding = [3, 10]\n",
    "            \n",
    "            padding = np.zeros(shape = (3, 10))\n",
    "            \n",
    "#             print len(labels)\n",
    "            threshold = 1\n",
    "            \n",
    "\n",
    "            \n",
    "            # slicing it and seperate into yes_train and no_train\n",
    "            # \" \" = high   =  1\n",
    "            # \"%\" = low    =  0\n",
    "            rawdata = np.zeros(shape = (25,150))\n",
    "            counter = 0 # count num of lines\n",
    "            for line in file_:\n",
    "                for i in range(len(line)-1):\n",
    "                    if line[i] == \" \":\n",
    "                        rawdata[counter][i] = 1\n",
    "                counter += 1\n",
    "            \n",
    "            \n",
    "            newstart = 0\n",
    "            num_slicing = 0\n",
    "            \n",
    "            for cow in range(len(line)-1):\n",
    "                if num_slicing >= 8:\n",
    "                    break\n",
    "                if cow < newstart:\n",
    "                    continue\n",
    "                if np.sum(rawdata[:,cow]) > threshold:\n",
    "                    #start slicing\n",
    "#                     print num_slicing\n",
    "                    if labels[num_slicing] == \"0\":   #no                        \n",
    "                        if len(training0) == 0:\n",
    "                            training0 = rawdata[:,cow:cow+10]\n",
    "                        else:\n",
    "                            training0 = np.concatenate( (training0,rawdata[:,cow:cow+10]),  axis = 0)\n",
    "                        \n",
    "                        training0 = np.concatenate( (training0,padding),  axis = 0)\n",
    "                    else:\n",
    "                        if len(training1) == 0:\n",
    "                            training1 = rawdata[:,cow:cow+10]\n",
    "                        else:\n",
    "                            training1 = np.concatenate( (training1,rawdata[:,cow:cow+10]),  axis = 0)                              \n",
    "                        training1 = np.concatenate( (training1,padding),  axis = 0)\n",
    "                    \n",
    "                    newstart = cow + 10\n",
    "                    \n",
    "                    #after slicing\n",
    "                    num_slicing += 1\n",
    "#     print len(training0)/28, len(training1)/28\n",
    "    return (training1,training0)   # (yes,no)\n"
   ]
  },
  {
   "cell_type": "code",
   "execution_count": 3,
   "metadata": {
    "scrolled": false
   },
   "outputs": [
    {
     "name": "stdout",
     "output_type": "stream",
     "text": [
      "251 229\n"
     ]
    }
   ],
   "source": [
    "trainingdata = readFiles()\n",
    "\n",
    "yes_num = len(trainingdata[0])/28\n",
    "no_num = len(trainingdata[1])/28\n",
    "\n",
    "print yes_num, no_num"
   ]
  },
  {
   "cell_type": "code",
   "execution_count": 27,
   "metadata": {
    "collapsed": true
   },
   "outputs": [],
   "source": [
    "#   yes is class 0\n",
    "#   no is class 1\n",
    "k = 0.35\n",
    "    \n",
    "def training(yes_train, no_train, yes_num, no_num):\n",
    "    # \" \" = high   =  1\n",
    "    # \"%\" = low    =  0\n",
    "    \n",
    "    class_total = [yes_num, no_num]\n",
    "\n",
    "    training0 = np.zeros(shape=(2, 25, 10))   #low\n",
    "    training1 = np.zeros(shape=(2, 25, 10))   #high\n",
    "\n",
    "    count = 0\n",
    "    for i in range(int(yes_num)):\n",
    "        for row in range(25):\n",
    "            for col in range(10):\n",
    "                if yes_train[i*28 + row][col] == 1:   #high\n",
    "                    training1[0][row][col] += 1\n",
    "                    training0[0][row][col] += 0\n",
    "                else:\n",
    "                    training1[0][row][col] += 0\n",
    "                    training0[0][row][col] += 1\n",
    "                    \n",
    "    for i in range(int(no_num)):\n",
    "        for row in range(25):\n",
    "            for col in range(10):\n",
    "                if no_train[i*28 + row][col] == 1:   #high\n",
    "                    training1[1][row][col] += 1\n",
    "                    training0[1][row][col] += 0\n",
    "                else:\n",
    "                    training1[1][row][col] += 0\n",
    "                    training0[1][row][col] += 1\n",
    "\n",
    "    for i in range(2):\n",
    "        training1[i] = (training1[i] + k) / (class_total[i] + k * 2)\n",
    "        training0[i] = (training0[i] + k) / (class_total[i] + k * 2)\n",
    "#     print(training0[1][0])\n",
    "#     print(training1[1][0])\n",
    "    \n",
    "    return training0, training1"
   ]
  },
  {
   "cell_type": "code",
   "execution_count": 28,
   "metadata": {
    "collapsed": true
   },
   "outputs": [],
   "source": [
    "training0, training1 = training(trainingdata[0],trainingdata[1],yes_num,no_num)"
   ]
  },
  {
   "cell_type": "code",
   "execution_count": null,
   "metadata": {
    "collapsed": true
   },
   "outputs": [],
   "source": [
    "# print trainingYes"
   ]
  },
  {
   "cell_type": "code",
   "execution_count": 29,
   "metadata": {
    "collapsed": true
   },
   "outputs": [],
   "source": [
    "def readTestFiles(directory):\n",
    "    padding = np.zeros(shape = (3, 10))    \n",
    "    files = glob.glob(directory)\n",
    "    \n",
    "    testingdata = []\n",
    "    \n",
    "    for fileName in files:\n",
    "        with open(fileName) as file_:\n",
    "            sample = [list(line)[0:10] for line in file_]\n",
    "        if len(testingdata) == 0:\n",
    "            testingdata = sample\n",
    "        else:\n",
    "            testingdata = np.concatenate((testingdata,sample), axis = 0)\n",
    "        testingdata = np.concatenate((testingdata,padding), axis = 0)\n",
    "\n",
    "    return testingdata\n",
    "        "
   ]
  },
  {
   "cell_type": "code",
   "execution_count": 30,
   "metadata": {
    "collapsed": true
   },
   "outputs": [],
   "source": [
    "test_no = readTestFiles(\"no_test/*.txt\")\n",
    "test_yes = readTestFiles(\"yes_test/*.txt\")"
   ]
  },
  {
   "cell_type": "code",
   "execution_count": 13,
   "metadata": {},
   "outputs": [
    {
     "name": "stdout",
     "output_type": "stream",
     "text": [
      "50\n",
      "50\n"
     ]
    }
   ],
   "source": [
    "Num_test_no = len(test_no) / 28\n",
    "Num_test_yes = len(test_yes) / 28\n",
    "print Num_test_no\n",
    "print Num_test_yes\n"
   ]
  },
  {
   "cell_type": "code",
   "execution_count": 17,
   "metadata": {
    "collapsed": true
   },
   "outputs": [],
   "source": [
    "# log P(class) + log P(f1,1 | class) + log P(f1,2 | class) + ... + log P(f28,28 | class)\n",
    "\n",
    "# test_rough = inputDigit(name = \"digitdata/testimages\")\n",
    "def testing(yes_test, no_test, Num_test_yes, Num_test_no):\n",
    "\n",
    "    data_test = np.concatenate( (yes_test, no_test) , axis = 0 )\n",
    "# #     print len(data_test) / 28\n",
    "#     return \n",
    "\n",
    "    total = Num_test_yes + Num_test_no\n",
    "    answer = np.zeros(int(total))\n",
    "    \n",
    "    class_total = [Num_test_yes, Num_test_no]\n",
    "    \n",
    "    for i in range(int(total)):\n",
    "        test_image = np.zeros(shape=(25,10))\n",
    "        for row in range(25):\n",
    "            for col in range(10):\n",
    "                if data_test[i*28+row][col] == ' ':\n",
    "                    test_image[row][col] = 1\n",
    "                else:\n",
    "                    test_image[row][col] = 0\n",
    "                    \n",
    "\n",
    "        posteriori = np.zeros(2)\n",
    "        for class_num in range(2):\n",
    "            posteriori[class_num] = math.log(class_total[class_num])\n",
    "            for row in range(25):\n",
    "                for col in range(10):\n",
    "                    if test_image[row][col] == 0:\n",
    "                        posteriori[class_num] += math.log(training0[class_num][row][col])\n",
    "                    else:\n",
    "                        posteriori[class_num] += math.log(training1[class_num][row][col] )   \n",
    "        answer[i] = np.argmax(posteriori)\n",
    "#     print answer\n",
    "    return answer\n",
    "\n"
   ]
  },
  {
   "cell_type": "code",
   "execution_count": 18,
   "metadata": {
    "collapsed": true
   },
   "outputs": [],
   "source": [
    "def confusion_matrix(pred):\n",
    "    conf_matrix = np.zeros(shape=(2,2))\n",
    "    #print(conf_matrix[0][0])\n",
    "    #print(int(answer[0]))\n",
    "    for i in range(100):\n",
    "        if i < 50:\n",
    "            conf_matrix[0][int(pred[i])] += 1\n",
    "        else:\n",
    "            conf_matrix[1][int(pred[i])] += 1\n",
    "            \n",
    "    for i in range(2):\n",
    "        for j in range(2):\n",
    "            conf_matrix[i][j] /= 50.0\n",
    "    \n",
    "    return conf_matrix"
   ]
  },
  {
   "cell_type": "code",
   "execution_count": 31,
   "metadata": {},
   "outputs": [
    {
     "name": "stdout",
     "output_type": "stream",
     "text": [
      "[ 0.98  0.02]\n",
      "[ 0.06  0.94]\n",
      "overall_accuracy = 0.96\n"
     ]
    }
   ],
   "source": [
    "# print confusion matrix\n",
    "answer = testing(test_yes, test_no, Num_test_yes, Num_test_no)\n",
    "conf_matrix = confusion_matrix(answer)\n",
    "conf_matrix = np.around(conf_matrix, 2)\n",
    "for row in conf_matrix:\n",
    "    print(row)\n",
    "overall_accuracy = 0\n",
    "for i in range(2):\n",
    "    overall_accuracy += conf_matrix[i][i] * 50.0\n",
    "print(\"overall_accuracy = \" + str(overall_accuracy/100))"
   ]
  },
  {
   "cell_type": "code",
   "execution_count": 22,
   "metadata": {
    "scrolled": false
   },
   "outputs": [
    {
     "name": "stdout",
     "output_type": "stream",
     "text": [
      "('accuracy =', 0.94999999999999996, 'when k is ', 9.9999999999999995e-07)\n",
      "('accuracy =', 0.94999999999999996, 'when k is ', 1.0000000000000001e-05)\n",
      "('accuracy =', 0.94999999999999996, 'when k is ', 0.0001)\n",
      "('accuracy =', 0.94999999999999996, 'when k is ', 0.001)\n",
      "('accuracy =', 0.94999999999999996, 'when k is ', 0.002)\n",
      "('accuracy =', 0.95999999999999996, 'when k is ', 0.0050000000000000001)\n",
      "('accuracy =', 0.95999999999999996, 'when k is ', 0.01)\n",
      "('accuracy =', 0.95999999999999996, 'when k is ', 0.02)\n",
      "('accuracy =', 0.95999999999999996, 'when k is ', 0.050000000000000003)\n",
      "('accuracy =', 0.95999999999999996, 'when k is ', 0.10000000000000001)\n",
      "('accuracy =', 0.95999999999999996, 'when k is ', 0.20000000000000001)\n",
      "('accuracy =', 0.95999999999999996, 'when k is ', 0.30000000000000004)\n",
      "('accuracy =', 0.95999999999999996, 'when k is ', 0.40000000000000002)\n",
      "('accuracy =', 0.95999999999999996, 'when k is ', 0.5)\n",
      "('accuracy =', 0.95999999999999996, 'when k is ', 0.59999999999999998)\n",
      "('accuracy =', 0.95999999999999996, 'when k is ', 0.70000000000000007)\n",
      "('accuracy =', 0.94999999999999996, 'when k is ', 0.80000000000000004)\n",
      "('accuracy =', 0.95999999999999996, 'when k is ', 0.90000000000000002)\n",
      "('accuracy =', 0.95999999999999996, 'when k is ', 1.0)\n",
      "('accuracy =', 0.95999999999999996, 'when k is ', 1.1000000000000001)\n",
      "('accuracy =', 0.95999999999999996, 'when k is ', 1.2000000000000002)\n",
      "('accuracy =', 0.95999999999999996, 'when k is ', 1.3000000000000003)\n",
      "('accuracy =', 0.94999999999999996, 'when k is ', 1.4000000000000001)\n",
      "('accuracy =', 0.94999999999999996, 'when k is ', 1.5000000000000002)\n",
      "('accuracy =', 0.94999999999999996, 'when k is ', 1.6000000000000001)\n",
      "('accuracy =', 0.94999999999999996, 'when k is ', 1.7000000000000002)\n",
      "('accuracy =', 0.94999999999999996, 'when k is ', 1.8000000000000003)\n",
      "('accuracy =', 0.94999999999999996, 'when k is ', 1.9000000000000001)\n",
      "('accuracy =', 0.94999999999999996, 'when k is ', 2.0)\n",
      "('accuracy =', 0.94999999999999996, 'when k is ', 2.1000000000000001)\n",
      "('accuracy =', 0.94999999999999996, 'when k is ', 2.2000000000000002)\n",
      "('accuracy =', 0.94999999999999996, 'when k is ', 2.3000000000000003)\n",
      "('accuracy =', 0.94999999999999996, 'when k is ', 2.4000000000000004)\n",
      "('accuracy =', 0.94999999999999996, 'when k is ', 2.5000000000000004)\n",
      "('accuracy =', 0.94999999999999996, 'when k is ', 2.6000000000000001)\n",
      "('accuracy =', 0.94999999999999996, 'when k is ', 2.7000000000000002)\n",
      "('accuracy =', 0.94999999999999996, 'when k is ', 2.8000000000000003)\n",
      "('accuracy =', 0.94999999999999996, 'when k is ', 2.9000000000000004)\n",
      "('accuracy =', 0.94999999999999996, 'when k is ', 3.0000000000000004)\n",
      "('accuracy =', 0.94999999999999996, 'when k is ', 3.1000000000000001)\n",
      "('accuracy =', 0.94999999999999996, 'when k is ', 3.2000000000000002)\n",
      "('accuracy =', 0.94999999999999996, 'when k is ', 3.3000000000000003)\n",
      "('accuracy =', 0.94999999999999996, 'when k is ', 3.4000000000000004)\n",
      "('accuracy =', 0.94999999999999996, 'when k is ', 3.5000000000000004)\n",
      "('accuracy =', 0.94999999999999996, 'when k is ', 3.6000000000000001)\n",
      "('accuracy =', 0.94999999999999996, 'when k is ', 3.7000000000000002)\n",
      "('accuracy =', 0.94999999999999996, 'when k is ', 3.8000000000000003)\n",
      "('accuracy =', 0.93999999999999995, 'when k is ', 3.9000000000000004)\n",
      "('accuracy =', 0.93999999999999995, 'when k is ', 4.0)\n",
      "('accuracy =', 0.93999999999999995, 'when k is ', 4.0999999999999996)\n",
      "('accuracy =', 0.93999999999999995, 'when k is ', 4.2000000000000002)\n",
      "('accuracy =', 0.93999999999999995, 'when k is ', 4.2999999999999998)\n",
      "('accuracy =', 0.93999999999999995, 'when k is ', 4.3999999999999995)\n",
      "('accuracy =', 0.93999999999999995, 'when k is ', 4.5)\n",
      "('accuracy =', 0.93999999999999995, 'when k is ', 4.5999999999999996)\n",
      "('accuracy =', 0.93999999999999995, 'when k is ', 4.7000000000000002)\n",
      "('accuracy =', 0.93999999999999995, 'when k is ', 4.7999999999999998)\n",
      "('accuracy =', 0.93999999999999995, 'when k is ', 4.9000000000000004)\n",
      "('accuracy =', 0.93999999999999995, 'when k is ', 5.0)\n",
      "('accuracy =', 0.93999999999999995, 'when k is ', 5.0999999999999996)\n",
      "('accuracy =', 0.93999999999999995, 'when k is ', 5.2000000000000002)\n",
      "('accuracy =', 0.93999999999999995, 'when k is ', 5.2999999999999998)\n",
      "('accuracy =', 0.93999999999999995, 'when k is ', 5.4000000000000004)\n",
      "('accuracy =', 0.93999999999999995, 'when k is ', 5.5)\n",
      "('accuracy =', 0.93999999999999995, 'when k is ', 5.5999999999999996)\n",
      "('accuracy =', 0.93999999999999995, 'when k is ', 5.7000000000000002)\n",
      "('accuracy =', 0.93999999999999995, 'when k is ', 5.7999999999999998)\n",
      "('accuracy =', 0.93999999999999995, 'when k is ', 5.9000000000000004)\n",
      "('accuracy =', 0.93999999999999995, 'when k is ', 6.0)\n",
      "('accuracy =', 0.93999999999999995, 'when k is ', 6.0999999999999996)\n",
      "('accuracy =', 0.93999999999999995, 'when k is ', 6.2000000000000002)\n",
      "('accuracy =', 0.93999999999999995, 'when k is ', 6.2999999999999998)\n",
      "('accuracy =', 0.93999999999999995, 'when k is ', 6.4000000000000004)\n",
      "('accuracy =', 0.93999999999999995, 'when k is ', 6.5)\n",
      "('accuracy =', 0.93999999999999995, 'when k is ', 6.5999999999999996)\n",
      "('accuracy =', 0.93999999999999995, 'when k is ', 6.7000000000000002)\n",
      "('accuracy =', 0.93999999999999995, 'when k is ', 6.7999999999999998)\n",
      "('accuracy =', 0.93999999999999995, 'when k is ', 6.9000000000000004)\n",
      "('accuracy =', 0.93999999999999995, 'when k is ', 7.0)\n",
      "('accuracy =', 0.93999999999999995, 'when k is ', 7.0999999999999996)\n",
      "('accuracy =', 0.93999999999999995, 'when k is ', 7.2000000000000002)\n",
      "('accuracy =', 0.93999999999999995, 'when k is ', 7.2999999999999998)\n",
      "('accuracy =', 0.93999999999999995, 'when k is ', 7.4000000000000004)\n",
      "('accuracy =', 0.93999999999999995, 'when k is ', 7.5)\n",
      "('accuracy =', 0.93999999999999995, 'when k is ', 7.5999999999999996)\n",
      "('accuracy =', 0.93999999999999995, 'when k is ', 7.7000000000000002)\n",
      "('accuracy =', 0.93999999999999995, 'when k is ', 7.7999999999999998)\n",
      "('accuracy =', 0.93999999999999995, 'when k is ', 7.9000000000000004)\n",
      "('accuracy =', 0.93999999999999995, 'when k is ', 8.0)\n",
      "('accuracy =', 0.93999999999999995, 'when k is ', 8.0999999999999996)\n",
      "('accuracy =', 0.93999999999999995, 'when k is ', 8.1999999999999993)\n",
      "('accuracy =', 0.93999999999999995, 'when k is ', 8.3000000000000007)\n",
      "('accuracy =', 0.93999999999999995, 'when k is ', 8.4000000000000004)\n",
      "('accuracy =', 0.93999999999999995, 'when k is ', 8.5)\n",
      "('accuracy =', 0.93999999999999995, 'when k is ', 8.5999999999999996)\n",
      "('accuracy =', 0.93999999999999995, 'when k is ', 8.6999999999999993)\n",
      "('accuracy =', 0.93999999999999995, 'when k is ', 8.8000000000000007)\n",
      "('accuracy =', 0.93999999999999995, 'when k is ', 8.9000000000000004)\n",
      "('accuracy =', 0.93999999999999995, 'when k is ', 9.0)\n",
      "('accuracy =', 0.93999999999999995, 'when k is ', 9.0999999999999996)\n",
      "('accuracy =', 0.93999999999999995, 'when k is ', 9.1999999999999993)\n",
      "('accuracy =', 0.93999999999999995, 'when k is ', 9.3000000000000007)\n",
      "('accuracy =', 0.93999999999999995, 'when k is ', 9.4000000000000004)\n",
      "('accuracy =', 0.93999999999999995, 'when k is ', 9.5)\n",
      "('accuracy =', 0.93999999999999995, 'when k is ', 9.5999999999999996)\n",
      "('accuracy =', 0.93999999999999995, 'when k is ', 9.7000000000000011)\n",
      "('accuracy =', 0.93999999999999995, 'when k is ', 9.8000000000000007)\n",
      "('accuracy =', 0.93999999999999995, 'when k is ', 9.9000000000000004)\n",
      "('accuracy =', 0.93999999999999995, 'when k is ', 10.0)\n"
     ]
    }
   ],
   "source": [
    "# Laplace smoothing constant\n",
    "k1 = np.array([10**(-6), 10**(-5), 10**(-4), 0.001, 0.002, 0.005, 0.01, 0.02, 0.05])\n",
    "k2 = np.linspace(0.1, 10, 100)\n",
    "k_grid = np.append(k1, k2)\n",
    "\n",
    "accuracy = np.zeros(109)\n",
    "\n",
    "for k_index in range(109):\n",
    "    k = k_grid[k_index]\n",
    "    #print(k)\n",
    "    training0, training1 = training(trainingdata[0],trainingdata[1],yes_num,no_num)\n",
    "    answer = testing(test_yes, test_no, Num_test_yes, Num_test_no)\n",
    "    conf_matrix = confusion_matrix(answer)\n",
    "    overall_accuracy = 0\n",
    "    for i in range(2):\n",
    "        overall_accuracy += conf_matrix[i][i] * 50.0\n",
    "        accuracy[k_index] = overall_accuracy\n",
    "    print(\"accuracy =\", overall_accuracy/100.0, \"when k is \", k_grid[k_index])"
   ]
  },
  {
   "cell_type": "code",
   "execution_count": 23,
   "metadata": {},
   "outputs": [
    {
     "data": {
      "text/plain": [
       "<matplotlib.text.Text at 0x9e87710>"
      ]
     },
     "execution_count": 23,
     "metadata": {},
     "output_type": "execute_result"
    },
    {
     "data": {
      "image/png": "[encoded data removed]",
      "text/plain": [
       "<matplotlib.figure.Figure at 0x9e0a780>"
      ]
     },
     "metadata": {},
     "output_type": "display_data"
    }
   ],
   "source": [
    "%matplotlib inline\n",
    "plt.figure()\n",
    "ax = plt.gca()\n",
    "#ax.set_xscale('log')\n",
    "plt.scatter(k_grid[5:], accuracy[5:], label = 'f(x)')\n",
    "plt.xlabel(\"k\")\n",
    "plt.ylabel(\"Accuracy (percent)\")\n",
    "plt.title(\"Accuracy vs smoothing constant k\")"
   ]
  },
  {
   "cell_type": "code",
   "execution_count": 26,
   "metadata": {},
   "outputs": [
    {
     "name": "stdout",
     "output_type": "stream",
     "text": [
      "('accuracy =', 0.94999999999999996, 'when k is ', 0.0001)\n",
      "('accuracy =', 0.95999999999999996, 'when k is ', 0.011962711864406778)\n",
      "('accuracy =', 0.95999999999999996, 'when k is ', 0.023825423728813556)\n",
      "('accuracy =', 0.95999999999999996, 'when k is ', 0.035688135593220337)\n",
      "('accuracy =', 0.95999999999999996, 'when k is ', 0.047550847457627117)\n",
      "('accuracy =', 0.95999999999999996, 'when k is ', 0.059413559322033897)\n",
      "('accuracy =', 0.95999999999999996, 'when k is ', 0.071276271186440671)\n",
      "('accuracy =', 0.95999999999999996, 'when k is ', 0.083138983050847451)\n",
      "('accuracy =', 0.95999999999999996, 'when k is ', 0.095001694915254231)\n",
      "('accuracy =', 0.95999999999999996, 'when k is ', 0.10686440677966101)\n",
      "('accuracy =', 0.95999999999999996, 'when k is ', 0.11872711864406779)\n",
      "('accuracy =', 0.95999999999999996, 'when k is ', 0.13058983050847456)\n",
      "('accuracy =', 0.95999999999999996, 'when k is ', 0.14245254237288132)\n",
      "('accuracy =', 0.95999999999999996, 'when k is ', 0.15431525423728812)\n",
      "('accuracy =', 0.95999999999999996, 'when k is ', 0.16617796610169489)\n",
      "('accuracy =', 0.95999999999999996, 'when k is ', 0.17804067796610168)\n",
      "('accuracy =', 0.95999999999999996, 'when k is ', 0.18990338983050845)\n",
      "('accuracy =', 0.95999999999999996, 'when k is ', 0.20176610169491521)\n",
      "('accuracy =', 0.95999999999999996, 'when k is ', 0.21362881355932201)\n",
      "('accuracy =', 0.95999999999999996, 'when k is ', 0.22549152542372877)\n",
      "('accuracy =', 0.95999999999999996, 'when k is ', 0.23735423728813557)\n",
      "('accuracy =', 0.95999999999999996, 'when k is ', 0.24921694915254233)\n",
      "('accuracy =', 0.95999999999999996, 'when k is ', 0.26107966101694913)\n",
      "('accuracy =', 0.95999999999999996, 'when k is ', 0.27294237288135592)\n",
      "('accuracy =', 0.95999999999999996, 'when k is ', 0.28480508474576266)\n",
      "('accuracy =', 0.95999999999999996, 'when k is ', 0.29666779661016945)\n",
      "('accuracy =', 0.95999999999999996, 'when k is ', 0.30853050847457625)\n",
      "('accuracy =', 0.95999999999999996, 'when k is ', 0.32039322033898299)\n",
      "('accuracy =', 0.95999999999999996, 'when k is ', 0.33225593220338978)\n",
      "('accuracy =', 0.95999999999999996, 'when k is ', 0.34411864406779658)\n",
      "('accuracy =', 0.95999999999999996, 'when k is ', 0.35598135593220337)\n",
      "('accuracy =', 0.95999999999999996, 'when k is ', 0.36784406779661011)\n",
      "('accuracy =', 0.95999999999999996, 'when k is ', 0.3797067796610169)\n",
      "('accuracy =', 0.95999999999999996, 'when k is ', 0.3915694915254237)\n",
      "('accuracy =', 0.95999999999999996, 'when k is ', 0.40343220338983043)\n",
      "('accuracy =', 0.95999999999999996, 'when k is ', 0.41529491525423723)\n",
      "('accuracy =', 0.95999999999999996, 'when k is ', 0.42715762711864402)\n",
      "('accuracy =', 0.95999999999999996, 'when k is ', 0.43902033898305082)\n",
      "('accuracy =', 0.95999999999999996, 'when k is ', 0.45088305084745756)\n",
      "('accuracy =', 0.95999999999999996, 'when k is ', 0.46274576271186435)\n",
      "('accuracy =', 0.95999999999999996, 'when k is ', 0.47460847457627114)\n",
      "('accuracy =', 0.95999999999999996, 'when k is ', 0.48647118644067788)\n",
      "('accuracy =', 0.95999999999999996, 'when k is ', 0.49833389830508468)\n",
      "('accuracy =', 0.95999999999999996, 'when k is ', 0.51019661016949147)\n",
      "('accuracy =', 0.95999999999999996, 'when k is ', 0.52205932203389827)\n",
      "('accuracy =', 0.95999999999999996, 'when k is ', 0.53392203389830506)\n",
      "('accuracy =', 0.95999999999999996, 'when k is ', 0.54578474576271185)\n",
      "('accuracy =', 0.95999999999999996, 'when k is ', 0.55764745762711854)\n",
      "('accuracy =', 0.95999999999999996, 'when k is ', 0.56951016949152533)\n",
      "('accuracy =', 0.95999999999999996, 'when k is ', 0.58137288135593213)\n",
      "('accuracy =', 0.95999999999999996, 'when k is ', 0.59323559322033892)\n",
      "('accuracy =', 0.95999999999999996, 'when k is ', 0.60509830508474571)\n",
      "('accuracy =', 0.95999999999999996, 'when k is ', 0.61696101694915251)\n",
      "('accuracy =', 0.95999999999999996, 'when k is ', 0.6288237288135593)\n",
      "('accuracy =', 0.95999999999999996, 'when k is ', 0.64068644067796598)\n",
      "('accuracy =', 0.95999999999999996, 'when k is ', 0.65254915254237278)\n",
      "('accuracy =', 0.95999999999999996, 'when k is ', 0.66441186440677957)\n",
      "('accuracy =', 0.95999999999999996, 'when k is ', 0.67627457627118637)\n",
      "('accuracy =', 0.95999999999999996, 'when k is ', 0.68813728813559316)\n",
      "('accuracy =', 0.95999999999999996, 'when k is ', 0.69999999999999996)\n"
     ]
    }
   ],
   "source": [
    "# Laplace smoothing constant\n",
    "k_grid = np.linspace(0.0001, 0.7, 60)\n",
    "\n",
    "accuracy = np.zeros(60)\n",
    "\n",
    "for k_index in range(60):\n",
    "    k = k_grid[k_index]\n",
    "    #print(k)\n",
    "    training0, training1 = training(trainingdata[0],trainingdata[1],yes_num,no_num)\n",
    "    answer = testing(test_yes, test_no, Num_test_yes, Num_test_no)\n",
    "    conf_matrix = confusion_matrix(answer)\n",
    "    overall_accuracy = 0\n",
    "    for i in range(2):\n",
    "        overall_accuracy += conf_matrix[i][i] * 50\n",
    "        accuracy[k_index] = overall_accuracy\n",
    "    print(\"accuracy =\", overall_accuracy/100, \"when k is \", k_grid[k_index])"
   ]
  },
  {
   "cell_type": "markdown",
   "metadata": {},
   "source": [
    "LDA\n",
    "==============\n"
   ]
  },
  {
   "cell_type": "code",
   "execution_count": 32,
   "metadata": {},
   "outputs": [
    {
     "name": "stdout",
     "output_type": "stream",
     "text": [
      "Populating the interactive namespace from numpy and matplotlib\n"
     ]
    },
    {
     "name": "stderr",
     "output_type": "stream",
     "text": [
      "C:\\Users\\123\\Anaconda2\\lib\\site-packages\\IPython\\core\\magics\\pylab.py:161: UserWarning: pylab import has clobbered these variables: ['dist']\n",
      "`%matplotlib` prevents importing * from pylab and numpy\n",
      "  \"\\n`%matplotlib` prevents importing * from pylab and numpy\"\n"
     ]
    }
   ],
   "source": [
    "from __future__ import division\n",
    "%pylab inline\n",
    "import numpy as np\n",
    "import scipy.spatial.distance as dist\n",
    "from scipy import stats"
   ]
  },
  {
   "cell_type": "code",
   "execution_count": 33,
   "metadata": {
    "collapsed": true
   },
   "outputs": [],
   "source": [
    "def readFiles():\n",
    "    files = glob.glob(\"training/*.txt\")\n",
    "\n",
    "    \n",
    "    #threshold is the start of the slicing\n",
    "    #set threshold to converge the best solution\n",
    "    \n",
    "    # 1 = yes, 0 = no\n",
    "    \n",
    "    training0 = []    # 25 * 10 for each sample and space 3 lines\n",
    "    training1 = []  \n",
    "    \n",
    "    for fileName in files:\n",
    "        with open(fileName) as file_:\n",
    "            # fileName get label \n",
    "            labels = fileName[9:-4].split(\"_\")\n",
    "            # zero padding = [3, 10]\n",
    "            \n",
    "            #padding = np.zeros(shape = (3, 10))\n",
    "            \n",
    "#             print len(labels)\n",
    "            threshold = 1\n",
    "            \n",
    "\n",
    "            \n",
    "            # slicing it and seperate into yes_train and no_train\n",
    "            # \" \" = high   =  1\n",
    "            # \"%\" = low    =  0\n",
    "            rawdata = np.zeros(shape = (25,150))\n",
    "            counter = 0 # count num of lines\n",
    "            for line in file_:\n",
    "                for i in range(len(line)-1):\n",
    "                    if line[i] == \" \":\n",
    "                        rawdata[counter][i] = 1\n",
    "                counter += 1\n",
    "            \n",
    "            \n",
    "            newstart = 0\n",
    "            num_slicing = 0\n",
    "            \n",
    "            for cow in range(len(line)-1):\n",
    "                if num_slicing >= 8:\n",
    "                    break\n",
    "                if cow < newstart:\n",
    "                    continue\n",
    "                if np.sum(rawdata[:,cow]) > threshold:\n",
    "                    #start slicing\n",
    "#                     print num_slicing\n",
    "#                     print rawdata[:,cow:cow+10].shape\n",
    "                    if labels[num_slicing] == \"0\":   #no\n",
    "                        temp_training0 = np.reshape(rawdata[:,cow:cow+10],(1,250))\n",
    "                        if len(training0) == 0:\n",
    "                            training0 = temp_training0\n",
    "                        else:\n",
    "                            training0 = np.concatenate( (training0,temp_training0),  axis = 0)\n",
    "                        \n",
    "#                         training0 = np.concatenate( (training0,padding),  axis = 0)\n",
    "                    else:\n",
    "                        temp_training1 = np.reshape(rawdata[:,cow:cow+10],(1,250))\n",
    "                        if len(training1) == 0:\n",
    "                            training1 = temp_training1\n",
    "                        else:\n",
    "                            training1 = np.concatenate( (training1,temp_training1),  axis = 0)                              \n",
    "#                         training1 = np.concatenate( (training1,padding),  axis = 0)\n",
    "                    \n",
    "                    newstart = cow + 10\n",
    "                    \n",
    "                    #after slicing\n",
    "                    num_slicing += 1\n",
    "#     print len(training0)/28, len(training1)/28\n",
    "    print training1.shape, training0.shape\n",
    "    return (training1,training0)   # (yes,no)\n"
   ]
  },
  {
   "cell_type": "code",
   "execution_count": 34,
   "metadata": {},
   "outputs": [
    {
     "name": "stdout",
     "output_type": "stream",
     "text": [
      "(251L, 250L) (229L, 250L)\n"
     ]
    }
   ],
   "source": [
    "trainingdata = readFiles()\n"
   ]
  },
  {
   "cell_type": "code",
   "execution_count": 35,
   "metadata": {
    "collapsed": true
   },
   "outputs": [],
   "source": [
    "def trainLDA(trainfeat,trainlabel):\n",
    "    nlabels=int(trainlabel.max())+1 #Assuming all labels up to nlabels exist.\n",
    "    pi=np.zeros(nlabels) # store your prior in here\n",
    "    means=np.zeros((nlabels,trainfeat.shape[1])) # store the class means in here\n",
    "    cov=np.zeros((trainfeat.shape[1],trainfeat.shape[1])) # store the covariance matrix in here\n",
    "    # Put your code here\n",
    "    #print (pi.shape, means.shape, cov.shape)\n",
    "    #nlabels = M\n",
    "    for i in range(0, nlabels):\n",
    "        pi[i] = float(np.sum(trainlabel==i)) / trainlabel.size\n",
    "        \n",
    "        for j in range(0, trainfeat.shape[0]):\n",
    "            if int(trainlabel[j]) == i:\n",
    "                means[i] += trainfeat[j] / float(np.sum(trainlabel==i))\n",
    "            # means[i] = float(np.sum(trainfeat[trainlabel==i])) / np.sum(trainlabel==i) \n",
    "    \n",
    "         \n",
    "    \n",
    "    for i in range(0, nlabels):\n",
    "        for j in range(0,trainlabel.size):\n",
    "            #cov += np.outer(trainfeat[trainlabel[j]==i] -  means[i], trainfeat[trainlabel[j]==i] -  means[i]) \n",
    "            if(trainlabel[j] == i):\n",
    "                cov += np.outer(trainfeat[j] -  means[i], trainfeat[j] -  means[i]) \n",
    "    \n",
    "    cov = cov /(trainlabel.size - nlabels )\n",
    "    \n",
    "    return (pi,means,cov)"
   ]
  },
  {
   "cell_type": "code",
   "execution_count": 36,
   "metadata": {
    "collapsed": true
   },
   "outputs": [],
   "source": [
    "\n",
    "trainfeat = np.concatenate((trainingdata[0],trainingdata[1]) , axis = 0 )\n",
    "yes_label = np.zeros(yes_num)\n",
    "no_label = np.ones(no_num)\n",
    "\n",
    "trainlabel = np.concatenate((yes_label,no_label) , axis = 0 )\n"
   ]
  },
  {
   "cell_type": "code",
   "execution_count": 37,
   "metadata": {},
   "outputs": [
    {
     "name": "stdout",
     "output_type": "stream",
     "text": [
      "Pi : \n",
      "(2L,)\n",
      "Means : \n",
      "(2L, 250L)\n",
      "Cov : \n",
      "(250L, 250L)\n"
     ]
    }
   ],
   "source": [
    "# Put your code here\n",
    "LDAAttributes = trainLDA(trainfeat, trainlabel)\n",
    "\n",
    "print(\"Pi : \")\n",
    "print LDAAttributes[0].shape\n",
    "print(\"Means : \")\n",
    "print LDAAttributes[1].shape\n",
    "print(\"Cov : \")\n",
    "print LDAAttributes[2].shape\n",
    "#print(\"Training error : \")\n"
   ]
  },
  {
   "cell_type": "code",
   "execution_count": 38,
   "metadata": {},
   "outputs": [
    {
     "name": "stderr",
     "output_type": "stream",
     "text": [
      "C:\\Users\\123\\Anaconda2\\lib\\site-packages\\sklearn\\discriminant_analysis.py:387: UserWarning: Variables are collinear.\n",
      "  warnings.warn(\"Variables are collinear.\")\n"
     ]
    },
    {
     "data": {
      "text/plain": [
       "LDA(n_components=None, priors=None, shrinkage=None, solver='svd',\n",
       "  store_covariance=False, tol=0.0001)"
      ]
     },
     "execution_count": 38,
     "metadata": {},
     "output_type": "execute_result"
    }
   ],
   "source": [
    "from sklearn.lda import LDA\n",
    "# Put your code here\n",
    "LDA = LDA()\n",
    "LDA.fit(trainfeat, trainlabel)"
   ]
  },
  {
   "cell_type": "code",
   "execution_count": 39,
   "metadata": {
    "collapsed": true
   },
   "outputs": [],
   "source": [
    "def readTestFiles(directory):\n",
    "#     padding = np.zeros(shape = (3, 10))    \n",
    "    files = glob.glob(directory)\n",
    "    \n",
    "    testingdata = []\n",
    "    \n",
    "    for fileName in files:\n",
    "        with open(fileName) as file_:\n",
    "            sample = np.reshape([list(line)[0:10] for line in file_],(1,250))\n",
    "        if len(testingdata) == 0:\n",
    "            testingdata = sample\n",
    "        else:\n",
    "            testingdata = np.concatenate((testingdata,sample), axis = 0)\n",
    "#         testingdata = np.concatenate((testingdata,padding), axis = 0)\n",
    "\n",
    "    return testingdata\n",
    "        "
   ]
  },
  {
   "cell_type": "code",
   "execution_count": 42,
   "metadata": {},
   "outputs": [
    {
     "name": "stdout",
     "output_type": "stream",
     "text": [
      "0.88\n"
     ]
    }
   ],
   "source": [
    "test_no = readTestFiles(\"no_test/*.txt\")\n",
    "test_yes = readTestFiles(\"yes_test/*.txt\")\n",
    "\n",
    " \n",
    "\n",
    "yes_label = np.zeros(50)\n",
    "no_label = np.ones(50)\n",
    "\n",
    "testlabel = np.concatenate((yes_label,no_label) , axis = 0 )\n",
    "\n",
    "data_test = np.concatenate( (test_yes, test_no) , axis = 0 )\n",
    "# print data_test.shape[0]\n",
    "\n",
    "test_data = np.zeros(data_test.shape)\n",
    "\n",
    "for i in range(data_test.shape[0]):\n",
    "    for j in  range(data_test.shape[1]):        \n",
    "        if data_test[i,j] == ' ':\n",
    "            test_data[i,j] = 1\n",
    "    \n",
    "\n",
    "classification = LDA.predict(test_data)\n",
    "error = classifierError(testlabel,classification)\n",
    "\n",
    "print 1-error"
   ]
  },
  {
   "cell_type": "code",
   "execution_count": 41,
   "metadata": {
    "collapsed": true
   },
   "outputs": [],
   "source": [
    "def classifierError(truelabels,estimatedlabels):\n",
    "    # Put your code here\n",
    "    loss = 0\n",
    "    for i in range(0,truelabels.size):\n",
    "        if(truelabels[i] != estimatedlabels[i] ):\n",
    "            loss = loss + 1\n",
    "    \n",
    "    return float (loss) / truelabels.size"
   ]
  }
 ],
 "metadata": {
  "kernelspec": {
   "display_name": "Python 2",
   "language": "python",
   "name": "python2"
  },
  "language_info": {
   "codemirror_mode": {
    "name": "ipython",
    "version": 2
   },
   "file_extension": ".py",
   "mimetype": "text/x-python",
   "name": "python",
   "nbconvert_exporter": "python",
   "pygments_lexer": "ipython2",
   "version": "2.7.13"
  }
 },
 "nbformat": 4,
 "nbformat_minor": 2
}
