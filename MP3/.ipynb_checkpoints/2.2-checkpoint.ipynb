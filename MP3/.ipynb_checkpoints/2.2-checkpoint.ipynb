{
 "cells": [
  {
   "cell_type": "code",
   "execution_count": null,
   "metadata": {
    "collapsed": true
   },
   "outputs": [],
   "source": [
    "# label: 1,2,3,4,5\n",
    "# tranining set: 60\n",
    "# testing set: 40\n",
    "# data size: 30 * 13\n",
    "# x-axis cepstrums\n",
    "# y-axis frames\n",
    "\n",
    "# \"%\" = low energy = 0\n",
    "# \" \" = high energy = 1\n",
    "\n",
    "# 3 lines separated => [30, 33]\n",
    "\n",
    "# task: overall acc > 80%\n",
    "\n"
   ]
  },
  {
   "cell_type": "code",
   "execution_count": 2,
   "metadata": {
    "collapsed": true
   },
   "outputs": [],
   "source": [
    "import math\n",
    "import pickle\n",
    "import numpy as np\n",
    "import collections"
   ]
  },
  {
   "cell_type": "code",
   "execution_count": 3,
   "metadata": {
    "collapsed": true
   },
   "outputs": [],
   "source": [
    "def readRough(name=\"training_labels.txt\"):\n",
    "    with open(name) as label:\n",
    "        labels = []\n",
    "        for line in label:\n",
    "            labels.append(line[0])\n",
    "    return labels"
   ]
  },
  {
   "cell_type": "code",
   "execution_count": 4,
   "metadata": {},
   "outputs": [
    {
     "name": "stdout",
     "output_type": "stream",
     "text": [
      "60\n",
      "[('1', 12), ('2', 12), ('3', 12), ('4', 12), ('5', 12)]\n"
     ]
    }
   ],
   "source": [
    "label = readRough()\n",
    "print (len(label))\n",
    "class_ = sorted(collections.Counter(label).items())\n",
    "print (class_)\n",
    "with open('labelstats.txt', 'wb') as fp:\n",
    "    pickle.dump(class_, fp)"
   ]
  },
  {
   "cell_type": "code",
   "execution_count": 7,
   "metadata": {
    "collapsed": true
   },
   "outputs": [],
   "source": [
    "def inputDigit(name=\"training_data.txt\"):\n",
    "    with open(name) as digitTxt:\n",
    "        raw_audio = [list(line)[0:13] for line in digitTxt]\n",
    "        rows = len(raw_audio)\n",
    "    return raw_audio"
   ]
  },
  {
   "cell_type": "code",
   "execution_count": 12,
   "metadata": {
    "collapsed": true
   },
   "outputs": [],
   "source": [
    "with open ('labelstats.txt', 'rb') as fp:\n",
    "    class_ = pickle.load(fp)\n",
    "\n",
    "raw_audio = inputDigit()\n",
    "\n",
    "# label: 1,2,3,4,5\n",
    "# index: 0,1,2,3,4\n",
    "\n",
    "# tranining set: 60\n",
    "# testing set: 40\n",
    "# data size: 30 * 13\n",
    "# x-axis cepstrums\n",
    "# y-axis frames\n",
    "\n",
    "# \"%\" = low energy = 0\n",
    "# \" \" = high energy = 1\n",
    "\n",
    "# 3 lines separated => [30, 33]\n",
    "\n",
    "# task: overall acc > 80%\n",
    "\n",
    "\n",
    "training0=np.zeros(shape=(5, 30, 13))   #low\n",
    "training1=np.zeros(shape=(5, 30, 13))   #high"
   ]
  },
  {
   "cell_type": "code",
   "execution_count": 15,
   "metadata": {},
   "outputs": [
    {
     "name": "stdout",
     "output_type": "stream",
     "text": [
      "[ 0.1377551   0.53571429  0.73469388  0.20408163  0.86734694  0.20408163\n",
      "  0.60204082  0.40306122  0.93367347  0.33673469  0.93367347  0.27040816\n",
      "  0.27040816]\n",
      "[ 0.93367347  0.53571429  0.33673469  0.86734694  0.20408163  0.86734694\n",
      "  0.46938776  0.66836735  0.1377551   0.73469388  0.1377551   0.80102041\n",
      "  0.80102041]\n"
     ]
    }
   ],
   "source": [
    "k = 1\n",
    "def training():\n",
    "    for i in range(60):\n",
    "        for row in range(30):\n",
    "            for col in range(13):\n",
    "                if raw_audio[i*33 + row][col] == ' ':   #high\n",
    "                    training1[int(label[i]) - 1][row][col] += 1\n",
    "                    training0[int(label[i]) - 1][row][col] += 0\n",
    "                else:\n",
    "                    training1[int(label[i]) - 1][row][col] += 0\n",
    "                    training0[int(label[i]) - 1][row][col] += 1\n",
    "\n",
    "    for i in range(5):\n",
    "        training1[i] = (training1[i] + k) / (class_[i][1] + k * 2)\n",
    "        training0[i] = (training0[i] + k) / (class_[i][1] + k * 2)\n",
    "    print(training0[0][0])\n",
    "    print(training1[0][0])\n",
    "    return training0, training1\n"
   ]
  },
  {
   "cell_type": "code",
   "execution_count": null,
   "metadata": {},
   "outputs": [],
   "source": [
    "training0, training1 = training()"
   ]
  },
  {
   "cell_type": "code",
   "execution_count": 17,
   "metadata": {},
   "outputs": [
    {
     "name": "stdout",
     "output_type": "stream",
     "text": [
      "[ 2.  3.  3.  3.  2.  4.  1.  2.  2.  4.  3.  2.  2.  3.  4.  2.  1.  1.\n",
      "  1.  3.  1.  3.  1.  4.  5.  5.  3.  4.  2.  2.  2.  5.  1.  5.  2.  5.\n",
      "  3.  5.  5.  3.]\n"
     ]
    }
   ],
   "source": [
    "test_rough = inputDigit(name = \"testing_data.txt\")\n",
    "\n",
    "def testing():\n",
    "    answer = np.zeros(40)\n",
    "    for i in range(40):\n",
    "        test_image = np.zeros(shape=(30,13))\n",
    "        for row in range(30):\n",
    "            for col in range(13):\n",
    "                if test_rough[i*33+row][col] == ' ': #high\n",
    "                    test_image[row][col] = 1\n",
    "                else:\n",
    "                    test_image[row][col] = 0\n",
    "\n",
    "        posteriori = np.zeros(5)\n",
    "        for class_num in range(5):\n",
    "            posteriori[class_num] = math.log(class_[class_num][1])\n",
    "            for row in range(30):\n",
    "                for col in range(13):\n",
    "                    if test_image[row][col] == 0:   #low\n",
    "                        posteriori[class_num] += math.log(training0[class_num][row][col])\n",
    "                    else:\n",
    "                        posteriori[class_num] += math.log(training1[class_num][row][col] )   \n",
    "        answer[i] = np.argmax(posteriori) + 1\n",
    "\n",
    "    return answer\n",
    "\n"
   ]
  },
  {
   "cell_type": "code",
   "execution_count": null,
   "metadata": {},
   "outputs": [],
   "source": [
    "answer = testing()"
   ]
  },
  {
   "cell_type": "code",
   "execution_count": 19,
   "metadata": {},
   "outputs": [],
   "source": [
    "testlabels = readRough(\"testing_labels.txt\")\n"
   ]
  },
  {
   "cell_type": "code",
   "execution_count": 23,
   "metadata": {
    "collapsed": true
   },
   "outputs": [],
   "source": [
    "def confusion_matrix():\n",
    "    num_each_class = np.zeros(5)\n",
    "    conf_matrix = np.zeros(shape=(5,5))\n",
    "    for i in range(40):\n",
    "        conf_matrix[int(testlabels[i])-1][int(answer[i])-1] += 1\n",
    "        num_each_class[int(testlabels[i])-1] += 1\n",
    "            \n",
    "    for i in range(5):\n",
    "        for j in range(5):\n",
    "            conf_matrix[i][j] /= num_each_class[i]\n",
    "    \n",
    "    return conf_matrix"
   ]
  },
  {
   "cell_type": "code",
   "execution_count": 25,
   "metadata": {},
   "outputs": [
    {
     "name": "stdout",
     "output_type": "stream",
     "text": [
      "[ 0.88  0.    0.12  0.    0.  ]\n",
      "[ 0.  1.  0.  0.  0.]\n",
      "[ 0.  0.  1.  0.  0.]\n",
      "[ 0.    0.38  0.    0.62  0.  ]\n",
      "[ 0.    0.    0.12  0.    0.88]\n",
      "0.876\n"
     ]
    }
   ],
   "source": [
    "conf_matrix = confusion_matrix()\n",
    "conf_matrix = np.around(conf_matrix, 2)\n",
    "for row in conf_matrix:\n",
    "    print(row)\n",
    "diag_sum = 0\n",
    "for i in range(5):\n",
    "    diag_sum += conf_matrix[i][i]\n",
    "print(diag_sum) / 5"
   ]
  },
  {
   "cell_type": "markdown",
   "metadata": {
    "collapsed": true
   },
   "source": [
    "# Now, let's find the best k##\n"
   ]
  },
  {
   "cell_type": "code",
   "execution_count": null,
   "metadata": {},
   "outputs": [],
   "source": [
    "# Laplace smoothing constant\n",
    "k1 = np.array([10**(-6), 10**(-5), 10**(-4), 0.001, 0.002, 0.005, 0.01, 0.02, 0.05])\n",
    "k2 = np.linspace(0.1, 10, 100)\n",
    "k_grid = np.append(k1, k2)\n",
    "accuracy = np.zeros(109)\n",
    "\n",
    "\n",
    "\n",
    "for k_index in range(109):\n",
    "    k = k_grid[k_index]\n",
    "    #print(k)\n",
    "    training0, training1 = training(data_yes, data_no, Num_sample_yes, Num_sample_no)\n",
    "    answer = testing(test_yes, test_no, Num_test_yes, Num_test_no)\n",
    "    conf_matrix = confusion_matrix(answer)\n",
    "    overall_accuracy = 0\n",
    "    for i in range(2):\n",
    "        overall_accuracy += conf_matrix[i][i] * 50.0\n",
    "        accuracy[k_index] = overall_accuracy\n",
    "    print(\"accuracy =\", overall_accuracy/100.0, \"when k is \", k_grid[k_index])"
   ]
  },
  {
   "cell_type": "code",
   "execution_count": null,
   "metadata": {},
   "outputs": [],
   "source": []
  }
 ],
 "metadata": {
  "kernelspec": {
   "display_name": "Python 3",
   "language": "python",
   "name": "python3"
  },
  "language_info": {
   "codemirror_mode": {
    "name": "ipython",
    "version": 3
   },
   "file_extension": ".py",
   "mimetype": "text/x-python",
   "name": "python",
   "nbconvert_exporter": "python",
   "pygments_lexer": "ipython3",
   "version": "3.6.2"
  }
 },
 "nbformat": 4,
 "nbformat_minor": 2
}
