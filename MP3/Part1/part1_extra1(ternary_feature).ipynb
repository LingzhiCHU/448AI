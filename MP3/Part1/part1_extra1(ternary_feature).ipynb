{
 "cells": [
  {
   "cell_type": "code",
   "execution_count": 293,
   "metadata": {
    "collapsed": true
   },
   "outputs": [],
   "source": [
    "import sys\n",
    "import math\n",
    "import pickle\n",
    "import numpy as np\n",
    "import collections\n",
    "\n",
    "k = 0.3    # Laplace smoothing constant\n",
    "n = 3       # number of pixel in one column in a feature\n",
    "m = 3       # number of pixel in one row in a feature\n",
    "\n",
    "sys.setrecursionlimit(1500)"
   ]
  },
  {
   "cell_type": "code",
   "execution_count": 294,
   "metadata": {
    "collapsed": true
   },
   "outputs": [],
   "source": [
    "def inputDigit(name=\"digitdata/trainingimages\"):\n",
    "    with open(name) as digitTxt:\n",
    "        image = [list(line)[0:28] for line in digitTxt]\n",
    "        rows = len(image)\n",
    "    return image"
   ]
  },
  {
   "cell_type": "code",
   "execution_count": 295,
   "metadata": {
    "collapsed": true
   },
   "outputs": [],
   "source": [
    "def readRough(name=\"digitdata/traininglabels\"):\n",
    "    with open(name) as label:\n",
    "        labels = []\n",
    "        for line in label:\n",
    "            labels.append(line[0])\n",
    "    return labels\n"
   ]
  },
  {
   "cell_type": "code",
   "execution_count": 296,
   "metadata": {
    "collapsed": false
   },
   "outputs": [],
   "source": [
    "digitImage = inputDigit()\n",
    "label = readRough()\n",
    "#print (\"len(label): \" + str(len(label)))\n",
    "class_ = sorted(collections.Counter(label).items())\n",
    "#print (class_)\n",
    "with open('labelstats.txt', 'wb') as fp:\n",
    "    pickle.dump(class_, fp)"
   ]
  },
  {
   "cell_type": "code",
   "execution_count": 297,
   "metadata": {
    "collapsed": false
   },
   "outputs": [],
   "source": [
    "# load the number of each digit in the training set\n",
    "with open ('labelstats.txt', 'rb') as fp:\n",
    "    class_ = pickle.load(fp)\n",
    "\n",
    "digitImage = inputDigit()\n",
    "\n",
    "# training shape=(10 classes * (28-n+1)*(28-m+1) features * 2^nm * 2 feature values)\n",
    "training=np.zeros(shape=(10, 28-n+1, 28-m+1, 2**(n*m), 2**(n*m)))\n",
    "\n",
    "count = 0\n",
    "for i in range(5000):                  # for each image\n",
    "    for row in range(28-n+1):\n",
    "        for col in range(28-m+1):      # for each feature\n",
    "            \n",
    "            feature_val0 = 0\n",
    "            feature_val1 = 0\n",
    "            for y in range(n):\n",
    "                for x in range(m):      # for each pixel in feature (overlapping)\n",
    "                    # calculate feature_val\n",
    "                    if digitImage[i*28+row+y][col+x] == '#':\n",
    "                        feature_val0 += 2**(m*y+x)\n",
    "                    elif digitImage[i*28+row+y][col+x] == '+':\n",
    "                        feature_val1 += 2**(m*y+x)\n",
    "            training[int(label[i])][row][col][feature_val0][feature_val1] += 1\n",
    "\n",
    "for i in range(10):\n",
    "    training[i] = (training[i] + k) / (class_[i][1] + k * 3**(m*n))\n",
    "\n",
    "#print(training[0][0].shape)\n",
    "#print(training[0][0])\n",
    "\n"
   ]
  },
  {
   "cell_type": "code",
   "execution_count": 298,
   "metadata": {
    "collapsed": false
   },
   "outputs": [],
   "source": [
    "# MAP classification\n",
    "# posterior probability = log P(class) + log P(f1,1 | class) + log P(f1,2 | class) + ... + log P(f28,28 | class)\n",
    "\n",
    "test_rough = inputDigit(name = \"digitdata/testimages\")\n",
    "answer = np.zeros(1000)\n",
    "\n",
    "\n",
    "for i in range(1000):                  # for each image\n",
    "    test_image = np.zeros(shape=(28-n+1, 28-m+1, 2))\n",
    "    for row in range(28-n+1):\n",
    "        for col in range(28-m+1):      # for each feature\n",
    "            \n",
    "            feature_val0 = 0\n",
    "            feature_val1 = 0\n",
    "            for y in range(n):\n",
    "                for x in range(m):      # for each pixel in feature (overlapping)\n",
    "                    # calculate feature_val\n",
    "                    if test_rough[i*28+row+y][col+x] == '#':\n",
    "                        feature_val0 += 2**(m*y+x)\n",
    "                    elif test_rough[i*28+row+y][col+x] == '+':\n",
    "                        feature_val1 += 2**(m*y+x)\n",
    "                        \n",
    "            test_image[row][col][0] = feature_val0\n",
    "            test_image[row][col][1] = feature_val1\n",
    "       \n",
    "    posteriori = np.zeros(10)\n",
    "    for class_num in range(10):\n",
    "        posteriori[class_num] = math.log(class_[class_num][1])\n",
    "        for row in range(28-n+1):\n",
    "            for col in range(28-m+1):\n",
    "                posteriori[class_num] += math.log(training[class_num][row][col][int(test_image[row][col][0])][int(test_image[row][col][1])])\n",
    "    answer[i] = np.argmax(posteriori)\n",
    "    #print(posteriori)\n",
    "    \n",
    "#print(answer)\n",
    "\n"
   ]
  },
  {
   "cell_type": "code",
   "execution_count": 299,
   "metadata": {
    "collapsed": false
   },
   "outputs": [],
   "source": [
    "testlabels = readRough(\"digitdata/testlabels\")\n",
    "testclass_ = sorted(collections.Counter(testlabels).items())"
   ]
  },
  {
   "cell_type": "code",
   "execution_count": 300,
   "metadata": {
    "collapsed": false
   },
   "outputs": [],
   "source": [
    "def confusion_matrix():\n",
    "    conf_matrix = np.zeros(shape=(10,10))\n",
    "    for i in range(1000):\n",
    "        conf_matrix[int(testlabels[i])][int(answer[i])] += 1\n",
    "            \n",
    "    for i in range(10):\n",
    "        for j in range(10):\n",
    "            conf_matrix[i][j] /= testclass_[i][1]\n",
    "    \n",
    "    return conf_matrix"
   ]
  },
  {
   "cell_type": "code",
   "execution_count": 301,
   "metadata": {
    "collapsed": false
   },
   "outputs": [
    {
     "name": "stdout",
     "output_type": "stream",
     "text": [
      "[ 0.94  0.    0.    0.    0.01  0.    0.02  0.01  0.01  0.  ]\n",
      "[ 0.    0.99  0.    0.    0.    0.    0.01  0.    0.    0.  ]\n",
      "[ 0.01  0.14  0.73  0.03  0.02  0.    0.02  0.04  0.02  0.  ]\n",
      "[ 0.    0.03  0.    0.9   0.    0.    0.01  0.06  0.    0.  ]\n",
      "[ 0.    0.03  0.    0.    0.94  0.    0.02  0.    0.    0.01]\n",
      "[ 0.02  0.02  0.01  0.22  0.03  0.54  0.03  0.05  0.03  0.03]\n",
      "[ 0.01  0.05  0.    0.    0.04  0.01  0.87  0.01  0.    0.  ]\n",
      "[ 0.    0.1   0.01  0.    0.01  0.    0.    0.87  0.    0.01]\n",
      "[ 0.02  0.17  0.04  0.15  0.05  0.    0.02  0.03  0.52  0.01]\n",
      "[ 0.01  0.02  0.    0.02  0.09  0.    0.    0.1   0.    0.76]\n",
      "overall_accuracy = 0.815128\n"
     ]
    }
   ],
   "source": [
    "conf_matrix = confusion_matrix()\n",
    "conf_matrix = np.around(conf_matrix, 2)\n",
    "for row in conf_matrix:\n",
    "    print(row)\n",
    "overall_accuracy = 0\n",
    "for i in range(10):\n",
    "    overall_accuracy += conf_matrix[i][i] * class_[i][1]\n",
    "print(\"overall_accuracy = \" + str(overall_accuracy/5000))"
   ]
  },
  {
   "cell_type": "code",
   "execution_count": null,
   "metadata": {
    "collapsed": true
   },
   "outputs": [],
   "source": []
  },
  {
   "cell_type": "code",
   "execution_count": null,
   "metadata": {
    "collapsed": true
   },
   "outputs": [],
   "source": []
  }
 ],
 "metadata": {
  "kernelspec": {
   "display_name": "Python 3",
   "language": "python",
   "name": "python3"
  },
  "language_info": {
   "codemirror_mode": {
    "name": "ipython",
    "version": 3
   },
   "file_extension": ".py",
   "mimetype": "text/x-python",
   "name": "python",
   "nbconvert_exporter": "python",
   "pygments_lexer": "ipython3",
   "version": "3.6.0"
  }
 },
 "nbformat": 4,
 "nbformat_minor": 2
}
