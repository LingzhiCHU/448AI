{
 "cells": [
  {
   "cell_type": "code",
   "execution_count": 170,
   "metadata": {
    "collapsed": true
   },
   "outputs": [],
   "source": [
    "import sys\n",
    "import math\n",
    "import pickle\n",
    "import numpy as np\n",
    "\n",
    "k = 1    # Laplace smoothing constant\n",
    "n = 3       # number of pixel in one column in a feature\n",
    "m = 3       # number of pixel in one row in a feature\n",
    "\n",
    "sys.setrecursionlimit(1500)"
   ]
  },
  {
   "cell_type": "code",
   "execution_count": 171,
   "metadata": {
    "collapsed": true
   },
   "outputs": [],
   "source": [
    "def inputDigit(name=\"digitdata/trainingimages\"):\n",
    "    with open(name) as digitTxt:\n",
    "        image = [list(line)[0:28] for line in digitTxt]\n",
    "        rows = len(image)\n",
    "    return image"
   ]
  },
  {
   "cell_type": "code",
   "execution_count": 172,
   "metadata": {
    "collapsed": false
   },
   "outputs": [],
   "source": [
    "digitImage = inputDigit()"
   ]
  },
  {
   "cell_type": "code",
   "execution_count": 173,
   "metadata": {
    "collapsed": true
   },
   "outputs": [],
   "source": [
    "import collections\n",
    "\n",
    "def readRough(name=\"digitdata/traininglabels\"):\n",
    "    with open(name) as label:\n",
    "        labels = []\n",
    "        for line in label:\n",
    "            labels.append(line[0])\n",
    "    return labels\n"
   ]
  },
  {
   "cell_type": "code",
   "execution_count": 174,
   "metadata": {
    "collapsed": false
   },
   "outputs": [
    {
     "name": "stdout",
     "output_type": "stream",
     "text": [
      "len(label): 5000\n"
     ]
    }
   ],
   "source": [
    "label = readRough()\n",
    "print (\"len(label): \" + str(len(label)))\n",
    "class_ = sorted(collections.Counter(label).items())\n",
    "#print (class_)\n",
    "with open('labelstats.txt', 'wb') as fp:\n",
    "    pickle.dump(class_, fp)"
   ]
  },
  {
   "cell_type": "code",
   "execution_count": 175,
   "metadata": {
    "collapsed": false
   },
   "outputs": [],
   "source": [
    "# load the number of each digit in the training set\n",
    "with open ('labelstats.txt', 'rb') as fp:\n",
    "    class_ = pickle.load(fp)\n",
    "\n",
    "digitImage = inputDigit()\n",
    "\n",
    "# training shape=(10 classes * (28-n+1)*(28-m+1) features * 2^nm feature values)\n",
    "training=np.zeros(shape=(10, 28-n+1, 28-m+1, 2**(n*m)))\n",
    "\n",
    "count = 0\n",
    "for i in range(5000):                  # for each image\n",
    "    for row in range(28-n+1):\n",
    "        for col in range(28-m+1):      # for each feature\n",
    "            \n",
    "            feature_val = 0\n",
    "            for y in range(n):\n",
    "                for x in range(m):      # for each pixel in feature (overlapping)\n",
    "                    # calculate feature_val\n",
    "                    if digitImage[i*28+row+y][col+x] != ' ':\n",
    "                        feature_val += 2**(m*y+x)\n",
    "            training[int(label[i])][row][col][feature_val] += 1\n",
    "\n",
    "for i in range(10):\n",
    "    training[i] = (training[i] + k) / (class_[i][1] + k * 2**(m*n))\n",
    "\n",
    "#print(training[0][0].shape)\n",
    "#print(training[0][0])\n",
    "\n"
   ]
  },
  {
   "cell_type": "code",
   "execution_count": 176,
   "metadata": {
    "collapsed": false
   },
   "outputs": [],
   "source": [
    "# MAP classification\n",
    "# posterior probability = log P(class) + log P(f1,1 | class) + log P(f1,2 | class) + ... + log P(f28,28 | class)\n",
    "\n",
    "test_rough = inputDigit(name = \"digitdata/testimages\")\n",
    "answer = np.zeros(1000)\n",
    "\n",
    "\n",
    "for i in range(1000):                  # for each image\n",
    "    test_image = np.zeros(shape=(28-n+1, 28-m+1))\n",
    "    for row in range(28-n+1):\n",
    "        for col in range(28-m+1):      # for each feature\n",
    "            \n",
    "            feature_val = 0\n",
    "            for y in range(n):\n",
    "                for x in range(m):      # for each pixel in feature (overlapping)\n",
    "                    # calculate feature_val\n",
    "                    if test_rough[i*28+row+y][col+x] != ' ':\n",
    "                        feature_val += 2**(m*y+x)\n",
    "                        \n",
    "            test_image[row][col] = feature_val\n",
    "       \n",
    "    posteriori = np.zeros(10)\n",
    "    for class_num in range(10):\n",
    "        posteriori[class_num] = math.log(class_[class_num][1])\n",
    "        for row in range(28-n+1):\n",
    "            for col in range(28-m+1):\n",
    "                posteriori[class_num] += math.log(training[class_num][row][col][int(test_image[row][col])])\n",
    "    answer[i] = np.argmax(posteriori)\n",
    "    #print(posteriori)\n",
    "    \n",
    "#print(answer)\n",
    "\n"
   ]
  },
  {
   "cell_type": "code",
   "execution_count": 177,
   "metadata": {
    "collapsed": false
   },
   "outputs": [],
   "source": [
    "testlabels = readRough(\"digitdata/testlabels\")\n",
    "testclass_ = sorted(collections.Counter(testlabels).items())"
   ]
  },
  {
   "cell_type": "code",
   "execution_count": 178,
   "metadata": {
    "collapsed": false
   },
   "outputs": [],
   "source": [
    "def confusion_matrix():\n",
    "    conf_matrix = np.zeros(shape=(10,10))\n",
    "    for i in range(1000):\n",
    "        conf_matrix[int(testlabels[i])][int(answer[i])] += 1\n",
    "            \n",
    "    for i in range(10):\n",
    "        for j in range(10):\n",
    "            conf_matrix[i][j] /= testclass_[i][1]\n",
    "    \n",
    "    return conf_matrix"
   ]
  },
  {
   "cell_type": "code",
   "execution_count": 179,
   "metadata": {
    "collapsed": false
   },
   "outputs": [
    {
     "name": "stdout",
     "output_type": "stream",
     "text": [
      "[ 0.94  0.    0.    0.    0.01  0.    0.02  0.01  0.01  0.  ]\n",
      "[ 0.    0.99  0.    0.    0.    0.    0.01  0.    0.    0.  ]\n",
      "[ 0.02  0.04  0.82  0.02  0.02  0.    0.04  0.02  0.02  0.01]\n",
      "[ 0.    0.01  0.    0.88  0.    0.    0.01  0.08  0.01  0.01]\n",
      "[ 0.    0.01  0.    0.    0.94  0.    0.02  0.01  0.    0.02]\n",
      "[ 0.02  0.02  0.01  0.17  0.03  0.6   0.02  0.03  0.03  0.05]\n",
      "[ 0.01  0.05  0.    0.    0.04  0.02  0.87  0.    0.    0.  ]\n",
      "[ 0.    0.06  0.05  0.    0.02  0.    0.    0.84  0.    0.04]\n",
      "[ 0.02  0.07  0.03  0.13  0.02  0.    0.01  0.02  0.68  0.03]\n",
      "[ 0.01  0.01  0.    0.05  0.06  0.    0.    0.07  0.01  0.79]\n",
      "overall_accuracy = 0.83701\n"
     ]
    }
   ],
   "source": [
    "conf_matrix = confusion_matrix()\n",
    "conf_matrix = np.around(conf_matrix, 2)\n",
    "for row in conf_matrix:\n",
    "    print(row)\n",
    "overall_accuracy = 0\n",
    "for i in range(10):\n",
    "    overall_accuracy += conf_matrix[i][i] * testclass_[i][1]\n",
    "print(\"overall_accuracy = \" + str(overall_accuracy/1000))"
   ]
  },
  {
   "cell_type": "code",
   "execution_count": null,
   "metadata": {
    "collapsed": true
   },
   "outputs": [],
   "source": []
  },
  {
   "cell_type": "code",
   "execution_count": null,
   "metadata": {
    "collapsed": true
   },
   "outputs": [],
   "source": []
  },
  {
   "cell_type": "code",
   "execution_count": null,
   "metadata": {
    "collapsed": true
   },
   "outputs": [],
   "source": []
  }
 ],
 "metadata": {
  "kernelspec": {
   "display_name": "Python 3",
   "language": "python",
   "name": "python3"
  },
  "language_info": {
   "codemirror_mode": {
    "name": "ipython",
    "version": 3
   },
   "file_extension": ".py",
   "mimetype": "text/x-python",
   "name": "python",
   "nbconvert_exporter": "python",
   "pygments_lexer": "ipython3",
   "version": "3.6.0"
  }
 },
 "nbformat": 4,
 "nbformat_minor": 2
}
