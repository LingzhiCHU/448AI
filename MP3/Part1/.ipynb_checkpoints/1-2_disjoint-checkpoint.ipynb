{
 "cells": [
  {
   "cell_type": "code",
   "execution_count": 33,
   "metadata": {
    "collapsed": true
   },
   "outputs": [],
   "source": [
    "import sys\n",
    "import math\n",
    "import pickle\n",
    "import numpy as np\n",
    "\n",
    "k = 0.1    # Laplace smoothing constant\n",
    "n = 2      # number of pixel in one column in a feature\n",
    "m = 2      # number of pixel in one row in a feature\n",
    "\n",
    "sys.setrecursionlimit(1500)"
   ]
  },
  {
   "cell_type": "code",
   "execution_count": 34,
   "metadata": {
    "collapsed": true
   },
   "outputs": [],
   "source": [
    "def inputDigit(name=\"digitdata/trainingimages\"):\n",
    "    with open(name) as digitTxt:\n",
    "        image = [list(line)[0:28] for line in digitTxt]\n",
    "        rows = len(image)\n",
    "    return image"
   ]
  },
  {
   "cell_type": "code",
   "execution_count": 35,
   "metadata": {
    "collapsed": false
   },
   "outputs": [],
   "source": [
    "digitImage = inputDigit()"
   ]
  },
  {
   "cell_type": "code",
   "execution_count": 36,
   "metadata": {
    "collapsed": true
   },
   "outputs": [],
   "source": [
    "import collections\n",
    "\n",
    "def readRough(name=\"digitdata/traininglabels\"):\n",
    "    with open(name) as label:\n",
    "        labels = []\n",
    "        for line in label:\n",
    "            labels.append(line[0])\n",
    "    return labels\n"
   ]
  },
  {
   "cell_type": "code",
   "execution_count": 37,
   "metadata": {
    "collapsed": false
   },
   "outputs": [
    {
     "name": "stdout",
     "output_type": "stream",
     "text": [
      "len(label): 5000\n"
     ]
    }
   ],
   "source": [
    "label = readRough()\n",
    "print (\"len(label): \" + str(len(label)))\n",
    "class_ = sorted(collections.Counter(label).items())\n",
    "#print (class_)\n",
    "with open('labelstats.txt', 'wb') as fp:\n",
    "    pickle.dump(class_, fp)"
   ]
  },
  {
   "cell_type": "code",
   "execution_count": 38,
   "metadata": {
    "collapsed": false
   },
   "outputs": [],
   "source": [
    "# load the number of each digit in the training set\n",
    "with open ('labelstats.txt', 'rb') as fp:\n",
    "    class_ = pickle.load(fp)\n",
    "\n",
    "digitImage = inputDigit()\n",
    "\n",
    "# training shape=(10 classes * (28/n)*(28/m) features * 2^nm feature values)\n",
    "training=np.zeros(shape=(10, int(28/n), int(28/m), 2**(n*m)))  \n",
    "\n",
    "count = 0\n",
    "for i in range(5000):                  # for each image\n",
    "    for row in range(int(28/n)):\n",
    "        for col in range(int(28/m)):      # for each feature\n",
    "            \n",
    "            feature_val = 0\n",
    "            for y in range(n):\n",
    "                for x in range(m):      # for each pixel in feature (disjoint)\n",
    "                    # calculate feature_val\n",
    "                    if digitImage[i*28 + n*row + y][m*col + x] != ' ':\n",
    "                        feature_val += 2**(m*y+x)\n",
    "            training[int(label[i])][row][col][feature_val] += 1\n",
    "\n",
    "for i in range(10):\n",
    "    training[i] = (training[i] + k) / (class_[i][1] + k * 2**(m*n))\n",
    "\n",
    "#print(training[0][0].shape)\n",
    "#print(training[0][0])\n",
    "\n"
   ]
  },
  {
   "cell_type": "code",
   "execution_count": 39,
   "metadata": {
    "collapsed": false
   },
   "outputs": [],
   "source": [
    "# MAP classification\n",
    "# posterior probability = log P(class) + log P(f1,1 | class) + log P(f1,2 | class) + ... + log P(f28,28 | class)\n",
    "\n",
    "test_rough = inputDigit(name = \"digitdata/testimages\")\n",
    "answer = np.zeros(1000)\n",
    "\n",
    "for i in range(1000):                  # for each image\n",
    "    test_image = np.zeros(shape=(int(28/n), int(28/m)))\n",
    "    for row in range(int(28/n)):\n",
    "        for col in range(int(28/m)):      # for each feature\n",
    "            \n",
    "            feature_val = 0\n",
    "            for y in range(n):\n",
    "                for x in range(m):      # for each pixel in feature (disjoint)\n",
    "                    # calculate feature_val\n",
    "                    if test_rough[i*28 + n*row + y][m*col + x] != ' ':\n",
    "                        feature_val += 2**(m*y+x)\n",
    "                        \n",
    "            test_image[row][col] = feature_val\n",
    "       \n",
    "    posteriori = np.zeros(10)\n",
    "    for class_num in range(10):\n",
    "        posteriori[class_num] = math.log(class_[class_num][1])\n",
    "        for row in range(int(28/n)):\n",
    "            for col in range(int(28/m)):\n",
    "                posteriori[class_num] += math.log(training[class_num][row][col][int(test_image[row][col])])\n",
    "    answer[i] = np.argmax(posteriori)\n",
    "    #print(posteriori)\n",
    "    \n",
    "#print(answer)\n",
    "\n"
   ]
  },
  {
   "cell_type": "code",
   "execution_count": 40,
   "metadata": {
    "collapsed": false
   },
   "outputs": [],
   "source": [
    "testlabels = readRough(\"digitdata/testlabels\")\n",
    "testclass_ = sorted(collections.Counter(testlabels).items())"
   ]
  },
  {
   "cell_type": "code",
   "execution_count": 41,
   "metadata": {
    "collapsed": false
   },
   "outputs": [],
   "source": [
    "def confusion_matrix():\n",
    "    conf_matrix = np.zeros(shape=(10,10))\n",
    "    for i in range(1000):\n",
    "        conf_matrix[int(testlabels[i])][int(answer[i])] += 1\n",
    "            \n",
    "    for i in range(10):\n",
    "        for j in range(10):\n",
    "            conf_matrix[i][j] /= testclass_[i][1]\n",
    "    \n",
    "    return conf_matrix"
   ]
  },
  {
   "cell_type": "code",
   "execution_count": 43,
   "metadata": {
    "collapsed": false
   },
   "outputs": [
    {
     "name": "stdout",
     "output_type": "stream",
     "text": [
      "[ 0.93  0.    0.    0.01  0.    0.    0.02  0.    0.03  0.  ]\n",
      "[ 0.    0.96  0.01  0.    0.01  0.01  0.01  0.    0.    0.  ]\n",
      "[ 0.01  0.01  0.87  0.02  0.    0.    0.03  0.02  0.04  0.  ]\n",
      "[ 0.    0.    0.01  0.9   0.    0.04  0.01  0.01  0.01  0.02]\n",
      "[ 0.    0.01  0.    0.    0.87  0.    0.02  0.01  0.01  0.08]\n",
      "[ 0.01  0.01  0.    0.09  0.    0.83  0.    0.01  0.03  0.02]\n",
      "[ 0.01  0.02  0.    0.    0.02  0.08  0.86  0.    0.01  0.  ]\n",
      "[ 0.    0.05  0.05  0.    0.01  0.01  0.    0.77  0.02  0.09]\n",
      "[ 0.02  0.01  0.03  0.11  0.01  0.03  0.    0.01  0.78  0.01]\n",
      "[ 0.01  0.01  0.    0.03  0.08  0.01  0.    0.03  0.02  0.81]\n",
      "overall_accuracy = 0.85766\n"
     ]
    }
   ],
   "source": [
    "conf_matrix = confusion_matrix()\n",
    "conf_matrix = np.around(conf_matrix, 2)\n",
    "for row in conf_matrix:\n",
    "    print(row)\n",
    "overall_accuracy = 0\n",
    "for i in range(10):\n",
    "    overall_accuracy += conf_matrix[i][i] * testclass_[i][1]\n",
    "print(\"overall_accuracy = \" + str(overall_accuracy/1000))"
   ]
  },
  {
   "cell_type": "code",
   "execution_count": null,
   "metadata": {
    "collapsed": true
   },
   "outputs": [],
   "source": []
  },
  {
   "cell_type": "code",
   "execution_count": null,
   "metadata": {
    "collapsed": true
   },
   "outputs": [],
   "source": []
  }
 ],
 "metadata": {
  "kernelspec": {
   "display_name": "Python 3",
   "language": "python",
   "name": "python3"
  },
  "language_info": {
   "codemirror_mode": {
    "name": "ipython",
    "version": 3
   },
   "file_extension": ".py",
   "mimetype": "text/x-python",
   "name": "python",
   "nbconvert_exporter": "python",
   "pygments_lexer": "ipython3",
   "version": "3.6.0"
  }
 },
 "nbformat": 4,
 "nbformat_minor": 2
}
