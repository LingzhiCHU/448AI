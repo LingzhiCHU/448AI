{
 "cells": [
  {
   "cell_type": "code",
   "execution_count": 265,
   "metadata": {
    "collapsed": true
   },
   "outputs": [],
   "source": [
    "import sys\n",
    "import math\n",
    "import pickle\n",
    "import numpy as np\n",
    "import matplotlib.pyplot as plt\n",
    "import matplotlib.cm as cm\n",
    "from matplotlib.colors import LogNorm\n",
    "import collections\n",
    "\n",
    "# Laplace smoothing constant\n",
    "k = 0.13 # 0.13 is best k I've found for part1.1\n",
    "sys.setrecursionlimit(1500)"
   ]
  },
  {
   "cell_type": "code",
   "execution_count": 266,
   "metadata": {
    "collapsed": true
   },
   "outputs": [],
   "source": [
    "# convert input txt into an 140000 * 28 array\n",
    "def inputDigit(name=\"digitdata/trainingimages\"):\n",
    "    with open(name) as digitTxt:\n",
    "        image = [list(line)[0:28] for line in digitTxt]\n",
    "        rows = len(image)\n",
    "    return image"
   ]
  },
  {
   "cell_type": "code",
   "execution_count": 267,
   "metadata": {
    "collapsed": false,
    "scrolled": true
   },
   "outputs": [
    {
     "name": "stdout",
     "output_type": "stream",
     "text": [
      "140000\n",
      "28\n"
     ]
    }
   ],
   "source": [
    "digitImage = inputDigit()\n",
    "print(len(digitImage))\n",
    "print(len(digitImage[139999]))"
   ]
  },
  {
   "cell_type": "code",
   "execution_count": 268,
   "metadata": {
    "collapsed": true
   },
   "outputs": [],
   "source": [
    "def readRough(name=\"digitdata/traininglabels\"):\n",
    "    with open(name) as label:\n",
    "        labels = []\n",
    "        for line in label:\n",
    "            labels.append(line[0])\n",
    "    return labels\n"
   ]
  },
  {
   "cell_type": "code",
   "execution_count": 301,
   "metadata": {
    "collapsed": false
   },
   "outputs": [
    {
     "name": "stdout",
     "output_type": "stream",
     "text": [
      "1\n"
     ]
    }
   ],
   "source": [
    "label = readRough()\n",
    "print (len(label[0]))\n",
    "class_ = sorted(collections.Counter(label).items())\n",
    "with open('labelstats.txt', 'wb') as fp:\n",
    "    pickle.dump(class_, fp)"
   ]
  },
  {
   "cell_type": "code",
   "execution_count": 270,
   "metadata": {
    "collapsed": false
   },
   "outputs": [],
   "source": [
    "# load the number of each digit in the training set\n",
    "with open ('labelstats.txt', 'rb') as fp:\n",
    "    class_ = pickle.load(fp)\n",
    "    \n",
    "# Training\n",
    "# P(Fij = 1 | class) = (# of times pixel (i,j) has value 1 in training examples from this class) / (Total # of training examples from this class)\n",
    "# P(Fij = 0 | class) = (# of times pixel (i,j) has value 0 in training examples from this class) / (Total # of training examples from this class)\n",
    "digitImage = inputDigit()\n",
    "training0=np.zeros(shape=(10, 28, 28))\n",
    "training1=np.zeros(shape=(10, 28, 28))\n",
    "\n",
    "count = 0\n",
    "for i in range(5000):\n",
    "    for row in range(28):\n",
    "        for col in range(28):\n",
    "            if digitImage[i*28 + row][col] == ' ':\n",
    "                training1[int(label[i])][row][col] += 0\n",
    "                training0[int(label[i])][row][col] += 1\n",
    "            else:\n",
    "                training1[int(label[i])][row][col] += 1\n",
    "                training0[int(label[i])][row][col] += 0\n",
    "\n",
    "for i in range(10):\n",
    "    training1[i] = (training1[i] + k) / (class_[i][1] + k * 2)\n",
    "    training0[i] = (training0[i] + k) / (class_[i][1] + k * 2)\n",
    "    \n",
    "#print(training0[0][0])\n",
    "#print(training1[0][0])\n",
    "\n"
   ]
  },
  {
   "cell_type": "code",
   "execution_count": 323,
   "metadata": {
    "collapsed": false
   },
   "outputs": [
    {
     "name": "stdout",
     "output_type": "stream",
     "text": [
      "[[   9.            0.         -155.79268477]\n",
      " [   0.            1.         -179.09817923]\n",
      " [   2.            2.         -168.23154355]\n",
      " ..., \n",
      " [   3.          997.         -147.83405129]\n",
      " [   9.          998.         -128.87344902]\n",
      " [   5.          999.         -176.86177899]]\n",
      "max posteriori for 0 = 724 start from line 20244\n",
      "min posteriori for 0 = 611 start from line 17080\n",
      "max posteriori for 1 = 26 start from line 700\n",
      "min posteriori for 1 = 528 start from line 14756\n",
      "max posteriori for 2 = 796 start from line 22260\n",
      "min posteriori for 2 = 791 start from line 22120\n",
      "max posteriori for 3 = 206 start from line 5740\n",
      "min posteriori for 3 = 682 start from line 19068\n",
      "max posteriori for 4 = 112 start from line 3108\n",
      "min posteriori for 4 = 254 start from line 7084\n",
      "max posteriori for 5 = 472 start from line 13188\n",
      "min posteriori for 5 = 738 start from line 20636\n",
      "max posteriori for 6 = 633 start from line 17696\n",
      "min posteriori for 6 = 445 start from line 12432\n",
      "max posteriori for 7 = 785 start from line 21952\n",
      "min posteriori for 7 = 120 start from line 3332\n",
      "max posteriori for 8 = 561 start from line 15680\n",
      "min posteriori for 8 = 102 start from line 2828\n",
      "max posteriori for 9 = 59 start from line 1624\n",
      "min posteriori for 9 = 802 start from line 22428\n"
     ]
    }
   ],
   "source": [
    "# MAP classification\n",
    "# posterior probability = log P(class) + log P(f1,1 | class) + log P(f1,2 | class) + ... + log P(f28,28 | class)\n",
    "\n",
    "test_rough = inputDigit(name = \"digitdata/testimages\")\n",
    "testlabels = readRough(\"digitdata/testlabels\")\n",
    "answer = np.zeros(1000)\n",
    "posteriori_all = []\n",
    "\n",
    "for i in range(1000):\n",
    "    test_image = np.zeros(shape=(28,28))\n",
    "    for row in range(28):\n",
    "        for col in range(28):\n",
    "            if test_rough[i*28+row][col] == ' ':\n",
    "                test_image[row][col] = 0\n",
    "            else:\n",
    "                test_image[row][col] = 1\n",
    "             \n",
    "    posteriori = np.zeros(10)\n",
    "    for class_num in range(10):\n",
    "        posteriori[class_num] = math.log(class_[class_num][1])\n",
    "        for row in range(28):\n",
    "            for col in range(28):\n",
    "                if test_image[row][col] == 0:\n",
    "                    posteriori[class_num] += math.log(training0[class_num][row][col])\n",
    "                else:\n",
    "                    posteriori[class_num] += math.log(training1[class_num][row][col] ) \n",
    "    answer[i] = np.argmax(posteriori)\n",
    "    posteriori_all.append((int(testlabels[i]), i, posteriori[int(testlabels[i])])) \n",
    "    #print(posteriori)\n",
    "\n",
    "# print \"most and least prototypical instances of each digit class\"\n",
    "posteriori_all = np.array(posteriori_all)\n",
    "print(posteriori_all)\n",
    "for class_num in range(10):\n",
    "    image_index = []\n",
    "    posteriori_value = []\n",
    "    for i in range(1000):\n",
    "        if posteriori_all[i][0] == class_num:\n",
    "            image_index.append(i)\n",
    "            posteriori_value.append(int(posteriori_all[i][2]))\n",
    "    #print(image_index)\n",
    "    print(\"max posteriori for \"+ str(class_num) + \" = \" + str(image_index[np.argmax(posteriori_value)]+1)\n",
    "         + \" start from line \" + str(image_index[np.argmax(posteriori_value)] * 28))\n",
    "    print(\"min posteriori for \"+ str(class_num) + \" = \" + str(image_index[np.argmin(posteriori_value)]+1)\n",
    "         + \" start from line \" + str(image_index[np.argmin(posteriori_value)] * 28))\n"
   ]
  },
  {
   "cell_type": "code",
   "execution_count": 302,
   "metadata": {
    "collapsed": false
   },
   "outputs": [
    {
     "name": "stdout",
     "output_type": "stream",
     "text": [
      "[('0', 90), ('1', 108), ('2', 103), ('3', 100), ('4', 107), ('5', 92), ('6', 91), ('7', 106), ('8', 103), ('9', 100)]\n"
     ]
    }
   ],
   "source": [
    "testlabels = readRough(\"digitdata/testlabels\")\n",
    "testclass_ = sorted(collections.Counter(testlabels).items())\n",
    "print(testclass_)"
   ]
  },
  {
   "cell_type": "code",
   "execution_count": 273,
   "metadata": {
    "collapsed": false
   },
   "outputs": [],
   "source": [
    "def confusion_matrix():\n",
    "    conf_matrix = np.zeros(shape=(10,10))\n",
    "    for i in range(1000):\n",
    "        conf_matrix[int(testlabels[i])][int(answer[i])] += 1\n",
    "            \n",
    "    for i in range(10):\n",
    "        for j in range(10):\n",
    "            conf_matrix[i][j] /= testclass_[i][1]\n",
    "    \n",
    "    return conf_matrix"
   ]
  },
  {
   "cell_type": "code",
   "execution_count": 274,
   "metadata": {
    "collapsed": false,
    "scrolled": true
   },
   "outputs": [
    {
     "name": "stdout",
     "output_type": "stream",
     "text": [
      "[ 0.84  0.    0.01  0.    0.01  0.06  0.03  0.    0.04  0.  ]\n",
      "[ 0.    0.96  0.01  0.    0.    0.02  0.01  0.    0.    0.  ]\n",
      "[ 0.01  0.03  0.79  0.04  0.02  0.    0.06  0.01  0.05  0.  ]\n",
      "[ 0.    0.01  0.    0.8   0.    0.03  0.02  0.07  0.01  0.06]\n",
      "[ 0.    0.    0.01  0.    0.76  0.01  0.03  0.01  0.02  0.17]\n",
      "[ 0.02  0.01  0.01  0.13  0.03  0.68  0.01  0.01  0.02  0.07]\n",
      "[ 0.01  0.04  0.04  0.    0.04  0.07  0.77  0.    0.02  0.  ]\n",
      "[ 0.    0.06  0.03  0.    0.03  0.    0.    0.73  0.03  0.13]\n",
      "[ 0.01  0.01  0.03  0.14  0.03  0.08  0.    0.01  0.6   0.1 ]\n",
      "[ 0.01  0.01  0.    0.03  0.1   0.02  0.    0.02  0.01  0.8 ]\n",
      "overall_accuracy = 0.77378\n"
     ]
    }
   ],
   "source": [
    "# print confusion matrix\n",
    "conf_matrix = confusion_matrix()\n",
    "conf_matrix = np.around(conf_matrix, 2)\n",
    "for row in conf_matrix:\n",
    "    print(row)\n",
    "overall_accuracy = 0\n",
    "for i in range(10):\n",
    "    overall_accuracy += conf_matrix[i][i] * testclass_[i][1]\n",
    "print(\"overall_accuracy = \" + str(overall_accuracy/1000))"
   ]
  },
  {
   "cell_type": "code",
   "execution_count": 275,
   "metadata": {
    "collapsed": false
   },
   "outputs": [
    {
     "name": "stdout",
     "output_type": "stream",
     "text": [
      "most confused digits pairs:\n",
      "4,9\n",
      "8,3\n",
      "5,3\n",
      "7,9\n"
     ]
    }
   ],
   "source": [
    "# find pairs with highest confusion rate\n",
    "conf_copy = conf_matrix.copy()\n",
    "\n",
    "# set the highest 10 entries to 0 (the 10 diagonal ones)\n",
    "for i in range(10):\n",
    "    m = np.argmax(conf_copy)\n",
    "    conf_copy[int(m/10)][m%10] = 0\n",
    "\n",
    "# find the highest confusion rate pair, set the entry to 0, and repeat 4 times to find 4 highest confusion rate pairs \n",
    "print(\"most confused digits pairs:\")\n",
    "for i in range(4):\n",
    "    m = np.argmax(conf_copy)\n",
    "    print(str(int(m/10)) + ',' + str(m%10))\n",
    "    conf_copy[int(m/10)][m%10] = 0"
   ]
  },
  {
   "cell_type": "code",
   "execution_count": 293,
   "metadata": {
    "collapsed": false
   },
   "outputs": [],
   "source": [
    "def plot_likelihood(num):\n",
    "    x_arr = np.linspace(0, 27, 28)\n",
    "    y_arr = np.linspace(0, 27, 28)\n",
    "\n",
    "    x,y = np.meshgrid(x_arr,y_arr)\n",
    "    z = training1[num].copy()\n",
    "    '''for i in range(28):\n",
    "        for j in range(28):\n",
    "            z[i][j] = math.log(z[i][j])'''\n",
    "\n",
    "    plt.pcolormesh(x,27-y,z,cmap=plt.cm.jet)\n",
    "    plt.colorbar()\n",
    "    plt.show()\n"
   ]
  },
  {
   "cell_type": "code",
   "execution_count": 294,
   "metadata": {
    "collapsed": false
   },
   "outputs": [],
   "source": [
    "def plot_odds_ratio(a,b):\n",
    "    x_arr = np.linspace(0, 27, 28)\n",
    "    y_arr = np.linspace(0, 27, 28)\n",
    "\n",
    "    x,y = np.meshgrid(x_arr,y_arr)\n",
    "    z = training1[a].copy()\n",
    "    \n",
    "    # odds(Fij=1, c1, c2) = P(Fij=1 | c1) / P(Fij=1 | c2).\n",
    "    # log(odds(Fij=1, c1, c2)) = log(P(Fij=1 | c1)) - log(P(Fij=1 | c2))\n",
    "    for i in range(28):\n",
    "        for j in range(28):\n",
    "            z[i][j] = math.log(z[i][j])\n",
    "            z[i][j] -= math.log(training1[b][i][j])\n",
    "            #z[i][j] /= training1[b][i][j]\n",
    "\n",
    "    plt.pcolormesh(x,27-y,z,cmap=plt.cm.jet)\n",
    "    plt.colorbar()\n",
    "    plt.show()\n",
    "\n"
   ]
  },
  {
   "cell_type": "code",
   "execution_count": 295,
   "metadata": {
    "collapsed": false
   },
   "outputs": [],
   "source": [
    "def plot_pairs(a, b):\n",
    "    plot_likelihood(a)\n",
    "    plot_likelihood(b)\n",
    "    plot_odds_ratio(a,b)"
   ]
  },
  {
   "cell_type": "code",
   "execution_count": 297,
   "metadata": {
    "collapsed": false
   },
   "outputs": [
    {
     "data": {
      "image/png": "[encoded data removed]",
      "text/plain": [
       "<matplotlib.figure.Figure at 0x112619f98>"
      ]
     },
     "metadata": {},
     "output_type": "display_data"
    },
    {
     "data": {
      "image/png": "[encoded data removed]",
      "text/plain": [
       "<matplotlib.figure.Figure at 0x111734978>"
      ]
     },
     "metadata": {},
     "output_type": "display_data"
    },
    {
     "data": {
      "image/png": "[encoded data removed]",
      "text/plain": [
       "<matplotlib.figure.Figure at 0x113f0ae10>"
      ]
     },
     "metadata": {},
     "output_type": "display_data"
    }
   ],
   "source": [
    "# most confused digits pairs: (4,9) (8,3) (5,3) (7,9)\n",
    "plot_pairs(5,3)"
   ]
  },
  {
   "cell_type": "code",
   "execution_count": null,
   "metadata": {
    "collapsed": true
   },
   "outputs": [],
   "source": []
  },
  {
   "cell_type": "code",
   "execution_count": null,
   "metadata": {
    "collapsed": true
   },
   "outputs": [],
   "source": []
  }
 ],
 "metadata": {
  "kernelspec": {
   "display_name": "Python 3",
   "language": "python",
   "name": "python3"
  },
  "language_info": {
   "codemirror_mode": {
    "name": "ipython",
    "version": 3
   },
   "file_extension": ".py",
   "mimetype": "text/x-python",
   "name": "python",
   "nbconvert_exporter": "python",
   "pygments_lexer": "ipython3",
   "version": "3.6.0"
  }
 },
 "nbformat": 4,
 "nbformat_minor": 2
}
