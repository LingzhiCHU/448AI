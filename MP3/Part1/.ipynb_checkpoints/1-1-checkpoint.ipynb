{
 "cells": [
  {
   "cell_type": "code",
   "execution_count": 166,
   "metadata": {
    "collapsed": true
   },
   "outputs": [],
   "source": [
    "import sys\n",
    "import math\n",
    "import pickle\n",
    "import numpy as np\n",
    "import matplotlib.pyplot as plt\n",
    "import matplotlib.cm as cm\n",
    "from matplotlib.colors import LogNorm\n",
    "import collections\n",
    "\n",
    "# Laplace smoothing constant\n",
    "k = 0.13 # 0.13 is best k I've found for part1.1\n",
    "sys.setrecursionlimit(1500)"
   ]
  },
  {
   "cell_type": "code",
   "execution_count": 167,
   "metadata": {
    "collapsed": true
   },
   "outputs": [],
   "source": [
    "# convert input txt into an 140000 * 28 array\n",
    "def inputDigit(name=\"digitdata/trainingimages\"):\n",
    "    with open(name) as digitTxt:\n",
    "        image = [list(line)[0:28] for line in digitTxt]\n",
    "        rows = len(image)\n",
    "    return image"
   ]
  },
  {
   "cell_type": "code",
   "execution_count": 168,
   "metadata": {
    "collapsed": false,
    "scrolled": true
   },
   "outputs": [
    {
     "name": "stdout",
     "output_type": "stream",
     "text": [
      "140000\n",
      "28\n"
     ]
    }
   ],
   "source": [
    "digitImage = inputDigit()\n",
    "print(len(digitImage))\n",
    "print(len(digitImage[139999]))"
   ]
  },
  {
   "cell_type": "code",
   "execution_count": 169,
   "metadata": {
    "collapsed": true
   },
   "outputs": [],
   "source": [
    "def readRough(name=\"digitdata/traininglabels\"):\n",
    "    with open(name) as label:\n",
    "        labels = []\n",
    "        for line in label:\n",
    "            labels.append(line[0])\n",
    "    return labels\n"
   ]
  },
  {
   "cell_type": "code",
   "execution_count": 170,
   "metadata": {
    "collapsed": false
   },
   "outputs": [
    {
     "name": "stdout",
     "output_type": "stream",
     "text": [
      "5000\n"
     ]
    }
   ],
   "source": [
    "label = readRough()\n",
    "print (len(label))\n",
    "class_ = sorted(collections.Counter(label).items())\n",
    "with open('labelstats.txt', 'wb') as fp:\n",
    "    pickle.dump(class_, fp)"
   ]
  },
  {
   "cell_type": "code",
   "execution_count": 171,
   "metadata": {
    "collapsed": false
   },
   "outputs": [],
   "source": [
    "# load the number of each digit in the training set\n",
    "with open ('labelstats.txt', 'rb') as fp:\n",
    "    class_ = pickle.load(fp)\n",
    "    \n",
    "# Training\n",
    "# P(Fij = 1 | class) = (# of times pixel (i,j) has value 1 in training examples from this class) / (Total # of training examples from this class)\n",
    "# P(Fij = 0 | class) = (# of times pixel (i,j) has value 0 in training examples from this class) / (Total # of training examples from this class)\n",
    "digitImage = inputDigit()\n",
    "training0=np.zeros(shape=(10, 28, 28))\n",
    "training1=np.zeros(shape=(10, 28, 28))\n",
    "\n",
    "count = 0\n",
    "for i in range(5000):\n",
    "    for row in range(28):\n",
    "        for col in range(28):\n",
    "            if digitImage[i*28 + row][col] == ' ':\n",
    "                training1[int(label[i])][row][col] += 0\n",
    "                training0[int(label[i])][row][col] += 1\n",
    "            else:\n",
    "                training1[int(label[i])][row][col] += 1\n",
    "                training0[int(label[i])][row][col] += 0\n",
    "\n",
    "for i in range(10):\n",
    "    training1[i] = (training1[i] + k) / (class_[i][1] + k * 2)\n",
    "    training0[i] = (training0[i] + k) / (class_[i][1] + k * 2)\n",
    "    \n",
    "#print(training0[0][0])\n",
    "#print(training1[0][0])\n",
    "\n"
   ]
  },
  {
   "cell_type": "code",
   "execution_count": 172,
   "metadata": {
    "collapsed": false
   },
   "outputs": [],
   "source": [
    "# MAP classification\n",
    "# posterior probability = log P(class) + log P(f1,1 | class) + log P(f1,2 | class) + ... + log P(f28,28 | class)\n",
    "\n",
    "test_rough = inputDigit(name = \"digitdata/testimages\")\n",
    "answer = np.zeros(1000)\n",
    "\n",
    "for i in range(1000):\n",
    "    test_image = np.zeros(shape=(28,28))\n",
    "    for row in range(28):\n",
    "        for col in range(28):\n",
    "            if test_rough[i*28+row][col] == ' ':\n",
    "                test_image[row][col] = 0\n",
    "            else:\n",
    "                test_image[row][col] = 1\n",
    "             \n",
    "    posteriori = np.zeros(10)\n",
    "    for class_num in range(10):\n",
    "        posteriori[class_num] = math.log(class_[class_num][1])\n",
    "        for row in range(28):\n",
    "            for col in range(28):\n",
    "                if test_image[row][col] == 0:\n",
    "                    posteriori[class_num] += math.log(training0[class_num][row][col])\n",
    "                else:\n",
    "                    posteriori[class_num] += math.log(training1[class_num][row][col] )   \n",
    "    answer[i] = np.argmax(posteriori)\n",
    "    #print(posteriori)\n",
    "    \n",
    "#print(answer)\n",
    "\n"
   ]
  },
  {
   "cell_type": "code",
   "execution_count": 173,
   "metadata": {
    "collapsed": false
   },
   "outputs": [],
   "source": [
    "testlabels = readRough(\"digitdata/testlabels\")\n"
   ]
  },
  {
   "cell_type": "code",
   "execution_count": 174,
   "metadata": {
    "collapsed": false
   },
   "outputs": [],
   "source": [
    "def confusion_matrix():\n",
    "    num_each_class = np.zeros(10)\n",
    "    conf_matrix = np.zeros(shape=(10,10))\n",
    "    for i in range(1000):\n",
    "        conf_matrix[int(testlabels[i])][int(answer[i])] += 1\n",
    "        num_each_class[int(testlabels[i])] += 1\n",
    "            \n",
    "    for i in range(10):\n",
    "        for j in range(10):\n",
    "            conf_matrix[i][j] /= num_each_class[i]\n",
    "    \n",
    "    return conf_matrix"
   ]
  },
  {
   "cell_type": "code",
   "execution_count": 240,
   "metadata": {
    "collapsed": false
   },
   "outputs": [
    {
     "name": "stdout",
     "output_type": "stream",
     "text": [
      "[ 0.84  0.    0.01  0.    0.01  0.06  0.03  0.    0.04  0.  ]\n",
      "[ 0.    0.96  0.01  0.    0.    0.02  0.01  0.    0.    0.  ]\n",
      "[ 0.01  0.03  0.79  0.04  0.02  0.    0.06  0.01  0.05  0.  ]\n",
      "[ 0.    0.01  0.    0.8   0.    0.03  0.02  0.07  0.01  0.06]\n",
      "[ 0.    0.    0.01  0.    0.76  0.01  0.03  0.01  0.02  0.17]\n",
      "[ 0.02  0.01  0.01  0.13  0.03  0.68  0.01  0.01  0.02  0.07]\n",
      "[ 0.01  0.04  0.04  0.    0.04  0.07  0.77  0.    0.02  0.  ]\n",
      "[ 0.    0.06  0.03  0.    0.03  0.    0.    0.73  0.03  0.13]\n",
      "[ 0.01  0.01  0.03  0.14  0.03  0.08  0.    0.01  0.6   0.1 ]\n",
      "[ 0.01  0.01  0.    0.03  0.1   0.02  0.    0.02  0.01  0.8 ]\n",
      "overall_accuracy = 0.77699\n"
     ]
    }
   ],
   "source": [
    "# print confusion matrix\n",
    "conf_matrix = confusion_matrix()\n",
    "conf_matrix = np.around(conf_matrix, 2)\n",
    "for row in conf_matrix:\n",
    "    print(row)\n",
    "overall_accuracy = 0\n",
    "for i in range(10):\n",
    "    overall_accuracy += conf_matrix[i][i] * class_[i][1]\n",
    "print(\"overall_accuracy = \" + str(overall_accuracy/5000))"
   ]
  },
  {
   "cell_type": "code",
   "execution_count": 176,
   "metadata": {
    "collapsed": false
   },
   "outputs": [
    {
     "name": "stdout",
     "output_type": "stream",
     "text": [
      "most confused digits pairs:\n",
      "4,9\n",
      "8,3\n",
      "5,3\n",
      "7,9\n"
     ]
    }
   ],
   "source": [
    "# find pairs with highest confusion rate\n",
    "conf_copy = conf_matrix.copy()\n",
    "\n",
    "# set the highest 10 entries to 0 (the 10 diagonal ones)\n",
    "for i in range(10):\n",
    "    m = np.argmax(conf_copy)\n",
    "    conf_copy[int(m/10)][m%10] = 0\n",
    "\n",
    "# find the highest confusion rate pair, set the entry to 0, and repeat 4 times to find 4 highest confusion rate pairs \n",
    "print(\"most confused digits pairs:\")\n",
    "for i in range(4):\n",
    "    m = np.argmax(conf_copy)\n",
    "    print(str(int(m/10)) + ',' + str(m%10))\n",
    "    conf_copy[int(m/10)][m%10] = 0"
   ]
  },
  {
   "cell_type": "code",
   "execution_count": 224,
   "metadata": {
    "collapsed": false
   },
   "outputs": [],
   "source": [
    "def plot_likelihood(num):\n",
    "    x_arr = np.linspace(0, 27, 28)\n",
    "    y_arr = np.linspace(0, 27, 28)\n",
    "\n",
    "    x,y = np.meshgrid(x_arr,y_arr)\n",
    "    z = training1[num].copy()\n",
    "    '''for i in range(28):\n",
    "        for j in range(28):\n",
    "            z[i][j] = math.log(z[i][j])'''\n",
    "\n",
    "    plt.pcolormesh(x,27-y,z,cmap=plt.cm.jet)\n",
    "    plt.colorbar()\n",
    "    plt.show()\n"
   ]
  },
  {
   "cell_type": "code",
   "execution_count": 231,
   "metadata": {
    "collapsed": false
   },
   "outputs": [],
   "source": [
    "def plot_odds_ratio(a,b):\n",
    "    x_arr = np.linspace(0, 27, 28)\n",
    "    y_arr = np.linspace(0, 27, 28)\n",
    "\n",
    "    x,y = np.meshgrid(x_arr,y_arr)\n",
    "    z = training1[a].copy()\n",
    "    \n",
    "    # odds(Fij=1, c1, c2) = P(Fij=1 | c1) / P(Fij=1 | c2).\n",
    "    # log(odds(Fij=1, c1, c2)) = log(P(Fij=1 | c1)) - log(P(Fij=1 | c2))\n",
    "    for i in range(28):\n",
    "        for j in range(28):\n",
    "            z[i][j] = math.log(z[i][j])\n",
    "            z[i][j] -= math.log(training1[b][i][j])\n",
    "            #z[i][j] /= training1[b][i][j]\n",
    "\n",
    "    plt.pcolormesh(x,27-y,z,cmap=plt.cm.jet)\n",
    "    plt.colorbar()\n",
    "    plt.show()\n",
    "\n"
   ]
  },
  {
   "cell_type": "code",
   "execution_count": 232,
   "metadata": {
    "collapsed": false
   },
   "outputs": [],
   "source": [
    "def plot_pairs(a, b):\n",
    "    plot_likelihood(a)\n",
    "    plot_likelihood(b)\n",
    "    plot_odds_ratio(a,b)"
   ]
  },
  {
   "cell_type": "code",
   "execution_count": 237,
   "metadata": {
    "collapsed": false
   },
   "outputs": [
    {
     "data": {
      "image/png": "[encoded data removed]",
      "text/plain": [
       "<matplotlib.figure.Figure at 0x112543470>"
      ]
     },
     "metadata": {},
     "output_type": "display_data"
    },
    {
     "data": {
      "image/png": "[encoded data removed]",
      "text/plain": [
       "<matplotlib.figure.Figure at 0x1117c26a0>"
      ]
     },
     "metadata": {},
     "output_type": "display_data"
    },
    {
     "data": {
      "image/png": "[encoded data removed]",
      "text/plain": [
       "<matplotlib.figure.Figure at 0x111593eb8>"
      ]
     },
     "metadata": {},
     "output_type": "display_data"
    }
   ],
   "source": [
    "# most confused digits pairs: (4,9) (8,3) (5,3) (7,9)\n",
    "plot_pairs(7,9)"
   ]
  },
  {
   "cell_type": "code",
   "execution_count": null,
   "metadata": {
    "collapsed": true
   },
   "outputs": [],
   "source": []
  },
  {
   "cell_type": "code",
   "execution_count": null,
   "metadata": {
    "collapsed": true
   },
   "outputs": [],
   "source": []
  }
 ],
 "metadata": {
  "kernelspec": {
   "display_name": "Python 3",
   "language": "python",
   "name": "python3"
  },
  "language_info": {
   "codemirror_mode": {
    "name": "ipython",
    "version": 3
   },
   "file_extension": ".py",
   "mimetype": "text/x-python",
   "name": "python",
   "nbconvert_exporter": "python",
   "pygments_lexer": "ipython3",
   "version": "3.6.0"
  }
 },
 "nbformat": 4,
 "nbformat_minor": 2
}
