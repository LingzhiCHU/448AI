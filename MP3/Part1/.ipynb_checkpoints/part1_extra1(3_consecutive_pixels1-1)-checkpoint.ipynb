{
 "cells": [
  {
   "cell_type": "code",
   "execution_count": 96,
   "metadata": {
    "collapsed": true
   },
   "outputs": [],
   "source": [
    "import sys\n",
    "import math\n",
    "import pickle\n",
    "import numpy as np\n",
    "import matplotlib.pyplot as plt\n",
    "import matplotlib.cm as cm\n",
    "from matplotlib.colors import LogNorm\n",
    "import collections\n",
    "\n",
    "# Laplace smoothing constant\n",
    "k = 0.13 # 0.13 is best k I've found for part1.1\n",
    "sys.setrecursionlimit(1500)"
   ]
  },
  {
   "cell_type": "code",
   "execution_count": 97,
   "metadata": {
    "collapsed": true
   },
   "outputs": [],
   "source": [
    "# convert input txt into an 140000 * 28 array\n",
    "def inputDigit(name=\"digitdata/trainingimages\"):\n",
    "    with open(name) as digitTxt:\n",
    "        image = [list(line)[0:28] for line in digitTxt]\n",
    "        rows = len(image)\n",
    "    return image"
   ]
  },
  {
   "cell_type": "code",
   "execution_count": 98,
   "metadata": {
    "collapsed": false,
    "scrolled": true
   },
   "outputs": [
    {
     "name": "stdout",
     "output_type": "stream",
     "text": [
      "140000\n",
      "28\n"
     ]
    }
   ],
   "source": [
    "digitImage = inputDigit()\n",
    "print(len(digitImage))\n",
    "print(len(digitImage[139999]))"
   ]
  },
  {
   "cell_type": "code",
   "execution_count": 99,
   "metadata": {
    "collapsed": true
   },
   "outputs": [],
   "source": [
    "def readRough(name=\"digitdata/traininglabels\"):\n",
    "    with open(name) as label:\n",
    "        labels = []\n",
    "        for line in label:\n",
    "            labels.append(line[0])\n",
    "    return labels"
   ]
  },
  {
   "cell_type": "code",
   "execution_count": 100,
   "metadata": {
    "collapsed": false
   },
   "outputs": [
    {
     "name": "stdout",
     "output_type": "stream",
     "text": [
      "5000\n"
     ]
    }
   ],
   "source": [
    "label = readRough()\n",
    "print (len(label))\n",
    "class_ = sorted(collections.Counter(label).items())\n",
    "with open('labelstats.txt', 'wb') as fp:\n",
    "    pickle.dump(class_, fp)"
   ]
  },
  {
   "cell_type": "code",
   "execution_count": 101,
   "metadata": {
    "collapsed": false
   },
   "outputs": [],
   "source": [
    "def is_foreground(image, row, col):\n",
    "    if(col%27 == 0 or col%28 == 27 or row%27 == 0 or row%28 == 27):\n",
    "        return False\n",
    "    else:\n",
    "        if image[row-1][col] != ' ' and image[row][col] != ' ' and image[row+1][col] != ' ':\n",
    "            return True\n",
    "        if image[row][col-1] != ' ' and image[row][col] != ' ' and image[row][col+1] != ' ':\n",
    "            return True\n",
    "        if image[row-1][col-1] != ' ' and image[row][col] != ' ' and image[row+1][col+1] != ' ':\n",
    "            return True\n",
    "        if image[row+1][col-1] != ' ' and image[row][col] != ' ' and image[row-1][col+1] != ' ':\n",
    "            #print(row+1)\n",
    "            return True\n",
    "\n",
    "        return False"
   ]
  },
  {
   "cell_type": "code",
   "execution_count": 102,
   "metadata": {
    "collapsed": false
   },
   "outputs": [],
   "source": [
    "# load the number of each digit in the training set\n",
    "with open ('labelstats.txt', 'rb') as fp:\n",
    "    class_ = pickle.load(fp)\n",
    "    \n",
    "# Training\n",
    "# P(Fij = 1 | class) = (# of times pixel (i,j) has value 1 in training examples from this class) / (Total # of training examples from this class)\n",
    "# P(Fij = 0 | class) = (# of times pixel (i,j) has value 0 in training examples from this class) / (Total # of training examples from this class)\n",
    "digitImage = inputDigit()\n",
    "training0=np.zeros(shape=(10, 28, 28))\n",
    "training1=np.zeros(shape=(10, 28, 28))\n",
    "\n",
    "count = 0\n",
    "for i in range(5000):\n",
    "    for row in range(28):\n",
    "        for col in range(28):\n",
    "            if is_foreground(digitImage, i*28 + row, col):\n",
    "                training1[int(label[i])][row][col] += 1\n",
    "                training0[int(label[i])][row][col] += 0\n",
    "            else:\n",
    "                training1[int(label[i])][row][col] += 0\n",
    "                training0[int(label[i])][row][col] += 1\n",
    "\n",
    "for i in range(10):\n",
    "    training1[i] = (training1[i] + k) / (class_[i][1] + k * 2)\n",
    "    training0[i] = (training0[i] + k) / (class_[i][1] + k * 2)\n",
    "    \n",
    "#print(training0[0][0])\n",
    "#print(training1[0][0])\n",
    "\n",
    "\n"
   ]
  },
  {
   "cell_type": "code",
   "execution_count": 103,
   "metadata": {
    "collapsed": false
   },
   "outputs": [],
   "source": [
    "# MAP classification\n",
    "# posterior probability = log P(class) + log P(f1,1 | class) + log P(f1,2 | class) + ... + log P(f28,28 | class)\n",
    "\n",
    "test_rough = inputDigit(name = \"digitdata/testimages\")\n",
    "answer = np.zeros(1000)\n",
    "\n",
    "for i in range(1000):\n",
    "    test_image = np.zeros(shape=(28,28))\n",
    "    for row in range(28):\n",
    "        for col in range(28):\n",
    "            if is_foreground(test_rough, i*28 + row, col):\n",
    "                test_image[row][col] = 1\n",
    "            else:\n",
    "                test_image[row][col] = 0\n",
    "             \n",
    "    posteriori = np.zeros(10)\n",
    "    for class_num in range(10):\n",
    "        posteriori[class_num] = math.log(class_[class_num][1])\n",
    "        for row in range(28):\n",
    "            for col in range(28):\n",
    "                if test_image[row][col] == 0:\n",
    "                    posteriori[class_num] += math.log(training0[class_num][row][col])\n",
    "                else:\n",
    "                    posteriori[class_num] += math.log(training1[class_num][row][col] )   \n",
    "    answer[i] = np.argmax(posteriori)\n",
    "    #print(posteriori)\n",
    "    \n",
    "#print(answer)"
   ]
  },
  {
   "cell_type": "code",
   "execution_count": 104,
   "metadata": {
    "collapsed": false
   },
   "outputs": [],
   "source": [
    "testlabels = readRough(\"digitdata/testlabels\")\n",
    "testclass_ = sorted(collections.Counter(testlabels).items())"
   ]
  },
  {
   "cell_type": "code",
   "execution_count": 105,
   "metadata": {
    "collapsed": false
   },
   "outputs": [],
   "source": [
    "def confusion_matrix():\n",
    "    conf_matrix = np.zeros(shape=(10,10))\n",
    "    for i in range(1000):\n",
    "        conf_matrix[int(testlabels[i])][int(answer[i])] += 1\n",
    "            \n",
    "    for i in range(10):\n",
    "        for j in range(10):\n",
    "            conf_matrix[i][j] /= testclass_[i][1]\n",
    "    \n",
    "    return conf_matrix"
   ]
  },
  {
   "cell_type": "code",
   "execution_count": 106,
   "metadata": {
    "collapsed": false
   },
   "outputs": [
    {
     "name": "stdout",
     "output_type": "stream",
     "text": [
      "[ 0.87  0.    0.01  0.    0.    0.03  0.04  0.    0.04  0.  ]\n",
      "[ 0.    0.95  0.    0.    0.    0.02  0.01  0.    0.02  0.  ]\n",
      "[ 0.02  0.04  0.74  0.07  0.01  0.    0.06  0.01  0.04  0.02]\n",
      "[ 0.    0.02  0.    0.77  0.    0.07  0.02  0.05  0.03  0.04]\n",
      "[ 0.    0.01  0.    0.    0.71  0.01  0.03  0.    0.02  0.22]\n",
      "[ 0.01  0.01  0.    0.1   0.04  0.73  0.02  0.01  0.02  0.05]\n",
      "[ 0.01  0.07  0.01  0.    0.04  0.03  0.81  0.    0.02  0.  ]\n",
      "[ 0.    0.07  0.03  0.    0.03  0.    0.    0.75  0.03  0.1 ]\n",
      "[ 0.02  0.03  0.02  0.1   0.02  0.06  0.01  0.02  0.65  0.08]\n",
      "[ 0.01  0.01  0.    0.03  0.08  0.01  0.    0.02  0.01  0.83]\n",
      "overall_accuracy = 0.78041\n"
     ]
    }
   ],
   "source": [
    "# print confusion matrix\n",
    "conf_matrix = confusion_matrix()\n",
    "conf_matrix = np.around(conf_matrix, 2)\n",
    "for row in conf_matrix:\n",
    "    print(row)\n",
    "overall_accuracy = 0\n",
    "for i in range(10):\n",
    "    overall_accuracy += conf_matrix[i][i] * testclass_[i][1]\n",
    "print(\"overall_accuracy = \" + str(overall_accuracy/1000))"
   ]
  },
  {
   "cell_type": "code",
   "execution_count": null,
   "metadata": {
    "collapsed": true
   },
   "outputs": [],
   "source": []
  },
  {
   "cell_type": "code",
   "execution_count": null,
   "metadata": {
    "collapsed": true
   },
   "outputs": [],
   "source": []
  }
 ],
 "metadata": {
  "kernelspec": {
   "display_name": "Python 3",
   "language": "python",
   "name": "python3"
  },
  "language_info": {
   "codemirror_mode": {
    "name": "ipython",
    "version": 3
   },
   "file_extension": ".py",
   "mimetype": "text/x-python",
   "name": "python",
   "nbconvert_exporter": "python",
   "pygments_lexer": "ipython3",
   "version": "3.6.0"
  }
 },
 "nbformat": 4,
 "nbformat_minor": 2
}
