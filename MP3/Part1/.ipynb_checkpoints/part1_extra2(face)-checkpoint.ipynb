{
 "cells": [
  {
   "cell_type": "code",
   "execution_count": 195,
   "metadata": {
    "collapsed": true
   },
   "outputs": [],
   "source": [
    "import sys\n",
    "import math\n",
    "import pickle\n",
    "import numpy as np\n",
    "\n",
    "k = 0.2    # Laplace smoothing constant\n",
    "n = 2       # number of pixel in one column in a feature\n",
    "m = 2       # number of pixel in one row in a feature\n",
    "\n",
    "sys.setrecursionlimit(1500)"
   ]
  },
  {
   "cell_type": "code",
   "execution_count": 196,
   "metadata": {
    "collapsed": true
   },
   "outputs": [],
   "source": [
    "def inputDigit(name=\"facedata/facedatatrain\"):\n",
    "    with open(name) as digitTxt:\n",
    "        image = [list(line)[0:60] for line in digitTxt]\n",
    "        rows = len(image)\n",
    "    return image"
   ]
  },
  {
   "cell_type": "code",
   "execution_count": 197,
   "metadata": {
    "collapsed": false
   },
   "outputs": [],
   "source": [
    "digitImage = inputDigit()\n",
    "#print(len(digitImage))\n",
    "#print(len(digitImage[0]))\n",
    "#print(31570/70)"
   ]
  },
  {
   "cell_type": "code",
   "execution_count": 198,
   "metadata": {
    "collapsed": true
   },
   "outputs": [],
   "source": [
    "import collections\n",
    "\n",
    "def readRough(name=\"facedata/facedatatrainlabels\"):\n",
    "    with open(name) as label:\n",
    "        labels = []\n",
    "        for line in label:\n",
    "            labels.append(line[0])\n",
    "    return labels\n"
   ]
  },
  {
   "cell_type": "code",
   "execution_count": 199,
   "metadata": {
    "collapsed": false
   },
   "outputs": [
    {
     "name": "stdout",
     "output_type": "stream",
     "text": [
      "len(label): 451\n",
      "[('0', 234), ('1', 217)]\n"
     ]
    }
   ],
   "source": [
    "label = readRough()\n",
    "print (\"len(label): \" + str(len(label)))\n",
    "class_ = sorted(collections.Counter(label).items())\n",
    "print (class_)\n",
    "with open('labelstats.txt', 'wb') as fp:\n",
    "    pickle.dump(class_, fp)"
   ]
  },
  {
   "cell_type": "code",
   "execution_count": 200,
   "metadata": {
    "collapsed": false
   },
   "outputs": [],
   "source": [
    "# load the number of 1(face) and 0(not face) in the training set\n",
    "with open ('labelstats.txt', 'rb') as fp:\n",
    "    class_ = pickle.load(fp)\n",
    "\n",
    "digitImage = inputDigit()\n",
    "\n",
    "# training shape=(2 classes * (70-n+1)*(60-m+1) features * 2^nm feature values)\n",
    "training=np.zeros(shape=(2, 70-n+1, 60-m+1, 2**(n*m)))\n",
    "\n",
    "count = 0\n",
    "for i in range(451):                  # for each image\n",
    "    for row in range(70-n+1):\n",
    "        for col in range(60-m+1):      # for each feature\n",
    "            \n",
    "            feature_val = 0\n",
    "            for y in range(n):\n",
    "                for x in range(m):      # for each pixel in feature (overlapping)\n",
    "                    # calculate feature_val\n",
    "                    if digitImage[i*70+row+y][col+x] != ' ':\n",
    "                        feature_val += 2**(m*y+x)\n",
    "            training[int(label[i])][row][col][feature_val] += 1\n",
    "\n",
    "for i in range(2):\n",
    "    training[i] = (training[i] + k) / (class_[i][1] + k * 2**(m*n))\n",
    "\n",
    "#print(training[0][0].shape)\n",
    "#print(training[0][0])\n",
    "\n"
   ]
  },
  {
   "cell_type": "code",
   "execution_count": 201,
   "metadata": {
    "collapsed": false
   },
   "outputs": [
    {
     "name": "stdout",
     "output_type": "stream",
     "text": [
      "60\n"
     ]
    }
   ],
   "source": [
    "# MAP classification\n",
    "# posterior probability = log P(class) + log P(f1,1 | class) + log P(f1,2 | class) + ... + log P(f28,28 | class)\n",
    "\n",
    "test_rough = inputDigit(name = \"facedata/facedatatest\")\n",
    "answer = np.zeros(150)\n",
    "print(len(test_rough[0]))\n",
    "\n",
    "for i in range(150):                  # for each image\n",
    "    test_image = np.zeros(shape=(70-n+1, 60-m+1))\n",
    "    for row in range(70-n+1):\n",
    "        for col in range(60-m+1):      # for each feature\n",
    "            \n",
    "            feature_val = 0\n",
    "            for y in range(n):\n",
    "                for x in range(m):      # for each pixel in feature (overlapping)\n",
    "                    # calculate feature_val\n",
    "                    if test_rough[i*70+row+y][col+x] != ' ':\n",
    "                        feature_val += 2**(m*y+x)\n",
    "                        \n",
    "            test_image[row][col] = feature_val\n",
    "       \n",
    "    posteriori = np.zeros(2)\n",
    "    for class_num in range(2):\n",
    "        posteriori[class_num] = math.log(class_[class_num][1])\n",
    "        for row in range(70-n+1):\n",
    "            for col in range(60-m+1):\n",
    "                posteriori[class_num] += math.log(training[class_num][row][col][int(test_image[row][col])])\n",
    "    answer[i] = np.argmax(posteriori)\n",
    "    #print(posteriori)\n",
    "    \n",
    "#print(answer)\n",
    "\n"
   ]
  },
  {
   "cell_type": "code",
   "execution_count": 209,
   "metadata": {
    "collapsed": false
   },
   "outputs": [],
   "source": [
    "testlabels = readRough(\"facedata/facedatatestlabels\")\n",
    "testclass_ = sorted(collections.Counter(testlabels).items())"
   ]
  },
  {
   "cell_type": "code",
   "execution_count": 213,
   "metadata": {
    "collapsed": false
   },
   "outputs": [],
   "source": [
    "def confusion_matrix():\n",
    "    conf_matrix = np.zeros(shape=(2,2))\n",
    "    for i in range(150):\n",
    "        conf_matrix[int(testlabels[i])][int(answer[i])] += 1\n",
    "            \n",
    "    for i in range(2):\n",
    "        for j in range(2):\n",
    "            conf_matrix[i][j] /= testclass_[i][1]\n",
    "            \n",
    "    print(\"false positive = \" + str(conf_matrix[0][1]))\n",
    "    print(\"false negative = \" + str(conf_matrix[1][0]))\n",
    "    return conf_matrix"
   ]
  },
  {
   "cell_type": "code",
   "execution_count": 214,
   "metadata": {
    "collapsed": false
   },
   "outputs": [
    {
     "name": "stdout",
     "output_type": "stream",
     "text": [
      "false positive = 0.012987012987\n",
      "false negative = 0.027397260274\n",
      "[ 0.987  0.013]\n",
      "[ 0.027  0.973]\n",
      "overall_accuracy = 0.980186666667\n"
     ]
    }
   ],
   "source": [
    "conf_matrix = confusion_matrix()\n",
    "conf_matrix = np.around(conf_matrix, 3)\n",
    "for row in conf_matrix:\n",
    "    print(row)\n",
    "    \n",
    "overall_accuracy = 0\n",
    "for i in range(2):\n",
    "    overall_accuracy += conf_matrix[i][i] * testclass_[i][1]\n",
    "print(\"overall_accuracy = \" + str(overall_accuracy/150))"
   ]
  },
  {
   "cell_type": "code",
   "execution_count": null,
   "metadata": {
    "collapsed": true
   },
   "outputs": [],
   "source": []
  },
  {
   "cell_type": "code",
   "execution_count": null,
   "metadata": {
    "collapsed": true
   },
   "outputs": [],
   "source": []
  }
 ],
 "metadata": {
  "kernelspec": {
   "display_name": "Python 3",
   "language": "python",
   "name": "python3"
  },
  "language_info": {
   "codemirror_mode": {
    "name": "ipython",
    "version": 3
   },
   "file_extension": ".py",
   "mimetype": "text/x-python",
   "name": "python",
   "nbconvert_exporter": "python",
   "pygments_lexer": "ipython3",
   "version": "3.6.0"
  }
 },
 "nbformat": 4,
 "nbformat_minor": 2
}
