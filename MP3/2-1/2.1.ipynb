{
 "cells": [
  {
   "cell_type": "code",
   "execution_count": 1,
   "metadata": {},
   "outputs": [
    {
     "name": "stdout",
     "output_type": "stream",
     "text": [
      "Populating the interactive namespace from numpy and matplotlib\n"
     ]
    }
   ],
   "source": [
    "from __future__ import division\n",
    "%pylab inline\n",
    "import numpy as np\n",
    "import scipy.spatial.distance as dist\n",
    "from scipy import stats\n",
    "import pickle\n",
    "import math\n",
    "import collections\n",
    "import numpy as np"
   ]
  },
  {
   "cell_type": "code",
   "execution_count": 2,
   "metadata": {},
   "outputs": [],
   "source": [
    "# \" \" = high   =  1\n",
    "# \"%\" = low    =  0\n",
    "# len(row) = 10\n",
    "def countNum(name = \"yes_train.txt\"):\n",
    "    with open(name) as dataset:\n",
    "        num_lines = sum(1 for line in dataset)\n",
    "        return num_lines / 28\n",
    "    \n"
   ]
  },
  {
   "cell_type": "markdown",
   "metadata": {},
   "source": [
    "for training "
   ]
  },
  {
   "cell_type": "code",
   "execution_count": 3,
   "metadata": {},
   "outputs": [
    {
     "name": "stdout",
     "output_type": "stream",
     "text": [
      "140.0 131.0\n"
     ]
    }
   ],
   "source": [
    "# label yes = 1\n",
    "# label no = 0\n",
    "Num_sample_yes =  countNum()\n",
    "Num_sample_no =  countNum(\"no_train.txt\")\n",
    "print(Num_sample_yes,Num_sample_no)"
   ]
  },
  {
   "cell_type": "code",
   "execution_count": 4,
   "metadata": {},
   "outputs": [
    {
     "name": "stdout",
     "output_type": "stream",
     "text": [
      "50.0 50.0\n"
     ]
    }
   ],
   "source": [
    "Num_test_yes =  countNum(\"yes_test.txt\")\n",
    "Num_test_no =  countNum(\"no_test.txt\")\n",
    "print(Num_test_yes,Num_test_no)"
   ]
  },
  {
   "cell_type": "code",
   "execution_count": 5,
   "metadata": {},
   "outputs": [],
   "source": [
    "def inputDigit(name=\"yes_train.txt\"):\n",
    "    with open(name) as digitTxt:\n",
    "        image = [list(line)[0:10] for line in digitTxt]\n",
    "    return image"
   ]
  },
  {
   "cell_type": "code",
   "execution_count": 6,
   "metadata": {},
   "outputs": [],
   "source": [
    "data_yes = inputDigit()\n",
    "data_no = inputDigit(\"no_train.txt\")\n",
    "test_yes = inputDigit(\"yes_test.txt\")\n",
    "test_no = inputDigit(\"no_test.txt\")"
   ]
  },
  {
   "cell_type": "code",
   "execution_count": 45,
   "metadata": {},
   "outputs": [],
   "source": [
    "#   yes is class 0\n",
    "#   no is class 1\n",
    "k = 3.3\n",
    "    \n",
    "def training(yes_train, no_train, yes_num, no_num):\n",
    "    # \" \" = high   =  1\n",
    "    # \"%\" = low    =  0\n",
    "    \n",
    "    class_total = [yes_num, no_num]\n",
    "\n",
    "    training0 = np.zeros(shape=(2, 25, 10))   #high\n",
    "    training1 = np.zeros(shape=(2, 25, 10))   #low\n",
    "\n",
    "    count = 0\n",
    "    for i in range(int(yes_num)):\n",
    "        for row in range(25):\n",
    "            for col in range(10):\n",
    "                if yes_train[i*28 + row][col] == ' ':      # offset = i*28, since 25 + 3(blank rows)\n",
    "                    training1[0][row][col] += 1\n",
    "                else:\n",
    "                    training0[0][row][col] += 1\n",
    "                    \n",
    "    for i in range(int(no_num)):\n",
    "        for row in range(25):\n",
    "            for col in range(10):\n",
    "                if no_train[i*28 + row][col] == ' ':\n",
    "                    training1[1][row][col] += 1\n",
    "                else:\n",
    "                    training0[1][row][col] += 1\n",
    "\n",
    "    # laplace smooth\n",
    "    for i in range(2):\n",
    "        training1[i] = (training1[i] + k) / (class_total[i] + k * 2)\n",
    "        \n",
    "        training0[i] = (training0[i] + k) / (class_total[i] + k * 2)\n",
    "#     print(training0[1][0])\n",
    "#     print(training1[1][0])\n",
    "    return training0, training1"
   ]
  },
  {
   "cell_type": "code",
   "execution_count": 46,
   "metadata": {},
   "outputs": [],
   "source": [
    "training0, training1 = training(data_yes, data_no, Num_sample_yes, Num_sample_no)"
   ]
  },
  {
   "cell_type": "code",
   "execution_count": 47,
   "metadata": {},
   "outputs": [],
   "source": [
    "# log P(class) + log P(f1,1 | class) + log P(f1,2 | class) + ... + log P(f28,28 | class)\n",
    "\n",
    "# test_rough = inputDigit(name = \"digitdata/testimages\")\n",
    "def testing(yes_test, no_test, Num_test_yes, Num_test_no):\n",
    "\n",
    "    data_test = np.concatenate( (yes_test, no_test) , axis = 0 )\n",
    "# #     print len(data_test) / 28\n",
    "#     return \n",
    "\n",
    "    total = Num_test_yes + Num_test_no\n",
    "    answer = np.zeros(int(total))\n",
    "    \n",
    "    class_total = [Num_test_yes, Num_test_no]\n",
    "    \n",
    "    for i in range(int(total)):\n",
    "        test_image = np.zeros(shape=(25,10))\n",
    "        for row in range(25):\n",
    "            for col in range(10):\n",
    "                if data_test[i*28+row][col] == ' ':\n",
    "                    test_image[row][col] = 1\n",
    "                else:\n",
    "                    test_image[row][col] = 0\n",
    "                    \n",
    "\n",
    "        posteriori = np.zeros(2)\n",
    "        for class_num in range(2):\n",
    "            posteriori[class_num] = math.log(class_total[class_num])\n",
    "            for row in range(25):\n",
    "                for col in range(10):\n",
    "                    if test_image[row][col] == 0:\n",
    "                        posteriori[class_num] += math.log(training0[class_num][row][col])\n",
    "                    else:\n",
    "                        posteriori[class_num] += math.log(training1[class_num][row][col] )   \n",
    "        answer[i] = np.argmax(posteriori)\n",
    "\n",
    "    return answer"
   ]
  },
  {
   "cell_type": "code",
   "execution_count": 48,
   "metadata": {},
   "outputs": [],
   "source": [
    "answer = testing(test_yes, test_no, Num_test_yes, Num_test_no)"
   ]
  },
  {
   "cell_type": "code",
   "execution_count": 49,
   "metadata": {},
   "outputs": [],
   "source": [
    "def confusion_matrix(pred):\n",
    "    conf_matrix = np.zeros(shape=(2,2))\n",
    "    #print(conf_matrix[0][0])\n",
    "    #print(int(answer[0]))\n",
    "    for i in range(100):\n",
    "        if i < 50:\n",
    "            conf_matrix[0][int(pred[i])] += 1\n",
    "        else:\n",
    "            conf_matrix[1][int(pred[i])] += 1\n",
    "            \n",
    "    for i in range(2):\n",
    "        for j in range(2):\n",
    "            conf_matrix[i][j] /= 50.0\n",
    "    \n",
    "    return conf_matrix"
   ]
  },
  {
   "cell_type": "code",
   "execution_count": 50,
   "metadata": {},
   "outputs": [
    {
     "name": "stdout",
     "output_type": "stream",
     "text": [
      "[ 0.98  0.02]\n",
      "[ 0.04  0.96]\n",
      "overall_accuracy = 0.97\n"
     ]
    }
   ],
   "source": [
    "# print confusion matrix\n",
    "conf_matrix = confusion_matrix(answer)\n",
    "conf_matrix = np.around(conf_matrix, 2)\n",
    "for row in conf_matrix:\n",
    "    print(row)\n",
    "overall_accuracy = 0\n",
    "for i in range(2):\n",
    "    overall_accuracy += conf_matrix[i][i] * 50.0\n",
    "print(\"overall_accuracy = \" + str(overall_accuracy/100))"
   ]
  },
  {
   "cell_type": "markdown",
   "metadata": {},
   "source": [
    "# Now, let's find the best k##"
   ]
  },
  {
   "cell_type": "code",
   "execution_count": 43,
   "metadata": {},
   "outputs": [
    {
     "name": "stdout",
     "output_type": "stream",
     "text": [
      "accuracy = 0.95 when k is  1e-06\n",
      "accuracy = 0.95 when k is  1e-05\n",
      "accuracy = 0.95 when k is  0.0001\n",
      "accuracy = 0.96 when k is  0.001\n",
      "accuracy = 0.96 when k is  0.002\n",
      "accuracy = 0.96 when k is  0.005\n",
      "accuracy = 0.96 when k is  0.01\n",
      "accuracy = 0.96 when k is  0.02\n",
      "accuracy = 0.96 when k is  0.05\n",
      "accuracy = 0.96 when k is  0.1\n",
      "accuracy = 0.96 when k is  0.2\n",
      "accuracy = 0.96 when k is  0.3\n",
      "accuracy = 0.96 when k is  0.4\n",
      "accuracy = 0.96 when k is  0.5\n",
      "accuracy = 0.96 when k is  0.6\n",
      "accuracy = 0.96 when k is  0.7\n",
      "accuracy = 0.96 when k is  0.8\n",
      "accuracy = 0.96 when k is  0.9\n",
      "accuracy = 0.96 when k is  1.0\n",
      "accuracy = 0.96 when k is  1.1\n",
      "accuracy = 0.96 when k is  1.2\n",
      "accuracy = 0.96 when k is  1.3\n",
      "accuracy = 0.96 when k is  1.4\n",
      "accuracy = 0.96 when k is  1.5\n",
      "accuracy = 0.96 when k is  1.6\n",
      "accuracy = 0.96 when k is  1.7\n",
      "accuracy = 0.96 when k is  1.8\n",
      "accuracy = 0.96 when k is  1.9\n",
      "accuracy = 0.96 when k is  2.0\n",
      "accuracy = 0.96 when k is  2.1\n",
      "accuracy = 0.96 when k is  2.2\n",
      "accuracy = 0.96 when k is  2.3\n",
      "accuracy = 0.96 when k is  2.4\n",
      "accuracy = 0.96 when k is  2.5\n",
      "accuracy = 0.96 when k is  2.6\n",
      "accuracy = 0.96 when k is  2.7\n",
      "accuracy = 0.96 when k is  2.8\n",
      "accuracy = 0.96 when k is  2.9\n",
      "accuracy = 0.97 when k is  3.0\n",
      "accuracy = 0.97 when k is  3.1\n",
      "accuracy = 0.97 when k is  3.2\n",
      "accuracy = 0.97 when k is  3.3\n",
      "accuracy = 0.97 when k is  3.4\n",
      "accuracy = 0.97 when k is  3.5\n",
      "accuracy = 0.97 when k is  3.6\n",
      "accuracy = 0.96 when k is  3.7\n",
      "accuracy = 0.96 when k is  3.8\n",
      "accuracy = 0.96 when k is  3.9\n",
      "accuracy = 0.96 when k is  4.0\n",
      "accuracy = 0.96 when k is  4.1\n",
      "accuracy = 0.96 when k is  4.2\n",
      "accuracy = 0.96 when k is  4.3\n",
      "accuracy = 0.96 when k is  4.4\n",
      "accuracy = 0.96 when k is  4.5\n",
      "accuracy = 0.96 when k is  4.6\n",
      "accuracy = 0.96 when k is  4.7\n",
      "accuracy = 0.96 when k is  4.8\n",
      "accuracy = 0.96 when k is  4.9\n",
      "accuracy = 0.96 when k is  5.0\n",
      "accuracy = 0.96 when k is  5.1\n",
      "accuracy = 0.96 when k is  5.2\n",
      "accuracy = 0.96 when k is  5.3\n",
      "accuracy = 0.96 when k is  5.4\n",
      "accuracy = 0.96 when k is  5.5\n",
      "accuracy = 0.96 when k is  5.6\n",
      "accuracy = 0.96 when k is  5.7\n",
      "accuracy = 0.96 when k is  5.8\n",
      "accuracy = 0.96 when k is  5.9\n",
      "accuracy = 0.96 when k is  6.0\n",
      "accuracy = 0.96 when k is  6.1\n",
      "accuracy = 0.96 when k is  6.2\n",
      "accuracy = 0.96 when k is  6.3\n",
      "accuracy = 0.96 when k is  6.4\n",
      "accuracy = 0.96 when k is  6.5\n",
      "accuracy = 0.96 when k is  6.6\n",
      "accuracy = 0.96 when k is  6.7\n",
      "accuracy = 0.96 when k is  6.8\n",
      "accuracy = 0.96 when k is  6.9\n",
      "accuracy = 0.96 when k is  7.0\n",
      "accuracy = 0.96 when k is  7.1\n",
      "accuracy = 0.96 when k is  7.2\n",
      "accuracy = 0.96 when k is  7.3\n",
      "accuracy = 0.96 when k is  7.4\n",
      "accuracy = 0.96 when k is  7.5\n",
      "accuracy = 0.96 when k is  7.6\n",
      "accuracy = 0.96 when k is  7.7\n",
      "accuracy = 0.96 when k is  7.8\n",
      "accuracy = 0.95 when k is  7.9\n",
      "accuracy = 0.95 when k is  8.0\n",
      "accuracy = 0.95 when k is  8.1\n",
      "accuracy = 0.95 when k is  8.2\n",
      "accuracy = 0.95 when k is  8.3\n",
      "accuracy = 0.95 when k is  8.4\n",
      "accuracy = 0.95 when k is  8.5\n",
      "accuracy = 0.94 when k is  8.6\n",
      "accuracy = 0.94 when k is  8.7\n",
      "accuracy = 0.94 when k is  8.8\n",
      "accuracy = 0.94 when k is  8.9\n",
      "accuracy = 0.94 when k is  9.0\n",
      "accuracy = 0.94 when k is  9.1\n",
      "accuracy = 0.94 when k is  9.2\n",
      "accuracy = 0.94 when k is  9.3\n",
      "accuracy = 0.94 when k is  9.4\n",
      "accuracy = 0.94 when k is  9.5\n",
      "accuracy = 0.94 when k is  9.6\n",
      "accuracy = 0.94 when k is  9.7\n",
      "accuracy = 0.94 when k is  9.8\n",
      "accuracy = 0.94 when k is  9.9\n",
      "accuracy = 0.94 when k is  10.0\n"
     ]
    }
   ],
   "source": [
    "# Laplace smoothing constant\n",
    "k1 = np.array([10**(-6), 10**(-5), 10**(-4), 0.001, 0.002, 0.005, 0.01, 0.02, 0.05])\n",
    "k2 = np.linspace(0.1, 10, 100)\n",
    "k_grid = np.append(k1, k2)\n",
    "\n",
    "accuracy = np.zeros(109)\n",
    "\n",
    "for k_index in range(109):\n",
    "    k = k_grid[k_index]\n",
    "    #print(k)\n",
    "    training0, training1 = training(data_yes, data_no, Num_sample_yes, Num_sample_no)\n",
    "    answer = testing(test_yes, test_no, Num_test_yes, Num_test_no)\n",
    "    conf_matrix = confusion_matrix(answer)\n",
    "    overall_accuracy = 0\n",
    "    for i in range(2):\n",
    "        overall_accuracy += conf_matrix[i][i] * 50.0\n",
    "        accuracy[k_index] = overall_accuracy\n",
    "    print(\"accuracy =\", overall_accuracy/100.0, \"when k is \", k_grid[k_index])"
   ]
  },
  {
   "cell_type": "code",
   "execution_count": 34,
   "metadata": {},
   "outputs": [
    {
     "data": {
      "text/plain": [
       "<matplotlib.text.Text at 0x7ff803438668>"
      ]
     },
     "execution_count": 34,
     "metadata": {},
     "output_type": "execute_result"
    },
    {
     "data": {
      "image/png": "[encoded data removed]",
      "text/plain": [
       "<matplotlib.figure.Figure at 0x7ff80597a908>"
      ]
     },
     "metadata": {},
     "output_type": "display_data"
    }
   ],
   "source": [
    "%matplotlib inline\n",
    "plt.figure()\n",
    "ax = plt.gca()\n",
    "#ax.set_xscale('log')\n",
    "plt.scatter(k_grid[5:], accuracy[5:], label = 'f(x)')\n",
    "plt.xlabel(\"k\")\n",
    "plt.ylabel(\"Accuracy (percent)\")\n",
    "plt.title(\"Accuracy vs smoothing constant k\")"
   ]
  },
  {
   "cell_type": "code",
   "execution_count": 30,
   "metadata": {},
   "outputs": [
    {
     "name": "stdout",
     "output_type": "stream",
     "text": [
      "accuracy = 0.97 when k is  3.0\n",
      "accuracy = 0.97 when k is  3.01016949153\n",
      "accuracy = 0.97 when k is  3.02033898305\n",
      "accuracy = 0.97 when k is  3.03050847458\n",
      "accuracy = 0.97 when k is  3.0406779661\n",
      "accuracy = 0.97 when k is  3.05084745763\n",
      "accuracy = 0.97 when k is  3.06101694915\n",
      "accuracy = 0.97 when k is  3.07118644068\n",
      "accuracy = 0.97 when k is  3.0813559322\n",
      "accuracy = 0.97 when k is  3.09152542373\n",
      "accuracy = 0.97 when k is  3.10169491525\n",
      "accuracy = 0.97 when k is  3.11186440678\n",
      "accuracy = 0.97 when k is  3.12203389831\n",
      "accuracy = 0.97 when k is  3.13220338983\n",
      "accuracy = 0.97 when k is  3.14237288136\n",
      "accuracy = 0.97 when k is  3.15254237288\n",
      "accuracy = 0.97 when k is  3.16271186441\n",
      "accuracy = 0.97 when k is  3.17288135593\n",
      "accuracy = 0.97 when k is  3.18305084746\n",
      "accuracy = 0.97 when k is  3.19322033898\n",
      "accuracy = 0.97 when k is  3.20338983051\n",
      "accuracy = 0.97 when k is  3.21355932203\n",
      "accuracy = 0.97 when k is  3.22372881356\n",
      "accuracy = 0.97 when k is  3.23389830508\n",
      "accuracy = 0.97 when k is  3.24406779661\n",
      "accuracy = 0.97 when k is  3.25423728814\n",
      "accuracy = 0.97 when k is  3.26440677966\n",
      "accuracy = 0.97 when k is  3.27457627119\n",
      "accuracy = 0.97 when k is  3.28474576271\n",
      "accuracy = 0.97 when k is  3.29491525424\n",
      "accuracy = 0.97 when k is  3.30508474576\n",
      "accuracy = 0.97 when k is  3.31525423729\n",
      "accuracy = 0.97 when k is  3.32542372881\n",
      "accuracy = 0.97 when k is  3.33559322034\n",
      "accuracy = 0.97 when k is  3.34576271186\n",
      "accuracy = 0.97 when k is  3.35593220339\n",
      "accuracy = 0.97 when k is  3.36610169492\n",
      "accuracy = 0.97 when k is  3.37627118644\n",
      "accuracy = 0.97 when k is  3.38644067797\n",
      "accuracy = 0.97 when k is  3.39661016949\n",
      "accuracy = 0.97 when k is  3.40677966102\n",
      "accuracy = 0.97 when k is  3.41694915254\n",
      "accuracy = 0.97 when k is  3.42711864407\n",
      "accuracy = 0.97 when k is  3.43728813559\n",
      "accuracy = 0.97 when k is  3.44745762712\n",
      "accuracy = 0.97 when k is  3.45762711864\n",
      "accuracy = 0.97 when k is  3.46779661017\n",
      "accuracy = 0.97 when k is  3.47796610169\n",
      "accuracy = 0.97 when k is  3.48813559322\n",
      "accuracy = 0.97 when k is  3.49830508475\n",
      "accuracy = 0.97 when k is  3.50847457627\n",
      "accuracy = 0.97 when k is  3.5186440678\n",
      "accuracy = 0.97 when k is  3.52881355932\n",
      "accuracy = 0.97 when k is  3.53898305085\n",
      "accuracy = 0.97 when k is  3.54915254237\n",
      "accuracy = 0.97 when k is  3.5593220339\n",
      "accuracy = 0.97 when k is  3.56949152542\n",
      "accuracy = 0.97 when k is  3.57966101695\n",
      "accuracy = 0.97 when k is  3.58983050847\n",
      "accuracy = 0.97 when k is  3.6\n"
     ]
    }
   ],
   "source": [
    "# Laplace smoothing constant\n",
    "k_grid = np.linspace(3.0, 3.6, 60)\n",
    "\n",
    "accuracy = np.zeros(60)\n",
    "\n",
    "for k_index in range(60):\n",
    "    k = k_grid[k_index]\n",
    "    #print(k)\n",
    "    training0, training1 = training(data_yes, data_no, Num_sample_yes, Num_sample_no)\n",
    "    answer = testing(test_yes, test_no, Num_test_yes, Num_test_no)\n",
    "    conf_matrix = confusion_matrix(answer)\n",
    "    overall_accuracy = 0\n",
    "    for i in range(2):\n",
    "        overall_accuracy += conf_matrix[i][i] * 50\n",
    "        accuracy[k_index] = overall_accuracy\n",
    "    print(\"accuracy =\", overall_accuracy/100, \"when k is \", k_grid[k_index])"
   ]
  },
  {
   "cell_type": "code",
   "execution_count": null,
   "metadata": {},
   "outputs": [],
   "source": []
  }
 ],
 "metadata": {
  "kernelspec": {
   "display_name": "Python 3",
   "language": "python",
   "name": "python3"
  },
  "language_info": {
   "codemirror_mode": {
    "name": "ipython",
    "version": 3
   },
   "file_extension": ".py",
   "mimetype": "text/x-python",
   "name": "python",
   "nbconvert_exporter": "python",
   "pygments_lexer": "ipython3",
   "version": "3.6.2"
  }
 },
 "nbformat": 4,
 "nbformat_minor": 2
}
