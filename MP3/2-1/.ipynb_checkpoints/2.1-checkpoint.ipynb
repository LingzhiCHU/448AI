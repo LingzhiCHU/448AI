{
 "cells": [
  {
   "cell_type": "code",
   "execution_count": 1,
   "metadata": {},
   "outputs": [
    {
     "name": "stdout",
     "output_type": "stream",
     "text": [
      "Populating the interactive namespace from numpy and matplotlib\n"
     ]
    }
   ],
   "source": [
    "from __future__ import division\n",
    "%pylab inline\n",
    "import numpy as np\n",
    "import scipy.spatial.distance as dist\n",
    "from scipy import stats\n",
    "import pickle\n",
    "import math\n",
    "import collections\n",
    "import numpy as np"
   ]
  },
  {
   "cell_type": "code",
   "execution_count": 2,
   "metadata": {},
   "outputs": [],
   "source": [
    "# \" \" = high   =  1\n",
    "# \"%\" = low    =  0\n",
    "# len(row) = 10\n",
    "def countNum(name = \"yes_train.txt\"):\n",
    "    with open(name) as dataset:\n",
    "        num_lines = sum(1 for line in dataset)\n",
    "        return num_lines / 28\n",
    "    \n"
   ]
  },
  {
   "cell_type": "markdown",
   "metadata": {},
   "source": [
    "for training "
   ]
  },
  {
   "cell_type": "code",
   "execution_count": 3,
   "metadata": {},
   "outputs": [
    {
     "name": "stdout",
     "output_type": "stream",
     "text": [
      "140.0 131.0\n"
     ]
    }
   ],
   "source": [
    "# label yes = 1\n",
    "# label no = 0\n",
    "Num_sample_yes =  countNum()\n",
    "Num_sample_no =  countNum(\"no_train.txt\")\n",
    "print(Num_sample_yes,Num_sample_no)"
   ]
  },
  {
   "cell_type": "code",
   "execution_count": 4,
   "metadata": {},
   "outputs": [
    {
     "name": "stdout",
     "output_type": "stream",
     "text": [
      "50.0 50.0\n"
     ]
    }
   ],
   "source": [
    "Num_test_yes =  countNum(\"yes_test.txt\")\n",
    "Num_test_no =  countNum(\"no_test.txt\")\n",
    "print(Num_test_yes,Num_test_no)"
   ]
  },
  {
   "cell_type": "code",
   "execution_count": 5,
   "metadata": {},
   "outputs": [],
   "source": [
    "def inputDigit(name=\"yes_train.txt\"):\n",
    "    with open(name) as digitTxt:\n",
    "        image = [list(line)[0:10] for line in digitTxt]\n",
    "    return image"
   ]
  },
  {
   "cell_type": "code",
   "execution_count": 6,
   "metadata": {},
   "outputs": [],
   "source": [
    "data_yes = inputDigit()\n",
    "data_no = inputDigit(\"no_train.txt\")\n",
    "test_yes = inputDigit(\"yes_test.txt\")\n",
    "test_no = inputDigit(\"no_test.txt\")"
   ]
  },
  {
   "cell_type": "code",
   "execution_count": 7,
   "metadata": {},
   "outputs": [],
   "source": [
    "#   yes is class 0\n",
    "#   no is class 1\n",
    "k = 1\n",
    "    \n",
    "def training(yes_train, no_train, yes_num, no_num):\n",
    "    # \" \" = high   =  1\n",
    "    # \"%\" = low    =  0\n",
    "    \n",
    "    class_total = [yes_num, no_num]\n",
    "\n",
    "    training0 = np.zeros(shape=(2, 25, 10))   #high\n",
    "    training1 = np.zeros(shape=(2, 25, 10))   #low\n",
    "\n",
    "    count = 0\n",
    "    for i in range(int(yes_num)):\n",
    "        for row in range(25):\n",
    "            for col in range(10):\n",
    "                if yes_train[i*28 + row][col] == ' ':      # offset = i*28, since 25 + 3(blank rows)\n",
    "                    training1[0][row][col] += 1\n",
    "                else:\n",
    "                    training0[0][row][col] += 1\n",
    "                    \n",
    "    for i in range(int(no_num)):\n",
    "        for row in range(25):\n",
    "            for col in range(10):\n",
    "                if no_train[i*28 + row][col] == ' ':\n",
    "                    training1[1][row][col] += 1\n",
    "                else:\n",
    "                    training0[1][row][col] += 1\n",
    "\n",
    "    # laplace smooth\n",
    "    for i in range(2):\n",
    "        training1[i] = (training1[i] + k) / (class_total[i] + k * 2)\n",
    "        \n",
    "        training0[i] = (training0[i] + k) / (class_total[i] + k * 2)\n",
    "#     print(training0[1][0])\n",
    "#     print(training1[1][0])\n",
    "    return training0, training1"
   ]
  },
  {
   "cell_type": "code",
   "execution_count": 8,
   "metadata": {},
   "outputs": [],
   "source": [
    "training0, training1 = training(data_yes, data_no, Num_sample_yes, Num_sample_no)"
   ]
  },
  {
   "cell_type": "code",
   "execution_count": 9,
   "metadata": {},
   "outputs": [],
   "source": [
    "# log P(class) + log P(f1,1 | class) + log P(f1,2 | class) + ... + log P(f28,28 | class)\n",
    "\n",
    "# test_rough = inputDigit(name = \"digitdata/testimages\")\n",
    "def testing(yes_test, no_test, Num_test_yes, Num_test_no):\n",
    "\n",
    "    data_test = np.concatenate( (yes_test, no_test) , axis = 0 )\n",
    "# #     print len(data_test) / 28\n",
    "#     return \n",
    "\n",
    "    total = Num_test_yes + Num_test_no\n",
    "    answer = np.zeros(int(total))\n",
    "    \n",
    "    class_total = [Num_test_yes, Num_test_no]\n",
    "    \n",
    "    for i in range(int(total)):\n",
    "        test_image = np.zeros(shape=(25,10))\n",
    "        for row in range(25):\n",
    "            for col in range(10):\n",
    "                if data_test[i*28+row][col] == ' ':\n",
    "                    test_image[row][col] = 1\n",
    "                else:\n",
    "                    test_image[row][col] = 0\n",
    "                    \n",
    "\n",
    "        posteriori = np.zeros(2)\n",
    "        for class_num in range(2):\n",
    "            posteriori[class_num] = math.log(class_total[class_num])\n",
    "            for row in range(25):\n",
    "                for col in range(10):\n",
    "                    if test_image[row][col] == 0:\n",
    "                        posteriori[class_num] += math.log(training0[class_num][row][col])\n",
    "                    else:\n",
    "                        posteriori[class_num] += math.log(training1[class_num][row][col] )   \n",
    "        answer[i] = np.argmax(posteriori)\n",
    "\n",
    "    return answer"
   ]
  },
  {
   "cell_type": "code",
   "execution_count": 10,
   "metadata": {},
   "outputs": [],
   "source": [
    "answer = testing(test_yes, test_no, Num_test_yes, Num_test_no)"
   ]
  },
  {
   "cell_type": "code",
   "execution_count": 11,
   "metadata": {},
   "outputs": [],
   "source": [
    "def confusion_matrix(pred):\n",
    "    conf_matrix = np.zeros(shape=(2,2))\n",
    "    #print(conf_matrix[0][0])\n",
    "    #print(int(answer[0]))\n",
    "    for i in range(100):\n",
    "        if i < 50:\n",
    "            conf_matrix[0][int(pred[i])] += 1\n",
    "        else:\n",
    "            conf_matrix[1][int(pred[i])] += 1\n",
    "            \n",
    "    for i in range(2):\n",
    "        for j in range(2):\n",
    "            conf_matrix[i][j] /= 50\n",
    "    \n",
    "    return conf_matrix"
   ]
  },
  {
   "cell_type": "code",
   "execution_count": 12,
   "metadata": {},
   "outputs": [
    {
     "name": "stdout",
     "output_type": "stream",
     "text": [
      "[ 0.98  0.02]\n",
      "[ 0.06  0.94]\n",
      "overall_accuracy = 0.96\n"
     ]
    }
   ],
   "source": [
    "# print confusion matrix\n",
    "conf_matrix = confusion_matrix(answer)\n",
    "conf_matrix = np.around(conf_matrix, 2)\n",
    "for row in conf_matrix:\n",
    "    print(row)\n",
    "overall_accuracy = 0\n",
    "for i in range(2):\n",
    "    overall_accuracy += conf_matrix[i][i] * 50\n",
    "print(\"overall_accuracy = \" + str(overall_accuracy/100))"
   ]
  },
  {
   "cell_type": "markdown",
   "metadata": {},
   "source": [
    "# Now, let's find the best k##"
   ]
  },
  {
   "cell_type": "code",
   "execution_count": 15,
   "metadata": {},
   "outputs": [],
   "source": [
    "# Laplace smoothing constant\n",
    "k1 = np.array([10**(-6), 10**(-5), 10**(-4), 0.001, 0.002, 0.005, 0.01, 0.02, 0.05])\n",
    "k2 = np.linspace(0.1, 10, 100)\n",
    "k_grid = np.append(k1, k2)\n",
    "\n",
    "accuracy = np.zeros(109)"
   ]
  },
  {
   "cell_type": "code",
   "execution_count": 17,
   "metadata": {},
   "outputs": [
    {
     "name": "stdout",
     "output_type": "stream",
     "text": [
      "1e-06\n",
      "1e-05\n",
      "0.0001\n",
      "0.001\n",
      "0.002\n",
      "0.005\n",
      "0.01\n",
      "0.02\n",
      "0.05\n",
      "0.1\n",
      "0.2\n",
      "0.3\n",
      "0.4\n",
      "0.5\n",
      "0.6\n",
      "0.7\n",
      "0.8\n",
      "0.9\n",
      "1.0\n",
      "1.1\n",
      "1.2\n",
      "1.3\n",
      "1.4\n",
      "1.5\n",
      "1.6\n",
      "1.7\n",
      "1.8\n",
      "1.9\n",
      "2.0\n",
      "2.1\n",
      "2.2\n",
      "2.3\n",
      "2.4\n",
      "2.5\n",
      "2.6\n",
      "2.7\n",
      "2.8\n",
      "2.9\n",
      "3.0\n",
      "3.1\n",
      "3.2\n",
      "3.3\n",
      "3.4\n",
      "3.5\n",
      "3.6\n",
      "3.7\n",
      "3.8\n",
      "3.9\n",
      "4.0\n",
      "4.1\n",
      "4.2\n",
      "4.3\n",
      "4.4\n",
      "4.5\n",
      "4.6\n",
      "4.7\n",
      "4.8\n",
      "4.9\n",
      "5.0\n",
      "5.1\n",
      "5.2\n",
      "5.3\n",
      "5.4\n",
      "5.5\n",
      "5.6\n",
      "5.7\n",
      "5.8\n",
      "5.9\n",
      "6.0\n",
      "6.1\n",
      "6.2\n",
      "6.3\n",
      "6.4\n",
      "6.5\n",
      "6.6\n",
      "6.7\n",
      "6.8\n",
      "6.9\n",
      "7.0\n",
      "7.1\n",
      "7.2\n",
      "7.3\n",
      "7.4\n",
      "7.5\n",
      "7.6\n",
      "7.7\n",
      "7.8\n",
      "7.9\n",
      "8.0\n",
      "8.1\n",
      "8.2\n",
      "8.3\n",
      "8.4\n",
      "8.5\n",
      "8.6\n",
      "8.7\n",
      "8.8\n",
      "8.9\n",
      "9.0\n",
      "9.1\n",
      "9.2\n",
      "9.3\n",
      "9.4\n",
      "9.5\n",
      "9.6\n",
      "9.7\n",
      "9.8\n",
      "9.9\n",
      "10.0\n"
     ]
    }
   ],
   "source": [
    "for k_index in range(109):\n",
    "    k = k_grid[k_index]\n",
    "    print(k)\n",
    "    training0, training1 = training(data_yes, data_no, Num_sample_yes, Num_sample_no)\n",
    "    answer = testing(test_yes, test_no, Num_test_yes, Num_test_no)\n",
    "    conf_matrix = confusion_matrix(answer)\n",
    "    overall_accuracy = 0\n",
    "    #for i in range(2):\n",
    "    #    overall_accuracy += conf_matrix[i][i] * 50\n",
    "    #    print(\"overall_accuracy = \" + str(overall_accuracy/100))"
   ]
  },
  {
   "cell_type": "code",
   "execution_count": null,
   "metadata": {},
   "outputs": [],
   "source": []
  }
 ],
 "metadata": {
  "kernelspec": {
   "display_name": "Python 3",
   "language": "python",
   "name": "python3"
  },
  "language_info": {
   "codemirror_mode": {
    "name": "ipython",
    "version": 3
   },
   "file_extension": ".py",
   "mimetype": "text/x-python",
   "name": "python",
   "nbconvert_exporter": "python",
   "pygments_lexer": "ipython3",
   "version": "3.6.2"
  }
 },
 "nbformat": 4,
 "nbformat_minor": 2
}
