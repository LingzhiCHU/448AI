{
 "cells": [
  {
   "cell_type": "code",
   "execution_count": 27,
   "metadata": {},
   "outputs": [],
   "source": [
    "# label: 1,2,3,4,5\n",
    "# tranining set: 60\n",
    "# testing set: 40\n",
    "# data size: 30 * 13\n",
    "# x-axis cepstrums\n",
    "# y-axis frames\n",
    "\n",
    "# \"%\" = low energy = 0\n",
    "# \" \" = high energy = 1\n",
    "\n",
    "# 3 lines separated => [30, 33]\n",
    "\n",
    "# task: overall acc > 80%\n",
    "\n"
   ]
  },
  {
   "cell_type": "code",
   "execution_count": 45,
   "metadata": {},
   "outputs": [
    {
     "name": "stdout",
     "output_type": "stream",
     "text": [
      "Populating the interactive namespace from numpy and matplotlib\n"
     ]
    }
   ],
   "source": [
    "%pylab inline\n",
    "import math\n",
    "import pickle\n",
    "import numpy as np\n",
    "import collections"
   ]
  },
  {
   "cell_type": "code",
   "execution_count": 29,
   "metadata": {},
   "outputs": [],
   "source": [
    "def readRough(name=\"training_labels.txt\"):\n",
    "    with open(name) as label:\n",
    "        labels = []\n",
    "        for line in label:\n",
    "            labels.append(line[0])\n",
    "    return labels"
   ]
  },
  {
   "cell_type": "code",
   "execution_count": 30,
   "metadata": {},
   "outputs": [
    {
     "name": "stdout",
     "output_type": "stream",
     "text": [
      "60\n",
      "[('1', 12), ('2', 12), ('3', 12), ('4', 12), ('5', 12)]\n"
     ]
    }
   ],
   "source": [
    "label = readRough()\n",
    "print (len(label))\n",
    "class_ = sorted(collections.Counter(label).items())\n",
    "print (class_)\n",
    "with open('labelstats.txt', 'wb') as fp:\n",
    "    pickle.dump(class_, fp)"
   ]
  },
  {
   "cell_type": "code",
   "execution_count": 31,
   "metadata": {},
   "outputs": [],
   "source": [
    "def inputDigit(name=\"training_data.txt\"):\n",
    "    with open(name) as digitTxt:\n",
    "        raw_audio = [list(line)[0:13] for line in digitTxt]\n",
    "        rows = len(raw_audio)\n",
    "    return raw_audio"
   ]
  },
  {
   "cell_type": "code",
   "execution_count": 32,
   "metadata": {},
   "outputs": [],
   "source": [
    "with open ('labelstats.txt', 'rb') as fp:\n",
    "    class_ = pickle.load(fp)\n",
    "\n",
    "raw_audio = inputDigit()\n",
    "\n",
    "# label: 1,2,3,4,5\n",
    "# index: 0,1,2,3,4\n",
    "\n",
    "# tranining set: 60\n",
    "# testing set: 40\n",
    "# data size: 30 * 13\n",
    "# x-axis cepstrums\n",
    "# y-axis frames\n",
    "\n",
    "# \"%\" = low energy = 0\n",
    "# \" \" = high energy = 1\n",
    "\n",
    "# 3 lines separated => [30, 33]\n",
    "\n",
    "# task: overall acc > 80%\n",
    "\n",
    "\n",
    "training0=np.zeros(shape=(5, 30, 13))   #low\n",
    "training1=np.zeros(shape=(5, 30, 13))   #high"
   ]
  },
  {
   "cell_type": "code",
   "execution_count": 33,
   "metadata": {},
   "outputs": [],
   "source": [
    "k = 1\n",
    "def training(k):\n",
    "    for i in range(60):\n",
    "        for row in range(30):\n",
    "            for col in range(13):\n",
    "                if raw_audio[i*33 + row][col] == ' ':   #high\n",
    "                    training1[int(label[i]) - 1][row][col] += 1\n",
    "                    training0[int(label[i]) - 1][row][col] += 0\n",
    "                else:\n",
    "                    training1[int(label[i]) - 1][row][col] += 0\n",
    "                    training0[int(label[i]) - 1][row][col] += 1\n",
    "\n",
    "    for i in range(5):\n",
    "        training1[i] = (training1[i] + k) / (class_[i][1] + k * 2)\n",
    "        training0[i] = (training0[i] + k) / (class_[i][1] + k * 2)\n",
    "    #print(training0[0][0])\n",
    "    #print(training1[0][0])\n",
    "    return training0, training1\n"
   ]
  },
  {
   "cell_type": "code",
   "execution_count": 34,
   "metadata": {},
   "outputs": [],
   "source": [
    "training0, training1 = training(k)"
   ]
  },
  {
   "cell_type": "code",
   "execution_count": 35,
   "metadata": {},
   "outputs": [],
   "source": [
    "test_rough = inputDigit(name = \"testing_data.txt\")\n",
    "def testing(training0, training1):\n",
    "    \n",
    "    answer = np.zeros(40)\n",
    "    for i in range(40):\n",
    "        test_image = np.zeros(shape=(30,13))\n",
    "        for row in range(30):\n",
    "            for col in range(13):\n",
    "                if test_rough[i*33+row][col] == ' ': #high\n",
    "                    test_image[row][col] = 1\n",
    "                else:\n",
    "                    test_image[row][col] = 0\n",
    "\n",
    "        posteriori = np.zeros(5)\n",
    "        for class_num in range(5):\n",
    "            posteriori[class_num] = math.log(class_[class_num][1])\n",
    "            for row in range(30):\n",
    "                for col in range(13):\n",
    "                    if test_image[row][col] == 0:   #low\n",
    "                        posteriori[class_num] += math.log(training0[class_num][row][col])\n",
    "                    else:\n",
    "                        posteriori[class_num] += math.log(training1[class_num][row][col] )   \n",
    "        answer[i] = np.argmax(posteriori) + 1\n",
    "\n",
    "    return answer\n",
    "\n"
   ]
  },
  {
   "cell_type": "code",
   "execution_count": 36,
   "metadata": {},
   "outputs": [],
   "source": [
    "answer = testing(training0, training1)"
   ]
  },
  {
   "cell_type": "code",
   "execution_count": 37,
   "metadata": {},
   "outputs": [],
   "source": [
    "testlabels = readRough(\"testing_labels.txt\")\n"
   ]
  },
  {
   "cell_type": "code",
   "execution_count": 38,
   "metadata": {},
   "outputs": [],
   "source": [
    "def confusion_matrix():\n",
    "    num_each_class = np.zeros(5)\n",
    "    conf_matrix = np.zeros(shape=(5,5))\n",
    "    for i in range(40):\n",
    "        conf_matrix[int(testlabels[i])-1][int(answer[i])-1] += 1\n",
    "        num_each_class[int(testlabels[i])-1] += 1\n",
    "            \n",
    "    for i in range(5):\n",
    "        for j in range(5):\n",
    "            conf_matrix[i][j] /= num_each_class[i]\n",
    "    \n",
    "    return conf_matrix"
   ]
  },
  {
   "cell_type": "code",
   "execution_count": 39,
   "metadata": {},
   "outputs": [
    {
     "name": "stdout",
     "output_type": "stream",
     "text": [
      "[ 0.88  0.    0.    0.    0.12]\n",
      "[ 0.  1.  0.  0.  0.]\n",
      "[ 0.  0.  1.  0.  0.]\n",
      "[ 0.    0.38  0.    0.62  0.  ]\n",
      "[ 0.12  0.    0.12  0.    0.75]\n",
      "0.85\n"
     ]
    }
   ],
   "source": [
    "conf_matrix = confusion_matrix()\n",
    "conf_matrix = np.around(conf_matrix, 2)\n",
    "for row in conf_matrix:\n",
    "    print(row)\n",
    "diag_sum = 0\n",
    "for i in range(5):\n",
    "    diag_sum += conf_matrix[i][i]\n",
    "print(diag_sum / 5)"
   ]
  },
  {
   "cell_type": "code",
   "execution_count": null,
   "metadata": {},
   "outputs": [
    {
     "name": "stdout",
     "output_type": "stream",
     "text": [
      "accuracy = 0.824 when k is  0.0\n",
      "accuracy = 0.876 when k is  1e-06\n",
      "accuracy = 0.876 when k is  1e-05\n",
      "accuracy = 0.876 when k is  0.0001\n",
      "accuracy = 0.876 when k is  0.001\n",
      "accuracy = 0.876 when k is  0.002\n",
      "accuracy = 0.876 when k is  0.005\n",
      "accuracy = 0.876 when k is  0.01\n",
      "accuracy = 0.876 when k is  0.02\n",
      "accuracy = 0.85 when k is  0.05\n",
      "accuracy = 0.85 when k is  0.1\n",
      "accuracy = 0.824 when k is  0.2\n",
      "accuracy = 0.824 when k is  0.3\n",
      "accuracy = 0.824 when k is  0.4\n",
      "accuracy = 0.85 when k is  0.5\n",
      "accuracy = 0.85 when k is  0.6\n",
      "accuracy = 0.85 when k is  0.7\n",
      "accuracy = 0.85 when k is  0.8\n",
      "accuracy = 0.85 when k is  0.9\n",
      "accuracy = 0.85 when k is  1.0\n",
      "accuracy = 0.85 when k is  1.1\n",
      "accuracy = 0.876 when k is  1.2\n",
      "accuracy = 0.876 when k is  1.3\n",
      "accuracy = 0.876 when k is  1.4\n",
      "accuracy = 0.876 when k is  1.5\n",
      "accuracy = 0.876 when k is  1.6\n",
      "accuracy = 0.876 when k is  1.7\n",
      "accuracy = 0.876 when k is  1.8\n",
      "accuracy = 0.876 when k is  1.9\n",
      "accuracy = 0.876 when k is  2.0\n",
      "accuracy = 0.876 when k is  2.1\n",
      "accuracy = 0.876 when k is  2.2\n",
      "accuracy = 0.876 when k is  2.3\n",
      "accuracy = 0.876 when k is  2.4\n",
      "accuracy = 0.876 when k is  2.5\n",
      "accuracy = 0.876 when k is  2.6\n",
      "accuracy = 0.876 when k is  2.7\n",
      "accuracy = 0.876 when k is  2.8\n",
      "accuracy = 0.876 when k is  2.9\n",
      "accuracy = 0.876 when k is  3.0\n",
      "accuracy = 0.876 when k is  3.1\n",
      "accuracy = 0.876 when k is  3.2\n",
      "accuracy = 0.876 when k is  3.3\n",
      "accuracy = 0.876 when k is  3.4\n",
      "accuracy = 0.876 when k is  3.5\n",
      "accuracy = 0.876 when k is  3.6\n",
      "accuracy = 0.876 when k is  3.7\n",
      "accuracy = 0.876 when k is  3.8\n",
      "accuracy = 0.876 when k is  3.9\n",
      "accuracy = 0.876 when k is  4.0\n",
      "accuracy = 0.876 when k is  4.1\n",
      "accuracy = 0.876 when k is  4.2\n",
      "accuracy = 0.876 when k is  4.3\n",
      "accuracy = 0.876 when k is  4.4\n",
      "accuracy = 0.876 when k is  4.5\n",
      "accuracy = 0.876 when k is  4.6\n",
      "accuracy = 0.876 when k is  4.7\n",
      "accuracy = 0.876 when k is  4.8\n",
      "accuracy = 0.876 when k is  4.9\n",
      "accuracy = 0.876 when k is  5.0\n",
      "accuracy = 0.876 when k is  5.1\n",
      "accuracy = 0.876 when k is  5.2\n",
      "accuracy = 0.876 when k is  5.3\n",
      "accuracy = 0.876 when k is  5.4\n",
      "accuracy = 0.876 when k is  5.5\n",
      "accuracy = 0.876 when k is  5.6\n",
      "accuracy = 0.876 when k is  5.7\n",
      "accuracy = 0.876 when k is  5.8\n",
      "accuracy = 0.876 when k is  5.9\n",
      "accuracy = 0.876 when k is  6.0\n",
      "accuracy = 0.876 when k is  6.1\n",
      "accuracy = 0.876 when k is  6.2\n",
      "accuracy = 0.876 when k is  6.3\n",
      "accuracy = 0.876 when k is  6.4\n",
      "accuracy = 0.876 when k is  6.5\n",
      "accuracy = 0.876 when k is  6.6\n",
      "accuracy = 0.876 when k is  6.7\n",
      "accuracy = 0.876 when k is  6.8\n",
      "accuracy = 0.876 when k is  6.9\n",
      "accuracy = 0.876 when k is  7.0\n",
      "accuracy = 0.876 when k is  7.1\n",
      "accuracy = 0.876 when k is  7.2\n",
      "accuracy = 0.876 when k is  7.3\n",
      "accuracy = 0.876 when k is  7.4\n",
      "accuracy = 0.876 when k is  7.5\n",
      "accuracy = 0.876 when k is  7.6\n",
      "accuracy = 0.876 when k is  7.7\n",
      "accuracy = 0.876 when k is  7.8\n",
      "accuracy = 0.876 when k is  7.9\n",
      "accuracy = 0.876 when k is  8.0\n",
      "accuracy = 0.876 when k is  8.1\n",
      "accuracy = 0.876 when k is  8.2\n",
      "accuracy = 0.876 when k is  8.3\n",
      "accuracy = 0.876 when k is  8.4\n",
      "accuracy = 0.876 when k is  8.5\n"
     ]
    }
   ],
   "source": [
    "# Laplace smoothing constant\n",
    "k1 = np.array([0, 10**(-6), 10**(-5), 10**(-4), 0.001, 0.002, 0.005, 0.01, 0.02, 0.05])\n",
    "k2 = np.linspace(0.1, 10, 100)\n",
    "k_grid = np.append(k1, k2)\n",
    "\n",
    "accuracy = np.zeros(110)\n",
    "\n",
    "for k_index in range(110):\n",
    "    k = k_grid[k_index]\n",
    "    training0, training1 = training(k)\n",
    "    answer = testing(training0, training1)\n",
    "    conf_matrix = confusion_matrix()\n",
    "    conf_matrix = np.around(conf_matrix, 2)\n",
    "    #for row in conf_matrix:\n",
    "    #    print(row)\n",
    "    diag_sum = 0\n",
    "    for i in range(5):\n",
    "        diag_sum += conf_matrix[i][i]\n",
    "    accuracy[k_index] = diag_sum / 5\n",
    "    print(\"accuracy =\", diag_sum / 5, \"when k is \", k_grid[k_index])"
   ]
  },
  {
   "cell_type": "code",
   "execution_count": 46,
   "metadata": {},
   "outputs": [
    {
     "data": {
      "text/plain": [
       "<matplotlib.text.Text at 0x7f65bf971630>"
      ]
     },
     "execution_count": 46,
     "metadata": {},
     "output_type": "execute_result"
    },
    {
     "data": {
      "image/png": "[encoded data removed]",
      "text/plain": [
       "<matplotlib.figure.Figure at 0x7f65c1a020f0>"
      ]
     },
     "metadata": {},
     "output_type": "display_data"
    }
   ],
   "source": [
    "%matplotlib inline\n",
    "plt.figure()\n",
    "ax = plt.gca()\n",
    "#ax.set_xscale('log')\n",
    "plt.scatter(k_grid[5:], accuracy[5:], label = 'f(x)')\n",
    "plt.xlabel(\"k\")\n",
    "plt.ylabel(\"Accuracy (percent)\")\n",
    "plt.title(\"Accuracy vs smoothing constant k\")"
   ]
  },
  {
   "cell_type": "code",
   "execution_count": null,
   "metadata": {},
   "outputs": [],
   "source": []
  }
 ],
 "metadata": {
  "kernelspec": {
   "display_name": "Python 3",
   "language": "python",
   "name": "python3"
  },
  "language_info": {
   "codemirror_mode": {
    "name": "ipython",
    "version": 3
   },
   "file_extension": ".py",
   "mimetype": "text/x-python",
   "name": "python",
   "nbconvert_exporter": "python",
   "pygments_lexer": "ipython3",
   "version": "3.6.2"
  }
 },
 "nbformat": 4,
 "nbformat_minor": 2
}
