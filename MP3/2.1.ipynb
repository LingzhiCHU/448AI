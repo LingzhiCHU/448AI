{
 "cells": [
  {
   "cell_type": "code",
   "execution_count": null,
   "metadata": {
    "collapsed": true
   },
   "outputs": [],
   "source": [
    "from __future__ import division\n",
    "%pylab inline\n",
    "import numpy as np\n",
    "import scipy.spatial.distance as dist\n",
    "from scipy import stats\n",
    "import pickle\n",
    "import math\n",
    "import collections\n",
    "import numpy as np"
   ]
  },
  {
   "cell_type": "code",
   "execution_count": null,
   "metadata": {
    "collapsed": true
   },
   "outputs": [],
   "source": [
    "def readRough(name=\"traininglabels\"):\n",
    "    with open(name) as label:\n",
    "        labels = []\n",
    "        for line in label:\n",
    "            labels.append(line[0])\n",
    "    return labels"
   ]
  },
  {
   "cell_type": "code",
   "execution_count": null,
   "metadata": {
    "collapsed": true
   },
   "outputs": [],
   "source": [
    "label = readRough()\n",
    "print len(label)\n",
    "class_ = sorted(collections.Counter(label).items())\n",
    "print class_"
   ]
  },
  {
   "cell_type": "code",
   "execution_count": null,
   "metadata": {
    "collapsed": true
   },
   "outputs": [],
   "source": [
    "with open('labelstats.txt', 'wb') as fp:\n",
    "    pickle.dump(class_, fp)"
   ]
  },
  {
   "cell_type": "code",
   "execution_count": null,
   "metadata": {
    "collapsed": true
   },
   "outputs": [],
   "source": [
    "with open ('labelstats.txt', 'rb') as fp:\n",
    "    class_ = pickle.load(fp)"
   ]
  },
  {
   "cell_type": "code",
   "execution_count": null,
   "metadata": {
    "collapsed": true
   },
   "outputs": [],
   "source": [
    "print class_"
   ]
  },
  {
   "cell_type": "code",
   "execution_count": null,
   "metadata": {
    "collapsed": true
   },
   "outputs": [],
   "source": [
    "def inputDigit(name=\"trainingimages\"):\n",
    "    with open(name) as digitTxt:\n",
    "        image = [list(line)[0:28] for line in digitTxt]\n",
    "        rows = len(image)\n",
    "    return image\n"
   ]
  },
  {
   "cell_type": "code",
   "execution_count": null,
   "metadata": {
    "collapsed": true
   },
   "outputs": [],
   "source": [
    "data_training = inputDigit()"
   ]
  },
  {
   "cell_type": "code",
   "execution_count": 12,
   "metadata": {
    "collapsed": true
   },
   "outputs": [],
   "source": [
    "# \" \" = high   =  1\n",
    "# \"%\" = low    =  0\n",
    "# len(row) = 10\n",
    "def countNum(name = \"yes_train.txt\"):\n",
    "    with open(name) as dataset:\n",
    "        num_lines = sum(1 for line in dataset)\n",
    "        return num_lines / 28\n",
    "    \n"
   ]
  },
  {
   "cell_type": "markdown",
   "metadata": {},
   "source": [
    "for training "
   ]
  },
  {
   "cell_type": "code",
   "execution_count": 13,
   "metadata": {},
   "outputs": [
    {
     "name": "stdout",
     "output_type": "stream",
     "text": [
      "140 131\n"
     ]
    }
   ],
   "source": [
    "# label yes = 1\n",
    "# label no = 0\n",
    "Num_sample_yes =  countNum()\n",
    "Num_sample_no =  countNum(\"no_train.txt\")\n",
    "print Num_sample_yes,Num_sample_no"
   ]
  },
  {
   "cell_type": "code",
   "execution_count": 57,
   "metadata": {},
   "outputs": [
    {
     "name": "stdout",
     "output_type": "stream",
     "text": [
      "50 50\n"
     ]
    }
   ],
   "source": [
    "Num_test_yes =  countNum(\"yes_test.txt\")\n",
    "Num_test_no =  countNum(\"no_test.txt\")\n",
    "print Num_test_yes,Num_test_no"
   ]
  },
  {
   "cell_type": "code",
   "execution_count": 35,
   "metadata": {
    "collapsed": true
   },
   "outputs": [],
   "source": [
    "def inputDigit(name=\"yes_train.txt\"):\n",
    "    with open(name) as digitTxt:\n",
    "        image = [list(line)[0:10] for line in digitTxt]\n",
    "    return image"
   ]
  },
  {
   "cell_type": "code",
   "execution_count": 37,
   "metadata": {},
   "outputs": [],
   "source": [
    "data_yes = inputDigit()\n",
    "data_no = inputDigit(\"no_train.txt\")\n",
    "test_yes = inputDigit(\"yes_test.txt\")\n",
    "test_no = inputDigit(\"no_test.txt\")"
   ]
  },
  {
   "cell_type": "code",
   "execution_count": 90,
   "metadata": {},
   "outputs": [],
   "source": [
    "#   yes is class 0\n",
    "#   no is class 1\n",
    "k = 10\n",
    "    \n",
    "def training(yes_train, no_train, yes_num, no_num):\n",
    "    # \" \" = high   =  1\n",
    "    # \"%\" = low    =  0\n",
    "    \n",
    "    class_total = [yes_num, no_num]\n",
    "\n",
    "    training0 = np.zeros(shape=(2, 25, 10))   #high\n",
    "    training1 = np.zeros(shape=(2, 25, 10))   #low\n",
    "\n",
    "    count = 0\n",
    "    for i in range(yes_num):\n",
    "        for row in range(25):\n",
    "            for col in range(10):\n",
    "                if yes_train[i*28 + row][col] == ' ':\n",
    "                    training1[0][row][col] += 0\n",
    "                    training0[0][row][col] += 1\n",
    "                else:\n",
    "                    training1[0][row][col] += 1\n",
    "                    training0[0][row][col] += 0\n",
    "                    \n",
    "    for i in range(no_num):\n",
    "        for row in range(25):\n",
    "            for col in range(10):\n",
    "                if no_train[i*28 + row][col] == ' ':\n",
    "                    training1[1][row][col] += 0\n",
    "                    training0[1][row][col] += 1\n",
    "                else:\n",
    "                    training1[1][row][col] += 1\n",
    "                    training0[1][row][col] += 0\n",
    "\n",
    "    for i in range(2):\n",
    "        training1[i] = (training1[i] + k) / (class_total[i] + k * 2)\n",
    "        training0[i] = (training0[i] + k) / (class_total[i] + k * 2)\n",
    "#     print(training0[1][0])\n",
    "#     print(training1[1][0])\n",
    "    \n",
    "    return training0, training1"
   ]
  },
  {
   "cell_type": "code",
   "execution_count": 91,
   "metadata": {},
   "outputs": [],
   "source": [
    "training0, training1 = training(data_yes, data_no, Num_sample_yes, Num_sample_no)"
   ]
  },
  {
   "cell_type": "code",
   "execution_count": 92,
   "metadata": {
    "collapsed": true
   },
   "outputs": [],
   "source": [
    "# log P(class) + log P(f1,1 | class) + log P(f1,2 | class) + ... + log P(f28,28 | class)\n",
    "\n",
    "# test_rough = inputDigit(name = \"digitdata/testimages\")\n",
    "def testing(yes_test, no_test, Num_test_yes, Num_test_no):\n",
    "\n",
    "    data_test = np.concatenate( (yes_test, no_test) , axis = 0 )\n",
    "# #     print len(data_test) / 28\n",
    "#     return \n",
    "\n",
    "    total = Num_test_yes + Num_test_no\n",
    "    answer = np.zeros(total)\n",
    "    \n",
    "    class_total = [Num_test_yes, Num_test_no]\n",
    "    \n",
    "    for i in range(total):\n",
    "        test_image = np.zeros(shape=(25,10))\n",
    "        for row in range(25):\n",
    "            for col in range(10):\n",
    "                if data_test[i*28+row][col] == ' ':\n",
    "                    test_image[row][col] = 1\n",
    "                else:\n",
    "                    test_image[row][col] = 0\n",
    "                    \n",
    "\n",
    "        posteriori = np.zeros(2)\n",
    "        for class_num in range(2):\n",
    "            posteriori[class_num] = math.log(class_total[class_num])\n",
    "            for row in range(25):\n",
    "                for col in range(10):\n",
    "                    if test_image[row][col] == 0:\n",
    "                        posteriori[class_num] += math.log(training0[class_num][row][col])\n",
    "                    else:\n",
    "                        posteriori[class_num] += math.log(training1[class_num][row][col] )   \n",
    "        answer[i] = np.argmax(posteriori)\n",
    "\n",
    "    print(answer)\n",
    "\n"
   ]
  },
  {
   "cell_type": "code",
   "execution_count": 93,
   "metadata": {},
   "outputs": [
    {
     "name": "stdout",
     "output_type": "stream",
     "text": [
      "[ 1.  1.  0.  0.  0.  1.  0.  1.  1.  1.  1.  1.  1.  1.  1.  1.  1.  1.\n",
      "  0.  1.  1.  1.  1.  0.  1.  1.  1.  1.  1.  1.  1.  1.  1.  1.  0.  1.\n",
      "  1.  1.  0.  1.  0.  1.  1.  1.  1.  1.  1.  1.  1.  1.  0.  0.  1.  0.\n",
      "  0.  0.  1.  0.  0.  0.  0.  0.  0.  0.  0.  0.  0.  0.  0.  0.  0.  0.\n",
      "  0.  0.  0.  0.  0.  0.  0.  0.  0.  0.  0.  0.  0.  0.  0.  0.  0.  0.\n",
      "  0.  0.  0.  0.  0.  0.  0.  0.  0.  0.]\n"
     ]
    }
   ],
   "source": [
    "testing(test_yes, test_no, Num_test_yes, Num_test_no)"
   ]
  },
  {
   "cell_type": "code",
   "execution_count": null,
   "metadata": {
    "collapsed": true
   },
   "outputs": [],
   "source": [
    "print()"
   ]
  },
  {
   "cell_type": "code",
   "execution_count": 33,
   "metadata": {},
   "outputs": [],
   "source": [
    "\n",
    "# def preprossesData(Num_sample, name=\"yes_train.txt\"):\n",
    "#     with open(name) as rowdata:\n",
    "#         dataset = np.zeros((Num_sample,250))\n",
    "#         row = 0\n",
    "#         ele_count = 0\n",
    "#         for line in rowdata:\n",
    "#             for i in range(10):\n",
    "#                 if ele_count == 249:\n",
    "#                     ele_count = 0\n",
    "#                 ele_count += 1\n",
    "#                 if line[i] == \" \":\n",
    "#                     dataset[row][ele_count] = 1\n",
    "#                 elif line[i] == \"%\":\n",
    "#                     dataset[row][ele_count] = 0\n",
    "            \n",
    "#             row += 1\n",
    "            \n",
    "#     return image\n"
   ]
  },
  {
   "cell_type": "code",
   "execution_count": 32,
   "metadata": {},
   "outputs": [],
   "source": [
    "# print preprossesData(Num_sample_yes,\"yes_train.txt\")"
   ]
  }
 ],
 "metadata": {
  "kernelspec": {
   "display_name": "Python 2",
   "language": "python",
   "name": "python2"
  },
  "language_info": {
   "codemirror_mode": {
    "name": "ipython",
    "version": 2
   },
   "file_extension": ".py",
   "mimetype": "text/x-python",
   "name": "python",
   "nbconvert_exporter": "python",
   "pygments_lexer": "ipython2",
   "version": "2.7.13"
  }
 },
 "nbformat": 4,
 "nbformat_minor": 2
}
