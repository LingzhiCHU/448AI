{
 "cells": [
  {
   "cell_type": "code",
   "execution_count": 26,
   "metadata": {
    "collapsed": true
   },
   "outputs": [],
   "source": [
    "import sys\n",
    "import math\n",
    "import pickle\n",
    "import numpy as np\n",
    "\n",
    "k = 2\n",
    "sys.setrecursionlimit(1500)"
   ]
  },
  {
   "cell_type": "code",
   "execution_count": 27,
   "metadata": {
    "collapsed": true
   },
   "outputs": [],
   "source": [
    "def inputDigit(name=\"digitdata/trainingimages\"):\n",
    "    with open(name) as digitTxt:\n",
    "        image = [list(line)[0:28] for line in digitTxt]\n",
    "        rows = len(image)\n",
    "    return image"
   ]
  },
  {
   "cell_type": "code",
   "execution_count": 28,
   "metadata": {
    "collapsed": false
   },
   "outputs": [
    {
     "name": "stdout",
     "output_type": "stream",
     "text": [
      "140000\n",
      "28\n"
     ]
    }
   ],
   "source": [
    "digitImage = inputDigit()\n",
    "print(len(digitImage))\n",
    "print(len(digitImage[139999]))"
   ]
  },
  {
   "cell_type": "code",
   "execution_count": 29,
   "metadata": {
    "collapsed": true
   },
   "outputs": [],
   "source": [
    "import collections\n",
    "\n",
    "def readRough(name=\"digitdata/traininglabels\"):\n",
    "    with open(name) as label:\n",
    "        labels = []\n",
    "        for line in label:\n",
    "            labels.append(line[0])\n",
    "    return labels\n"
   ]
  },
  {
   "cell_type": "code",
   "execution_count": 30,
   "metadata": {
    "collapsed": false
   },
   "outputs": [
    {
     "name": "stdout",
     "output_type": "stream",
     "text": [
      "5000\n",
      "[('0', 479), ('1', 563), ('2', 488), ('3', 493), ('4', 535), ('5', 434), ('6', 501), ('7', 550), ('8', 462), ('9', 495)]\n"
     ]
    }
   ],
   "source": [
    "label = readRough()\n",
    "print (len(label))\n",
    "#print sorted(collections.Counter(label).items())\n",
    "class_ = sorted(collections.Counter(label).items())\n",
    "print (class_)\n",
    "with open('labelstats.txt', 'wb') as fp:\n",
    "    pickle.dump(class_, fp)"
   ]
  },
  {
   "cell_type": "code",
   "execution_count": 31,
   "metadata": {
    "collapsed": false
   },
   "outputs": [
    {
     "name": "stdout",
     "output_type": "stream",
     "text": [
      "[ 0.99585921  0.99585921  0.99585921  0.99585921  0.99585921  0.99585921\n",
      "  0.99585921  0.99585921  0.99585921  0.99585921  0.99585921  0.99585921\n",
      "  0.99585921  0.99585921  0.99585921  0.99585921  0.99585921  0.99585921\n",
      "  0.99585921  0.99585921  0.99585921  0.99585921  0.99585921  0.99585921\n",
      "  0.99585921  0.99585921  0.99585921  0.99585921]\n",
      "[ 0.00414079  0.00414079  0.00414079  0.00414079  0.00414079  0.00414079\n",
      "  0.00414079  0.00414079  0.00414079  0.00414079  0.00414079  0.00414079\n",
      "  0.00414079  0.00414079  0.00414079  0.00414079  0.00414079  0.00414079\n",
      "  0.00414079  0.00414079  0.00414079  0.00414079  0.00414079  0.00414079\n",
      "  0.00414079  0.00414079  0.00414079  0.00414079]\n"
     ]
    }
   ],
   "source": [
    "with open ('labelstats.txt', 'rb') as fp:\n",
    "    class_ = pickle.load(fp)\n",
    "\n",
    "digitImage = inputDigit()\n",
    "training0=np.zeros(shape=(10, 28, 28))\n",
    "training1=np.zeros(shape=(10, 28, 28))\n",
    "\n",
    "count = 0\n",
    "for i in range(5000):\n",
    "    for row in range(28):\n",
    "        for col in range(28):\n",
    "            if digitImage[i*28 + row][col] == ' ':\n",
    "                training1[int(label[i])][row][col] += 0\n",
    "                training0[int(label[i])][row][col] += 1\n",
    "            else:\n",
    "                training1[int(label[i])][row][col] += 1\n",
    "                training0[int(label[i])][row][col] += 0\n",
    "\n",
    "for i in range(10):\n",
    "    training1[i] = (training1[i] + k) / (class_[i][1] + k * 2)\n",
    "    training0[i] = (training0[i] + k) / (class_[i][1] + k * 2)\n",
    "print(training0[0][0])\n",
    "print(training1[0][0])\n",
    "\n"
   ]
  },
  {
   "cell_type": "code",
   "execution_count": null,
   "metadata": {
    "collapsed": false
   },
   "outputs": [],
   "source": [
    "# log P(class) + log P(f1,1 | class) + log P(f1,2 | class) + ... + log P(f28,28 | class)\n",
    "\n",
    "test_rough = inputDigit(name = \"digitdata/testimages\")\n",
    "\n",
    "answer = np.zeros(1000)\n",
    "for i in range(1000):\n",
    "    test_image = np.zeros(shape=(28,28))\n",
    "    for row in range(28):\n",
    "        for col in range(28):\n",
    "            if test_rough[i*28+row][col] == ' ':\n",
    "                test_image[row][col] = 0\n",
    "            else:\n",
    "                test_image[row][col] = 1\n",
    "             \n",
    "    posteriori = np.zeros(10)\n",
    "    for class_num in range(10):\n",
    "        posteriori[class_num] = math.log(class_[class_num][1])\n",
    "        for row in range(28):\n",
    "            for col in range(28):\n",
    "                if test_image[row][col] == 0:\n",
    "                    posteriori[class_num] += math.log(training0[class_num][row][col])\n",
    "                else:\n",
    "                    posteriori[class_num] += math.log(training1[class_num][row][col] )   \n",
    "    answer[i] = np.argmax(posteriori)\n",
    "    \n",
    "print(answer)\n",
    "\n"
   ]
  },
  {
   "cell_type": "code",
   "execution_count": 33,
   "metadata": {
    "collapsed": false
   },
   "outputs": [],
   "source": [
    "testlabels = readRough(\"digitdata/testlabels\")\n"
   ]
  },
  {
   "cell_type": "code",
   "execution_count": 34,
   "metadata": {
    "collapsed": false
   },
   "outputs": [],
   "source": [
    "def confusion_matrix():\n",
    "    num_each_class = np.zeros(10)\n",
    "    conf_matrix = np.zeros(shape=(10,10))\n",
    "    for i in range(1000):\n",
    "        conf_matrix[int(testlabels[i])][int(answer[i])] += 1\n",
    "        num_each_class[int(testlabels[i])] += 1\n",
    "            \n",
    "    for i in range(10):\n",
    "        for j in range(10):\n",
    "            conf_matrix[i][j] /= num_each_class[i]\n",
    "    \n",
    "    return conf_matrix"
   ]
  },
  {
   "cell_type": "code",
   "execution_count": 35,
   "metadata": {
    "collapsed": false
   },
   "outputs": [
    {
     "name": "stdout",
     "output_type": "stream",
     "text": [
      "[ 0.78  0.    0.    0.01  0.    0.01  0.13  0.    0.03  0.03]\n",
      "[ 0.  1.  0.  0.  0.  0.  0.  0.  0.  0.]\n",
      "[ 0.02  0.57  0.25  0.03  0.01  0.    0.07  0.02  0.02  0.01]\n",
      "[ 0.    0.42  0.    0.49  0.    0.    0.01  0.06  0.01  0.01]\n",
      "[ 0.    0.18  0.    0.    0.57  0.    0.03  0.    0.    0.22]\n",
      "[ 0.03  0.34  0.    0.22  0.04  0.11  0.04  0.03  0.03  0.15]\n",
      "[ 0.    0.31  0.    0.    0.07  0.    0.63  0.    0.    0.  ]\n",
      "[ 0.    0.32  0.    0.    0.02  0.    0.    0.57  0.01  0.08]\n",
      "[ 0.02  0.46  0.    0.06  0.01  0.    0.04  0.02  0.25  0.15]\n",
      "[ 0.01  0.11  0.    0.01  0.04  0.    0.    0.01  0.01  0.81]\n",
      "5.46\n"
     ]
    }
   ],
   "source": [
    "conf_matrix = confusion_matrix()\n",
    "conf_matrix = np.around(conf_matrix, 2)\n",
    "for row in conf_matrix:\n",
    "    print(row)\n",
    "diag_sum = 0\n",
    "for i in range(10):\n",
    "    diag_sum += conf_matrix[i][i]\n",
    "print(diag_sum)"
   ]
  },
  {
   "cell_type": "code",
   "execution_count": null,
   "metadata": {
    "collapsed": true
   },
   "outputs": [],
   "source": []
  },
  {
   "cell_type": "code",
   "execution_count": null,
   "metadata": {
    "collapsed": true
   },
   "outputs": [],
   "source": []
  }
 ],
 "metadata": {
  "kernelspec": {
   "display_name": "Python 3",
   "language": "python",
   "name": "python3"
  },
  "language_info": {
   "codemirror_mode": {
    "name": "ipython",
    "version": 3
   },
   "file_extension": ".py",
   "mimetype": "text/x-python",
   "name": "python",
   "nbconvert_exporter": "python",
   "pygments_lexer": "ipython3",
   "version": "3.6.0"
  }
 },
 "nbformat": 4,
 "nbformat_minor": 2
}
