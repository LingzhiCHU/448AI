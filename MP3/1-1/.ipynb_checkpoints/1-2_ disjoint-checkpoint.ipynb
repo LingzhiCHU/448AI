{
 "cells": [
  {
   "cell_type": "code",
   "execution_count": 2,
   "metadata": {
    "collapsed": true
   },
   "outputs": [],
   "source": [
    "import sys\n",
    "import math\n",
    "import pickle\n",
    "import numpy as np\n",
    "\n",
    "k = 0.1\n",
    "n = 3\n",
    "m = 2\n",
    "\n",
    "sys.setrecursionlimit(1500)"
   ]
  },
  {
   "cell_type": "code",
   "execution_count": 3,
   "metadata": {
    "collapsed": true
   },
   "outputs": [],
   "source": [
    "def inputDigit(name=\"digitdata/trainingimages\"):\n",
    "    with open(name) as digitTxt:\n",
    "        image = [list(line)[0:28] for line in digitTxt]\n",
    "        rows = len(image)\n",
    "    return image"
   ]
  },
  {
   "cell_type": "code",
   "execution_count": 4,
   "metadata": {
    "collapsed": false
   },
   "outputs": [],
   "source": [
    "digitImage = inputDigit()"
   ]
  },
  {
   "cell_type": "code",
   "execution_count": 5,
   "metadata": {
    "collapsed": true
   },
   "outputs": [],
   "source": [
    "import collections\n",
    "\n",
    "def readRough(name=\"digitdata/traininglabels\"):\n",
    "    with open(name) as label:\n",
    "        labels = []\n",
    "        for line in label:\n",
    "            labels.append(line[0])\n",
    "    return labels\n"
   ]
  },
  {
   "cell_type": "code",
   "execution_count": 6,
   "metadata": {
    "collapsed": false
   },
   "outputs": [
    {
     "name": "stdout",
     "output_type": "stream",
     "text": [
      "5000\n"
     ]
    }
   ],
   "source": [
    "label = readRough()\n",
    "print (len(label))\n",
    "#print sorted(collections.Counter(label).items())\n",
    "class_ = sorted(collections.Counter(label).items())\n",
    "#print (class_)\n",
    "with open('labelstats.txt', 'wb') as fp:\n",
    "    pickle.dump(class_, fp)"
   ]
  },
  {
   "cell_type": "code",
   "execution_count": 7,
   "metadata": {
    "collapsed": false
   },
   "outputs": [
    {
     "name": "stdout",
     "output_type": "stream",
     "text": [
      "[[  9.87021014e-01   2.06015657e-04   2.06015657e-04 ...,   2.06015657e-04\n",
      "    2.06015657e-04   2.06015657e-04]\n",
      " [  9.87021014e-01   2.06015657e-04   2.06015657e-04 ...,   2.06015657e-04\n",
      "    2.06015657e-04   2.06015657e-04]\n",
      " [  9.87021014e-01   2.06015657e-04   2.06015657e-04 ...,   2.06015657e-04\n",
      "    2.06015657e-04   2.06015657e-04]\n",
      " ..., \n",
      " [  9.87021014e-01   2.06015657e-04   2.06015657e-04 ...,   2.06015657e-04\n",
      "    2.06015657e-04   2.06015657e-04]\n",
      " [  9.87021014e-01   2.06015657e-04   2.06015657e-04 ...,   2.06015657e-04\n",
      "    2.06015657e-04   2.06015657e-04]\n",
      " [  9.87021014e-01   2.06015657e-04   2.06015657e-04 ...,   2.06015657e-04\n",
      "    2.06015657e-04   2.06015657e-04]]\n"
     ]
    }
   ],
   "source": [
    "with open ('labelstats.txt', 'rb') as fp:\n",
    "    class_ = pickle.load(fp)\n",
    "\n",
    "digitImage = inputDigit()\n",
    "training=np.zeros(shape=(10, 28-n+1, 28-m+1, 2**(n*m)))\n",
    "\n",
    "count = 0\n",
    "for i in range(5000):                  # for each image\n",
    "    for row in range(28-n+1):\n",
    "        for col in range(28-m+1):      # for each feature\n",
    "            \n",
    "            feature_val = 0\n",
    "            for y in range(n):\n",
    "                for x in range(m):      # for each pixel in feature (overlapping)\n",
    "                    # calculate feature_val\n",
    "                    if digitImage[i*28+row+y][col+x] != ' ':\n",
    "                        feature_val += 2**(m*y+x)\n",
    "            training[int(label[i])][row][col][feature_val] += 1\n",
    "\n",
    "for i in range(10):\n",
    "    training[i] = (training[i] + k) / (class_[i][1] + k * 2**(m*n))\n",
    "\n",
    "#print(training[0][0].shape)\n",
    "print(training[0][0])\n",
    "\n"
   ]
  },
  {
   "cell_type": "code",
   "execution_count": 10,
   "metadata": {
    "collapsed": false
   },
   "outputs": [
    {
     "name": "stdout",
     "output_type": "stream",
     "text": [
      "[ 9.  0.  2.  3.  1.  9.  7.  8.  1.  0.  4.  1.  9.  9.  5.  4.  2.  6.\n",
      "  8.  1.  3.  7.  9.  4.  4.  1.  8.  1.  3.  8.  1.  2.  8.  8.  0.  6.\n",
      "  2.  1.  1.  9.  1.  5.  3.  4.  6.  9.  5.  0.  9.  2.  2.  4.  8.  2.\n",
      "  1.  9.  2.  4.  9.  4.  4.  0.  9.  9.  2.  2.  3.  3.  8.  3.  5.  7.\n",
      "  3.  5.  8.  1.  2.  4.  4.  6.  4.  9.  5.  1.  0.  6.  9.  5.  9.  5.\n",
      "  9.  7.  3.  8.  0.  3.  7.  1.  3.  6.  7.  2.  5.  9.  7.  9.  6.  3.\n",
      "  6.  3.  7.  4.  6.  5.  8.  5.  4.  7.  8.  8.  8.  0.  7.  6.  8.  9.\n",
      "  7.  3.  7.  1.  9.  5.  2.  7.  3.  5.  1.  1.  2.  1.  4.  7.  4.  7.\n",
      "  5.  4.  5.  4.  0.  8.  3.  6.  9.  5.  0.  2.  7.  4.  4.  4.  4.  6.\n",
      "  6.  4.  9.  9.  3.  4.  5.  9.  8.  7.  3.  9.  2.  7.  0.  2.  4.  1.\n",
      "  1.  1.  8.  9.  2.  8.  7.  2.  0.  1.  5.  0.  4.  1.  7.  0.  6.  0.\n",
      "  8.  6.  5.  1.  8.  0.  9.  3.  8.  2.  3.  5.  2.  1.  6.  1.  1.  3.\n",
      "  7.  9.  0.  3.  0.  5.  4.  0.  6.  8.  2.  2.  8.  8.  4.  0.  9.  5.\n",
      "  5.  5.  1.  2.  1.  3.  1.  7.  9.  5.  7.  2.  0.  0.  3.  8.  6.  2.\n",
      "  3.  4.  1.  9.  3.  1.  5.  8.  1.  0.  2.  4.  4.  3.  6.  8.  8.  2.\n",
      "  9.  0.  5.  0.  4.  4.  7.  9.  3.  4.  1.  5.  4.  2.  3.  5.  8.  8.\n",
      "  0.  5.  3.  3.  6.  6.  0.  1.  6.  0.  3.  7.  4.  4.  1.  2.  9.  1.\n",
      "  4.  6.  9.  9.  3.  9.  8.  4.  4.  3.  1.  3.  1.  3.  8.  7.  9.  4.\n",
      "  8.  8.  2.  9.  7.  1.  4.  3.  6.  0.  3.  2.  2.  6.  1.  3.  5.  2.\n",
      "  4.  9.  6.  2.  7.  7.  2.  2.  1.  1.  2.  8.  3.  7.  2.  4.  1.  7.\n",
      "  1.  7.  6.  7.  2.  2.  7.  3.  1.  7.  5.  8.  2.  6.  2.  2.  5.  6.\n",
      "  5.  0.  9.  2.  4.  3.  3.  9.  7.  6.  6.  8.  0.  4.  1.  3.  8.  2.\n",
      "  9.  1.  8.  0.  6.  7.  2.  1.  8.  5.  5.  2.  0.  1.  2.  0.  2.  4.\n",
      "  9.  8.  0.  9.  9.  4.  6.  5.  4.  9.  1.  8.  3.  4.  9.  9.  1.  2.\n",
      "  2.  8.  1.  9.  5.  4.  0.  9.  4.  8.  3.  8.  0.  0.  2.  5.  1.  9.\n",
      "  6.  2.  9.  4.  0.  9.  6.  0.  6.  2.  5.  4.  2.  3.  8.  4.  3.  5.\n",
      "  0.  5.  8.  5.  3.  5.  8.  6.  5.  7.  6.  3.  3.  9.  6.  1.  1.  2.\n",
      "  9.  0.  4.  3.  3.  6.  9.  5.  7.  3.  9.  7.  7.  3.  1.  9.  8.  3.\n",
      "  0.  7.  2.  7.  9.  4.  5.  4.  9.  3.  8.  1.  4.  0.  2.  3.  7.  5.\n",
      "  9.  8.  8.  0.  0.  6.  1.  4.  7.  3.  9.  0.  0.  0.  6.  6.  2.  3.\n",
      "  7.  8.  4.  7.  7.  9.  2.  4.  1.  6.  5.  2.  4.  8.  9.  1.  8.  4.\n",
      "  0.  3.  8.  4.  3.  7.  7.  0.  7.  8.  8.  6.  0.  4.  8.  8.  2.  4.\n",
      "  7.  6.  6.  6.  4.  9.  1.  8.  8.  2.  3.  6.  3.  0.  0.  3.  7.  6.\n",
      "  9.  7.  9.  9.  5.  4.  3.  7.  6.  1.  2.  3.  7.  3.  3.  2.  0.  3.\n",
      "  3.  8.  4.  3.  6.  3.  5.  0.  2.  6.  9.  0.  7.  4.  6.  9.  3.  5.\n",
      "  1.  9.  6.  1.  7.  5.  4.  5.  0.  5.  9.  5.  2.  1.  8.  9.  1.  9.\n",
      "  9.  4.  0.  8.  4.  5.  2.  9.  2.  1.  2.  1.  7.  3.  6.  8.  8.  4.\n",
      "  9.  1.  9.  8.  5.  7.  5.  1.  1.  8.  6.  5.  2.  4.  4.  7.  2.  3.\n",
      "  5.  6.  8.  8.  6.  2.  3.  1.  0.  5.  8.  7.  2.  9.  6.  7.  0.  4.\n",
      "  8.  7.  1.  7.  4.  1.  0.  5.  7.  2.  0.  0.  9.  1.  1.  0.  4.  8.\n",
      "  4.  9.  4.  0.  4.  6.  0.  3.  1.  1.  3.  3.  9.  6.  7.  4.  1.  5.\n",
      "  3.  0.  8.  1.  3.  9.  6.  9.  3.  5.  0.  2.  7.  4.  5.  1.  2.  5.\n",
      "  8.  0.  8.  8.  1.  5.  0.  3.  0.  3.  1.  4.  0.  3.  7.  2.  4.  1.\n",
      "  3.  0.  7.  0.  4.  3.  1.  9.  8.  7.  7.  1.  4.  9.  9.  3.  7.  1.\n",
      "  7.  9.  0.  2.  0.  3.  3.  7.  6.  9.  2.  3.  3.  7.  7.  0.  0.  7.\n",
      "  5.  2.  9.  8.  7.  4.  9.  2.  6.  6.  1.  9.  6.  8.  2.  9.  0.  8.\n",
      "  3.  1.  1.  6.  3.  5.  1.  1.  1.  3.  1.  3.  3.  0.  8.  0.  1.  3.\n",
      "  5.  5.  7.  4.  9.  9.  6.  9.  6.  8.  3.  6.  6.  8.  5.  1.  4.  2.\n",
      "  4.  4.  5.  1.  4.  9.  0.  2.  4.  9.  5.  7.  1.  8.  3.  5.  6.  9.\n",
      "  8.  9.  1.  1.  6.  7.  6.  3.  2.  2.  0.  8.  9.  2.  5.  1.  0.  8.\n",
      "  1.  4.  5.  7.  9.  6.  9.  0.  6.  1.  5.  5.  8.  3.  8.  2.  6.  8.\n",
      "  0.  7.  4.  6.  1.  3.  4.  7.  3.  2.  3.  4.  2.  5.  2.  7.  1.  7.\n",
      "  2.  6.  4.  1.  5.  7.  8.  6.  0.  1.  8.  2.  5.  7.  7.  6.  3.  3.\n",
      "  5.  2.  4.  2.  4.  0.  8.  8.  3.  4.  9.  2.  7.  5.  1.  6.  3.  6.\n",
      "  0.  3.  6.  7.  3.  6.  4.  9.  4.  6.  5.  3.  2.  4.  1.  0.  1.  4.\n",
      "  6.  2.  9.  1.  1.  0.  6.  3.  9.  5.]\n"
     ]
    }
   ],
   "source": [
    "# log P(class) + log P(f1,1 | class) + log P(f1,2 | class) + ... + log P(f28,28 | class)\n",
    "\n",
    "test_rough = inputDigit(name = \"digitdata/testimages\")\n",
    "answer = np.zeros(1000)\n",
    "\n",
    "\n",
    "for i in range(1000):                  # for each image\n",
    "    test_image = np.zeros(shape=(28-n+1, 28-m+1))\n",
    "    for row in range(28-n+1):\n",
    "        for col in range(28-m+1):      # for each feature\n",
    "            \n",
    "            feature_val = 0\n",
    "            for y in range(n):\n",
    "                for x in range(m):      # for each pixel in feature (overlapping)\n",
    "                    # calculate feature_val\n",
    "                    if test_rough[i*28+row+y][col+x] != ' ':\n",
    "                        feature_val += 2**(2*y+x)\n",
    "            test_image[row][col] = feature_val\n",
    "       \n",
    "    posteriori = np.zeros(10)\n",
    "    for class_num in range(10):\n",
    "        posteriori[class_num] = math.log(class_[class_num][1])\n",
    "        for row in range(28-n+1):\n",
    "            for col in range(28-m+1):\n",
    "                posteriori[class_num] += math.log(training[class_num][row][col][int(test_image[row][col])])\n",
    "    answer[i] = np.argmax(posteriori)\n",
    "    #print(posteriori)\n",
    "    \n",
    "print(answer)\n",
    "\n"
   ]
  },
  {
   "cell_type": "code",
   "execution_count": 11,
   "metadata": {
    "collapsed": false
   },
   "outputs": [],
   "source": [
    "testlabels = readRough(\"digitdata/testlabels\")\n"
   ]
  },
  {
   "cell_type": "code",
   "execution_count": 12,
   "metadata": {
    "collapsed": false
   },
   "outputs": [],
   "source": [
    "def confusion_matrix():\n",
    "    num_each_class = np.zeros(10)\n",
    "    conf_matrix = np.zeros(shape=(10,10))\n",
    "    for i in range(1000):\n",
    "        conf_matrix[int(testlabels[i])][int(answer[i])] += 1\n",
    "        num_each_class[int(testlabels[i])] += 1\n",
    "            \n",
    "    for i in range(10):\n",
    "        for j in range(10):\n",
    "            conf_matrix[i][j] /= num_each_class[i]\n",
    "    \n",
    "    return conf_matrix"
   ]
  },
  {
   "cell_type": "code",
   "execution_count": 13,
   "metadata": {
    "collapsed": false
   },
   "outputs": [
    {
     "name": "stdout",
     "output_type": "stream",
     "text": [
      "[ 0.98  0.    0.    0.    0.    0.    0.01  0.    0.01  0.  ]\n",
      "[ 0.    0.98  0.    0.    0.01  0.    0.01  0.    0.    0.  ]\n",
      "[ 0.    0.01  0.9   0.02  0.01  0.    0.02  0.01  0.03  0.  ]\n",
      "[ 0.    0.    0.    0.93  0.    0.01  0.    0.03  0.01  0.02]\n",
      "[ 0.    0.    0.    0.    0.94  0.    0.02  0.01  0.    0.03]\n",
      "[ 0.01  0.    0.    0.09  0.    0.85  0.    0.01  0.02  0.02]\n",
      "[ 0.01  0.01  0.    0.    0.    0.05  0.91  0.    0.01  0.  ]\n",
      "[ 0.    0.04  0.04  0.    0.02  0.    0.    0.79  0.02  0.09]\n",
      "[ 0.01  0.01  0.03  0.08  0.    0.02  0.    0.01  0.83  0.02]\n",
      "[ 0.01  0.    0.    0.03  0.03  0.01  0.    0.01  0.02  0.89]\n"
     ]
    }
   ],
   "source": [
    "conf_matrix = confusion_matrix()\n",
    "conf_matrix = np.around(conf_matrix, 2)\n",
    "for row in conf_matrix:\n",
    "    print(row)"
   ]
  },
  {
   "cell_type": "code",
   "execution_count": null,
   "metadata": {
    "collapsed": true
   },
   "outputs": [],
   "source": []
  }
 ],
 "metadata": {
  "kernelspec": {
   "display_name": "Python 3",
   "language": "python",
   "name": "python3"
  },
  "language_info": {
   "codemirror_mode": {
    "name": "ipython",
    "version": 3
   },
   "file_extension": ".py",
   "mimetype": "text/x-python",
   "name": "python",
   "nbconvert_exporter": "python",
   "pygments_lexer": "ipython3",
   "version": "3.6.0"
  }
 },
 "nbformat": 4,
 "nbformat_minor": 2
}
