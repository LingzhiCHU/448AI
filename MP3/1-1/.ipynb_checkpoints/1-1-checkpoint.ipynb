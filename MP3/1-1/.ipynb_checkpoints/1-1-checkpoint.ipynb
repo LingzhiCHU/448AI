{
 "cells": [
  {
   "cell_type": "code",
   "execution_count": 113,
   "metadata": {
    "collapsed": true
   },
   "outputs": [],
   "source": [
    "import sys\n",
    "import math\n",
    "import pickle\n",
    "import numpy as np\n",
    "\n",
    "k = 10\n",
    "sys.setrecursionlimit(1500)"
   ]
  },
  {
   "cell_type": "code",
   "execution_count": 128,
   "metadata": {
    "collapsed": true
   },
   "outputs": [],
   "source": [
    "def inputDigit(name=\"digitdata/trainingimages\"):\n",
    "    with open(name) as digitTxt:\n",
    "        image = [list(line)[0:28] for line in digitTxt]\n",
    "        rows = len(image)\n",
    "    return image"
   ]
  },
  {
   "cell_type": "code",
   "execution_count": 115,
   "metadata": {
    "collapsed": false
   },
   "outputs": [
    {
     "name": "stdout",
     "output_type": "stream",
     "text": [
      "140000\n",
      "28\n"
     ]
    }
   ],
   "source": [
    "digitImage = inputDigit()\n",
    "print(len(digitImage))\n",
    "print(len(digitImage[139999]))"
   ]
  },
  {
   "cell_type": "code",
   "execution_count": 116,
   "metadata": {
    "collapsed": true
   },
   "outputs": [],
   "source": [
    "import collections\n",
    "\n",
    "def readRough(name=\"digitdata/traininglabels\"):\n",
    "    with open(name) as label:\n",
    "        labels = []\n",
    "        for line in label:\n",
    "            labels.append(line[0])\n",
    "    return labels\n"
   ]
  },
  {
   "cell_type": "code",
   "execution_count": 117,
   "metadata": {
    "collapsed": false
   },
   "outputs": [
    {
     "name": "stdout",
     "output_type": "stream",
     "text": [
      "5000\n",
      "[('0', 479), ('1', 563), ('2', 488), ('3', 493), ('4', 535), ('5', 434), ('6', 501), ('7', 550), ('8', 462), ('9', 495)]\n"
     ]
    }
   ],
   "source": [
    "label = readRough()\n",
    "print (len(label))\n",
    "#print sorted(collections.Counter(label).items())\n",
    "class_ = sorted(collections.Counter(label).items())\n",
    "print (class_)\n",
    "with open('labelstats.txt', 'wb') as fp:\n",
    "    pickle.dump(class_, fp)"
   ]
  },
  {
   "cell_type": "code",
   "execution_count": 118,
   "metadata": {
    "collapsed": false
   },
   "outputs": [
    {
     "name": "stdout",
     "output_type": "stream",
     "text": [
      "[ 0.97995992  0.97995992  0.97995992  0.97995992  0.97995992  0.97995992\n",
      "  0.97995992  0.97995992  0.97995992  0.97995992  0.97995992  0.97995992\n",
      "  0.97995992  0.97995992  0.97995992  0.97995992  0.97995992  0.97995992\n",
      "  0.97995992  0.97995992  0.97995992  0.97995992  0.97995992  0.97995992\n",
      "  0.97995992  0.97995992  0.97995992  0.97995992]\n",
      "[ 0.02004008  0.02004008  0.02004008  0.02004008  0.02004008  0.02004008\n",
      "  0.02004008  0.02004008  0.02004008  0.02004008  0.02004008  0.02004008\n",
      "  0.02004008  0.02004008  0.02004008  0.02004008  0.02004008  0.02004008\n",
      "  0.02004008  0.02004008  0.02004008  0.02004008  0.02004008  0.02004008\n",
      "  0.02004008  0.02004008  0.02004008  0.02004008]\n"
     ]
    }
   ],
   "source": [
    "with open ('labelstats.txt', 'rb') as fp:\n",
    "    class_ = pickle.load(fp)\n",
    "\n",
    "digitImage = inputDigit()\n",
    "training0=np.zeros(shape=(10, 28, 28))\n",
    "training1=np.zeros(shape=(10, 28, 28))\n",
    "\n",
    "count = 0\n",
    "for i in range(5000):\n",
    "    for row in range(28):\n",
    "        for col in range(28):\n",
    "            if digitImage[i*28 + row][col] == ' ':\n",
    "                training1[int(label[i])][row][col] += 0\n",
    "                training0[int(label[i])][row][col] += 1\n",
    "            else:\n",
    "                training1[int(label[i])][row][col] += 1\n",
    "                training0[int(label[i])][row][col] += 0\n",
    "\n",
    "for i in range(10):\n",
    "    training1[i] = (training1[i] + k) / (class_[i][1] + k * 2)\n",
    "    training0[i] = (training0[i] + k) / (class_[i][1] + k * 2)\n",
    "print(training0[0][0])\n",
    "print(training1[0][0])\n",
    "\n"
   ]
  },
  {
   "cell_type": "code",
   "execution_count": null,
   "metadata": {
    "collapsed": true
   },
   "outputs": [],
   "source": []
  },
  {
   "cell_type": "code",
   "execution_count": 139,
   "metadata": {
    "collapsed": false
   },
   "outputs": [
    {
     "name": "stdout",
     "output_type": "stream",
     "text": [
      "[ 1.  6.  1.  3.  1.  9.  7.  1.  1.  0.  4.  1.  9.  9.  1.  1.  2.  4.\n",
      "  8.  1.  1.  7.  9.  4.  1.  1.  1.  1.  3.  1.  1.  1.  6.  1.  0.  6.\n",
      "  1.  1.  1.  1.  1.  5.  3.  4.  1.  1.  1.  0.  9.  2.  1.  4.  9.  2.\n",
      "  1.  7.  1.  4.  9.  4.  4.  0.  9.  9.  1.  8.  1.  1.  1.  3.  0.  7.\n",
      "  1.  7.  8.  1.  1.  9.  6.  6.  4.  9.  1.  1.  0.  6.  9.  1.  9.  6.\n",
      "  9.  1.  1.  8.  6.  3.  9.  1.  3.  1.  7.  9.  5.  9.  7.  9.  6.  3.\n",
      "  6.  3.  7.  4.  6.  5.  8.  9.  9.  1.  8.  8.  1.  6.  1.  6.  1.  9.\n",
      "  7.  1.  7.  1.  9.  5.  2.  7.  3.  1.  1.  1.  1.  1.  4.  7.  9.  7.\n",
      "  3.  4.  1.  4.  0.  9.  3.  1.  9.  1.  0.  1.  1.  1.  4.  1.  4.  6.\n",
      "  6.  4.  9.  9.  3.  4.  1.  9.  9.  7.  3.  9.  1.  7.  3.  1.  4.  1.\n",
      "  1.  1.  6.  9.  1.  9.  7.  1.  0.  1.  3.  4.  7.  1.  9.  0.  1.  6.\n",
      "  4.  6.  1.  1.  8.  0.  1.  3.  1.  2.  1.  1.  2.  1.  1.  1.  1.  1.\n",
      "  1.  1.  0.  1.  0.  9.  4.  0.  1.  8.  1.  1.  9.  1.  4.  0.  1.  6.\n",
      "  3.  3.  1.  1.  1.  1.  1.  1.  1.  6.  7.  2.  0.  0.  6.  1.  1.  1.\n",
      "  1.  4.  1.  9.  7.  1.  1.  1.  1.  0.  1.  4.  9.  1.  4.  9.  9.  1.\n",
      "  9.  0.  4.  6.  1.  9.  7.  9.  3.  4.  1.  3.  9.  1.  3.  1.  1.  8.\n",
      "  9.  1.  1.  3.  6.  6.  0.  1.  6.  0.  1.  7.  1.  4.  1.  3.  9.  1.\n",
      "  4.  6.  4.  9.  7.  9.  9.  4.  4.  1.  1.  1.  1.  6.  1.  7.  9.  4.\n",
      "  1.  8.  1.  9.  9.  1.  9.  3.  6.  0.  3.  1.  1.  6.  1.  3.  8.  2.\n",
      "  4.  9.  1.  1.  7.  9.  6.  1.  1.  1.  0.  1.  1.  1.  1.  4.  1.  7.\n",
      "  1.  1.  4.  7.  1.  1.  7.  3.  1.  7.  8.  8.  1.  6.  6.  1.  8.  6.\n",
      "  1.  0.  9.  2.  4.  6.  1.  9.  7.  6.  6.  8.  0.  9.  1.  1.  1.  2.\n",
      "  9.  1.  1.  0.  6.  7.  1.  1.  8.  1.  1.  2.  0.  1.  1.  0.  1.  9.\n",
      "  9.  1.  0.  9.  9.  4.  6.  9.  4.  9.  1.  9.  3.  4.  9.  9.  1.  1.\n",
      "  1.  1.  1.  9.  1.  1.  0.  1.  1.  1.  3.  8.  4.  0.  1.  1.  1.  9.\n",
      "  6.  1.  9.  9.  5.  9.  6.  0.  6.  2.  1.  4.  3.  7.  1.  1.  3.  9.\n",
      "  0.  1.  8.  1.  1.  1.  1.  1.  3.  7.  1.  3.  3.  9.  6.  1.  1.  2.\n",
      "  9.  0.  4.  3.  3.  6.  9.  9.  9.  1.  7.  7.  7.  3.  1.  9.  1.  1.\n",
      "  0.  1.  2.  1.  9.  4.  3.  4.  9.  1.  1.  1.  4.  0.  1.  3.  7.  3.\n",
      "  1.  6.  8.  0.  0.  1.  1.  4.  7.  3.  9.  0.  6.  0.  6.  6.  1.  1.\n",
      "  7.  1.  4.  7.  7.  4.  6.  9.  1.  6.  1.  1.  9.  8.  9.  1.  9.  9.\n",
      "  6.  1.  8.  4.  3.  7.  7.  0.  1.  9.  8.  4.  0.  9.  1.  1.  2.  4.\n",
      "  7.  6.  6.  1.  1.  1.  1.  1.  8.  2.  1.  6.  3.  0.  0.  1.  1.  1.\n",
      "  9.  7.  9.  1.  5.  4.  3.  7.  6.  1.  1.  3.  7.  1.  3.  6.  0.  1.\n",
      "  3.  8.  9.  3.  6.  3.  7.  6.  2.  6.  9.  0.  7.  4.  6.  9.  1.  5.\n",
      "  1.  9.  6.  1.  1.  1.  4.  1.  8.  9.  4.  9.  6.  1.  1.  9.  1.  9.\n",
      "  1.  4.  0.  8.  4.  5.  1.  9.  1.  1.  1.  1.  1.  1.  6.  9.  1.  4.\n",
      "  9.  1.  9.  1.  3.  7.  9.  1.  1.  8.  6.  9.  7.  4.  4.  7.  2.  3.\n",
      "  1.  6.  1.  1.  1.  1.  1.  1.  0.  5.  1.  1.  1.  9.  1.  7.  0.  1.\n",
      "  1.  1.  1.  7.  4.  1.  0.  1.  7.  1.  0.  0.  9.  1.  1.  0.  4.  1.\n",
      "  4.  9.  1.  0.  4.  1.  0.  1.  1.  1.  1.  3.  9.  1.  7.  9.  1.  1.\n",
      "  3.  0.  1.  1.  3.  9.  6.  9.  1.  1.  0.  1.  1.  1.  3.  1.  1.  1.\n",
      "  8.  9.  8.  1.  1.  1.  0.  1.  0.  1.  1.  9.  0.  3.  1.  1.  4.  1.\n",
      "  3.  0.  1.  0.  4.  3.  1.  9.  9.  7.  7.  1.  1.  9.  9.  1.  7.  1.\n",
      "  7.  9.  0.  2.  0.  3.  3.  7.  6.  4.  8.  3.  3.  7.  1.  0.  6.  1.\n",
      "  3.  3.  9.  0.  1.  4.  9.  1.  6.  6.  1.  9.  6.  1.  1.  9.  0.  8.\n",
      "  7.  1.  1.  6.  1.  3.  1.  1.  1.  1.  1.  1.  3.  0.  1.  6.  1.  3.\n",
      "  1.  0.  7.  4.  7.  9.  6.  9.  6.  1.  1.  4.  6.  8.  1.  1.  1.  2.\n",
      "  9.  1.  3.  1.  1.  9.  0.  1.  4.  9.  4.  7.  1.  1.  1.  1.  6.  9.\n",
      "  9.  7.  1.  1.  1.  7.  1.  3.  1.  2.  0.  3.  9.  2.  3.  1.  0.  1.\n",
      "  1.  9.  1.  1.  1.  6.  9.  0.  1.  1.  3.  1.  1.  1.  8.  1.  1.  9.\n",
      "  9.  7.  1.  6.  1.  3.  4.  7.  3.  1.  1.  1.  4.  3.  1.  1.  1.  7.\n",
      "  2.  6.  4.  1.  1.  7.  1.  1.  0.  1.  8.  7.  4.  7.  7.  6.  1.  1.\n",
      "  4.  6.  9.  2.  4.  9.  1.  1.  3.  4.  9.  1.  7.  5.  1.  1.  3.  6.\n",
      "  0.  3.  6.  7.  3.  1.  4.  9.  4.  6.  1.  3.  0.  4.  1.  0.  1.  1.\n",
      "  6.  2.  9.  1.  1.  0.  6.  3.  9.  9.]\n"
     ]
    }
   ],
   "source": [
    "# log P(class) + log P(f1,1 | class) + log P(f1,2 | class) + ... + log P(f28,28 | class)\n",
    "\n",
    "test_rough = inputDigit(name = \"digitdata/testimages\")\n",
    "\n",
    "answer = np.zeros(1000)\n",
    "for i in range(1000):\n",
    "    test_image = np.zeros(shape=(28,28))\n",
    "    for row in range(28):\n",
    "        for col in range(28):\n",
    "            if test_rough[i*28+row][col] == ' ':\n",
    "                test_image[row][col] = 0\n",
    "            else:\n",
    "                test_image[row][col] = 1\n",
    "             \n",
    "    posteriori = np.zeros(10)\n",
    "    for class_num in range(10):\n",
    "        posteriori[class_num] = math.log(class_[class_num][1])\n",
    "        for row in range(28):\n",
    "            for col in range(28):\n",
    "                if test_image[row][col] == 0:\n",
    "                    posteriori[class_num] += training0[class_num][row][col]\n",
    "                else:\n",
    "                    posteriori[class_num] += training1[class_num][row][col]    \n",
    "    answer[i] = np.argmax(posteriori)\n",
    "    \n",
    "print(answer)\n",
    "\n"
   ]
  },
  {
   "cell_type": "code",
   "execution_count": null,
   "metadata": {
    "collapsed": true
   },
   "outputs": [],
   "source": [
    "testlabels = readrough(\"digitdata/testlabels\")"
   ]
  },
  {
   "cell_type": "code",
   "execution_count": null,
   "metadata": {
    "collapsed": true
   },
   "outputs": [],
   "source": [
    "def confusion_matrix():\n",
    "    num_each_class = []\n",
    "    conf_matrix = [[] for i in range(10)]\n",
    "    for truelabel in testlabels:\n",
    "        for predictlabel in answer:\n",
    "            conf_matrix[int(truelabel)][int(predictlabel)] += 1\n",
    "            num_each_class[int(truelabel)] += 1\n",
    "            \n",
    "    for i in range(10):\n",
    "        for j in range(10):\n",
    "            conf_matrix[i][j] /= num_each_class[i]"
   ]
  },
  {
   "cell_type": "code",
   "execution_count": null,
   "metadata": {
    "collapsed": true
   },
   "outputs": [],
   "source": []
  }
 ],
 "metadata": {
  "kernelspec": {
   "display_name": "Python 3",
   "language": "python",
   "name": "python3"
  },
  "language_info": {
   "codemirror_mode": {
    "name": "ipython",
    "version": 3
   },
   "file_extension": ".py",
   "mimetype": "text/x-python",
   "name": "python",
   "nbconvert_exporter": "python",
   "pygments_lexer": "ipython3",
   "version": "3.6.0"
  }
 },
 "nbformat": 4,
 "nbformat_minor": 2
}
