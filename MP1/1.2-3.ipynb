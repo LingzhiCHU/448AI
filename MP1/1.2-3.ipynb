{
 "cells": [
  {
   "cell_type": "code",
   "execution_count": 1,
   "metadata": {
    "collapsed": true
   },
   "outputs": [],
   "source": [
    "import sys\n",
    "import math\n",
    "sys.setrecursionlimit(1500)  # set recursion up limit to a higher number"
   ]
  },
  {
   "cell_type": "code",
   "execution_count": 2,
   "metadata": {
    "collapsed": true
   },
   "outputs": [],
   "source": [
    "# this function is in charge of reading in the maze.txt and store it in 2D matrix\n",
    "# input: a string of search file name\n",
    "# output: a 2D matrix\n",
    "def inputMaze(name=\"tinySearch.txt\"):\n",
    "    with open(name) as mazeTxt:\n",
    "        maze = [list(line)[0:-1] for line in mazeTxt]\n",
    "        rows = len(maze)\n",
    "        maze[rows-1].append('%')\n",
    "    return maze\n",
    "# similar thing to above, slightly different because of the format diff between tiny and small, medium\n",
    "def inputMaze1(name):\n",
    "    with open(name) as mazeTxt:\n",
    "        maze = [list(line)[0:-1] for line in mazeTxt]\n",
    "        rows = len(maze)\n",
    "        maze[rows-1].append('%')\n",
    "    return maze"
   ]
  },
  {
   "cell_type": "markdown",
   "metadata": {},
   "source": [
    "##### let's try to implement the new state representation and start with BFS"
   ]
  },
  {
   "cell_type": "code",
   "execution_count": 3,
   "metadata": {
    "collapsed": true
   },
   "outputs": [],
   "source": [
    "# store three searches into variable\n",
    "tiny_search = inputMaze(\"tinySearch.txt\")\n",
    "small_search = inputMaze(\"smallSearch.txt\")\n",
    "medium_search = inputMaze(\"mediumSearch.txt\")"
   ]
  },
  {
   "cell_type": "code",
   "execution_count": 1,
   "metadata": {
    "collapsed": false
   },
   "outputs": [],
   "source": [
    "# just checking out what the matrix look like\n",
    "#cur_search = tiny_search\n",
    "#print(cur_search)\n",
    "#print(len(cur_search))\n",
    "#for i in range(len(cur_search)):\n",
    "#    print(len(cur_search[i]))"
   ]
  },
  {
   "cell_type": "code",
   "execution_count": 2,
   "metadata": {
    "collapsed": false
   },
   "outputs": [],
   "source": [
    "# input: 2D array\n",
    "# output: start point coordinates, dot_positions and the number of dots\n",
    "def findStartNDots(maze):\n",
    "    dot_positions = set()   # dot_pos set will be used to hold dot coordinates in form of tuples\n",
    "    dot_count = 0\n",
    "    for i in range(len(maze)):\n",
    "        for j in range(len(maze[0])):\n",
    "            if maze[i][j] == 'P':\n",
    "                start = (i,j)\n",
    "            if maze[i][j] == '.':\n",
    "                dot_count += 1\n",
    "                dot_positions.add((i,j))\n",
    "    return start, dot_positions, dot_count\n",
    "\n",
    "#start, dot_pos, N = findStartNDots(tiny_search)\n",
    "#print(start, dot_pos, N)"
   ]
  },
  {
   "cell_type": "code",
   "execution_count": 6,
   "metadata": {
    "collapsed": true
   },
   "outputs": [],
   "source": [
    "# this func checks whether cur_pos is on dot\n",
    "# input: cor is a (x, y) tuple\n",
    "# output: True or False\n",
    "def isDot(cor, dot_pos):\n",
    "    if cor in dot_pos:\n",
    "        return True\n",
    "    else:\n",
    "        return False"
   ]
  },
  {
   "cell_type": "code",
   "execution_count": 7,
   "metadata": {
    "collapsed": true
   },
   "outputs": [],
   "source": [
    "# this function detects valid neighbors, generate new states based on them\n",
    "# and return them\n",
    "# input: current state, 2D array maze, height of maze, width of maez, dot positions\n",
    "def multi_valid_neighbors(cur_state, maze, height, width, dot_pos):\n",
    "    y = cur_state[2][0]\n",
    "    x = cur_state[2][1]\n",
    "    old_f = cur_state[0]\n",
    "    cost = cur_state[1]+1\n",
    "    cur_pos = (y, x)\n",
    "    \n",
    "    # make a list called valid_neighbors which will hold the states that we wanna return\n",
    "    valid_neighbors = []\n",
    "    \n",
    "    # checking order: LEFT, DOWN, RIGHT, UP\n",
    "    if (x-1) >= 0 and maze[y][x-1] != '%':\n",
    "        new_pos = (y, x-1)\n",
    "        cur_eaten = set(cur_state[3])\n",
    "        if isDot(new_pos, dot_pos):\n",
    "            cur_eaten.add(new_pos)\n",
    "        #\n",
    "        unvisited = allGoals.difference(cur_eaten)\n",
    "        h = kruskal(EDGES, unvisited)[1]\n",
    "        f = h + cost\n",
    "        valid_neighbors.append( (f,cost,new_pos, frozenset(cur_eaten)) )\n",
    "    if (y+1) < height and maze[y+1][x] != '%':\n",
    "        new_pos = (y+1, x)\n",
    "        cur_eaten = set(cur_state[3])\n",
    "        if isDot(new_pos, dot_pos):\n",
    "            cur_eaten.add(new_pos)\n",
    "        unvisited = allGoals.difference(cur_eaten)\n",
    "        h = kruskal(EDGES, unvisited)[1]\n",
    "        f = h + cost\n",
    "        valid_neighbors.append( (f,cost,new_pos, frozenset(cur_eaten)) )\n",
    "    if (x+1) < width and maze[y][x+1] != '%':\n",
    "        new_pos = (y, x+1)\n",
    "        cur_eaten = set(cur_state[3])\n",
    "        if isDot(new_pos, dot_pos):\n",
    "            cur_eaten.add(new_pos)\n",
    "        unvisited = allGoals.difference(cur_eaten)\n",
    "        h = kruskal(EDGES, unvisited)[1]\n",
    "        f = h + cost\n",
    "        valid_neighbors.append( (f,cost,new_pos, frozenset(cur_eaten)) )\n",
    "    if (y-1) >= 0 and maze[y-1][x] != '%':\n",
    "        new_pos = (y-1, x)\n",
    "        cur_eaten = set(cur_state[3])\n",
    "        if isDot(new_pos, dot_pos):\n",
    "            cur_eaten.add(new_pos)\n",
    "        unvisited = allGoals.difference(cur_eaten)\n",
    "        h = kruskal(EDGES, unvisited)[1]\n",
    "        f = h + cost\n",
    "        valid_neighbors.append( (f,cost,new_pos, frozenset(cur_eaten)) )          \n",
    "    return valid_neighbors"
   ]
  },
  {
   "cell_type": "markdown",
   "metadata": {},
   "source": [
    "# Let's try A* now"
   ]
  },
  {
   "cell_type": "code",
   "execution_count": 8,
   "metadata": {
    "collapsed": true
   },
   "outputs": [],
   "source": [
    "# input: current position, matrix, height, width\n",
    "# output: a list of valid neighbors that should be explored later\n",
    "def valid_neighbors(center, maze, height, width):\n",
    "    y = center[0]\n",
    "    x = center[1]\n",
    "    valid_neighbors = []\n",
    "    if (x+1) < width and maze[y][x+1] != '%':\n",
    "        valid_neighbors.append((y,x+1))\n",
    "    if (x-1) >= 0 and maze[y][x-1] != '%':\n",
    "        valid_neighbors.append((y,x-1))\n",
    "    if (y+1) < height and maze[y+1][x] != '%':\n",
    "        valid_neighbors.append((y+1,x))\n",
    "    if (y-1) >= 0 and maze[y-1][x] != '%':\n",
    "        valid_neighbors.append((y-1,x))\n",
    "    return valid_neighbors\n",
    "\n",
    "\n",
    "# input: current position, goal position, maze, height, width\n",
    "def BFSneighbors(current,goals,maze,height,width):\n",
    "    #return the cost to each goal as a dictionary\n",
    "    visited = height*width*[False]\n",
    "    path = (height*width)*[None]\n",
    "    cost = {}\n",
    "    \n",
    "    num = len(goals)\n",
    "    \n",
    "    ele_list = []\n",
    "    ele_list.insert(0,current)\n",
    "    visited[current[0]*width+current[1]] = True\n",
    "    \n",
    "    count = 0 \n",
    "    c = {}\n",
    "    \n",
    "    c[current[0]*width+current[1]] = 0\n",
    "    goal = None\n",
    "    while ele_list:\n",
    "        curr = ele_list.pop()\n",
    "        count+=1\n",
    "        if num == 0:\n",
    "            break\n",
    "        if curr in goals:\n",
    "            num = num-1\n",
    "        neighbors = valid_neighbors(curr,maze,height,width)\n",
    "        for n in neighbors:\n",
    "            if n!= None:\n",
    "                pos = n[0]*width+n[1]\n",
    "                if visited[pos] == False:\n",
    "                    ele_list.insert(0,n)\n",
    "                    visited[pos] = True\n",
    "                    c[pos] = c[curr[0]*width+curr[1]]+1\n",
    "                        \n",
    "    for n in goals:\n",
    "        ele = (n,current)\n",
    "        cost[frozenset(ele)] = c[n[0]*width+n[1]]\n",
    "        \n",
    "    return [cost,count]\n",
    "\n",
    "# this func renders a hashmap containing all the edges between any two dots\n",
    "# input: 2D Array\n",
    "# output: a dictionary containing all edges between two dots\n",
    "def distance(search):\n",
    "    [start, dot_pos, dot_count] = findStartNDots(search)\n",
    "    height = len(search)\n",
    "    width = len(search[0])\n",
    "    dist  = {}\n",
    "    for i in dot_pos:\n",
    "            goals = list(dot_pos)\n",
    "            index = goals.index(i)\n",
    "            del goals[index]\n",
    "            cost,count = BFSneighbors(i,goals,search,height,width)\n",
    "            for n in cost:\n",
    "                dist[n] = cost[n]\n",
    "    return dist"
   ]
  },
  {
   "cell_type": "code",
   "execution_count": 9,
   "metadata": {
    "collapsed": true
   },
   "outputs": [],
   "source": [
    "# used to pick out the edges between unvisited dots\n",
    "# return the hashmap which contains all unvisited edges\n",
    "def pickEdges(unvisited, edges):\n",
    "    # a hashmap which contains part of the all edges\n",
    "    unvisitedEdges = {}\n",
    "    for k, v in edges.items():\n",
    "        unvisitedFlag = True\n",
    "        for dot in k:\n",
    "            if dot not in unvisited:\n",
    "                unvisitedFlag = False\n",
    "        if unvisitedFlag:\n",
    "            unvisitedEdges[k] = v\n",
    "    return unvisitedEdges"
   ]
  },
  {
   "cell_type": "code",
   "execution_count": 10,
   "metadata": {
    "collapsed": true
   },
   "outputs": [],
   "source": [
    "# this func checks if a loop will be formed is a new edge is added into \n",
    "# input: a list containing sets of vertices connected, a set containing two vertices of new edge\n",
    "def checkLoop(trees, v_set):\n",
    "    for tree in trees:\n",
    "        if len(tree.intersection(v_set)) == 2:\n",
    "            return False\n",
    "        \n",
    "    return True"
   ]
  },
  {
   "cell_type": "code",
   "execution_count": 11,
   "metadata": {
    "collapsed": true
   },
   "outputs": [],
   "source": [
    "# this func is used to merge subtrees after adding new edge\n",
    "# input: a list containing sets of vertices connected, a set containing two vertices of new edge\n",
    "# output: a list containing set of vertices connected\n",
    "def merge(trees, v_set):\n",
    "    intersect_tree = []\n",
    "    for tree in trees:\n",
    "        if tree.intersection(v_set):\n",
    "            intersect_tree.append(tree)\n",
    "            \n",
    "    if len(intersect_tree) == 0:\n",
    "        trees.append(set(v_set))    #we have to store a frozenset into the tree for now\n",
    "    elif len(intersect_tree) == 1:\n",
    "        intersect_tree[0].update(set(v_set))\n",
    "    elif len(intersect_tree) == 2:\n",
    "        intersect_tree[0].update(intersect_tree[1])\n",
    "        trees.remove(intersect_tree[1])\n",
    "    return trees"
   ]
  },
  {
   "cell_type": "code",
   "execution_count": 12,
   "metadata": {
    "collapsed": true
   },
   "outputs": [],
   "source": [
    "# kruskal algorithm, which is in charge of find the sum of length of all edges in MST\n",
    "# input: all edges between two dots, and unvisited dots\n",
    "# output: a dictionary containing all edges in the mst and the sum of length of all edges\n",
    "def kruskal(edges, unvisited):\n",
    "    \n",
    "    trees = []    # a list of SET that stores the subtrees we have connected\n",
    "    unvisitedEdges = pickEdges(unvisited, edges)\n",
    "    mst = {}      # a DICT of edges\n",
    "    \n",
    "    while unvisitedEdges:\n",
    "        shortest = float(\"inf\")\n",
    "        key = None\n",
    "        \n",
    "        # do a for loop to pick out the shortest edge\n",
    "        for k, v in unvisitedEdges.items():\n",
    "            if (v < shortest):\n",
    "                shortest = v   # update v if that is smaller than shortest\n",
    "                key = k\n",
    "            #print(k, v)\n",
    "        #print(trees)\n",
    "        \n",
    "        if checkLoop(trees, key):       # if no loop will be formed, add into mst\n",
    "            #print(\"add one to mst\")\n",
    "            trees = merge(trees, key)\n",
    "            mst[key] = unvisitedEdges[key]\n",
    "            \n",
    "        del unvisitedEdges[key]   # delete this edge after checking it\n",
    "    \n",
    "    length = 0\n",
    "    for k, v in mst.items():\n",
    "        length += v\n",
    "    return mst, length"
   ]
  },
  {
   "cell_type": "code",
   "execution_count": 13,
   "metadata": {
    "collapsed": true
   },
   "outputs": [],
   "source": [
    "# this function returns distance to nearest dot\n",
    "# input: position to explore, dots that have been eaten\n",
    "# output: distance to nearest dot\n",
    "def bfstoUnvisited(new_pos, cur_eaten):\n",
    "    cur_uneaten = allGoals.difference(cur_eaten)\n",
    "    costMap, count = BFSneighbors(new_pos, cur_uneaten, maze, height, width)\n",
    "    lowestCost = min(costMap, costMap.get)\n",
    "    return lowestCost"
   ]
  },
  {
   "cell_type": "code",
   "execution_count": 14,
   "metadata": {
    "collapsed": false
   },
   "outputs": [
    {
     "name": "stdout",
     "output_type": "stream",
     "text": [
      "{(1, 22), (1, 25), (4, 18), (6, 1), (9, 19), (1, 14), (11, 28), (4, 13), (3, 28), (11, 13), (10, 1), (5, 28), (6, 17), (4, 1), (3, 5)}\n"
     ]
    }
   ],
   "source": [
    "# the global variables\n",
    "CUR_search = tiny_search\n",
    "\n",
    "_, allGoals, _ = findStartNDots(CUR_search)\n",
    "EDGES = distance(CUR_search)\n",
    "print(allGoals)\n",
    "\n",
    "# Astar search for 1.2\n",
    "# input: 2D Array\n",
    "# output: success(boolean), path(list), step count \n",
    "def Astar(search):\n",
    "    height = len(search)\n",
    "    width = len(search[0])\n",
    "    \n",
    "    # This hashmap store the edges with frozenset as key and a distance number as value\n",
    "    dot_edges = distance(search)\n",
    "    \n",
    "    \n",
    "    # initialize start_state and find needed info from maze\n",
    "    start_pos, dot_pos, N = findStartNDots(search)\n",
    "    unvisited = allGoals.difference(frozenset())\n",
    "    h = kruskal(EDGES, unvisited)[1] \n",
    "    start_state = (h,0,start_pos, frozenset())\n",
    "    \n",
    "    # visited is a set that contain elements in the form of ((x,y), {visited dots' coordinates})\n",
    "    visited = set()\n",
    "    # make a hashmap to keep track of the route\n",
    "    track = {}\n",
    "    \n",
    "    # add dumb ot the start\n",
    "    dumb = None\n",
    "    track[start_state] = dumb\n",
    "    \n",
    "\n",
    "    import heapq\n",
    "    ele_list = []\n",
    "    ele_list.insert(0, start_state)\n",
    "    heapq.heapify(ele_list)\n",
    "    \n",
    "    \n",
    "    count = 0 \n",
    "    #mark start_state as visited\n",
    "    visited.add(start_state)\n",
    "    \n",
    "    \n",
    "    success = False\n",
    "    final_state = start_state\n",
    "    while ele_list:\n",
    "        #print(ele_list)\n",
    "        cur = heapq.heappop(ele_list)\n",
    "        count += 1  #count the expansion     \n",
    "            \n",
    "        if len(cur[3]) == N:       # BASE CASE: if we have visited/eaten all the dots\n",
    "            success = True\n",
    "            final_state = cur\n",
    "            break\n",
    "        \n",
    "        neighbors = multi_valid_neighbors(cur, search, height, width, dot_pos)\n",
    "        for nei in neighbors:\n",
    "            if nei!= None: \n",
    "                if nei not in visited:\n",
    "                    heapq.heappush(ele_list,nei)\n",
    "                    visited.add(nei)\n",
    "                    track[nei] = cur\n",
    "                    #old_cost = cur[1]\n",
    "                    #nei[1] = old_cost+1\n",
    "                    #nei[0] = fn(nei,nei[1])\n",
    "          \n",
    "        if count%1000 == 0: \n",
    "            print(count)\n",
    "        \n",
    "    path = []\n",
    "    cur = final_state\n",
    "    while cur:\n",
    "        path.insert(0, cur[2])\n",
    "        cur = track[cur]\n",
    "    path.pop(0)\n",
    "    return success, path, count"
   ]
  },
  {
   "cell_type": "code",
   "execution_count": 15,
   "metadata": {
    "collapsed": false
   },
   "outputs": [
    {
     "name": "stdout",
     "output_type": "stream",
     "text": [
      "1000\n",
      "2000\n",
      "3000\n",
      "4000\n",
      "5000\n",
      "6000\n",
      "7000\n",
      "8000\n",
      "9000\n",
      "10000\n",
      "11000\n",
      "12000\n",
      "13000\n",
      "14000\n",
      "15000\n",
      "16000\n",
      "17000\n",
      "18000\n",
      "19000\n",
      "20000\n",
      "21000\n",
      "22000\n",
      "23000\n",
      "24000\n",
      "25000\n",
      "26000\n",
      "27000\n",
      "28000\n",
      "29000\n",
      "30000\n",
      "31000\n",
      "32000\n",
      "33000\n",
      "34000\n",
      "35000\n",
      "36000\n",
      "37000\n",
      "38000\n",
      "39000\n",
      "40000\n",
      "41000\n",
      "42000\n",
      "43000\n",
      "44000\n",
      "45000\n",
      "45913\n",
      "[(1, 8), (1, 9), (1, 10), (1, 11), (1, 12), (1, 13), (1, 14), (1, 13), (1, 12), (1, 11), (1, 10), (1, 9), (2, 9), (3, 9), (3, 10), (3, 11), (3, 12), (4, 12), (4, 13), (4, 14), (4, 15), (5, 15), (6, 15), (6, 16), (6, 17), (6, 16), (6, 15), (5, 15), (4, 15), (3, 15), (3, 16), (2, 16), (1, 16), (1, 17), (1, 18), (2, 18), (3, 18), (4, 18), (3, 18), (2, 18), (1, 18), (1, 19), (1, 20), (1, 21), (1, 22), (1, 23), (1, 24), (1, 25), (1, 26), (1, 27), (1, 28), (2, 28), (3, 28), (2, 28), (1, 28), (1, 27), (1, 26), (1, 25), (1, 24), (1, 23), (2, 23), (3, 23), (3, 24), (4, 24), (5, 24), (5, 25), (5, 26), (5, 27), (5, 28), (5, 27), (5, 26), (5, 25), (5, 24), (5, 23), (6, 23), (7, 23), (8, 23), (9, 23), (10, 23), (11, 23), (11, 24), (11, 25), (11, 26), (11, 27), (11, 28), (11, 27), (11, 26), (11, 25), (11, 24), (11, 23), (10, 23), (9, 23), (9, 22), (9, 21), (9, 20), (9, 19), (8, 19), (8, 18), (8, 17), (8, 16), (8, 15), (8, 14), (8, 13), (9, 13), (10, 13), (11, 13), (10, 13), (9, 13), (8, 13), (8, 12), (8, 11), (7, 11), (6, 11), (6, 10), (6, 9), (6, 8), (6, 7), (6, 6), (6, 5), (5, 5), (4, 5), (3, 5), (4, 5), (4, 4), (4, 3), (4, 2), (4, 1), (4, 2), (4, 3), (4, 4), (4, 5), (5, 5), (6, 5), (6, 4), (6, 3), (6, 2), (6, 1), (6, 2), (7, 2), (8, 2), (8, 1), (9, 1), (10, 1)]\n",
      "143\n"
     ]
    }
   ],
   "source": [
    "success, path, count = Astar(tiny_search)\n",
    "print(count)\n",
    "print(path)\n",
    "print(len(path))"
   ]
  },
  {
   "cell_type": "code",
   "execution_count": null,
   "metadata": {
    "collapsed": true
   },
   "outputs": [],
   "source": [
    "#save the output\n",
    "count = 355256\n",
    "path = [(9, 25), (9, 26), (9, 27), (9, 28), (9, 29), (9, 30), (8, 30), (7, 30), (7, 31), (7, 32), (7, 33), (8, 33), (8, 34), (8, 35), (8, 36), (9, 36), (9, 37), (9, 38), (9, 39), (9, 40), (9, 41), (9, 42), (9, 43), (9, 42), (9, 41), (9, 40), (8, 40), (7, 40), (7, 41), (7, 42), (7, 43), (6, 43), (6, 44), (6, 45), (7, 45), (8, 45), (9, 45), (9, 46), (9, 47), (10, 47), (11, 47), (11, 46), (11, 45), (11, 44), (11, 43), (11, 44), (11, 45), (11, 46), (11, 47), (10, 47), (9, 47), (9, 46), (9, 45), (8, 45), (7, 45), (6, 45), (6, 44), (6, 43), (7, 43), (7, 42), (7, 41), (6, 41), (5, 41), (5, 40), (4, 40), (3, 40), (3, 41), (3, 42), (3, 43), (4, 43), (4, 44), (4, 45), (3, 45), (3, 46), (3, 47), (2, 47), (1, 47), (1, 46), (1, 47), (2, 47), (3, 47), (3, 46), (3, 45), (4, 45), (4, 44), (4, 43), (3, 43), (3, 42), (3, 41), (3, 40), (3, 39), (3, 38), (3, 37), (3, 36), (4, 36), (3, 36), (3, 35), (3, 34), (2, 34), (2, 33), (2, 32), (1, 32), (2, 32), (3, 32), (4, 32), (5, 32), (5, 33), (5, 32), (5, 31), (5, 30), (5, 29), (5, 28), (5, 27), (5, 26), (5, 25), (5, 24), (5, 23), (4, 23), (4, 22), (4, 21), (4, 20), (4, 19), (4, 18), (4, 19), (4, 20), (5, 20), (6, 20), (6, 21), (6, 20), (6, 19), (6, 18), (6, 17), (6, 16), (6, 15), (5, 15), (4, 15), (4, 14), (3, 14), (3, 13), (4, 13), (4, 12), (4, 11), (3, 11), (3, 10), (3, 9), (2, 9), (1, 9), (1, 10), (1, 11), (1, 12), (1, 13), (1, 14), (1, 13), (1, 12), (1, 11), (1, 10), (1, 9), (2, 9), (3, 9), (3, 8), (4, 8), (4, 7), (4, 6), (3, 6), (4, 6), (4, 5), (4, 4), (3, 4), (2, 4), (1, 4), (1, 3), (1, 2), (1, 1), (2, 1), (3, 1), (4, 1), (5, 1), (6, 1), (6, 2), (6, 3), (7, 3), (8, 3), (8, 2), (8, 1), (9, 1), (9, 2), (9, 3), (9, 4), (9, 5), (9, 6), (9, 7), (10, 7), (11, 7), (11, 6), (11, 5), (11, 6), (11, 7), (10, 7), (10, 8), (10, 9), (9, 9), (8, 9), (7, 9), (6, 9), (6, 10), (6, 11), (6, 12)]\n",
    "cost = 207"
   ]
  },
  {
   "cell_type": "code",
   "execution_count": 7,
   "metadata": {
    "collapsed": true
   },
   "outputs": [],
   "source": [
    "            \n",
    "count = 355256\n",
    "p = [(9, 25), (9, 26), (9, 27), (9, 28), (9, 29), (9, 30), (8, 30), (7, 30), (7, 31), (7, 32), (7, 33), (8, 33), (8, 34), (8, 35), (8, 36), (9, 36), (9, 37), (9, 38), (9, 39), (9, 40), (9, 41), (9, 42), (9, 43), (9, 42), (9, 41), (9, 40), (8, 40), (7, 40), (7, 41), (7, 42), (7, 43), (6, 43), (6, 44), (6, 45), (7, 45), (8, 45), (9, 45), (9, 46), (9, 47), (10, 47), (11, 47), (11, 46), (11, 45), (11, 44), (11, 43), (11, 44), (11, 45), (11, 46), (11, 47), (10, 47), (9, 47), (9, 46), (9, 45), (8, 45), (7, 45), (6, 45), (6, 44), (6, 43), (7, 43), (7, 42), (7, 41), (6, 41), (5, 41), (5, 40), (4, 40), (3, 40), (3, 41), (3, 42), (3, 43), (4, 43), (4, 44), (4, 45), (3, 45), (3, 46), (3, 47), (2, 47), (1, 47), (1, 46), (1, 47), (2, 47), (3, 47), (3, 46), (3, 45), (4, 45), (4, 44), (4, 43), (3, 43), (3, 42), (3, 41), (3, 40), (3, 39), (3, 38), (3, 37), (3, 36), (4, 36), (3, 36), (3, 35), (3, 34), (2, 34), (2, 33), (2, 32), (1, 32), (2, 32), (3, 32), (4, 32), (5, 32), (5, 33), (5, 32), (5, 31), (5, 30), (5, 29), (5, 28), (5, 27), (5, 26), (5, 25), (5, 24), (5, 23), (4, 23), (4, 22), (4, 21), (4, 20), (4, 19), (4, 18), (4, 19), (4, 20), (5, 20), (6, 20), (6, 21), (6, 20), (6, 19), (6, 18), (6, 17), (6, 16), (6, 15), (5, 15), (4, 15), (4, 14), (3, 14), (3, 13), (4, 13), (4, 12), (4, 11), (3, 11), (3, 10), (3, 9), (2, 9), (1, 9), (1, 10), (1, 11), (1, 12), (1, 13), (1, 14), (1, 13), (1, 12), (1, 11), (1, 10), (1, 9), (2, 9), (3, 9), (3, 8), (4, 8), (4, 7), (4, 6), (3, 6), (4, 6), (4, 5), (4, 4), (3, 4), (2, 4), (1, 4), (1, 3), (1, 2), (1, 1), (2, 1), (3, 1), (4, 1), (5, 1), (6, 1), (6, 2), (6, 3), (7, 3), (8, 3), (8, 2), (8, 1), (9, 1), (9, 2), (9, 3), (9, 4), (9, 5), (9, 6), (9, 7), (10, 7), (11, 7), (11, 6), (11, 5), (11, 6), (11, 7), (10, 7), (10, 8), (10, 9), (9, 9), (8, 9), (7, 9), (6, 9), (6, 10), (6, 11), (6, 12)]\n",
    "cost = 207\n",
    "\n",
    "\n",
    "filename = \"1.2-med-Astar\"\n",
    "maze = inputMaze('mediumsearch.txt')\n",
    "a,dot_pos,b = findStartNDots(maze)\n",
    "\n",
    "\n",
    "\n",
    "order = []\n",
    "for i in p:\n",
    "    if isDot(i,dot_pos):\n",
    "        order.append(i)\n",
    "            \n",
    "for i in range(len(order)):\n",
    "    if i<10:\n",
    "        maze[(order[i])[0]][(order[i])[1]] = chr(i+48)\n",
    "    else:\n",
    "        maze[(order[i])[0]][(order[i])[1]] = chr(i-10+97)\n",
    "\n",
    "    #print(i)\n",
    "f = open(filename,\"w\")\n",
    "for i in range(len(maze)):\n",
    "    for j in range(len(maze[0])):\n",
    "        f.write(maze[i][j])\n",
    "    f.write('\\n')\n",
    "f.write(\"cost is %d \\n\" %cost)\n",
    "f.write(\"number of expanded nodes is %d \\n\"%count)\n",
    "f.close()"
   ]
  }
 ],
 "metadata": {
  "celltoolbar": "Raw Cell Format",
  "kernelspec": {
   "display_name": "Python 2",
   "language": "python",
   "name": "python2"
  },
  "language_info": {
   "codemirror_mode": {
    "name": "ipython",
    "version": 2
   },
   "file_extension": ".py",
   "mimetype": "text/x-python",
   "name": "python",
   "nbconvert_exporter": "python",
   "pygments_lexer": "ipython2",
   "version": "2.7.11"
  }
 },
 "nbformat": 4,
 "nbformat_minor": 2
}
