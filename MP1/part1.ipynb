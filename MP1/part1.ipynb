{
 "cells": [
  {
   "cell_type": "code",
   "execution_count": 1,
   "metadata": {
    "collapsed": true,
    "scrolled": false
   },
   "outputs": [],
   "source": [
    "def readMaze(name = \"mediumMaze.txt\"):\n",
    "    f = open(\"mediumMaze.txt\",\"r\")\n",
    "    message = f.read()\n",
    "    print(message)\n",
    "    f.close()"
   ]
  },
  {
   "cell_type": "code",
   "execution_count": 2,
   "metadata": {
    "collapsed": true
   },
   "outputs": [],
   "source": [
    "def inputMaze(name=\"mediumMaze.txt\"):\n",
    "    with open(name) as mazeTxt:\n",
    "    # read every line of the txt file, while ignoring last two chars of each line, since they are line break symbols\n",
    "        maze = [list(line)[0:-1] for line in mazeTxt]\n",
    "        rows = len(maze)\n",
    "        maze[rows-1].append('%')\n",
    "        return maze         # returns a 2D array"
   ]
  },
  {
   "cell_type": "code",
   "execution_count": 3,
   "metadata": {},
   "outputs": [
    {
     "name": "stdout",
     "output_type": "stream",
     "text": [
      "%%%%%%%%%%%%%%%%%%%%%%%%%%%%%%%%%%%%%%%%%%%%%%%%%%%%%%%%%%%%%\n",
      "%         % %           %     %           %           %    .%\n",
      "% %%%% %% % % %%%%% %%%%% %%% % %%%% %% %%% %% %% %%% % % % %\n",
      "% %     %   %     %       %   %       %     %   % % %   % % %\n",
      "% % %%% % %%%% %% %%%%%%%%% %%%%% %%% % %%% % % % % %%%%% % %\n",
      "% %   %   %       %       %       %   %   % % % %     %   % %\n",
      "% % %%% %%% %%% %%% % %%% %%%% %% % %%% % %%% % %%% %%% %%% %\n",
      "%   %     %     %   % %         % % %   %     %   % %   % % %\n",
      "% %%% %%% %%%%% %%%%% % %%% %%% %%%%% %%%%%% %%%% %%% %%% % %\n",
      "%     %       %         % % %         %   %     %     %   % %\n",
      "% %%%%% %%%%% %%%%% %%% % % % %%%%%%%%% % % %%% %%% %%% %%% %\n",
      "% %   % %   %         % %   % %     %   % % %           %   %\n",
      "% % %%% % %%% %%%%% % % %%%%% % % %%% % % %%% %%%%% %%%%% %%%\n",
      "%   %   % %       % % %   %   % %   % % %     %     %   % % %\n",
      "% %%% %%% % % %%% %%% %%% % %%% %%% % % %%%%%%%%% %%% % % % %\n",
      "% %   %   % %   %   % %   % %     %   %   %     % %   %   % %\n",
      "%   %%% % % % % % % % % %%% % %%%%%%% %%% % %%% % % %%%%%%% %\n",
      "% %   % %   % %   %   % %                 % %   % % %       %\n",
      "% %%% %%% %%% %%% % %%% % %%% % %%%%%% %%%% % %%%%% % % %%% %\n",
      "%   %         %   % %   % %   %         %   % %     % % %   %\n",
      "%%% %%% % %%%%% %%%%% %%%%% %%% %%%%%%% % %%% % %%%%%%% % %%%\n",
      "%P    %       %             %         %     %           %   %\n",
      "%%%%%%%%%%%%%%%%%%%%%%%%%%%%%%%%%%%%%%%%%%%%%%%%%%%%%%%%%%%%%\n",
      "[['%', '%', '%', '%', '%', '%', '%', '%', '%', '%', '%', '%', '%', '%', '%', '%', '%', '%', '%', '%', '%', '%', '%', '%', '%', '%', '%', '%', '%', '%', '%', '%', '%', '%', '%', '%', '%', '%', '%', '%', '%', '%', '%', '%', '%', '%', '%', '%', '%', '%', '%', '%', '%', '%', '%', '%', '%', '%', '%', '%', '%'], ['%', ' ', ' ', ' ', ' ', ' ', ' ', ' ', ' ', ' ', '%', ' ', '%', ' ', ' ', ' ', ' ', ' ', ' ', ' ', ' ', ' ', ' ', ' ', '%', ' ', ' ', ' ', ' ', ' ', '%', ' ', ' ', ' ', ' ', ' ', ' ', ' ', ' ', ' ', ' ', ' ', '%', ' ', ' ', ' ', ' ', ' ', ' ', ' ', ' ', ' ', ' ', ' ', '%', ' ', ' ', ' ', ' ', '.', '%'], ['%', ' ', '%', '%', '%', '%', ' ', '%', '%', ' ', '%', ' ', '%', ' ', '%', '%', '%', '%', '%', ' ', '%', '%', '%', '%', '%', ' ', '%', '%', '%', ' ', '%', ' ', '%', '%', '%', '%', ' ', '%', '%', ' ', '%', '%', '%', ' ', '%', '%', ' ', '%', '%', ' ', '%', '%', '%', ' ', '%', ' ', '%', ' ', '%', ' ', '%'], ['%', ' ', '%', ' ', ' ', ' ', ' ', ' ', '%', ' ', ' ', ' ', '%', ' ', ' ', ' ', ' ', ' ', '%', ' ', ' ', ' ', ' ', ' ', ' ', ' ', '%', ' ', ' ', ' ', '%', ' ', ' ', ' ', ' ', ' ', ' ', ' ', '%', ' ', ' ', ' ', ' ', ' ', '%', ' ', ' ', ' ', '%', ' ', '%', ' ', '%', ' ', ' ', ' ', '%', ' ', '%', ' ', '%'], ['%', ' ', '%', ' ', '%', '%', '%', ' ', '%', ' ', '%', '%', '%', '%', ' ', '%', '%', ' ', '%', '%', '%', '%', '%', '%', '%', '%', '%', ' ', '%', '%', '%', '%', '%', ' ', '%', '%', '%', ' ', '%', ' ', '%', '%', '%', ' ', '%', ' ', '%', ' ', '%', ' ', '%', ' ', '%', '%', '%', '%', '%', ' ', '%', ' ', '%'], ['%', ' ', '%', ' ', ' ', ' ', '%', ' ', ' ', ' ', '%', ' ', ' ', ' ', ' ', ' ', ' ', ' ', '%', ' ', ' ', ' ', ' ', ' ', ' ', ' ', '%', ' ', ' ', ' ', ' ', ' ', ' ', ' ', '%', ' ', ' ', ' ', '%', ' ', ' ', ' ', '%', ' ', '%', ' ', '%', ' ', '%', ' ', ' ', ' ', ' ', ' ', '%', ' ', ' ', ' ', '%', ' ', '%'], ['%', ' ', '%', ' ', '%', '%', '%', ' ', '%', '%', '%', ' ', '%', '%', '%', ' ', '%', '%', '%', ' ', '%', ' ', '%', '%', '%', ' ', '%', '%', '%', '%', ' ', '%', '%', ' ', '%', ' ', '%', '%', '%', ' ', '%', ' ', '%', '%', '%', ' ', '%', ' ', '%', '%', '%', ' ', '%', '%', '%', ' ', '%', '%', '%', ' ', '%'], ['%', ' ', ' ', ' ', '%', ' ', ' ', ' ', ' ', ' ', '%', ' ', ' ', ' ', ' ', ' ', '%', ' ', ' ', ' ', '%', ' ', '%', ' ', ' ', ' ', ' ', ' ', ' ', ' ', ' ', ' ', '%', ' ', '%', ' ', '%', ' ', ' ', ' ', '%', ' ', ' ', ' ', ' ', ' ', '%', ' ', ' ', ' ', '%', ' ', '%', ' ', ' ', ' ', '%', ' ', '%', ' ', '%'], ['%', ' ', '%', '%', '%', ' ', '%', '%', '%', ' ', '%', '%', '%', '%', '%', ' ', '%', '%', '%', '%', '%', ' ', '%', ' ', '%', '%', '%', ' ', '%', '%', '%', ' ', '%', '%', '%', '%', '%', ' ', '%', '%', '%', '%', '%', '%', ' ', '%', '%', '%', '%', ' ', '%', '%', '%', ' ', '%', '%', '%', ' ', '%', ' ', '%'], ['%', ' ', ' ', ' ', ' ', ' ', '%', ' ', ' ', ' ', ' ', ' ', ' ', ' ', '%', ' ', ' ', ' ', ' ', ' ', ' ', ' ', ' ', ' ', '%', ' ', '%', ' ', '%', ' ', ' ', ' ', ' ', ' ', ' ', ' ', ' ', ' ', '%', ' ', ' ', ' ', '%', ' ', ' ', ' ', ' ', ' ', '%', ' ', ' ', ' ', ' ', ' ', '%', ' ', ' ', ' ', '%', ' ', '%'], ['%', ' ', '%', '%', '%', '%', '%', ' ', '%', '%', '%', '%', '%', ' ', '%', '%', '%', '%', '%', ' ', '%', '%', '%', ' ', '%', ' ', '%', ' ', '%', ' ', '%', '%', '%', '%', '%', '%', '%', '%', '%', ' ', '%', ' ', '%', ' ', '%', '%', '%', ' ', '%', '%', '%', ' ', '%', '%', '%', ' ', '%', '%', '%', ' ', '%'], ['%', ' ', '%', ' ', ' ', ' ', '%', ' ', '%', ' ', ' ', ' ', '%', ' ', ' ', ' ', ' ', ' ', ' ', ' ', ' ', ' ', '%', ' ', '%', ' ', ' ', ' ', '%', ' ', '%', ' ', ' ', ' ', ' ', ' ', '%', ' ', ' ', ' ', '%', ' ', '%', ' ', '%', ' ', ' ', ' ', ' ', ' ', ' ', ' ', ' ', ' ', ' ', ' ', '%', ' ', ' ', ' ', '%'], ['%', ' ', '%', ' ', '%', '%', '%', ' ', '%', ' ', '%', '%', '%', ' ', '%', '%', '%', '%', '%', ' ', '%', ' ', '%', ' ', '%', '%', '%', '%', '%', ' ', '%', ' ', '%', ' ', '%', '%', '%', ' ', '%', ' ', '%', ' ', '%', '%', '%', ' ', '%', '%', '%', '%', '%', ' ', '%', '%', '%', '%', '%', ' ', '%', '%', '%'], ['%', ' ', ' ', ' ', '%', ' ', ' ', ' ', '%', ' ', '%', ' ', ' ', ' ', ' ', ' ', ' ', ' ', '%', ' ', '%', ' ', '%', ' ', ' ', ' ', '%', ' ', ' ', ' ', '%', ' ', '%', ' ', ' ', ' ', '%', ' ', '%', ' ', '%', ' ', ' ', ' ', ' ', ' ', '%', ' ', ' ', ' ', ' ', ' ', '%', ' ', ' ', ' ', '%', ' ', '%', ' ', '%'], ['%', ' ', '%', '%', '%', ' ', '%', '%', '%', ' ', '%', ' ', '%', ' ', '%', '%', '%', ' ', '%', '%', '%', ' ', '%', '%', '%', ' ', '%', ' ', '%', '%', '%', ' ', '%', '%', '%', ' ', '%', ' ', '%', ' ', '%', '%', '%', '%', '%', '%', '%', '%', '%', ' ', '%', '%', '%', ' ', '%', ' ', '%', ' ', '%', ' ', '%'], ['%', ' ', '%', ' ', ' ', ' ', '%', ' ', ' ', ' ', '%', ' ', '%', ' ', ' ', ' ', '%', ' ', ' ', ' ', '%', ' ', '%', ' ', ' ', ' ', '%', ' ', '%', ' ', ' ', ' ', ' ', ' ', '%', ' ', ' ', ' ', '%', ' ', ' ', ' ', '%', ' ', ' ', ' ', ' ', ' ', '%', ' ', '%', ' ', ' ', ' ', '%', ' ', ' ', ' ', '%', ' ', '%'], ['%', ' ', ' ', ' ', '%', '%', '%', ' ', '%', ' ', '%', ' ', '%', ' ', '%', ' ', '%', ' ', '%', ' ', '%', ' ', '%', ' ', '%', '%', '%', ' ', '%', ' ', '%', '%', '%', '%', '%', '%', '%', ' ', '%', '%', '%', ' ', '%', ' ', '%', '%', '%', ' ', '%', ' ', '%', ' ', '%', '%', '%', '%', '%', '%', '%', ' ', '%'], ['%', ' ', '%', ' ', ' ', ' ', '%', ' ', '%', ' ', ' ', ' ', '%', ' ', '%', ' ', ' ', ' ', '%', ' ', ' ', ' ', '%', ' ', '%', ' ', ' ', ' ', ' ', ' ', ' ', ' ', ' ', ' ', ' ', ' ', ' ', ' ', ' ', ' ', ' ', ' ', '%', ' ', '%', ' ', ' ', ' ', '%', ' ', '%', ' ', '%', ' ', ' ', ' ', ' ', ' ', ' ', ' ', '%'], ['%', ' ', '%', '%', '%', ' ', '%', '%', '%', ' ', '%', '%', '%', ' ', '%', '%', '%', ' ', '%', ' ', '%', '%', '%', ' ', '%', ' ', '%', '%', '%', ' ', '%', ' ', '%', '%', '%', '%', '%', '%', ' ', '%', '%', '%', '%', ' ', '%', ' ', '%', '%', '%', '%', '%', ' ', '%', ' ', '%', ' ', '%', '%', '%', ' ', '%'], ['%', ' ', ' ', ' ', '%', ' ', ' ', ' ', ' ', ' ', ' ', ' ', ' ', ' ', '%', ' ', ' ', ' ', '%', ' ', '%', ' ', ' ', ' ', '%', ' ', '%', ' ', ' ', ' ', '%', ' ', ' ', ' ', ' ', ' ', ' ', ' ', ' ', ' ', '%', ' ', ' ', ' ', '%', ' ', '%', ' ', ' ', ' ', ' ', ' ', '%', ' ', '%', ' ', '%', ' ', ' ', ' ', '%'], ['%', '%', '%', ' ', '%', '%', '%', ' ', '%', ' ', '%', '%', '%', '%', '%', ' ', '%', '%', '%', '%', '%', ' ', '%', '%', '%', '%', '%', ' ', '%', '%', '%', ' ', '%', '%', '%', '%', '%', '%', '%', ' ', '%', ' ', '%', '%', '%', ' ', '%', ' ', '%', '%', '%', '%', '%', '%', '%', ' ', '%', ' ', '%', '%', '%'], ['%', 'P', ' ', ' ', ' ', ' ', '%', ' ', ' ', ' ', ' ', ' ', ' ', ' ', '%', ' ', ' ', ' ', ' ', ' ', ' ', ' ', ' ', ' ', ' ', ' ', ' ', ' ', '%', ' ', ' ', ' ', ' ', ' ', ' ', ' ', ' ', ' ', '%', ' ', ' ', ' ', ' ', ' ', '%', ' ', ' ', ' ', ' ', ' ', ' ', ' ', ' ', ' ', ' ', ' ', '%', ' ', ' ', ' ', '%'], ['%', '%', '%', '%', '%', '%', '%', '%', '%', '%', '%', '%', '%', '%', '%', '%', '%', '%', '%', '%', '%', '%', '%', '%', '%', '%', '%', '%', '%', '%', '%', '%', '%', '%', '%', '%', '%', '%', '%', '%', '%', '%', '%', '%', '%', '%', '%', '%', '%', '%', '%', '%', '%', '%', '%', '%', '%', '%', '%', '%', '%']]\n"
     ]
    }
   ],
   "source": [
    "readMaze()\n",
    "global maze\n",
    "maze = inputMaze()\n",
    "print maze"
   ]
  },
  {
   "cell_type": "code",
   "execution_count": 4,
   "metadata": {},
   "outputs": [
    {
     "name": "stdout",
     "output_type": "stream",
     "text": [
      "height is:  23\n",
      "width is:  61\n"
     ]
    }
   ],
   "source": [
    "global height\n",
    "global width\n",
    "global start\n",
    "global terminal\n",
    "\n",
    "height = len(maze)\n",
    "width = len(maze[0])\n",
    "print \"height is: \", height\n",
    "print \"width is: \", width\n"
   ]
  },
  {
   "cell_type": "code",
   "execution_count": 5,
   "metadata": {
    "collapsed": true
   },
   "outputs": [],
   "source": [
    "# returns a list of 2 tuples, first contains index of start point, and the second index of goal point\n",
    "def findStartNGoal():\n",
    "    for i in range(height):\n",
    "        for j in range(width):\n",
    "            if maze[i][j] == 'P':\n",
    "                start = (i,j)\n",
    "            if maze[i][j] == '.':\n",
    "                terminal = (i,j)\n",
    "    return [start, terminal]"
   ]
  },
  {
   "cell_type": "code",
   "execution_count": 6,
   "metadata": {},
   "outputs": [
    {
     "name": "stdout",
     "output_type": "stream",
     "text": [
      "start point is: (21, 1)\n",
      "terminal point is: (1, 59)\n"
     ]
    }
   ],
   "source": [
    "start = findStartNGoal()[0]\n",
    "terminal = findStartNGoal()[1]\n",
    "print \"start point is:\", start\n",
    "print \"terminal point is:\", terminal"
   ]
  },
  {
   "cell_type": "code",
   "execution_count": 30,
   "metadata": {
    "collapsed": true
   },
   "outputs": [],
   "source": [
    "#h\n",
    "def heuristic(current):\n",
    "    result = abs(current[0] - terminal[0]) + abs(current[1] - terminal[1])\n",
    "    return result"
   ]
  },
  {
   "cell_type": "code",
   "execution_count": 8,
   "metadata": {},
   "outputs": [
    {
     "name": "stdout",
     "output_type": "stream",
     "text": [
      "78\n"
     ]
    }
   ],
   "source": [
    "print heuristic(start)"
   ]
  },
  {
   "cell_type": "code",
   "execution_count": 9,
   "metadata": {
    "collapsed": true
   },
   "outputs": [],
   "source": [
    "#g = step = 0 for the start point \n",
    "def AStar_Init():\n",
    "    openList = []\n",
    "    step = 0\n",
    "    cost = heuristic(start) + step\n",
    "    openList.insert(0,(start,cost))\n",
    "    return openList"
   ]
  },
  {
   "cell_type": "code",
   "execution_count": 55,
   "metadata": {},
   "outputs": [],
   "source": [
    "# return a list of all the valid neighbors's index(coordinate)\n",
    "def valid_neighbors(currentResult,openList,closeList):\n",
    "    current = currentResult[0]\n",
    "    y = current[0]\n",
    "    x = current[1]\n",
    "    \n",
    "    #print (y,x)\n",
    "    \n",
    "    unzipped = zip(*openList)\n",
    "    #print unzipped\n",
    "    nodes = list(unzipped[0])\n",
    "    \n",
    "    \n",
    "    if (x+1) < width and maze[y][x+1] != '%' and (y,x+1) not in nodes and (y,x+1) not in closeList: \n",
    "        #print \"entered1\"\n",
    "        f = heuristic((y,x+1)) + steps((y,x+1))\n",
    "        openList.insert(0,((y,x+1),f))        \n",
    "    if (x-1) >= 0 and maze[y][x-1] != '%' and (y,x-1) not in nodes and (y,x-1) not in closeList :\n",
    "        #print \"entered2\"\n",
    "        f = heuristic((y,x-1)) + steps(((y,x-1)))\n",
    "        openList.insert(0,((y,x-1),f))\n",
    "    if (y+1) < height and maze[y+1][x] != '%' and  (y+1,x) not in nodes and  (y+1,x) not in closeList:\n",
    "        #print \"entered3\"\n",
    "        f = heuristic((y+1,x)) + steps(((y+1,x)))\n",
    "        openList.insert(0,((y+1,x),f))\n",
    "    if (y-1) >= 0 and maze[y-1][x] != '%' and (y-1,x) not in nodes and (y-1,x) not in closeList :\n",
    "        #print \"entered4\"\n",
    "        f = heuristic((y-1,x)) + steps(((y-1,x)))\n",
    "        openList.insert(0,((y-1,x),f))\n",
    "    return openList"
   ]
  },
  {
   "cell_type": "code",
   "execution_count": 56,
   "metadata": {},
   "outputs": [],
   "source": [
    "def steps(current):\n",
    "    result = abs(current[0] - start[0]) + abs(current[1] - start[1])\n",
    "    return result"
   ]
  },
  {
   "cell_type": "code",
   "execution_count": 57,
   "metadata": {
    "collapsed": true
   },
   "outputs": [],
   "source": [
    "def findSmallestF(openList):\n",
    "    return min(openList, key = lambda x: x[1])"
   ]
  },
  {
   "cell_type": "code",
   "execution_count": 60,
   "metadata": {},
   "outputs": [],
   "source": [
    "def AStar():\n",
    "    closeList = []\n",
    "    openList = AStar_Init();  #output is (point, F)\n",
    "    while len(openList) != 0:\n",
    "        currentResult = min(openList, key = lambda x: x[1])\n",
    "        closeList.insert(0,currentResult[0])\n",
    "        openList = valid_neighbors(currentResult,openList,closeList)\n",
    "        openList.remove(currentResult)\n",
    "        for item in openList:\n",
    "            if item[0] == terminal:\n",
    "                closeList.insert(0,item[0])\n",
    "                return closeList\n",
    "    return null\n",
    "\n",
    "\n"
   ]
  },
  {
   "cell_type": "code",
   "execution_count": 62,
   "metadata": {},
   "outputs": [
    {
     "name": "stdout",
     "output_type": "stream",
     "text": [
      "%%%%%%%%%%%%%%%%%%%%%%%%%%%%%%%%%%%%%%%%%%%%%%%%%%%%%%%%%%%%%\n",
      "%         % %           %     %           %           %    .%\n",
      "% %%%% %% % % %%%%% %%%%% %%% % %%%% %% %%% %% %% %%% % % % %\n",
      "% %     %   %     %       %   %       %     %   % % %   % % %\n",
      "% % %%% % %%%% %% %%%%%%%%% %%%%% %%% % %%% % % % % %%%%% % %\n",
      "% %   %   %       %       %       %   %   % % % %     %   % %\n",
      "% % %%% %%% %%% %%% % %%% %%%% %% % %%% % %%% % %%% %%% %%% %\n",
      "%   %     %     %   % %         % % %   %     %   % %   % % %\n",
      "% %%% %%% %%%%% %%%%% % %%% %%% %%%%% %%%%%% %%%% %%% %%% % %\n",
      "%     %       %         % % %         %   %     %     %   % %\n",
      "% %%%%% %%%%% %%%%% %%% % % % %%%%%%%%% % % %%% %%% %%% %%% %\n",
      "% %   % %   %         % %   % %     %   % % %           %   %\n",
      "% % %%% % %%% %%%%% % % %%%%% % % %%% % % %%% %%%%% %%%%% %%%\n",
      "%   %   % %       % % %   %   % %   % % %     %     %   % % %\n",
      "% %%% %%% % % %%% %%% %%% % %%% %%% % % %%%%%%%%% %%% % % % %\n",
      "% %   %   % %   %   % %   % %     %   %   %     % %   %   % %\n",
      "%   %%% % % % % % % % % %%% % %%%%%%% %%% % %%% % % %%%%%%% %\n",
      "% %   % %   % %   %   % %                 % %   % % %       %\n",
      "% %%% %%% %%% %%% % %%% % %%% % %%%%%% %%%% % %%%%% % % %%% %\n",
      "%   %         %   % %   % %   %         %   % %     % % %   %\n",
      "%%% %%% % %%%%% %%%%% %%%%% %%% %%%%%%% % %%% % %%%%%%% % %%%\n",
      "%P    %       %             %         %     %           %   %\n",
      "%%%%%%%%%%%%%%%%%%%%%%%%%%%%%%%%%%%%%%%%%%%%%%%%%%%%%%%%%%%%%\n",
      "443\n"
     ]
    }
   ],
   "source": [
    "readMaze()\n",
    "result = AStar()\n",
    "print len(result)"
   ]
  },
  {
   "cell_type": "code",
   "execution_count": null,
   "metadata": {
    "collapsed": true
   },
   "outputs": [],
   "source": [
    "def DFSBFS(search_method):\n",
    "    # search_method 0 for dfs\n",
    "    # 1 for bfs\n",
    "\n",
    "    #set up the matrix for visited matrix\n",
    "    visited = (height * width) * [False]\n",
    "    # set up the matrix for the path\n",
    "    path = (height*width) * [None]\n",
    "\n",
    "    ele_list = []\n",
    "    ele_list.insert(0,start)\n",
    "   \n",
    "    #mark as visited\n",
    "    visited[start[0]*width+start[1]] = True\n",
    "\n",
    "    while ele_list:\n",
    "        curr = ele_list.pop()\n",
    "        if curr == terminal:\n",
    "            break\n",
    "\n",
    "        neighbors = valid_neighbors(curr,maze,height,width)\n",
    "        for n in neighbors:\n",
    "            if n!= None:\n",
    "                if visited[n[0]*width+n[1]] == False:\n",
    "                    if search_method == 0: #stack, insert at back\n",
    "                        ele_list.append(n)\n",
    "                    else:\n",
    "                            #bfs(queue), insert at front\n",
    "                        ele_list.insert(0,n)\n",
    "                    visited[n[0]*width+n[1]] = True\n",
    "                    path[n[0]*width+n[1]] = curr\n",
    "\n",
    "    bookkeeping = []\n",
    "    curr = terminal\n",
    "    while curr!=None:\n",
    "        bookkeeping.insert(0,curr)\n",
    "        curr = path[curr[0]*width+curr[1]]\n",
    "\n",
    "    return bookkeeping\n",
    "\n",
    "\n",
    "def outputMaze(maze,search_method,filename):\n",
    "    path = DFSBFS(maze,search_method)\n",
    "    for i in range(1,len(path)):\n",
    "        maze[(path[i])[0]][(path[i])[1]] = '.'\n",
    "    f = open(filename,\"w\")\n",
    "    for i in range(len(maze)):\n",
    "        for j in range(len(maze[0])):\n",
    "            f.write(maze[i][j])\n",
    "        f.write('\\n')\n",
    "    f.close()"
   ]
  },
  {
   "cell_type": "code",
   "execution_count": null,
   "metadata": {},
   "outputs": [],
   "source": [
    "outputMaze()"
   ]
  },
  {
   "cell_type": "code",
   "execution_count": null,
   "metadata": {
    "collapsed": true
   },
   "outputs": [],
   "source": []
  }
 ],
 "metadata": {
  "kernelspec": {
   "display_name": "Python 2",
   "language": "python",
   "name": "python2"
  },
  "language_info": {
   "codemirror_mode": {
    "name": "ipython",
    "version": 2
   },
   "file_extension": ".py",
   "mimetype": "text/x-python",
   "name": "python",
   "nbconvert_exporter": "python",
   "pygments_lexer": "ipython2",
   "version": "2.7.13"
  }
 },
 "nbformat": 4,
 "nbformat_minor": 2
}
