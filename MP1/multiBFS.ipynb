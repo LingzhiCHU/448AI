{
 "cells": [
  {
   "cell_type": "code",
   "execution_count": 1,
   "metadata": {
    "collapsed": true
   },
   "outputs": [],
   "source": [
    "import sys\n",
    "sys.setrecursionlimit(1500)"
   ]
  },
  {
   "cell_type": "code",
   "execution_count": 2,
   "metadata": {
    "collapsed": true
   },
   "outputs": [],
   "source": [
    "def inputMaze(name=\"tinySearch.txt\"):\n",
    "    with open(name) as mazeTxt:\n",
    "        maze = [list(line)[0:-1] for line in mazeTxt]\n",
    "        rows = len(maze)\n",
    "        maze[rows-1].append('%')\n",
    "    return maze\n",
    "\n",
    "def inputMaze1(name=\"tinySearch.txt\"):\n",
    "    with open(name) as mazeTxt:\n",
    "        maze = [list(line)[:] for line in mazeTxt]\n",
    "        rows = len(maze)\n",
    "    return maze"
   ]
  },
  {
   "cell_type": "code",
   "execution_count": null,
   "metadata": {
    "collapsed": true
   },
   "outputs": [],
   "source": [
    "#maze = inputMaze()\n",
    "#print(maze)\n",
    "#print len(maze)\n",
    "#for i in range(len(maze)):\n",
    "#    print len(maze[i])"
   ]
  },
  {
   "cell_type": "markdown",
   "metadata": {},
   "source": [
    "##### let's try to implement the new state representation and start with BFS"
   ]
  },
  {
   "cell_type": "code",
   "execution_count": 3,
   "metadata": {
    "collapsed": true
   },
   "outputs": [],
   "source": [
    "tiny_search = inputMaze(\"tinySearch.txt\")\n",
    "small_search = inputMaze1(\"smallSearch.txt\")\n",
    "medium_search = inputMaze1(\"mediumSearch.txt\")"
   ]
  },
  {
   "cell_type": "code",
   "execution_count": 4,
   "metadata": {
    "collapsed": false
   },
   "outputs": [
    {
     "name": "stdout",
     "output_type": "stream",
     "text": [
      "[['%', '%', '%', '%', '%', '%', '%', '%', '%', '%'], ['%', '.', ' ', ' ', '%', ' ', '.', ' ', ' ', '%'], ['%', ' ', '%', '.', '%', ' ', '%', '%', ' ', '%'], ['%', ' ', '%', ' ', ' ', ' ', '.', '%', '.', '%'], ['%', ' ', '.', '%', 'P', '%', ' ', ' ', ' ', '%'], ['%', '.', ' ', ' ', '.', ' ', ' ', '.', ' ', '%'], ['%', ' ', '%', '%', '%', '%', ' ', '%', ' ', '%'], ['%', '.', ' ', '.', ' ', ' ', ' ', '%', '.', '%'], ['%', '%', '%', '%', '%', '%', '%', '%', '%', '%']]\n",
      "13\n",
      "31\n",
      "31\n",
      "31\n",
      "31\n",
      "31\n",
      "31\n",
      "31\n",
      "31\n",
      "31\n",
      "31\n",
      "31\n",
      "31\n",
      "31\n"
     ]
    }
   ],
   "source": [
    "print(tiny_search)\n",
    "\n",
    "cur_search = small_search\n",
    "print(len(cur_search))\n",
    "for i in range(len(cur_search)):\n",
    "    print(len(cur_search[i]))\n"
   ]
  },
  {
   "cell_type": "code",
   "execution_count": 5,
   "metadata": {
    "collapsed": true
   },
   "outputs": [],
   "source": [
    "# this func returns 3 things: start coordinate, dot_positions and the number of dots\n",
    "def findStartNDots(maze):\n",
    "    dot_positions = set()   # dot_pos set will be used to hold dot coordinates in form of tuples\n",
    "    dot_count = 0\n",
    "    for i in range(len(maze)):\n",
    "        for j in range(len(maze[0])):\n",
    "            if maze[i][j] == 'P':\n",
    "                start = (i,j)\n",
    "            if maze[i][j] == '.':\n",
    "                dot_count += 1\n",
    "                dot_positions.add((i,j))\n",
    "    return [start, dot_positions, dot_count]\n",
    "\n",
    "#start, dot_pos, N = findStartNDots(tiny_search)\n",
    "#print(start, dot_pos, N)"
   ]
  },
  {
   "cell_type": "code",
   "execution_count": 6,
   "metadata": {
    "collapsed": true
   },
   "outputs": [],
   "source": [
    "# must be called in wrapper! (dot_pos) should be available when calling this func\n",
    "# check whether cur_pos is on dot\n",
    "# input: cor is a (x, y) tuple\n",
    "def isDot(cor, dot_pos):\n",
    "    if cor in dot_pos:\n",
    "        return True\n",
    "    else:\n",
    "        return False"
   ]
  },
  {
   "cell_type": "code",
   "execution_count": 7,
   "metadata": {
    "collapsed": true
   },
   "outputs": [],
   "source": [
    "def multi_valid_neighbors(cur_state, maze, height, width, dot_pos):\n",
    "    y = cur_state[0][0]\n",
    "    x = cur_state[0][1]\n",
    "    cur_pos = (y, x)\n",
    "    \n",
    "    \n",
    "    valid_neighbors = []\n",
    "    if (x-1) >= 0 and maze[y][x-1] != '%':\n",
    "        new_pos = (y, x-1)\n",
    "        cur_eaten = set(cur_state[1])\n",
    "        if isDot(new_pos, dot_pos):\n",
    "            cur_eaten.add(new_pos)\n",
    "            valid_neighbors.append( (new_pos, frozenset(cur_eaten)) )\n",
    "        else:                  \n",
    "            valid_neighbors.append( (new_pos, frozenset(cur_eaten)) )\n",
    "    if (y+1) < height and maze[y+1][x] != '%':\n",
    "        new_pos = (y+1, x)\n",
    "        cur_eaten = set(cur_state[1])\n",
    "        if isDot(new_pos, dot_pos):\n",
    "            cur_eaten.add(new_pos)\n",
    "            valid_neighbors.append( (new_pos, frozenset(cur_eaten)) )\n",
    "        else:\n",
    "            valid_neighbors.append( (new_pos, frozenset(cur_eaten)) )                           \n",
    "    if (x+1) < width and maze[y][x+1] != '%':\n",
    "        new_pos = (y, x+1)\n",
    "        cur_eaten = set(cur_state[1])\n",
    "        if isDot(new_pos, dot_pos):\n",
    "            cur_eaten.add(new_pos)\n",
    "            valid_neighbors.append( (new_pos, frozenset(cur_eaten)) )\n",
    "        else:\n",
    "            valid_neighbors.append( (new_pos, frozenset(cur_eaten)) )\n",
    "                                   \n",
    "    if (y-1) >= 0 and maze[y-1][x] != '%':\n",
    "        new_pos = (y-1, x)\n",
    "        cur_eaten = set(cur_state[1])\n",
    "        if isDot(new_pos, dot_pos):\n",
    "            cur_eaten.add(new_pos)\n",
    "            valid_neighbors.append( (new_pos, frozenset(cur_eaten)) )\n",
    "        else:\n",
    "            valid_neighbors.append( (new_pos, frozenset(cur_eaten)) )\n",
    "                                   \n",
    "    return valid_neighbors"
   ]
  },
  {
   "cell_type": "code",
   "execution_count": 20,
   "metadata": {
    "collapsed": true
   },
   "outputs": [],
   "source": [
    "#\n",
    "# !! when using set inside a set, we have to use frozenset(), so that it is immutable,\n",
    "# !! Actually tuple is just immutable\n",
    "def multiBfs(search):\n",
    "    height = len(search)\n",
    "    width = len(search[0])\n",
    "    \n",
    "    \n",
    "    start_pos, dot_pos, N = findStartNDots(search)\n",
    "    # start state is in the form of ((x,y),{visited dots})\n",
    "    start_state = (start_pos, frozenset())\n",
    "    \n",
    "    \n",
    "    # visited is a set of state which has the same form as start_state\n",
    "    # so, { state0, state1, ...}\n",
    "    visited = set()\n",
    "    # set up the dict for the track\n",
    "    track = {}\n",
    "    \n",
    "    \n",
    "    # use queue for BFS implementation\n",
    "    # set up the queue\n",
    "    # the queue holds states like in the same form as start_state\n",
    "    queue = []\n",
    "    queue.insert(0, start_state)\n",
    "    # add start_state to visited\n",
    "    visited.add(start_state)\n",
    "\n",
    "    count = 0\n",
    "    success = False\n",
    "    final_state = start_state\n",
    "    while queue:\n",
    "        count += 1\n",
    "        cur = queue.pop()\n",
    "        if len(cur[1]) == N:       # BASE CASE: if we have visited/eaten all the dots\n",
    "            success = True\n",
    "            final_state = cur\n",
    "            break\n",
    "            \n",
    "        neighbors = multi_valid_neighbors(cur, search, height, width, dot_pos)\n",
    "        for nei in neighbors:\n",
    "            if nei!= None:\n",
    "                if nei not in visited:\n",
    "                    queue.insert(0,nei)\n",
    "                    visited.add(nei)\n",
    "                    track[nei] = cur\n",
    "                    \n",
    "        if count%100000 == 0:\n",
    "            print(count)\n",
    "            \n",
    "    path = []\n",
    "    c = 0\n",
    "    cur = final_state\n",
    "    while len(cur[1]) != 0:\n",
    "        c += 1\n",
    "        path.insert(0, cur[0])\n",
    "        cur = track[cur]\n",
    "        if c%100000 == 0:\n",
    "            print(c)\n",
    "    return success, path\n"
   ]
  },
  {
   "cell_type": "code",
   "execution_count": 21,
   "metadata": {
    "collapsed": true
   },
   "outputs": [],
   "source": [
    "_, path = multiBfs(tiny_search)"
   ]
  },
  {
   "cell_type": "code",
   "execution_count": 23,
   "metadata": {
    "collapsed": false
   },
   "outputs": [
    {
     "name": "stdout",
     "output_type": "stream",
     "text": [
      "[(5, 4), (5, 5), (5, 6), (5, 7), (5, 8), (6, 8), (7, 8), (6, 8), (5, 8), (4, 8), (3, 8), (2, 8), (1, 8), (1, 7), (1, 6), (1, 5), (2, 5), (3, 5), (3, 6), (3, 5), (3, 4), (3, 3), (2, 3), (1, 3), (1, 2), (1, 1), (2, 1), (3, 1), (4, 1), (4, 2), (4, 1), (5, 1), (6, 1), (7, 1), (7, 2), (7, 3)]\n",
      "36\n"
     ]
    }
   ],
   "source": [
    "print(path)\n",
    "print(len(path))"
   ]
  },
  {
   "cell_type": "code",
   "execution_count": 24,
   "metadata": {
    "collapsed": false
   },
   "outputs": [
    {
     "ename": "NameError",
     "evalue": "name 'cur' is not defined",
     "output_type": "error",
     "traceback": [
      "\u001b[0;31m---------------------------------------------------------------------------\u001b[0m",
      "\u001b[0;31mNameError\u001b[0m                                 Traceback (most recent call last)",
      "\u001b[0;32m<ipython-input-24-044717420145>\u001b[0m in \u001b[0;36m<module>\u001b[0;34m()\u001b[0m\n\u001b[1;32m      1\u001b[0m \u001b[0;32mfor\u001b[0m \u001b[0mi\u001b[0m \u001b[0;32min\u001b[0m \u001b[0mrange\u001b[0m\u001b[0;34m(\u001b[0m\u001b[0;36m8\u001b[0m\u001b[0;34m)\u001b[0m\u001b[0;34m:\u001b[0m\u001b[0;34m\u001b[0m\u001b[0m\n\u001b[0;32m----> 2\u001b[0;31m     \u001b[0mcur\u001b[0m \u001b[0;34m+=\u001b[0m \u001b[0mi\u001b[0m\u001b[0;34m\u001b[0m\u001b[0m\n\u001b[0m\u001b[1;32m      3\u001b[0m \u001b[0mprint\u001b[0m\u001b[0;34m(\u001b[0m\u001b[0mcur\u001b[0m\u001b[0;34m)\u001b[0m\u001b[0;34m\u001b[0m\u001b[0m\n\u001b[1;32m      4\u001b[0m \u001b[0;34m\u001b[0m\u001b[0m\n\u001b[1;32m      5\u001b[0m \u001b[0;34m\u001b[0m\u001b[0m\n",
      "\u001b[0;31mNameError\u001b[0m: name 'cur' is not defined"
     ]
    }
   ],
   "source": [
    "# 此cell为试验场，以下内容请忽略\n",
    "\n",
    "## !!! a var in a loop is not valid outside of it\n",
    "#for i in range(8):\n",
    "#    cur += i\n",
    "#print(cur)\n",
    "   \n",
    "\n",
    "#dict = {}\n",
    "#print(type(dict))\n",
    "\n",
    "#b = {1,2,3}\n",
    "#def scope(b):\n",
    "#    b = set()\n",
    "#    print(\"inner\", len(b))\n",
    "\n",
    "#scope(b)    \n",
    "#print(\"outer\", b)\n",
    "\n",
    "## no bad thing will happen if we add already existing element into set\n",
    "#a = {1,2}\n",
    "#a.add(2)\n",
    "#print(a)\n",
    "\n",
    "# local var in outer func cannot be automatically passed into inner func, but global var can\n",
    "'''\n",
    "def inner():\n",
    "    print(a)\n",
    "    \n",
    "def outer():\n",
    "    a = 10\n",
    "    print(\"fuck\")\n",
    "    inner()\n",
    "    print(\"fuck\")\n",
    "outer()\n",
    "'''\n",
    "\n",
    "'''\n",
    "f = frozenset([1,2,3])\n",
    "print(\"f type is \", type(f))\n",
    "\n",
    "b = set(f)\n",
    "print(\"b type is\", type(b))\n",
    "print(b)\n",
    "b.add(9)\n",
    "print(b)\n",
    "'''\n",
    "#ff = frozenset(b)\n",
    "#print(type(ff))"
   ]
  },
  {
   "cell_type": "code",
   "execution_count": null,
   "metadata": {
    "collapsed": true
   },
   "outputs": [],
   "source": []
  }
 ],
 "metadata": {
  "kernelspec": {
   "display_name": "Python 2",
   "language": "python",
   "name": "python2"
  },
  "language_info": {
   "codemirror_mode": {
    "name": "ipython",
    "version": 2
   },
   "file_extension": ".py",
   "mimetype": "text/x-python",
   "name": "python",
   "nbconvert_exporter": "python",
   "pygments_lexer": "ipython2",
   "version": "2.7.11"
  }
 },
 "nbformat": 4,
 "nbformat_minor": 2
}
