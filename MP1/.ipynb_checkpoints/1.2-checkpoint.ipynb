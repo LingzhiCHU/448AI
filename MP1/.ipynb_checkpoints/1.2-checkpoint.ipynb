{
 "cells": [
  {
   "cell_type": "code",
   "execution_count": 1,
   "metadata": {
    "collapsed": true
   },
   "outputs": [],
   "source": [
    "import sys\n",
    "import math\n",
    "sys.setrecursionlimit(1500)"
   ]
  },
  {
   "cell_type": "code",
   "execution_count": 2,
   "metadata": {
    "collapsed": true
   },
   "outputs": [],
   "source": [
    "def inputMaze(name=\"tinySearch.txt\"):\n",
    "    with open(name) as mazeTxt:\n",
    "        maze = [list(line)[0:-2] for line in mazeTxt]\n",
    "        rows = len(maze)\n",
    "        maze[rows-1].append('%')\n",
    "        maze[rows-1].append('%')\n",
    "    return maze\n",
    "\n",
    "def inputMaze1(name):\n",
    "    with open(name) as mazeTxt:\n",
    "        maze = [list(line)[0:-1] for line in mazeTxt]\n",
    "        #rows = len(maze)\n",
    "        #maze[rows-1].append('%')\n",
    "    return maze"
   ]
  },
  {
   "cell_type": "markdown",
   "metadata": {
    "collapsed": false
   },
   "source": [
    "##### let's try to implement the new state representation and start with BFS"
   ]
  },
  {
   "cell_type": "code",
   "execution_count": 3,
   "metadata": {
    "collapsed": true
   },
   "outputs": [],
   "source": [
    "tiny_search = inputMaze(\"tinySearch.txt\")\n",
    "small_search = inputMaze1(\"smallSearch.txt\")\n",
    "medium_search = inputMaze1(\"mediumSearch.txt\")"
   ]
  },
  {
   "cell_type": "code",
   "execution_count": 4,
   "metadata": {
    "collapsed": false
   },
   "outputs": [
    {
     "name": "stdout",
     "output_type": "stream",
     "text": [
      "[['%', '%', '%', '%', '%', '%', '%', '%', '%', '%'], ['%', '.', ' ', ' ', '%', ' ', '.', ' ', ' ', '%'], ['%', ' ', '%', '.', '%', ' ', '%', '%', ' ', '%'], ['%', ' ', '%', ' ', ' ', ' ', '.', '%', '.', '%'], ['%', ' ', '.', '%', 'P', '%', ' ', ' ', ' ', '%'], ['%', '.', ' ', ' ', '.', ' ', ' ', '.', ' ', '%'], ['%', ' ', '%', '%', '%', '%', ' ', '%', ' ', '%'], ['%', '.', ' ', '.', ' ', ' ', ' ', '%', '.', '%'], ['%', '%', '%', '%', '%', '%', '%', '%', '%', '%']]\n",
      "9\n",
      "10\n",
      "10\n",
      "10\n",
      "10\n",
      "10\n",
      "10\n",
      "10\n",
      "10\n",
      "10\n"
     ]
    }
   ],
   "source": [
    "\n",
    "cur_search = tiny_search\n",
    "print(cur_search)\n",
    "print(len(cur_search))\n",
    "for i in range(len(cur_search)):\n",
    "    print(len(cur_search[i]))\n",
    "\n"
   ]
  },
  {
   "cell_type": "code",
   "execution_count": 5,
   "metadata": {
    "collapsed": false
   },
   "outputs": [
    {
     "name": "stdout",
     "output_type": "stream",
     "text": [
      "((4, 4), set([(7, 3), (5, 4), (7, 1), (5, 7), (3, 8), (2, 3), (3, 6), (4, 2), (5, 1), (1, 6), (7, 8), (1, 1)]), 12)\n"
     ]
    }
   ],
   "source": [
    "# this func returns 3 things: start coordinate, dot_positions and the number of dots\n",
    "def findStartNDots(maze):\n",
    "    dot_positions = set()   # dot_pos set will be used to hold dot coordinates in form of tuples\n",
    "    dot_count = 0\n",
    "    for i in range(len(maze)):\n",
    "        for j in range(len(maze[0])):\n",
    "            if maze[i][j] == 'P':\n",
    "                start = (i,j)\n",
    "            if maze[i][j] == '.':\n",
    "                dot_count += 1\n",
    "                dot_positions.add((i,j))\n",
    "    return start, dot_positions, dot_count\n",
    "\n",
    "start, dot_pos, N = findStartNDots(tiny_search)\n",
    "print(start, dot_pos, N)"
   ]
  },
  {
   "cell_type": "code",
   "execution_count": 6,
   "metadata": {
    "collapsed": false
   },
   "outputs": [],
   "source": [
    "# must be called in wrapper! (dot_pos) should be available when calling this func\n",
    "# check whether cur_pos is on dot\n",
    "# input: cor is a (x, y) tuple\n",
    "def isDot(cor, dot_pos):\n",
    "    if cor in dot_pos:\n",
    "        return True\n",
    "    else:\n",
    "        return False"
   ]
  },
  {
   "cell_type": "code",
   "execution_count": 7,
   "metadata": {
    "collapsed": false
   },
   "outputs": [],
   "source": [
    "def multi_valid_neighbors(cur_state, maze, height, width, dot_pos):\n",
    "    y = cur_state[0][0]\n",
    "    x = cur_state[0][1]\n",
    "    cur_pos = (y, x)\n",
    "    \n",
    "    \n",
    "    valid_neighbors = []\n",
    "    if (x-1) >= 0 and maze[y][x-1] != '%':\n",
    "        new_pos = (y, x-1)\n",
    "        cur_eaten = set(cur_state[1])\n",
    "        if isDot(new_pos, dot_pos):\n",
    "            cur_eaten.add(new_pos)\n",
    "            valid_neighbors.append( (new_pos, frozenset(cur_eaten)) )\n",
    "        else:                  \n",
    "            valid_neighbors.append( (new_pos, frozenset(cur_eaten)) )\n",
    "    if (y+1) < height and maze[y+1][x] != '%':\n",
    "        new_pos = (y+1, x)\n",
    "        cur_eaten = set(cur_state[1])\n",
    "        if isDot(new_pos, dot_pos):\n",
    "            cur_eaten.add(new_pos)\n",
    "            valid_neighbors.append( (new_pos, frozenset(cur_eaten)) )\n",
    "        else:\n",
    "            valid_neighbors.append( (new_pos, frozenset(cur_eaten)) )                           \n",
    "    if (x+1) < width and maze[y][x+1] != '%':\n",
    "        new_pos = (y, x+1)\n",
    "        cur_eaten = set(cur_state[1])\n",
    "        if isDot(new_pos, dot_pos):\n",
    "            cur_eaten.add(new_pos)\n",
    "            valid_neighbors.append( (new_pos, frozenset(cur_eaten)) )\n",
    "        else:\n",
    "            valid_neighbors.append( (new_pos, frozenset(cur_eaten)) )\n",
    "                                   \n",
    "    if (y-1) >= 0 and maze[y-1][x] != '%':\n",
    "        new_pos = (y-1, x)\n",
    "        cur_eaten = set(cur_state[1])\n",
    "        if isDot(new_pos, dot_pos):\n",
    "            cur_eaten.add(new_pos)\n",
    "            valid_neighbors.append( (new_pos, frozenset(cur_eaten)) )\n",
    "        else:\n",
    "            valid_neighbors.append( (new_pos, frozenset(cur_eaten)) )\n",
    "                                   \n",
    "    return valid_neighbors"
   ]
  },
  {
   "cell_type": "code",
   "execution_count": 8,
   "metadata": {
    "collapsed": false
   },
   "outputs": [],
   "source": [
    "#\n",
    "# !! when using set inside a set, we have to use frozenset(), so that it is immutable,\n",
    "# !! Actually tuple is just immutable\n",
    "def multiBfs(search):\n",
    "    height = len(search)\n",
    "    width = len(search[0])\n",
    "    \n",
    "    \n",
    "    start_pos, dot_pos, N = findStartNDots(search)\n",
    "    # start state is in the form of ((x,y),{visited dots})\n",
    "    start_state = (start_pos, frozenset())\n",
    "    \n",
    "    \n",
    "    # visited is a set of state which has the same form as start_state\n",
    "    # so, { state0, state1, ...}\n",
    "    visited = set()\n",
    "    #path = (height*width) * [None]         ##########\n",
    "    # set up the dict for the path\n",
    "    track = {}\n",
    "    \n",
    "    \n",
    "    # use queue for BFS implementation\n",
    "    # set up the queue\n",
    "    # the queue holds states like in the same form as start_state\n",
    "    queue = []\n",
    "    queue.insert(0, start_state)\n",
    "    # add start_state to visited\n",
    "    visited.add(start_state)\n",
    "\n",
    "    count = 0\n",
    "    success = False\n",
    "    final_state = start_state\n",
    "    dumb = ((-1,-1), frozenset())\n",
    "    track[start_state] = dumb\n",
    "    while queue:\n",
    "        count += 1\n",
    "        cur = queue.pop()\n",
    "        if len(cur[1]) == N:       # BASE CASE: if we have visited/eaten all the dots\n",
    "            success = True\n",
    "            final_state = cur\n",
    "            break\n",
    "            \n",
    "        neighbors = multi_valid_neighbors(cur, search, height, width, dot_pos)\n",
    "        for nei in neighbors:\n",
    "            if nei != None:\n",
    "                if nei not in visited:\n",
    "                    queue.insert(0,nei)\n",
    "                    visited.add(nei)\n",
    "                    #path[n[0]*width+n[1]] = curr\n",
    "                    track[nei] = cur\n",
    "                    \n",
    "        if count%100000 == 0:\n",
    "            print(count)\n",
    "            \n",
    "    path = []\n",
    "    c = 0\n",
    "    cur = final_state\n",
    "    while cur != dumb:\n",
    "        c += 1\n",
    "        path.insert(0, cur[0])\n",
    "        cur = track[cur]\n",
    "        if c%100000 == 0:\n",
    "            print(c)\n",
    "    return success, path"
   ]
  },
  {
   "cell_type": "code",
   "execution_count": 9,
   "metadata": {
    "collapsed": false
   },
   "outputs": [],
   "source": [
    "_, path = multiBfs(tiny_search)"
   ]
  },
  {
   "cell_type": "code",
   "execution_count": 10,
   "metadata": {
    "collapsed": false
   },
   "outputs": [
    {
     "name": "stdout",
     "output_type": "stream",
     "text": [
      "[(4, 4), (5, 4), (5, 5), (5, 6), (5, 7), (5, 8), (6, 8), (7, 8), (6, 8), (5, 8), (4, 8), (3, 8), (2, 8), (1, 8), (1, 7), (1, 6), (1, 5), (2, 5), (3, 5), (3, 6), (3, 5), (3, 4), (3, 3), (2, 3), (1, 3), (1, 2), (1, 1), (2, 1), (3, 1), (4, 1), (4, 2), (4, 1), (5, 1), (6, 1), (7, 1), (7, 2), (7, 3)]\n",
      "37\n"
     ]
    }
   ],
   "source": [
    "print(path)\n",
    "print(len(path))"
   ]
  },
  {
   "cell_type": "markdown",
   "metadata": {},
   "source": [
    "# Let's try A* now"
   ]
  },
  {
   "cell_type": "code",
   "execution_count": 11,
   "metadata": {
    "collapsed": true
   },
   "outputs": [],
   "source": [
    "# BFS valid\n",
    "def valid_neighbors(center, maze, height, width):\n",
    "    y = center[0]\n",
    "    x = center[1]\n",
    "    valid_neighbors = []\n",
    "    if (x+1) < width and maze[y][x+1] != '%':\n",
    "        valid_neighbors.append((y,x+1))\n",
    "    if (x-1) >= 0 and maze[y][x-1] != '%':\n",
    "        valid_neighbors.append((y,x-1))\n",
    "    if (y+1) < height and maze[y+1][x] != '%':\n",
    "        valid_neighbors.append((y+1,x))\n",
    "    if (y-1) >= 0 and maze[y-1][x] != '%':\n",
    "        valid_neighbors.append((y-1,x))\n",
    "    return valid_neighbors\n",
    "\n",
    "\n",
    "def BFSneighbors(current,goals,maze,height,width):\n",
    "    #return the cost to each goal as a dictionary\n",
    "    visited = height*width*[False]\n",
    "    path = (height*width)*[None]\n",
    "    cost = {}\n",
    "    \n",
    "    num = len(goals)\n",
    "    \n",
    "    ele_list = []\n",
    "    ele_list.insert(0,current)\n",
    "    visited[current[0]*width+current[1]] = True\n",
    "    \n",
    "    count = 0 \n",
    "    c = {}\n",
    "    \n",
    "    c[current[0]*width+current[1]] = 0\n",
    "    goal = None\n",
    "    while ele_list:\n",
    "        curr = ele_list.pop()\n",
    "        count+=1\n",
    "        if num == 0:\n",
    "            break\n",
    "        if curr in goals:\n",
    "            num = num-1\n",
    "        neighbors = valid_neighbors(curr,maze,height,width)\n",
    "        for n in neighbors:\n",
    "            if n!= None:\n",
    "                pos = n[0]*width+n[1]\n",
    "                if visited[pos] == False:\n",
    "                    ele_list.insert(0,n)\n",
    "                    visited[pos] = True\n",
    "                    c[pos] = c[curr[0]*width+curr[1]]+1\n",
    "                        \n",
    "    for n in goals:\n",
    "        ele = (n,current)\n",
    "        cost[frozenset(ele)] = c[n[0]*width+n[1]]\n",
    "        \n",
    "    return [cost,count]\n",
    "\n",
    "def distance(search):\n",
    "    [start, dot_pos, dot_count] = findStartNDots(search)\n",
    "    height = len(search)\n",
    "    width = len(search[0])\n",
    "    dist  = {}\n",
    "    for i in dot_pos:\n",
    "            goals = list(dot_pos)\n",
    "            index = goals.index(i)\n",
    "            del goals[index]\n",
    "            cost,count = BFSneighbors(i,goals,search,height,width)\n",
    "            for n in cost:\n",
    "                dist[n] = cost[n]\n",
    "    return dist"
   ]
  },
  {
   "cell_type": "code",
   "execution_count": 12,
   "metadata": {
    "collapsed": false
   },
   "outputs": [],
   "source": [
    "# used to pick out the edges between unvisited dots\n",
    "# return the hashmap which contains all unvisited edges\n",
    "def pickEdges(unvisited, edges):\n",
    "    # a hashmap which contains part of the all edges\n",
    "    unvisitedEdges = {}\n",
    "    for k, v in edges.items():\n",
    "        unvisitedFlag = True\n",
    "        for dot in k:\n",
    "            if dot not in unvisited:\n",
    "                unvisitedFlag = False\n",
    "        if unvisitedFlag:\n",
    "            unvisitedEdges[k] = v\n",
    "    return unvisitedEdges"
   ]
  },
  {
   "cell_type": "code",
   "execution_count": 13,
   "metadata": {
    "collapsed": true
   },
   "outputs": [],
   "source": [
    "def checkLoop(trees, v_set):\n",
    "    for tree in trees:\n",
    "        if len(tree.intersection(v_set)) == 2:\n",
    "            return False\n",
    "        \n",
    "    return True"
   ]
  },
  {
   "cell_type": "code",
   "execution_count": 14,
   "metadata": {
    "collapsed": true
   },
   "outputs": [],
   "source": [
    "def merge(trees, v_set):\n",
    "    intersect_tree = []\n",
    "    for tree in trees:\n",
    "        if tree.intersection(v_set):\n",
    "            intersect_tree.append(tree)\n",
    "            \n",
    "    if len(intersect_tree) == 0:\n",
    "        trees.append(set(v_set))    #we have to store a frozenset into the tree for now\n",
    "    elif len(intersect_tree) == 1:\n",
    "        intersect_tree[0].update(set(v_set))\n",
    "    elif len(intersect_tree) == 2:\n",
    "        intersect_tree[0].update(intersect_tree[1])\n",
    "        trees.remove(intersect_tree[1])\n",
    "    return trees"
   ]
  },
  {
   "cell_type": "code",
   "execution_count": 15,
   "metadata": {
    "collapsed": false
   },
   "outputs": [],
   "source": [
    "def kruskal(edges, unvisited):\n",
    "    \n",
    "    trees = []    # a list of SET that stores the subtrees we have connected\n",
    "    unvisitedEdges = pickEdges(unvisited, edges)\n",
    "    mst = {}      # a DICT of edges\n",
    "    \n",
    "    while unvisitedEdges:\n",
    "        shortest = float(\"inf\")\n",
    "        key = None\n",
    "        \n",
    "        # do a for loop to pick out the shortest edge\n",
    "        for k, v in unvisitedEdges.items():\n",
    "            if (v < shortest):\n",
    "                shortest = v   # update v if that is smaller than shortest\n",
    "                key = k\n",
    "            #print(k, v)\n",
    "        #print(trees)\n",
    "        \n",
    "        if checkLoop(trees, key):       # 如果不构成loop， 加进MST\n",
    "            #print(\"add one to mst\")\n",
    "            trees = merge(trees, key)\n",
    "            mst[key] = unvisitedEdges[key]\n",
    "            \n",
    "        del unvisitedEdges[key]   # delete this edge after checking it\n",
    "    \n",
    "    length = 0\n",
    "    for k, v in mst.items():\n",
    "        #print(\"one edge\")\n",
    "        length += v\n",
    "    return mst, length"
   ]
  },
  {
   "cell_type": "code",
   "execution_count": 16,
   "metadata": {
    "collapsed": true
   },
   "outputs": [],
   "source": [
    "def bfstoUnvisited(new_pos, cur_eaten):\n",
    "    cur_uneaten = allGoals.difference(cur_eaten)\n",
    "    costMap, count = BFSneighbors(new_pos, cur_uneaten, maze, height, width)\n",
    "    lowestCost = min(costMap, costMap.get)\n",
    "    return lowestCost"
   ]
  },
  {
   "cell_type": "code",
   "execution_count": 76,
   "metadata": {
    "collapsed": false
   },
   "outputs": [
    {
     "name": "stdout",
     "output_type": "stream",
     "text": [
      "set([(1, 2), (6, 12), (4, 36), (7, 32), (9, 1), (7, 45), (11, 5), (1, 14), (6, 1), (4, 4), (1, 46), (6, 21), (9, 43), (5, 40), (3, 6), (4, 18), (5, 33), (1, 32), (3, 14), (11, 43)])\n"
     ]
    }
   ],
   "source": [
    "# the global variables\n",
    "CUR_search = medium_search\n",
    "\n",
    "_, allGoals, _ = findStartNDots(CUR_search)\n",
    "EDGES = distance(CUR_search)\n",
    "print(allGoals)\n",
    "\n",
    "def Astar(search):\n",
    "    height = len(search)\n",
    "    width = len(search[0])\n",
    "    \n",
    "    # This hashmap store the edges with frozenset as key and a distance number as value\n",
    "    dot_edges = distance(search)\n",
    "    \n",
    "    # initialize start_state and find needed info from maze\n",
    "    start_pos, dot_pos, N = findStartNDots(search)\n",
    "    start_state = (start_pos, frozenset())\n",
    "    \n",
    "    # visited is a set that contain elements in the form of ((x,y), {visited dots' coordinates})\n",
    "    visited = set()\n",
    "    # make a hashmap to keep track of the route\n",
    "    track = {}\n",
    "    \n",
    "    # add dumb ot the start\n",
    "    dumb = None\n",
    "    track[start_state] = dumb\n",
    "    \n",
    "    # set up the cost DICT\n",
    "    cost = {}        # cost is a DICT, storing state:cost(steps)\n",
    "\n",
    "    ele_list = []\n",
    "    ele_list.insert(0, start_state)\n",
    "   \n",
    "    count = 0 \n",
    "    #mark start_state as visited\n",
    "    visited.add(start_state)\n",
    "    \n",
    "    cost[start_state] = 0\n",
    "    success = False\n",
    "    final_state = start_state\n",
    "    while ele_list:\n",
    "        cur = ele_list.pop(0)\n",
    "        count += 1  #count the expansion     \n",
    "            \n",
    "        if len(cur[1]) == N:       # BASE CASE: if we have visited/eaten all the dots\n",
    "            success = True\n",
    "            final_state = cur\n",
    "            break\n",
    "        \n",
    "        neighbors = multi_valid_neighbors(cur, search, height, width, dot_pos)\n",
    "        for nei in neighbors:\n",
    "            if nei!= None: \n",
    "                if nei not in visited:\n",
    "                    ele_list.insert(0, nei)\n",
    "                    visited.add(nei)\n",
    "                    \n",
    "                    track[nei] = cur\n",
    "                    cost[nei] = cost[cur] + 1\n",
    "          \n",
    "        ele_list = lowestFn(ele_list, cost)\n",
    "        #print(ele_list)\n",
    "        if count%1000 == 0: \n",
    "            print(count)\n",
    "        \n",
    "    path = []\n",
    "    cur = final_state\n",
    "    while cur:\n",
    "        path.insert(0, cur[0])\n",
    "        cur = track[cur]\n",
    "        \n",
    "    return success, path, count"
   ]
  },
  {
   "cell_type": "code",
   "execution_count": 77,
   "metadata": {
    "collapsed": true
   },
   "outputs": [],
   "source": [
    "# let's try use MST as heuristic function\n",
    "def fn(cur, cost):\n",
    "    #print(cur[1])\n",
    "    unvisited = allGoals.difference(set(cur[1]))\n",
    "    #print(\"unvisited dots are\", unvisited)\n",
    "    h = kruskal(EDGES, unvisited)[1]  # paras are all the edges and unvisited dots\n",
    "    f = h + cost[cur]\n",
    "    return f, cur\n",
    "\n",
    "def lowestFn(ele_list, cost):\n",
    "    # n_list is a DICT\n",
    "    n_list = {}\n",
    "    for i in ele_list:\n",
    "        m = fn(i, cost)\n",
    "        n_list[m[1]] = m[0]\n",
    "    s = sorted(n_list, key = n_list.__getitem__)\n",
    "    return s"
   ]
  },
  {
   "cell_type": "code",
   "execution_count": null,
   "metadata": {
    "collapsed": false
   },
   "outputs": [
    {
     "name": "stdout",
     "output_type": "stream",
     "text": [
      "1000\n",
      "2000\n",
      "3000\n",
      "4000\n",
      "5000\n",
      "6000\n",
      "7000\n",
      "8000\n",
      "9000\n"
     ]
    }
   ],
   "source": [
    "success, path, count = Astar(medium_search)\n",
    "print(count)\n",
    "print(path)"
   ]
  },
  {
   "cell_type": "code",
   "execution_count": 45,
   "metadata": {
    "collapsed": false
   },
   "outputs": [
    {
     "name": "stdout",
     "output_type": "stream",
     "text": [
      "set([0, 1])\n"
     ]
    },
    {
     "data": {
      "text/plain": [
       "'\\ndef a(trees):\\n    trees.append(4)\\ntrees = [1,2,3]\\nprint(trees)\\na(trees)\\nprint(trees)\\n'"
      ]
     },
     "execution_count": 45,
     "metadata": {},
     "output_type": "execute_result"
    }
   ],
   "source": [
    "#setA = {0,1,2}\n",
    "#setB = {2,3,4}\n",
    "#setC = setA.difference(setB)\n",
    "#print(setC)\n",
    "'''\n",
    "# kruskal working!\n",
    "CUR_search = medium_search\n",
    "start_pos, dot_pos, N = findStartNDots(CUR_search)\n",
    "dot_edges = distance(CUR_search)\n",
    "#print(len(dot_edges))\n",
    "#print(dot_edges)\n",
    "#for k, v in dot_edges.items():\n",
    "#    print(type(k))\n",
    "#    for vertice in k:\n",
    "#        print(vertice)\n",
    "#    print v\n",
    "mst, length = kruskal(dot_edges, dot_pos)\n",
    "print(length)\n",
    "'''\n",
    "'''\n",
    "def a(trees):\n",
    "    trees.append(4)\n",
    "trees = [1,2,3]\n",
    "print(trees)\n",
    "a(trees)\n",
    "print(trees)\n",
    "'''\n",
    "#a = {1:4, 2:8}\n",
    "#kruskal(a)"
   ]
  },
  {
   "cell_type": "code",
   "execution_count": null,
   "metadata": {
    "collapsed": true
   },
   "outputs": [],
   "source": []
  }
 ],
 "metadata": {
  "celltoolbar": "Raw Cell Format",
  "kernelspec": {
   "display_name": "Python 2",
   "language": "python",
   "name": "python2"
  },
  "language_info": {
   "codemirror_mode": {
    "name": "ipython",
    "version": 2
   },
   "file_extension": ".py",
   "mimetype": "text/x-python",
   "name": "python",
   "nbconvert_exporter": "python",
   "pygments_lexer": "ipython2",
   "version": "2.7.11"
  }
 },
 "nbformat": 4,
 "nbformat_minor": 2
}
