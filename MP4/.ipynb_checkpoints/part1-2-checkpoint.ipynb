{
 "cells": [
  {
   "cell_type": "code",
   "execution_count": 124,
   "metadata": {},
   "outputs": [],
   "source": [
    "import sys\n",
    "import math\n",
    "import numpy as np\n",
    "from scipy import stats\n",
    "from scipy.spatial import distance\n",
    "import matplotlib.pyplot as plt\n",
    "sys.setrecursionlimit(1500)"
   ]
  },
  {
   "cell_type": "code",
   "execution_count": 125,
   "metadata": {},
   "outputs": [],
   "source": [
    "# convert input txt into an 140000 * 28 array\n",
    "def inputDigit(img_dir=\"digitdata/trainingimages\"):\n",
    "    with open(img_dir) as digitTxt:\n",
    "        image = [list(line)[0:28] for line in digitTxt]\n",
    "        rows = len(image)\n",
    "        \n",
    "    for i in range(rows):\n",
    "        for j in range(28):\n",
    "            if image[i][j] == ' ':\n",
    "                image[i][j] = 0\n",
    "            else:\n",
    "                image[i][j] = 1\n",
    "    return image"
   ]
  },
  {
   "cell_type": "code",
   "execution_count": 126,
   "metadata": {},
   "outputs": [],
   "source": [
    "def unrollImg(img):\n",
    "    image_num = int(len(img)/28)     #each img consists of 28 lines\n",
    "    unrolledImg = [[] for x in range(image_num)]          # 500*784\n",
    "    offset = 0\n",
    "    for i in range(image_num):  # i: 0--500\n",
    "        for j in range(28):   # j: 0--28  roll num in rolled img\n",
    "            unrolledImg[i] += img[offset+j]\n",
    "        offset +=28\n",
    "\n",
    "    return np.array(unrolledImg)"
   ]
  },
  {
   "cell_type": "code",
   "execution_count": 127,
   "metadata": {},
   "outputs": [],
   "source": [
    "def readLabel(name=\"digitdata/traininglabels\"):\n",
    "    with open(name) as label:\n",
    "        labels = []\n",
    "        for line in label:\n",
    "            labels.append(int(line[0]))\n",
    "    return labels"
   ]
  },
  {
   "cell_type": "code",
   "execution_count": 128,
   "metadata": {},
   "outputs": [],
   "source": [
    "trainingImg = inputDigit(\"digitdata/trainingimages\")\n",
    "np_train_img = unrollImg(trainingImg)\n",
    "trainingLabel = readLabel(\"digitdata/traininglabels\")\n",
    "testImg = inputDigit(\"digitdata/testimages\")\n",
    "np_test_img = unrollImg(testImg)\n",
    "testLabel = readLabel(\"digitdata/testlabels\")"
   ]
  },
  {
   "cell_type": "code",
   "execution_count": 129,
   "metadata": {},
   "outputs": [],
   "source": [
    "def conf_matrix(trueLabel, predLabel):\n",
    "    cm = np.zeros((10,10))\n",
    "    overall_acc = 0\n",
    "    for i in range(len(trueLabel)):\n",
    "        cm[int(trueLabel[i])][int(predLabel[i])] += 1\n",
    "    total_sample_size = np.sum(cm)\n",
    "    for i in range(10):\n",
    "        cur_row_sum = np.sum(cm[i])\n",
    "        cm[i] /= cur_row_sum\n",
    "        overall_acc += cm[i][i]*cur_row_sum/total_sample_size\n",
    "    return cm, overall_acc"
   ]
  },
  {
   "cell_type": "code",
   "execution_count": 136,
   "metadata": {},
   "outputs": [],
   "source": [
    "def keep_k_digits(matrix):\n",
    "    for i in range(len(matrix)):\n",
    "        for j in range(len(matrix[0])):\n",
    "            matrix[i][j] = float(format(matrix[i][j], '.4f'))\n",
    "    return matrix"
   ]
  },
  {
   "cell_type": "code",
   "execution_count": 130,
   "metadata": {},
   "outputs": [],
   "source": [
    "def euclidean_distance(testfeat, trainfeat):\n",
    "    test_num = testfeat.shape[0]\n",
    "    train_num = trainfeat.shape[0]\n",
    "    img_size = testfeat.shape[1]\n",
    "    dist_matrix = np.zeros((test_num, train_num)) # this should be 1000 x 5000\n",
    "    for i in range(test_num):\n",
    "        print(i)\n",
    "        for j in range(train_num):\n",
    "            #diff_square_sum = 0\n",
    "            diff_list = np.zeros(img_size)\n",
    "            for p in range(img_size):\n",
    "                diff_list[p] = testfeat[i][p] - trainfeat[j][p]\n",
    "            \n",
    "            dist_matrix[i][j] = np.sum(np.square(diff_list))\n",
    "    dist_matrix = np.sqrt(dist_matrix)\n",
    "    return dist_matrix"
   ]
  },
  {
   "cell_type": "code",
   "execution_count": 131,
   "metadata": {},
   "outputs": [],
   "source": [
    "def kNN(trainfeat, trainlabel, testfeat, dist_matrix, k=4):\n",
    "    #Put your code here\n",
    "    trainlabel = np.array(trainlabel)\n",
    "    estimatedLabel = np.zeros(testfeat.shape[0])\n",
    "    #nearest = euclidean_distance(testfeat, trainfeat)  #this is a matrix of distance between test points and train points\n",
    "    for i in range(testfeat.shape[0]):\n",
    "        nearestPoints = dist_matrix[i]         #here we got an array holding the distances between the test point and all the train point \n",
    "        nearestKLabels= trainlabel[np.argpartition(nearestPoints, k)[0:k]]   #got the smallest k distances' index, and get their labels\n",
    "        estimatedLabel[i] = stats.mode(nearestKLabels)[0][0] #mode[0] gives us the mode result array, and mode[0][0] gives us the result\n",
    "    return np.array(estimatedLabel)"
   ]
  },
  {
   "cell_type": "code",
   "execution_count": 139,
   "metadata": {},
   "outputs": [],
   "source": [
    "euc_dist_matrix = distance.cdist(np_test_img, np_train_img, 'euclidean')\n",
    "sin_dist_matrix = distance.cdist(np_test_img, np_train_img, 'cosine')\n",
    "sin_dist_matrix = distance.cdist(np_test_img, np_train_img, 'minkowski', p=1.)\n",
    "#euc_dist_matrix = euclidean_distance(np_test_img, np_train_img)"
   ]
  },
  {
   "cell_type": "code",
   "execution_count": 142,
   "metadata": {},
   "outputs": [],
   "source": [
    "predLabel = kNN(np_train_img, trainingLabel, np_test_img, sin_dist_matrix, 4)\n",
    "#print(predLabel)"
   ]
  },
  {
   "cell_type": "code",
   "execution_count": 144,
   "metadata": {},
   "outputs": [
    {
     "name": "stdout",
     "output_type": "stream",
     "text": [
      "0.925\n",
      "[[ 1.      0.      0.      0.      0.      0.      0.      0.      0.      0.    ]\n",
      " [ 0.      1.      0.      0.      0.      0.      0.      0.      0.      0.    ]\n",
      " [ 0.0291  0.0097  0.932   0.0194  0.      0.      0.      0.0097  0.      0.    ]\n",
      " [ 0.      0.      0.      0.91    0.      0.03    0.      0.02    0.03\n",
      "   0.01  ]\n",
      " [ 0.0093  0.0093  0.      0.      0.9159  0.      0.0374  0.      0.\n",
      "   0.028 ]\n",
      " [ 0.0217  0.      0.      0.0435  0.      0.8804  0.0326  0.      0.\n",
      "   0.0217]\n",
      " [ 0.      0.011   0.      0.      0.      0.011   0.978   0.      0.      0.    ]\n",
      " [ 0.0094  0.0377  0.0189  0.      0.0189  0.      0.      0.8396  0.\n",
      "   0.0755]\n",
      " [ 0.0194  0.0097  0.0097  0.0194  0.      0.      0.      0.0194  0.9223\n",
      "   0.    ]\n",
      " [ 0.      0.      0.      0.03    0.04    0.02    0.      0.02    0.01\n",
      "   0.88  ]]\n"
     ]
    }
   ],
   "source": [
    "cm, overall_acc = conf_matrix(testLabel, predLabel)\n",
    "cm = keep_k_digits(cm)\n",
    "print(overall_acc)\n",
    "print(cm)"
   ]
  },
  {
   "cell_type": "code",
   "execution_count": 146,
   "metadata": {},
   "outputs": [],
   "source": [
    "one = kNN(np_train_img, trainingLabel, np_test_img, sin_dist_matrix, 1)\n",
    "two = kNN(np_train_img, trainingLabel, np_test_img,sin_dist_matrix, 2)\n",
    "three = kNN(np_train_img, trainingLabel, np_test_img, sin_dist_matrix, 3)\n",
    "four = kNN(np_train_img, trainingLabel, np_test_img, sin_dist_matrix, 4)\n",
    "five = kNN(np_train_img, trainingLabel, np_test_img, sin_dist_matrix, 5)\n",
    "six = kNN(np_train_img, trainingLabel, np_test_img, sin_dist_matrix, 6)\n",
    "seven = kNN(np_train_img, trainingLabel, np_test_img, sin_dist_matrix, 7)\n",
    "eight = kNN(np_train_img, trainingLabel, np_test_img, sin_dist_matrix, 8)\n",
    "\n",
    "_, one_acc = conf_matrix(testLabel, one)\n",
    "_, two_acc = conf_matrix(testLabel, two)\n",
    "_, three_acc = conf_matrix(testLabel, three)\n",
    "_, four_acc = conf_matrix(testLabel, four)\n",
    "_, five_acc = conf_matrix(testLabel, five)\n",
    "_, six_acc = conf_matrix(testLabel, six)\n",
    "_, seven_acc = conf_matrix(testLabel, seven)\n",
    "_, eight_acc = conf_matrix(testLabel, eight)"
   ]
  },
  {
   "cell_type": "code",
   "execution_count": 147,
   "metadata": {},
   "outputs": [
    {
     "data": {
      "image/png": "[encoded data removed]",
      "text/plain": [
       "<matplotlib.figure.Figure at 0x7f6a02d7fb70>"
      ]
     },
     "metadata": {},
     "output_type": "display_data"
    }
   ],
   "source": [
    "x = [1, 2, 3, 4, 5, 6, 7, 8]\n",
    "y = []\n",
    "plt.xlabel('k (number of neighbors)')\n",
    "plt.ylabel('accuracy')\n",
    "y.append(one_acc)\n",
    "y.append(two_acc)\n",
    "y.append(three_acc)\n",
    "y.append(four_acc)\n",
    "y.append(five_acc)\n",
    "y.append(six_acc)\n",
    "y.append(seven_acc)\n",
    "y.append(eight_acc)\n",
    "plt.plot(x, y)\n",
    "plt.show()"
   ]
  },
  {
   "cell_type": "code",
   "execution_count": null,
   "metadata": {},
   "outputs": [],
   "source": []
  }
 ],
 "metadata": {
  "kernelspec": {
   "display_name": "Python 3",
   "language": "python",
   "name": "python3"
  },
  "language_info": {
   "codemirror_mode": {
    "name": "ipython",
    "version": 3
   },
   "file_extension": ".py",
   "mimetype": "text/x-python",
   "name": "python",
   "nbconvert_exporter": "python",
   "pygments_lexer": "ipython3",
   "version": "3.6.2"
  }
 },
 "nbformat": 4,
 "nbformat_minor": 2
}
