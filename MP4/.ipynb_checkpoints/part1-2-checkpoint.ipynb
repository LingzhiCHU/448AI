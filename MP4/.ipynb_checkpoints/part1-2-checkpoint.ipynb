{
 "cells": [
  {
   "cell_type": "code",
   "execution_count": 57,
   "metadata": {},
   "outputs": [],
   "source": [
    "import sys\n",
    "import math\n",
    "import numpy as np\n",
    "from scipy.spatial import distance\n",
    "from scipy import stats\n",
    "import matplotlib.pyplot as plt\n",
    "sys.setrecursionlimit(1500)"
   ]
  },
  {
   "cell_type": "code",
   "execution_count": 4,
   "metadata": {},
   "outputs": [],
   "source": [
    "# convert input txt into an 140000 * 28 array\n",
    "def inputDigit(img_dir=\"digitdata/trainingimages\"):\n",
    "    with open(img_dir) as digitTxt:\n",
    "        image = [list(line)[0:28] for line in digitTxt]\n",
    "        rows = len(image)\n",
    "        \n",
    "    for i in range(rows):\n",
    "        for j in range(28):\n",
    "            if image[i][j] == ' ':\n",
    "                image[i][j] = 0\n",
    "            else:\n",
    "                image[i][j] = 1\n",
    "    return image"
   ]
  },
  {
   "cell_type": "code",
   "execution_count": 5,
   "metadata": {},
   "outputs": [],
   "source": [
    "def unrollImg(img):\n",
    "    image_num = int(len(img)/28)     #each img consists of 28 lines\n",
    "    unrolledImg = [[] for x in range(image_num)]          # 500*784\n",
    "    offset = 0\n",
    "    for i in range(image_num):  # i: 0--500\n",
    "        for j in range(28):   # j: 0--28  roll num in rolled img\n",
    "            unrolledImg[i] += img[offset+j]\n",
    "        offset +=28\n",
    "\n",
    "    return np.array(unrolledImg)"
   ]
  },
  {
   "cell_type": "code",
   "execution_count": 17,
   "metadata": {},
   "outputs": [],
   "source": [
    "def readLabel(name=\"digitdata/traininglabels\"):\n",
    "    with open(name) as label:\n",
    "        labels = []\n",
    "        for line in label:\n",
    "            labels.append(int(line[0]))\n",
    "    return labels"
   ]
  },
  {
   "cell_type": "code",
   "execution_count": 18,
   "metadata": {},
   "outputs": [],
   "source": [
    "trainingImg = inputDigit(\"digitdata/trainingimages\")\n",
    "np_train_img = unrollImg(trainingImg)\n",
    "trainingLabel = readLabel(\"digitdata/traininglabels\")\n",
    "testImg = inputDigit(\"digitdata/testimages\")\n",
    "np_test_img = unrollImg(testImg)\n",
    "testLabel = readLabel(\"digitdata/testlabels\")"
   ]
  },
  {
   "cell_type": "code",
   "execution_count": 55,
   "metadata": {},
   "outputs": [],
   "source": [
    "def conf_matrix(trueLabel, predLabel):\n",
    "    cm = np.zeros((10,10))\n",
    "    overall_acc = 0\n",
    "    for i in range(len(trueLabel)):\n",
    "        cm[int(trueLabel[i])][int(predLabel[i])] += 1\n",
    "    total_sample_size = np.sum(cm)\n",
    "    for i in range(10):\n",
    "        cur_row_sum = np.sum(cm[i])\n",
    "        cm[i] /= cur_row_sum\n",
    "        overall_acc += cm[i][i]*cur_row_sum/total_sample_size\n",
    "    return cm, overall_acc"
   ]
  },
  {
   "cell_type": "code",
   "execution_count": 48,
   "metadata": {},
   "outputs": [],
   "source": [
    "def kNN(trainfeat, trainlabel, testfeat, k):\n",
    "    #Put your code here\n",
    "    trainlabel = np.array(trainlabel)\n",
    "    estimatedLabel = np.zeros(testfeat.shape[0])\n",
    "    nearest = distance.cdist(testfeat, trainfeat, 'euclidean')  #this is a matrix of distance between test points and train points\n",
    "    for i in range(testfeat.shape[0]):\n",
    "        nearestPoints = nearest[i]         #here we got an array holding the distances between the test point and all the train point \n",
    "        nearestKLabels= trainlabel[np.argpartition(nearestPoints, k)[0:k]]   #got the smallest k distances' index, and get their labels\n",
    "        estimatedLabel[i] = stats.mode(nearestKLabels)[0][0] #mode[0] gives us the mode result array, and mode[0][0] gives us the result\n",
    "        #print estimatedLabel[i]\n",
    "    return np.array(estimatedLabel)"
   ]
  },
  {
   "cell_type": "code",
   "execution_count": 49,
   "metadata": {},
   "outputs": [
    {
     "name": "stdout",
     "output_type": "stream",
     "text": [
      "[ 9.  0.  2.  3.  1.  9.  7.  8.  1.  0.  4.  1.  7.  9.  5.  4.  2.  6.\n",
      "  8.  1.  3.  7.  5.  4.  4.  1.  8.  1.  3.  8.  1.  2.  5.  8.  0.  6.\n",
      "  2.  1.  1.  1.  1.  5.  3.  4.  6.  9.  5.  0.  9.  2.  2.  4.  8.  2.\n",
      "  1.  7.  2.  4.  9.  4.  4.  0.  3.  9.  2.  2.  3.  3.  4.  3.  5.  7.\n",
      "  3.  5.  8.  1.  2.  4.  4.  6.  4.  9.  5.  1.  0.  6.  9.  5.  9.  0.\n",
      "  9.  7.  3.  8.  0.  3.  7.  1.  3.  6.  7.  8.  5.  9.  7.  9.  6.  5.\n",
      "  6.  3.  7.  4.  6.  5.  8.  5.  4.  7.  8.  7.  8.  0.  7.  6.  1.  9.\n",
      "  7.  3.  2.  1.  9.  5.  2.  7.  3.  5.  1.  1.  2.  1.  4.  7.  4.  7.\n",
      "  5.  4.  5.  4.  0.  8.  3.  6.  9.  6.  0.  2.  7.  4.  4.  4.  4.  6.\n",
      "  6.  4.  9.  9.  5.  4.  5.  5.  8.  7.  3.  9.  2.  7.  0.  2.  4.  1.\n",
      "  1.  1.  6.  9.  1.  8.  7.  2.  0.  1.  5.  0.  4.  1.  7.  0.  6.  0.\n",
      "  4.  6.  8.  1.  8.  0.  7.  3.  1.  2.  3.  6.  2.  1.  6.  1.  1.  3.\n",
      "  7.  9.  0.  8.  0.  5.  4.  0.  2.  8.  1.  2.  9.  8.  4.  0.  9.  5.\n",
      "  8.  5.  1.  2.  1.  5.  1.  7.  4.  6.  7.  2.  0.  5.  8.  8.  6.  2.\n",
      "  5.  4.  1.  9.  2.  1.  5.  8.  1.  0.  2.  4.  4.  3.  6.  8.  8.  2.\n",
      "  9.  0.  5.  0.  4.  4.  7.  9.  3.  4.  1.  5.  9.  1.  3.  5.  8.  8.\n",
      "  0.  3.  5.  3.  6.  6.  0.  1.  6.  0.  3.  7.  4.  4.  1.  2.  9.  1.\n",
      "  4.  6.  9.  9.  3.  9.  8.  4.  4.  5.  1.  3.  1.  3.  8.  7.  9.  4.\n",
      "  8.  8.  1.  9.  7.  1.  4.  3.  6.  0.  5.  2.  2.  6.  1.  5.  5.  2.\n",
      "  4.  9.  6.  2.  7.  7.  2.  2.  1.  1.  2.  8.  3.  4.  2.  4.  1.  7.\n",
      "  1.  7.  6.  7.  3.  2.  7.  3.  1.  7.  5.  8.  2.  6.  2.  2.  8.  6.\n",
      "  6.  0.  9.  2.  4.  3.  3.  9.  7.  6.  6.  8.  0.  4.  1.  3.  8.  3.\n",
      "  9.  1.  8.  0.  6.  7.  2.  1.  0.  5.  5.  2.  0.  1.  2.  0.  2.  4.\n",
      "  9.  8.  0.  9.  9.  4.  6.  5.  4.  7.  1.  9.  3.  4.  9.  9.  1.  2.\n",
      "  2.  8.  1.  9.  6.  4.  0.  9.  4.  8.  3.  8.  6.  0.  2.  5.  1.  9.\n",
      "  6.  2.  9.  4.  0.  9.  6.  0.  6.  2.  5.  4.  2.  3.  8.  1.  5.  5.\n",
      "  0.  1.  3.  5.  3.  5.  8.  6.  0.  7.  6.  3.  3.  9.  6.  1.  1.  2.\n",
      "  9.  0.  4.  3.  8.  6.  9.  5.  9.  3.  7.  7.  7.  8.  1.  9.  8.  3.\n",
      "  0.  7.  2.  7.  9.  4.  5.  4.  9.  3.  2.  1.  4.  0.  2.  3.  7.  5.\n",
      "  4.  5.  8.  5.  0.  1.  1.  4.  7.  5.  9.  0.  0.  0.  6.  6.  2.  3.\n",
      "  7.  8.  4.  7.  7.  9.  3.  4.  1.  6.  5.  2.  4.  8.  9.  1.  8.  4.\n",
      "  0.  3.  8.  4.  0.  7.  7.  0.  9.  8.  8.  6.  0.  4.  8.  8.  2.  4.\n",
      "  7.  6.  6.  6.  4.  7.  1.  8.  8.  2.  3.  6.  3.  0.  0.  3.  7.  6.\n",
      "  9.  7.  9.  9.  5.  4.  3.  7.  6.  1.  2.  3.  7.  3.  3.  2.  0.  8.\n",
      "  3.  8.  9.  3.  6.  3.  5.  0.  2.  0.  9.  0.  7.  4.  6.  9.  3.  5.\n",
      "  1.  9.  6.  1.  9.  5.  4.  5.  0.  5.  9.  6.  2.  1.  2.  9.  1.  9.\n",
      "  9.  4.  0.  8.  4.  5.  2.  9.  2.  1.  2.  1.  7.  3.  6.  8.  8.  4.\n",
      "  9.  1.  9.  8.  5.  7.  5.  1.  1.  8.  6.  5.  2.  4.  4.  7.  2.  3.\n",
      "  5.  6.  8.  8.  6.  2.  3.  1.  0.  5.  8.  9.  2.  9.  6.  7.  0.  4.\n",
      "  8.  7.  1.  7.  4.  1.  0.  3.  7.  2.  0.  0.  9.  1.  1.  0.  4.  8.\n",
      "  4.  9.  2.  0.  4.  6.  0.  3.  1.  1.  8.  3.  9.  6.  7.  4.  1.  2.\n",
      "  3.  0.  5.  7.  3.  9.  6.  9.  3.  5.  0.  2.  7.  4.  5.  1.  2.  5.\n",
      "  8.  0.  8.  7.  1.  5.  0.  3.  0.  3.  1.  4.  0.  3.  7.  2.  7.  1.\n",
      "  3.  0.  7.  0.  4.  3.  1.  9.  8.  7.  7.  1.  9.  9.  9.  3.  7.  1.\n",
      "  7.  9.  0.  2.  0.  3.  3.  7.  6.  4.  2.  3.  3.  7.  7.  0.  0.  7.\n",
      "  5.  2.  9.  0.  7.  4.  4.  2.  6.  6.  1.  9.  6.  4.  2.  9.  0.  8.\n",
      "  3.  1.  1.  6.  3.  5.  1.  1.  1.  3.  1.  2.  3.  0.  2.  0.  1.  3.\n",
      "  5.  5.  7.  4.  7.  9.  6.  9.  6.  2.  3.  6.  6.  8.  5.  1.  4.  2.\n",
      "  4.  1.  5.  1.  1.  9.  0.  3.  4.  9.  5.  7.  1.  8.  3.  5.  6.  9.\n",
      "  8.  7.  1.  1.  6.  7.  6.  3.  2.  2.  0.  8.  9.  2.  5.  1.  0.  8.\n",
      "  1.  4.  5.  7.  9.  6.  9.  0.  6.  1.  3.  5.  8.  3.  8.  2.  6.  5.\n",
      "  0.  7.  4.  6.  1.  3.  4.  7.  3.  2.  3.  4.  2.  5.  2.  7.  1.  7.\n",
      "  2.  6.  6.  1.  5.  7.  8.  6.  0.  1.  8.  2.  5.  7.  7.  6.  3.  3.\n",
      "  5.  8.  4.  2.  4.  0.  8.  8.  3.  4.  9.  2.  7.  5.  1.  6.  3.  6.\n",
      "  0.  8.  6.  7.  3.  6.  4.  9.  4.  6.  6.  3.  0.  4.  1.  0.  1.  4.\n",
      "  6.  2.  9.  1.  1.  0.  6.  3.  9.  5.]\n"
     ]
    }
   ],
   "source": [
    "predLabel = kNN(np_train_img, trainingLabel, np_test_img, 3)\n",
    "print(predLabel)"
   ]
  },
  {
   "cell_type": "code",
   "execution_count": 56,
   "metadata": {},
   "outputs": [
    {
     "name": "stdout",
     "output_type": "stream",
     "text": [
      "0.905\n",
      "[[ 1.          0.          0.          0.          0.          0.          0.\n",
      "   0.          0.          0.        ]\n",
      " [ 0.          1.          0.          0.          0.          0.          0.\n",
      "   0.          0.          0.        ]\n",
      " [ 0.00970874  0.01941748  0.9223301   0.02912621  0.          0.\n",
      "   0.00970874  0.00970874  0.          0.        ]\n",
      " [ 0.          0.01        0.01        0.86        0.          0.05        0.\n",
      "   0.03        0.04        0.        ]\n",
      " [ 0.          0.01869159  0.          0.          0.91588785  0.\n",
      "   0.02803738  0.          0.          0.03738318]\n",
      " [ 0.02173913  0.          0.01086957  0.06521739  0.          0.84782609\n",
      "   0.0326087   0.01086957  0.01086957  0.        ]\n",
      " [ 0.          0.01098901  0.          0.          0.          0.01098901\n",
      "   0.97802198  0.          0.          0.        ]\n",
      " [ 0.          0.0754717   0.00943396  0.          0.02830189  0.          0.\n",
      "   0.83962264  0.          0.04716981]\n",
      " [ 0.02912621  0.01941748  0.00970874  0.04854369  0.02912621  0.01941748\n",
      "   0.          0.02912621  0.7961165   0.01941748]\n",
      " [ 0.          0.          0.          0.03        0.03        0.02        0.\n",
      "   0.01        0.01        0.9       ]]\n"
     ]
    }
   ],
   "source": [
    "cm, overall_acc = conf_matrix(testLabel, predLabel)\n",
    "print(overall_acc)\n",
    "print(cm)"
   ]
  },
  {
   "cell_type": "code",
   "execution_count": 60,
   "metadata": {},
   "outputs": [],
   "source": [
    "one = kNN(np_train_img, trainingLabel, np_test_img, 1)\n",
    "two = kNN(np_train_img, trainingLabel, np_test_img, 2)\n",
    "three = kNN(np_train_img, trainingLabel, np_test_img, 3)\n",
    "four = kNN(np_train_img, trainingLabel, np_test_img, 4)\n",
    "five = kNN(np_train_img, trainingLabel, np_test_img, 5)\n",
    "six = kNN(np_train_img, trainingLabel, np_test_img, 6)\n",
    "\n",
    "_, one_acc = conf_matrix(testLabel, one)\n",
    "_, two_acc = conf_matrix(testLabel, two)\n",
    "_, three_acc = conf_matrix(testLabel, three)\n",
    "_, four_acc = conf_matrix(testLabel, four)\n",
    "_, five_acc = conf_matrix(testLabel, five)\n",
    "_, six_acc = conf_matrix(testLabel, six)"
   ]
  },
  {
   "cell_type": "code",
   "execution_count": 66,
   "metadata": {},
   "outputs": [],
   "source": [
    "seven = kNN(np_train_img, trainingLabel, np_test_img, 6)\n",
    "eight = kNN(np_train_img, trainingLabel, np_test_img, 6)\n",
    "_, seven_acc = conf_matrix(testLabel, seven)\n"
   ]
  },
  {
   "cell_type": "code",
   "execution_count": 67,
   "metadata": {},
   "outputs": [
    {
     "data": {
      "image/png": "[encoded data removed]",
      "text/plain": [
       "<matplotlib.figure.Figure at 0x7f6a1029fd30>"
      ]
     },
     "metadata": {},
     "output_type": "display_data"
    }
   ],
   "source": [
    "x = [1, 2, 3, 4, 5, 6, 7]\n",
    "y = []\n",
    "y.append(one_acc)\n",
    "y.append(two_acc)\n",
    "y.append(three_acc)\n",
    "y.append(four_acc)\n",
    "y.append(five_acc)\n",
    "y.append(six_acc)\n",
    "y.append(seven_acc)\n",
    "plt.plot(x, y)\n",
    "plt.show()"
   ]
  },
  {
   "cell_type": "code",
   "execution_count": null,
   "metadata": {},
   "outputs": [],
   "source": []
  }
 ],
 "metadata": {
  "kernelspec": {
   "display_name": "Python 3",
   "language": "python",
   "name": "python3"
  },
  "language_info": {
   "codemirror_mode": {
    "name": "ipython",
    "version": 3
   },
   "file_extension": ".py",
   "mimetype": "text/x-python",
   "name": "python",
   "nbconvert_exporter": "python",
   "pygments_lexer": "ipython3",
   "version": "3.6.2"
  }
 },
 "nbformat": 4,
 "nbformat_minor": 2
}
