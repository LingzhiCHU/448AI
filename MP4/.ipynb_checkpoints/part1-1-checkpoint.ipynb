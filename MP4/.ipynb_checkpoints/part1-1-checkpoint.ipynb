{
 "cells": [
  {
   "cell_type": "code",
   "execution_count": 1,
   "metadata": {},
   "outputs": [],
   "source": [
    "import sys\n",
    "import math\n",
    "import numpy as np\n",
    "sys.setrecursionlimit(1500)"
   ]
  },
  {
   "cell_type": "code",
   "execution_count": 2,
   "metadata": {},
   "outputs": [],
   "source": [
    "# convert input txt into an 140000 * 28 array\n",
    "def inputDigit(img_dir=\"digitdata/trainingimages\"):\n",
    "    with open(img_dir) as digitTxt:\n",
    "        image = [list(line)[0:28] for line in digitTxt]\n",
    "        rows = len(image)\n",
    "        \n",
    "    for i in range(rows):\n",
    "        for j in range(28):\n",
    "            if image[i][j] == ' ':\n",
    "                image[i][j] = 0\n",
    "            else:\n",
    "                image[i][j] = 1\n",
    "    return image"
   ]
  },
  {
   "cell_type": "code",
   "execution_count": 3,
   "metadata": {},
   "outputs": [],
   "source": [
    "trainingImg = inputDigit(\"digitdata/trainingimages\")\n",
    "#print(len(trainingImg))\n",
    "#print(len(trainingImg[139999]))"
   ]
  },
  {
   "cell_type": "code",
   "execution_count": 4,
   "metadata": {},
   "outputs": [],
   "source": [
    "def readLable(name=\"digitdata/traininglabels\"):\n",
    "    with open(name) as label:\n",
    "        labels = []\n",
    "        for line in label:\n",
    "            labels.append(line[0])\n",
    "    return labels"
   ]
  },
  {
   "cell_type": "code",
   "execution_count": 5,
   "metadata": {},
   "outputs": [],
   "source": [
    "trainingLable = readLable()\n",
    "#print(len(trainingLable)"
   ]
  },
  {
   "cell_type": "code",
   "execution_count": 6,
   "metadata": {},
   "outputs": [],
   "source": [
    "def mmse(preds, labels):\n",
    "    error_sum = 0\n",
    "    for i in len(labels):\n",
    "        sum += (label[i] - preds[i]) ** 2\n",
    "    return sum"
   ]
  },
  {
   "cell_type": "code",
   "execution_count": 7,
   "metadata": {},
   "outputs": [],
   "source": [
    "def unrollImg(img):\n",
    "    image_num = int(len(img)/28)     #each img consists of 28 lines\n",
    "    unrolledImg = [[] for x in range(image_num)]          # 500*784\n",
    "    offset = 0\n",
    "    for i in range(image_num):  # i: 0--500\n",
    "        for j in range(28):   # j: 0--28  roll num in rolled img\n",
    "            unrolledImg[i] += img[offset+j]\n",
    "        offset +=28\n",
    "\n",
    "    return np.array(unrolledImg)"
   ]
  },
  {
   "cell_type": "code",
   "execution_count": 63,
   "metadata": {},
   "outputs": [],
   "source": [
    "# ZERO init 10 perceptrons' weights to\n",
    "def init_weights():\n",
    "    weights = np.zeros((10, 784))\n",
    "    return weights"
   ]
  },
  {
   "cell_type": "code",
   "execution_count": 58,
   "metadata": {},
   "outputs": [],
   "source": [
    "# input: both w and x are np array\n",
    "def update(w, true_y, pred_y, x, alpha=1):\n",
    "    w = np.add(w, np.multiply(x, alpha * (true_y - pred_y)))\n",
    "    return w"
   ]
  },
  {
   "cell_type": "code",
   "execution_count": 59,
   "metadata": {},
   "outputs": [],
   "source": [
    "def train(weights, trainingImg, trainingLable, epoch_num=1000 ):\n",
    "    alpha = 1\n",
    "    trained_weights = weights\n",
    "    # iterate epoch_num times\n",
    "    for e in range(epoch_num):\n",
    "        # iterate through every images\n",
    "        for i in range(len(trainingImg)):\n",
    "            # train all 10 perceptrons with every single image\n",
    "            cur_image = trainingImg[i]\n",
    "            for p in range(10):\n",
    "                inference = np.sign(weights[p].dot(cur_image))\n",
    "                if trainingLable[i] == p:\n",
    "                    true_y = 1\n",
    "                else:\n",
    "                    true_y = -1\n",
    "                trained_weights[p] = update(trained_weights[p], true_y, inference, cur_image, alpha)\n",
    "                if i==10 and p==5:\n",
    "                    print(trained_weights[p])\n",
    "    return trained_weights"
   ]
  },
  {
   "cell_type": "code",
   "execution_count": 95,
   "metadata": {},
   "outputs": [
    {
     "name": "stdout",
     "output_type": "stream",
     "text": [
      "[ 0.  0.  0.  0.  0.  0.  0.  0.  0.  0.  0.  0.  0.  0.  0.  0.  0.  0.\n",
      "  0.  0.  0.  0.  0.  0.  0.  0.  0.  0.  0.  0.  0.  0.  0.  0.  0.  0.\n",
      "  0.  0.  0.  0.  0.  0.  0.  0.  0.  0.  0.  0.  0.  0.  0.  0.  0.  0.\n",
      "  0.  0.  0.  0.  0.  0.  0.  0.  0.  0.  0.  0.  0.  0.  0.  0.  0.  0.\n",
      "  0.  0.  0.  0.  0.  0.  0.  0.  0.  0.  0.  0.  0.  0.  0.  0.  0.  0.\n",
      "  0.  0.  0.  0.  0.  0.  0.  0.  0.  0.  0.  0.  0.  0.  0.  0.  0.  0.\n",
      "  0.  0.  0.  0.  0.  0.  0.  0.  0.  0.  0.  0.  0.  0.  0.  0.  0.  0.\n",
      "  0.  0.  0.  0.  0.  0.  0.  0.  0.  0.  0.  0.  0.  0.  0.  0.  0.  0.\n",
      "  0.  0.  0.  0.  0.  0.  0.  0.  0.  0.  0.  0.  0.  0.  0.  0.  2.  2.\n",
      "  2.  0.  0.  0.  0.  0.  0.  0.  0.  0.  2.  2.  0.  0.  0.  0.  0.  0.\n",
      "  0.  0.  0.  0.  0.  0.  0.  0.  2.  2.  2.  0.  0.  0.  0.  0.  0.  0.\n",
      "  0.  0.  2.  2.  0.  0.  0.  0.  0.  0.  0.  0.  0.  0.  0.  0.  0.  0.\n",
      "  2.  2.  2.  0.  0.  0.  0.  0.  0.  0.  0.  0.  2.  2.  0.  0.  0.  0.\n",
      "  0.  0.  0.  0.  0.  0.  0.  0.  0.  2.  2.  2.  0.  0.  0.  0.  0.  0.\n",
      "  0.  0.  0.  0.  2.  2.  0.  0.  0.  0.  0.  0.  0.  0.  0.  0.  0.  0.\n",
      "  0.  2.  2.  2.  0.  0.  0.  0.  0.  0.  0.  0.  0.  2.  2.  2.  0.  0.\n",
      "  0.  0.  0.  0.  0.  0.  0.  0.  0.  0.  0.  2.  2.  2.  0.  0.  0.  0.\n",
      "  0.  0.  0.  0.  0.  2.  2.  2.  0.  0.  0.  0.  0.  0.  0.  0.  0.  0.\n",
      "  0.  0.  2.  2.  2.  2.  0.  0.  0.  0.  0.  0.  0.  0.  0.  2.  2.  2.\n",
      "  0.  0.  0.  0.  0.  0.  0.  0.  0.  0.  0.  0.  2.  2.  2.  0.  0.  0.\n",
      "  0.  0.  0.  0.  0.  0.  0.  2.  2.  2.  0.  0.  0.  0.  0.  0.  0.  0.\n",
      "  0.  0.  2.  2.  2.  2.  2.  0.  0.  0.  0.  0.  0.  0.  0.  0.  0.  2.\n",
      "  2.  2.  0.  0.  0.  2.  2.  2.  2.  2.  2.  2.  2.  2.  2.  2.  2.  0.\n",
      "  0.  0.  0.  0.  0.  0.  0.  0.  0.  2.  2.  2.  2.  2.  2.  2.  2.  2.\n",
      "  2.  2.  2.  2.  2.  0.  2.  2.  0.  0.  0.  0.  0.  0.  0.  0.  0.  0.\n",
      "  0.  0.  2.  2.  2.  2.  2.  2.  2.  2.  0.  0.  0.  0.  0.  2.  2.  2.\n",
      "  0.  0.  0.  0.  0.  0.  0.  0.  0.  0.  0.  0.  0.  0.  0.  0.  0.  0.\n",
      "  0.  0.  0.  0.  0.  0.  0.  2.  2.  2.  0.  0.  0.  0.  0.  0.  0.  0.\n",
      "  0.  0.  0.  0.  0.  0.  0.  0.  0.  0.  0.  0.  0.  0.  0.  0.  0.  2.\n",
      "  2.  2.  0.  0.  0.  0.  0.  0.  0.  0.  0.  0.  0.  0.  0.  0.  0.  0.\n",
      "  0.  0.  0.  0.  0.  0.  0.  0.  0.  2.  2.  2.  0.  0.  0.  0.  0.  0.\n",
      "  0.  0.  0.  0.  0.  0.  0.  0.  0.  0.  0.  0.  0.  0.  0.  0.  0.  0.\n",
      "  0.  2.  2.  2.  0.  0.  0.  0.  0.  0.  0.  0.  0.  0.  0.  0.  0.  0.\n",
      "  0.  0.  0.  0.  0.  0.  0.  0.  0.  0.  0.  2.  2.  2.  0.  0.  0.  0.\n",
      "  0.  0.  0.  0.  0.  0.  0.  0.  0.  0.  0.  0.  0.  0.  0.  0.  0.  0.\n",
      "  0.  0.  0.  2.  2.  2.  0.  0.  0.  0.  0.  0.  0.  0.  0.  0.  0.  0.\n",
      "  0.  0.  0.  0.  0.  0.  0.  0.  0.  0.  0.  0.  0.  2.  2.  2.  0.  0.\n",
      "  0.  0.  0.  0.  0.  0.  0.  0.  0.  0.  0.  0.  0.  0.  0.  0.  0.  0.\n",
      "  0.  0.  0.  0.  0.  2.  2.  2.  0.  0.  0.  0.  0.  0.  0.  0.  0.  0.\n",
      "  0.  0.  0.  0.  0.  0.  0.  0.  0.  0.  0.  0.  0.  0.  0.  0.  0.  0.\n",
      "  0.  0.  0.  0.  0.  0.  0.  0.  0.  0.  0.  0.  0.  0.  0.  0.  0.  0.\n",
      "  0.  0.  0.  0.  0.  0.  0.  0.  0.  0.  0.  0.  0.  0.  0.  0.  0.  0.\n",
      "  0.  0.  0.  0.  0.  0.  0.  0.  0.  0.  0.  0.  0.  0.  0.  0.  0.  0.\n",
      "  0.  0.  0.  0.  0.  0.  0.  0.  0.  0.]\n"
     ]
    }
   ],
   "source": [
    "#weights = init_weights()\n",
    "#print(weights[0])\n",
    "t = update(weights[5], 1, -1, np_img[2], 1)\n",
    "print(t)"
   ]
  },
  {
   "cell_type": "code",
   "execution_count": 82,
   "metadata": {},
   "outputs": [],
   "source": [
    "weights = init_weights()\n",
    "epoch_num = 30\n",
    "np_img = unrollImg(trainingImg)"
   ]
  },
  {
   "cell_type": "code",
   "execution_count": 76,
   "metadata": {},
   "outputs": [
    {
     "name": "stdout",
     "output_type": "stream",
     "text": [
      "[[ 0.  0.  0. ...,  0.  0.  0.]\n",
      " [ 0.  0.  0. ...,  0.  0.  0.]\n",
      " [ 0.  0.  0. ...,  0.  0.  0.]\n",
      " ..., \n",
      " [ 0.  0.  0. ...,  0.  0.  0.]\n",
      " [ 0.  0.  0. ...,  0.  0.  0.]\n",
      " [ 0.  0.  0. ...,  0.  0.  0.]]\n"
     ]
    }
   ],
   "source": [
    "print(weights)"
   ]
  },
  {
   "cell_type": "code",
   "execution_count": 68,
   "metadata": {},
   "outputs": [],
   "source": [
    "trained_weights = train(weights, np_img, trainingLable, epoch_num)"
   ]
  },
  {
   "cell_type": "code",
   "execution_count": 70,
   "metadata": {},
   "outputs": [
    {
     "name": "stdout",
     "output_type": "stream",
     "text": [
      "[  0.   0.   0.   0.   0.   0.   0.   0.   0.   0.   0.   0.   0.   0.   0.\n",
      "   0.   0.   0.   0.   0.   0.   0.   0.   0.   0.   0.   0.   0.   0.   0.\n",
      "   0.   0.   0.   0.   0.   0.   0.   0.   0.   0.   0.   0.   0.   0.   0.\n",
      "   0.   0.   0.   0.   0.   0.   0.   0.   0.   0.   0.   0.   0.   0.   0.\n",
      "   0.   0.   0.   0.   0.   0.   0.   0.   0.   0.   0.   0.   0.   0.   0.\n",
      "   0.   0.   0.   0.   0.   0.   0.   0.   0.   0.   0.   0.   0.   0.   0.\n",
      "   0.   0.   0.   0.   0.   0.   0.   0.   0.   0.   0.   0.   0.   0.   0.\n",
      "   0.   0.   0.   0.   0.   0.   0.   0.   0.   0.   0.   0.   0.   0.   0.\n",
      "   0.   0.   0.   0.   0.   0.   0.   0.   0.   0.   0.   0.   0.   0.   0.\n",
      "   0.   0.   0.   0.   0.   0.   0.   0.   0.   0.   0.   0.   0.   0.   0.\n",
      "   0.   0.   0.   0.   0.   0. -10. -10. -10. -10. -10. -10. -10. -10.   0.\n",
      "   0.   0.   0.   0.   0.   0.   0.   0.   0.   0.   0. -10. -10. -10. -10.\n",
      " -10. -10. -10. -10. -10. -10. -10. -10. -10. -10. -10. -10.   0.   0.   0.\n",
      "   0.   0.   0.   0.   0.   0.   0.   0. -10. -10. -10. -10. -10. -10. -10.\n",
      " -10. -10. -10. -10. -10. -10. -10. -10. -10.   0.   0.   0.   0.   0.   0.\n",
      "   0.   0.   0.   0.   0.   0.   0. -10. -10. -10. -10. -10. -10. -10. -10.\n",
      " -10. -10.   0.   0.   0.   0.   0.   0.   0.   0.   0.   0.   0.   0.   0.\n",
      "   0.   0.   0.   0.   0. -10. -10. -10. -10. -10. -10.   0.   0. -10. -10.\n",
      "   0.   0.   0.   0.   0.   0.   0.   0.   0.   0.   0.   0.   0.   0.   0.\n",
      "   0.   0.   0.   0.   0.   0. -10. -10. -10.   0.   0.   0.   0.   0.   0.\n",
      "   0.   0.   0.   0.   0.   0.   0.   0.   0.   0.   0.   0.   0.   0.   0.\n",
      "   0.   0.   0.   0. -10. -10. -10.   0.   0.   0.   0.   0.   0.   0.   0.\n",
      "   0.   0.   0.   0.   0.   0.   0.   0.   0.   0.   0.   0.   0.   0.   0.\n",
      "   0.   0.   0. -10. -10. -10.   0.   0.   0.   0.   0.   0.   0.   0.   0.\n",
      "   0.   0.   0.   0.   0.   0.   0.   0.   0.   0.   0.   0.   0.   0.   0.\n",
      "   0. -10. -10. -10. -10. -10.   0.   0.   0.   0.   0.   0.   0.   0.   0.\n",
      "   0.   0.   0.   0.   0.   0.   0.   0.   0.   0.   0.   0.   0.   0.   0.\n",
      " -10. -10. -10. -10. -10. -10.   0.   0.   0.   0.   0.   0.   0.   0.   0.\n",
      "   0.   0.   0.   0.   0.   0.   0.   0.   0.   0.   0.   0.   0.   0. -10.\n",
      " -10. -10. -10. -10. -10.   0.   0.   0.   0.   0.   0.   0.   0.   0.   0.\n",
      "   0.   0.   0.   0.   0.   0.   0.   0.   0.   0.   0.   0.   0.   0. -10.\n",
      " -10. -10. -10.   0.   0.   0.   0.   0.   0.   0.   0.   0.   0.   0.   0.\n",
      "   0.   0.   0.   0.   0.   0.   0.   0.   0.   0.   0.   0.   0. -10. -10.\n",
      " -10. -10.   0.   0.   0.   0.   0.   0.   0.   0.   0.   0.   0.   0.   0.\n",
      "   0.   0.   0.   0.   0.   0.   0.   0. -10. -10. -10. -10. -10. -10.   0.\n",
      "   0.   0.   0.   0.   0.   0.   0.   0.   0.   0.   0.   0.   0.   0.   0.\n",
      "   0.   0.   0.   0. -10. -10. -10. -10. -10. -10. -10. -10.   0.   0.   0.\n",
      "   0.   0.   0.   0.   0.   0.   0.   0.   0.   0.   0.   0.   0.   0.   0.\n",
      " -10. -10. -10. -10. -10. -10. -10. -10. -10.   0.   0.   0.   0.   0.   0.\n",
      "   0.   0.   0.   0.   0.   0.   0.   0.   0.   0.   0. -10. -10. -10. -10.\n",
      " -10. -10. -10. -10. -10.   0.   0.   0.   0.   0.   0.   0.   0.   0.   0.\n",
      "   0.   0.   0.   0.   0.   0.   0.   0. -10. -10. -10. -10. -10. -10. -10.\n",
      " -10.   0.   0.   0.   0.   0.   0.   0.   0.   0.   0.   0.   0.   0.   0.\n",
      "   0.   0.   0. -10. -10. -10. -10. -10. -10. -10. -10. -10.   0.   0.   0.\n",
      "   0.   0.   0.   0.   0.   0.   0.   0.   0.   0.   0.   0.   0.   0.   0.\n",
      "   0. -10. -10. -10. -10. -10. -10. -10.   0.   0.   0.   0.   0.   0.   0.\n",
      "   0.   0.   0.   0.   0.   0.   0.   0.   0.   0.   0.   0.   0.   0.   0.\n",
      "   0.   0.   0.   0.   0.   0.   0.   0.   0.   0.   0.   0.   0.   0.   0.\n",
      "   0.   0.   0.   0.   0.   0.   0.   0.   0.   0.   0.   0.   0.   0.   0.\n",
      "   0.   0.   0.   0.   0.   0.   0.   0.   0.   0.   0.   0.   0.   0.   0.\n",
      "   0.   0.   0.   0.   0.   0.   0.   0.   0.   0.   0.   0.   0.   0.   0.\n",
      "   0.   0.   0.   0.   0.   0.   0.   0.   0.   0.   0.   0.   0.   0.   0.\n",
      "   0.   0.   0.   0.]\n"
     ]
    }
   ],
   "source": [
    "print(sum(trained_weights))"
   ]
  },
  {
   "cell_type": "code",
   "execution_count": 71,
   "metadata": {},
   "outputs": [],
   "source": [
    "# input is the 10 perceptrons(weights)\n",
    "# output is the prediction label for input images\n",
    "def inference(weights, trainingImg):\n",
    "    pred = []\n",
    "    for i in range(len(trainingImg)):\n",
    "        # train all 10 perceptrons with every single image\n",
    "        cur_image = trainingImg[i]\n",
    "        inference = np.zeros(10)\n",
    "        for p in range(10):\n",
    "            inference[p] = math.copysign(1, dot_product(weights[p], cur_image))\n",
    "        pred.append(inference.argmax())\n",
    "    return pred"
   ]
  },
  {
   "cell_type": "code",
   "execution_count": 34,
   "metadata": {},
   "outputs": [],
   "source": [
    "#list = [[] for x in range(500)]\n",
    "#print(len(list))\n",
    "#print(len(list[0]))\n",
    "\n",
    "#a = unrollImg(trainingImg)\n",
    "#print(len(a))\n",
    "#print(len(a[0]))\n",
    "\n",
    "#w = init_weights()\n",
    "#print(len(w))\n",
    "#print(len(w[0]))\n",
    "\n",
    "#print(math.copysign(1, -5))\n",
    "\n",
    "#n = np.zeros(8)\n",
    "#n[0] = 10\n",
    "#print(n.argmax())\n",
    "\n"
   ]
  },
  {
   "cell_type": "code",
   "execution_count": 72,
   "metadata": {},
   "outputs": [
    {
     "name": "stdout",
     "output_type": "stream",
     "text": [
      "5000\n"
     ]
    }
   ],
   "source": [
    "pred_label = inference(trained_weights, np_img)\n",
    "print(len(pred_label))"
   ]
  },
  {
   "cell_type": "code",
   "execution_count": 75,
   "metadata": {},
   "outputs": [],
   "source": [
    "#print(trained_weights[1])\n",
    "#print(np_img[10])\n",
    "#print(pred_label)"
   ]
  },
  {
   "cell_type": "code",
   "execution_count": null,
   "metadata": {},
   "outputs": [],
   "source": []
  }
 ],
 "metadata": {
  "kernelspec": {
   "display_name": "Python 3",
   "language": "python",
   "name": "python3"
  },
  "language_info": {
   "codemirror_mode": {
    "name": "ipython",
    "version": 3
   },
   "file_extension": ".py",
   "mimetype": "text/x-python",
   "name": "python",
   "nbconvert_exporter": "python",
   "pygments_lexer": "ipython3",
   "version": "3.6.2"
  }
 },
 "nbformat": 4,
 "nbformat_minor": 2
}
