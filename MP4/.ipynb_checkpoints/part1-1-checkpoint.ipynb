{
 "cells": [
  {
   "cell_type": "code",
   "execution_count": 1,
   "metadata": {},
   "outputs": [],
   "source": [
    "import sys\n",
    "import math\n",
    "import numpy as np\n",
    "import matplotlib.pyplot as plt\n",
    "sys.setrecursionlimit(1500)"
   ]
  },
  {
   "cell_type": "code",
   "execution_count": 2,
   "metadata": {},
   "outputs": [],
   "source": [
    "# convert input txt into an 140000 * 28 array\n",
    "def inputDigit(img_dir=\"digitdata/trainingimages\"):\n",
    "    with open(img_dir) as digitTxt:\n",
    "        image = [list(line)[0:28] for line in digitTxt]\n",
    "        rows = len(image)\n",
    "        \n",
    "    for i in range(rows):\n",
    "        for j in range(28):\n",
    "            if image[i][j] == ' ':\n",
    "                image[i][j] = 0\n",
    "            else:\n",
    "                image[i][j] = 1\n",
    "    return image"
   ]
  },
  {
   "cell_type": "code",
   "execution_count": 3,
   "metadata": {},
   "outputs": [],
   "source": [
    "def unrollImg(img):\n",
    "    image_num = int(len(img)/28)     #each img consists of 28 lines\n",
    "    unrolledImg = [[] for x in range(image_num)]          # 500*784\n",
    "    offset = 0\n",
    "    for i in range(image_num):  # i: 0--500\n",
    "        for j in range(28):   # j: 0--28  roll num in rolled img\n",
    "            unrolledImg[i] += img[offset+j]\n",
    "        offset +=28\n",
    "\n",
    "    return np.array(unrolledImg)"
   ]
  },
  {
   "cell_type": "code",
   "execution_count": 4,
   "metadata": {},
   "outputs": [],
   "source": [
    "def readLabel(name=\"digitdata/traininglabels\"):\n",
    "    with open(name) as label:\n",
    "        labels = []\n",
    "        for line in label:\n",
    "            labels.append(int(line[0]))\n",
    "    return labels"
   ]
  },
  {
   "cell_type": "code",
   "execution_count": 5,
   "metadata": {},
   "outputs": [],
   "source": [
    "trainingImg = inputDigit(\"digitdata/trainingimages\")\n",
    "np_train_img = unrollImg(trainingImg)\n",
    "trainingLabel = readLabel(\"digitdata/traininglabels\")\n",
    "testImg = inputDigit(\"digitdata/testimages\")\n",
    "np_test_img = unrollImg(testImg)\n",
    "testLabel = readLabel(\"digitdata/testlabels\")"
   ]
  },
  {
   "cell_type": "code",
   "execution_count": 7,
   "metadata": {},
   "outputs": [],
   "source": [
    "# ZERO init 10 perceptrons' weights to\n",
    "def init_weights():\n",
    "    weights = np.zeros((10, 784))\n",
    "    return weights"
   ]
  },
  {
   "cell_type": "code",
   "execution_count": 8,
   "metadata": {},
   "outputs": [],
   "source": [
    "def init_bias():\n",
    "    bias = np.zeros(10)\n",
    "    return bias"
   ]
  },
  {
   "cell_type": "code",
   "execution_count": 6,
   "metadata": {},
   "outputs": [],
   "source": [
    "def mmse(preds, labels):\n",
    "    error_sum = 0\n",
    "    for i in len(labels):\n",
    "        sum += (label[i] - preds[i]) ** 2\n",
    "    return sum"
   ]
  },
  {
   "cell_type": "code",
   "execution_count": 26,
   "metadata": {},
   "outputs": [],
   "source": [
    "# input: both w and x are np array\n",
    "def update(w, b, true_y, pred_y, x, alpha=1):\n",
    "    w = np.add(w, np.multiply(x, alpha * (true_y - pred_y)))\n",
    "    b = np.add(b, alpha * (true_y - pred_y))\n",
    "    return w, b"
   ]
  },
  {
   "cell_type": "code",
   "execution_count": 10,
   "metadata": {},
   "outputs": [],
   "source": [
    "# input is the 10 perceptrons(weights)\n",
    "# output is the prediction label for input images\n",
    "def inference(weights, trainingImg):\n",
    "    image_num = len(trainingImg)\n",
    "    pred = np.zeros(image_num)\n",
    "    for i in range(image_num):\n",
    "        # train all 10 perceptrons with every single image\n",
    "        cur_image = trainingImg[i]\n",
    "        inference = np.zeros(10)\n",
    "        for p in range(10):\n",
    "            inference[p] = math.copysign(1, weights[p].dot(cur_image))\n",
    "        pred[i] = inference.argmax()\n",
    "    return pred"
   ]
  },
  {
   "cell_type": "code",
   "execution_count": 11,
   "metadata": {},
   "outputs": [],
   "source": [
    "def show_acc(pred_label, trainingLabel):\n",
    "    total = 0\n",
    "    correct = 0\n",
    "    for i in range(len(trainingLabel)):\n",
    "        total += 1\n",
    "        if pred_label[i] == int(trainingLabel[i]):\n",
    "            correct += 1\n",
    "    #print(\"accuracy is\", correct/total)\n",
    "    return correct/total"
   ]
  },
  {
   "cell_type": "code",
   "execution_count": 46,
   "metadata": {},
   "outputs": [],
   "source": [
    "def conf_matrix(trueLabel, predLabel):\n",
    "    cm = np.zeros((10,10))\n",
    "    overall_acc = 0\n",
    "    for i in range(len(trueLabel)):\n",
    "        cm[int(trueLabel[i])][int(predLabel[i])] += 1\n",
    "    total_sample_size = np.sum(cm)\n",
    "    for i in range(10):\n",
    "        cur_row_sum = np.sum(cm[i])\n",
    "        cm[i] /= cur_row_sum\n",
    "        overall_acc += cm[i][i]*cur_row_sum/total_sample_size\n",
    "    return cm, overall_acc"
   ]
  },
  {
   "cell_type": "code",
   "execution_count": 47,
   "metadata": {},
   "outputs": [],
   "source": [
    "def keep_k_digits(matrix):\n",
    "    for i in range(len(matrix)):\n",
    "        for j in range(len(matrix[0])):\n",
    "            matrix[i][j] = float(format(matrix[i][j], '.4f'))\n",
    "    return matrix"
   ]
  },
  {
   "cell_type": "code",
   "execution_count": 51,
   "metadata": {},
   "outputs": [],
   "source": [
    "def train(weights, bias, trainingImg, trainingLabel, testImg, testLabel, epoch_num=30, initial_alpha=1):\n",
    "    trained_weights = weights\n",
    "    training_curve = np.zeros(epoch_num)\n",
    "    test_curve = np.zeros(epoch_num)\n",
    "    max_acc = 0\n",
    "    # iterate epoch_num times\n",
    "    for e in range(epoch_num):\n",
    "        # iterate through every images\n",
    "        cur_alpha = initial_alpha / (e+1)    # learning rate = \n",
    "        for i in range(len(trainingImg)):\n",
    "            # train all 10 perceptrons with every single image\n",
    "            cur_image = trainingImg[i]\n",
    "            for p in range(10):\n",
    "                inf = np.sign(weights[p].dot(cur_image))\n",
    "                if int(trainingLabel[i]) == p:\n",
    "                    true_y = 1\n",
    "                else:\n",
    "                    true_y = -1\n",
    "                trained_weights[p], bias[p] = update(trained_weights[p], bias[p], true_y, inf, cur_image, cur_alpha)\n",
    "                #if i==10 and p==5:\n",
    "                #    print(np.sum(trained_weights, axis = 1))\n",
    "        #print(\"On epoch\", e)\n",
    "        #print(\"training acc is\")\n",
    "        pred_train = inference(trained_weights, trainingImg)\n",
    "        training_curve[e] = show_acc(pred_train, trainingLabel)\n",
    "        #print(\"testing acc is\")\n",
    "        pred_test = inference(trained_weights, testImg)\n",
    "        test_curve[e] = show_acc(pred_test, testLabel)\n",
    "        \n",
    "        # if the current model is performing really well, save it\n",
    "        if test_curve[e] > max_acc:\n",
    "            max_acc = test_curve[e]\n",
    "            saved_weights = trained_weights\n",
    "\n",
    "    return trained_weights, training_curve, test_curve, saved_weights"
   ]
  },
  {
   "cell_type": "code",
   "execution_count": 52,
   "metadata": {},
   "outputs": [],
   "source": [
    "#weights = init_weights()\n",
    "weights = np.random.rand(10,784)\n",
    "bias = init_bias()\n",
    "epoch_num = 30"
   ]
  },
  {
   "cell_type": "code",
   "execution_count": 53,
   "metadata": {},
   "outputs": [],
   "source": [
    "trained_weights, training_curve, test_curve, saved_weights = train(weights, bias, np_train_img, trainingLabel, np_test_img, testLabel, epoch_num, 0.8)"
   ]
  },
  {
   "cell_type": "code",
   "execution_count": 54,
   "metadata": {},
   "outputs": [
    {
     "data": {
      "image/png": "[encoded data removed]",
      "text/plain": [
       "<matplotlib.figure.Figure at 0x7f06cdc1c390>"
      ]
     },
     "metadata": {},
     "output_type": "display_data"
    }
   ],
   "source": [
    "x = range(epoch_num)\n",
    "\n",
    "plt.xlabel('k (number of neighbors)')\n",
    "plt.ylabel('accuracy')\n",
    "\n",
    "\n",
    "plt.plot(x, training_curve, x, test_curve)\n",
    "plt.show()"
   ]
  },
  {
   "cell_type": "code",
   "execution_count": 48,
   "metadata": {},
   "outputs": [],
   "source": [
    "predLabel = inference(saved_weights, np_test_img)"
   ]
  },
  {
   "cell_type": "code",
   "execution_count": 49,
   "metadata": {},
   "outputs": [
    {
     "name": "stdout",
     "output_type": "stream",
     "text": [
      "0.721\n",
      "[[ 1.      0.      0.      0.      0.      0.      0.      0.      0.      0.    ]\n",
      " [ 0.0093  0.9722  0.      0.      0.0093  0.      0.0093  0.      0.      0.    ]\n",
      " [ 0.1068  0.068   0.6893  0.0194  0.0194  0.0097  0.0388  0.      0.0485\n",
      "   0.    ]\n",
      " [ 0.1     0.01    0.02    0.79    0.      0.03    0.01    0.02    0.02    0.    ]\n",
      " [ 0.0748  0.0187  0.0654  0.0093  0.7477  0.      0.0187  0.0093  0.0187\n",
      "   0.0374]\n",
      " [ 0.1739  0.      0.      0.087   0.0109  0.6522  0.      0.0109  0.0652\n",
      "   0.    ]\n",
      " [ 0.0769  0.022   0.033   0.022   0.0549  0.0549  0.7363  0.      0.      0.    ]\n",
      " [ 0.1132  0.0283  0.0377  0.0849  0.0189  0.      0.      0.6509  0.0189\n",
      "   0.0472]\n",
      " [ 0.2718  0.0194  0.068   0.0777  0.0485  0.0583  0.      0.0194  0.4175\n",
      "   0.0194]\n",
      " [ 0.18    0.      0.02    0.05    0.1     0.02    0.      0.02    0.04\n",
      "   0.57  ]]\n"
     ]
    }
   ],
   "source": [
    "cm, overall_acc = conf_matrix(testLabel, predLabel)\n",
    "cm = keep_k_digits(cm)\n",
    "print(overall_acc)\n",
    "print(cm)"
   ]
  },
  {
   "cell_type": "code",
   "execution_count": 50,
   "metadata": {},
   "outputs": [
    {
     "name": "stdout",
     "output_type": "stream",
     "text": [
      "0.9404\n",
      "[[ 1.      0.      0.      0.      0.      0.      0.      0.      0.      0.    ]\n",
      " [ 0.      1.      0.      0.      0.      0.      0.      0.      0.      0.    ]\n",
      " [ 0.0225  0.      0.9713  0.002   0.      0.      0.      0.      0.0041\n",
      "   0.    ]\n",
      " [ 0.0264  0.      0.0264  0.9391  0.      0.002   0.      0.      0.002\n",
      "   0.0041]\n",
      " [ 0.0056  0.      0.0056  0.0075  0.9794  0.0019  0.      0.      0.      0.    ]\n",
      " [ 0.0438  0.      0.0069  0.0507  0.0046  0.8848  0.      0.      0.0069\n",
      "   0.0023]\n",
      " [ 0.      0.      0.02    0.002   0.004   0.018   0.9561  0.      0.      0.    ]\n",
      " [ 0.      0.      0.0036  0.0182  0.0036  0.      0.      0.9745  0.      0.    ]\n",
      " [ 0.1602  0.      0.0108  0.0216  0.      0.0195  0.      0.0022  0.7857\n",
      "   0.    ]\n",
      " [ 0.0646  0.      0.002   0.0141  0.002   0.0121  0.      0.004   0.0182\n",
      "   0.8828]]\n"
     ]
    }
   ],
   "source": [
    "pred_train = inference(trained_weights, np_train_img)\n",
    "cm_train, overall_acc = conf_matrix(trainingLabel, pred_train)\n",
    "cm_train = keep_k_digits(cm_train)\n",
    "print(overall_acc)\n",
    "print(cm_train)"
   ]
  },
  {
   "cell_type": "code",
   "execution_count": null,
   "metadata": {},
   "outputs": [],
   "source": []
  }
 ],
 "metadata": {
  "kernelspec": {
   "display_name": "Python 3",
   "language": "python",
   "name": "python3"
  },
  "language_info": {
   "codemirror_mode": {
    "name": "ipython",
    "version": 3
   },
   "file_extension": ".py",
   "mimetype": "text/x-python",
   "name": "python",
   "nbconvert_exporter": "python",
   "pygments_lexer": "ipython3",
   "version": "3.6.2"
  }
 },
 "nbformat": 4,
 "nbformat_minor": 2
}
