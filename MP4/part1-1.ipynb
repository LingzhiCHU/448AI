{
 "cells": [
  {
   "cell_type": "code",
   "execution_count": 1,
   "metadata": {},
   "outputs": [],
   "source": [
    "import sys\n",
    "import math\n",
    "sys.setrecursionlimit(1500)"
   ]
  },
  {
   "cell_type": "code",
   "execution_count": 22,
   "metadata": {},
   "outputs": [],
   "source": [
    "# convert input txt into an 140000 * 28 array\n",
    "def inputDigit(img_dir=\"digitdata/trainingimages\"):\n",
    "    with open(img_dir) as digitTxt:\n",
    "        image = [list(line)[0:28] for line in digitTxt]\n",
    "        rows = len(image)\n",
    "        \n",
    "    for i in range(rows):\n",
    "        for j in range(28):\n",
    "            if image[i][j] == ' ':\n",
    "                image[i][j] = 0\n",
    "            else:\n",
    "                image[i][j] = 1\n",
    "    return image"
   ]
  },
  {
   "cell_type": "code",
   "execution_count": 23,
   "metadata": {},
   "outputs": [],
   "source": [
    "trainingImg = inputDigit(\"digitdata/trainingimages\")\n",
    "#print(len(trainingImg))\n",
    "#print(len(trainingImg[139999]))"
   ]
  },
  {
   "cell_type": "code",
   "execution_count": 24,
   "metadata": {},
   "outputs": [],
   "source": [
    "def readLable(name=\"digitdata/traininglabels\"):\n",
    "    with open(name) as label:\n",
    "        labels = []\n",
    "        for line in label:\n",
    "            labels.append(line[0])\n",
    "    return labels"
   ]
  },
  {
   "cell_type": "code",
   "execution_count": 25,
   "metadata": {},
   "outputs": [],
   "source": [
    "trainingLable = readLable()\n",
    "#print(len(trainingLable)"
   ]
  },
  {
   "cell_type": "code",
   "execution_count": 26,
   "metadata": {},
   "outputs": [],
   "source": [
    "def mmse(preds, labels):\n",
    "    error_sum = 0\n",
    "    for i in len(labels):\n",
    "        sum += (label[i] - preds[i]) ** 2\n",
    "    return sum"
   ]
  },
  {
   "cell_type": "code",
   "execution_count": 27,
   "metadata": {},
   "outputs": [],
   "source": [
    "def unrollImg(img):\n",
    "    image_num = int(len(img)/28)     #each img consists of 28 lines\n",
    "    unrolledImg = [[] for x in range(image_num)]          # 500*784\n",
    "    offset = 0\n",
    "    for i in range(image_num):  # i: 0--500\n",
    "        for j in range(28):   # j: 0--28  roll num in rolled img\n",
    "            unrolledImg[i] += img[offset+j]\n",
    "        offset +=28\n",
    "\n",
    "    return unrolledImg"
   ]
  },
  {
   "cell_type": "code",
   "execution_count": 28,
   "metadata": {},
   "outputs": [],
   "source": [
    "# ZERO init 10 perceptrons' weights to\n",
    "def init_weights():\n",
    "    weights = [[0 for x in range(784)] for y in range(10)]\n",
    "    return weights"
   ]
  },
  {
   "cell_type": "code",
   "execution_count": 29,
   "metadata": {},
   "outputs": [],
   "source": [
    "def dot_product(a, b):\n",
    "    return sum(i[0] * i[1] for i in zip(a, b))"
   ]
  },
  {
   "cell_type": "code",
   "execution_count": 34,
   "metadata": {},
   "outputs": [],
   "source": [
    "def update(w, true_y, pred_y, x, alpha=1):\n",
    "    w = w + alpha * (true_y - pred_y) * x"
   ]
  },
  {
   "cell_type": "code",
   "execution_count": 35,
   "metadata": {},
   "outputs": [],
   "source": [
    "def train(weights, trainingImg, trainingLable, epoch_num=1000 ):\n",
    "    alpha = 1\n",
    "    # iterate epoch_num times\n",
    "    for e in range(epoch_num):\n",
    "        # iterate through every images\n",
    "        for i in range(len(trainingImg)):\n",
    "            # train all 10 perceptrons with every single image\n",
    "            cur_image = trainingImg[i]\n",
    "            for p in range(10):\n",
    "                inference = math.copysign(1, dot_product(weights[p], cur_image))\n",
    "                if trainingLable[i] == p:\n",
    "                    true_y = 1\n",
    "                else:\n",
    "                    true_y = -1\n",
    "                update(weights[p], true_y, inference, cur_image, alpha)\n",
    "                \n",
    "    return weights"
   ]
  },
  {
   "cell_type": "code",
   "execution_count": 36,
   "metadata": {},
   "outputs": [],
   "source": [
    "#list = [[] for x in range(500)]\n",
    "#print(len(list))\n",
    "#print(len(list[0]))\n",
    "\n",
    "#a = unrollImg(trainingImg)\n",
    "#print(len(a))\n",
    "#print(len(a[0]))\n",
    "\n",
    "#w = init_weights()\n",
    "#print(len(w))\n",
    "#print(len(w[0]))\n",
    "\n",
    "#print(math.copysign(1, -5))"
   ]
  },
  {
   "cell_type": "code",
   "execution_count": 37,
   "metadata": {},
   "outputs": [
    {
     "ename": "TypeError",
     "evalue": "can't multiply sequence by non-int of type 'float'",
     "output_type": "error",
     "traceback": [
      "\u001b[0;31m---------------------------------------------------------------------------\u001b[0m",
      "\u001b[0;31mTypeError\u001b[0m                                 Traceback (most recent call last)",
      "\u001b[0;32m<ipython-input-37-4fd47cf17743>\u001b[0m in \u001b[0;36m<module>\u001b[0;34m()\u001b[0m\n\u001b[1;32m      2\u001b[0m \u001b[0mepoch_num\u001b[0m \u001b[0;34m=\u001b[0m \u001b[0;36m2000\u001b[0m\u001b[0;34m\u001b[0m\u001b[0m\n\u001b[1;32m      3\u001b[0m \u001b[0munrolled_img\u001b[0m \u001b[0;34m=\u001b[0m \u001b[0munrollImg\u001b[0m\u001b[0;34m(\u001b[0m\u001b[0mtrainingImg\u001b[0m\u001b[0;34m)\u001b[0m\u001b[0;34m\u001b[0m\u001b[0m\n\u001b[0;32m----> 4\u001b[0;31m \u001b[0mtrained_weights\u001b[0m \u001b[0;34m=\u001b[0m \u001b[0mtrain\u001b[0m\u001b[0;34m(\u001b[0m\u001b[0mweights\u001b[0m\u001b[0;34m,\u001b[0m \u001b[0munrolled_img\u001b[0m\u001b[0;34m,\u001b[0m \u001b[0mtrainingLable\u001b[0m\u001b[0;34m,\u001b[0m \u001b[0mepoch_num\u001b[0m\u001b[0;34m)\u001b[0m\u001b[0;34m\u001b[0m\u001b[0m\n\u001b[0m",
      "\u001b[0;32m<ipython-input-35-065fa68db713>\u001b[0m in \u001b[0;36mtrain\u001b[0;34m(weights, trainingImg, trainingLable, epoch_num)\u001b[0m\n\u001b[1;32m     13\u001b[0m                 \u001b[0;32melse\u001b[0m\u001b[0;34m:\u001b[0m\u001b[0;34m\u001b[0m\u001b[0m\n\u001b[1;32m     14\u001b[0m                     \u001b[0mtrue_y\u001b[0m \u001b[0;34m=\u001b[0m \u001b[0;34m-\u001b[0m\u001b[0;36m1\u001b[0m\u001b[0;34m\u001b[0m\u001b[0m\n\u001b[0;32m---> 15\u001b[0;31m                 \u001b[0mupdate\u001b[0m\u001b[0;34m(\u001b[0m\u001b[0mweights\u001b[0m\u001b[0;34m[\u001b[0m\u001b[0mp\u001b[0m\u001b[0;34m]\u001b[0m\u001b[0;34m,\u001b[0m \u001b[0mtrue_y\u001b[0m\u001b[0;34m,\u001b[0m \u001b[0minference\u001b[0m\u001b[0;34m,\u001b[0m \u001b[0mcur_image\u001b[0m\u001b[0;34m,\u001b[0m \u001b[0malpha\u001b[0m\u001b[0;34m)\u001b[0m\u001b[0;34m\u001b[0m\u001b[0m\n\u001b[0m\u001b[1;32m     16\u001b[0m \u001b[0;34m\u001b[0m\u001b[0m\n\u001b[1;32m     17\u001b[0m     \u001b[0;32mreturn\u001b[0m \u001b[0mweights\u001b[0m\u001b[0;34m\u001b[0m\u001b[0m\n",
      "\u001b[0;32m<ipython-input-34-f245e6fda720>\u001b[0m in \u001b[0;36mupdate\u001b[0;34m(w, true_y, pred_y, x, alpha)\u001b[0m\n\u001b[1;32m      1\u001b[0m \u001b[0;32mdef\u001b[0m \u001b[0mupdate\u001b[0m\u001b[0;34m(\u001b[0m\u001b[0mw\u001b[0m\u001b[0;34m,\u001b[0m \u001b[0mtrue_y\u001b[0m\u001b[0;34m,\u001b[0m \u001b[0mpred_y\u001b[0m\u001b[0;34m,\u001b[0m \u001b[0mx\u001b[0m\u001b[0;34m,\u001b[0m \u001b[0malpha\u001b[0m\u001b[0;34m=\u001b[0m\u001b[0;36m1\u001b[0m\u001b[0;34m)\u001b[0m\u001b[0;34m:\u001b[0m\u001b[0;34m\u001b[0m\u001b[0m\n\u001b[0;32m----> 2\u001b[0;31m     \u001b[0mw\u001b[0m \u001b[0;34m=\u001b[0m \u001b[0mw\u001b[0m \u001b[0;34m+\u001b[0m \u001b[0malpha\u001b[0m \u001b[0;34m*\u001b[0m \u001b[0;34m(\u001b[0m\u001b[0mtrue_y\u001b[0m \u001b[0;34m-\u001b[0m \u001b[0mpred_y\u001b[0m\u001b[0;34m)\u001b[0m \u001b[0;34m*\u001b[0m \u001b[0mx\u001b[0m\u001b[0;34m\u001b[0m\u001b[0m\n\u001b[0m",
      "\u001b[0;31mTypeError\u001b[0m: can't multiply sequence by non-int of type 'float'"
     ]
    }
   ],
   "source": [
    "weights = init_weights()\n",
    "epoch_num = 2000\n",
    "unrolled_img = unrollImg(trainingImg)\n",
    "trained_weights = train(weights, unrolled_img, trainingLable, epoch_num)\n"
   ]
  },
  {
   "cell_type": "code",
   "execution_count": null,
   "metadata": {},
   "outputs": [],
   "source": [
    "def conf_matrix(trainingLable, trainingImg):\n",
    "    "
   ]
  }
 ],
 "metadata": {
  "kernelspec": {
   "display_name": "Python 3",
   "language": "python",
   "name": "python3"
  },
  "language_info": {
   "codemirror_mode": {
    "name": "ipython",
    "version": 3
   },
   "file_extension": ".py",
   "mimetype": "text/x-python",
   "name": "python",
   "nbconvert_exporter": "python",
   "pygments_lexer": "ipython3",
   "version": "3.6.2"
  }
 },
 "nbformat": 4,
 "nbformat_minor": 2
}
