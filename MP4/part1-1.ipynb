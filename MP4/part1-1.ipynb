{
 "cells": [
  {
   "cell_type": "code",
   "execution_count": 1,
   "metadata": {},
   "outputs": [],
   "source": [
    "import sys\n",
    "import math\n",
    "import numpy as np\n",
    "sys.setrecursionlimit(1500)"
   ]
  },
  {
   "cell_type": "code",
   "execution_count": 2,
   "metadata": {},
   "outputs": [],
   "source": [
    "# convert input txt into an 140000 * 28 array\n",
    "def inputDigit(img_dir=\"digitdata/trainingimages\"):\n",
    "    with open(img_dir) as digitTxt:\n",
    "        image = [list(line)[0:28] for line in digitTxt]\n",
    "        rows = len(image)\n",
    "        \n",
    "    for i in range(rows):\n",
    "        for j in range(28):\n",
    "            if image[i][j] == ' ':\n",
    "                image[i][j] = 0\n",
    "            else:\n",
    "                image[i][j] = 1\n",
    "    return image"
   ]
  },
  {
   "cell_type": "code",
   "execution_count": 3,
   "metadata": {},
   "outputs": [],
   "source": [
    "def unrollImg(img):\n",
    "    image_num = int(len(img)/28)     #each img consists of 28 lines\n",
    "    unrolledImg = [[] for x in range(image_num)]          # 500*784\n",
    "    offset = 0\n",
    "    for i in range(image_num):  # i: 0--500\n",
    "        for j in range(28):   # j: 0--28  roll num in rolled img\n",
    "            unrolledImg[i] += img[offset+j]\n",
    "        offset +=28\n",
    "\n",
    "    return np.array(unrolledImg)"
   ]
  },
  {
   "cell_type": "code",
   "execution_count": 61,
   "metadata": {},
   "outputs": [],
   "source": [
    "def readLabel(name=\"digitdata/traininglabels\"):\n",
    "    with open(name) as label:\n",
    "        labels = []\n",
    "        for line in label:\n",
    "            labels.append(int(line[0]))\n",
    "    return labels"
   ]
  },
  {
   "cell_type": "code",
   "execution_count": 62,
   "metadata": {},
   "outputs": [],
   "source": [
    "trainingImg = inputDigit(\"digitdata/trainingimages\")\n",
    "np_train_img = unrollImg(trainingImg)\n",
    "trainingLabel = readLabel(\"digitdata/traininglabels\")\n",
    "testImg = inputDigit(\"digitdata/testimages\")\n",
    "np_test_img = unrollImg(testImg)\n",
    "testLabel = readLabel(\"digitdata/testlabels\")"
   ]
  },
  {
   "cell_type": "code",
   "execution_count": 6,
   "metadata": {},
   "outputs": [],
   "source": [
    "def mmse(preds, labels):\n",
    "    error_sum = 0\n",
    "    for i in len(labels):\n",
    "        sum += (label[i] - preds[i]) ** 2\n",
    "    return sum"
   ]
  },
  {
   "cell_type": "code",
   "execution_count": 7,
   "metadata": {},
   "outputs": [],
   "source": [
    "# ZERO init 10 perceptrons' weights to\n",
    "def init_weights():\n",
    "    weights = np.zeros((10, 784))\n",
    "    return weights"
   ]
  },
  {
   "cell_type": "code",
   "execution_count": 63,
   "metadata": {},
   "outputs": [],
   "source": [
    "def init_bias():\n",
    "    bias = np.zeros(10)\n",
    "    return bias"
   ]
  },
  {
   "cell_type": "code",
   "execution_count": 8,
   "metadata": {},
   "outputs": [],
   "source": [
    "# input: both w and x are np array\n",
    "def update(w, true_y, pred_y, x, alpha=1):\n",
    "    w = np.add(w, np.multiply(x, alpha * (true_y - pred_y)))\n",
    "    return w"
   ]
  },
  {
   "cell_type": "code",
   "execution_count": 14,
   "metadata": {},
   "outputs": [],
   "source": [
    "# input is the 10 perceptrons(weights)\n",
    "# output is the prediction label for input images\n",
    "def inference(weights, trainingImg):\n",
    "    image_num = len(trainingImg)\n",
    "    pred = np.zeros(image_num)\n",
    "    for i in range(image_num):\n",
    "        # train all 10 perceptrons with every single image\n",
    "        cur_image = trainingImg[i]\n",
    "        inference = np.zeros(10)\n",
    "        for p in range(10):\n",
    "            inference[p] = math.copysign(1, weights[p].dot(cur_image))\n",
    "        pred[i] = inference.argmax()\n",
    "    return pred"
   ]
  },
  {
   "cell_type": "code",
   "execution_count": 15,
   "metadata": {},
   "outputs": [],
   "source": [
    "def show_acc(pred_label, trainingLabel):\n",
    "    total = 0\n",
    "    correct = 0\n",
    "    for i in range(len(trainingLabel)):\n",
    "        total += 1\n",
    "        if pred_label[i] == int(trainingLabel[i]):\n",
    "            correct += 1\n",
    "    print(\"accuracy is\", correct/total)"
   ]
  },
  {
   "cell_type": "code",
   "execution_count": 16,
   "metadata": {},
   "outputs": [],
   "source": [
    "def train(weights, trainingImg, trainingLabel, testImg, testLabel, epoch_num=1000, initial_alpha=1):\n",
    "    trained_weights = weights\n",
    "    # iterate epoch_num times\n",
    "    for e in range(epoch_num):\n",
    "        # iterate through every images\n",
    "        cur_alpha = initial_alpha / (e+1)    # learning rate = \n",
    "        for i in range(len(trainingImg)):\n",
    "            # train all 10 perceptrons with every single image\n",
    "            cur_image = trainingImg[i]\n",
    "            for p in range(10):\n",
    "                inf = np.sign(weights[p].dot(cur_image))\n",
    "                if int(trainingLabel[i]) == p:\n",
    "                    true_y = 1\n",
    "                else:\n",
    "                    true_y = -1\n",
    "                trained_weights[p] = update(trained_weights[p], true_y, inf, cur_image, cur_alpha)\n",
    "                #if i==10 and p==5:\n",
    "                #    print(np.sum(trained_weights, axis = 1))\n",
    "        print(\"On epoch\", e)\n",
    "        print(\"training acc is\")\n",
    "        pred_train = inference(trained_weights, trainingImg)\n",
    "        show_acc(pred_train, trainingLabel)\n",
    "        print(\"testing acc is\")\n",
    "        pred_test = inference(trained_weights, testImg)\n",
    "        show_acc(pred_test, testLabel)\n",
    "\n",
    "    return trained_weights"
   ]
  },
  {
   "cell_type": "code",
   "execution_count": 17,
   "metadata": {},
   "outputs": [],
   "source": [
    "weights = init_weights()\n",
    "epoch_num = 30"
   ]
  },
  {
   "cell_type": "code",
   "execution_count": 18,
   "metadata": {},
   "outputs": [
    {
     "name": "stdout",
     "output_type": "stream",
     "text": [
      "On epoch 0\n",
      "training acc is\n",
      "accuracy is 0.7596\n",
      "testing acc is\n",
      "accuracy is 0.687\n",
      "On epoch 1\n",
      "training acc is\n",
      "accuracy is 0.8484\n",
      "testing acc is\n",
      "accuracy is 0.745\n",
      "On epoch 2\n",
      "training acc is\n",
      "accuracy is 0.8172\n",
      "testing acc is\n",
      "accuracy is 0.711\n",
      "On epoch 3\n",
      "training acc is\n",
      "accuracy is 0.8632\n",
      "testing acc is\n",
      "accuracy is 0.738\n",
      "On epoch 4\n",
      "training acc is\n",
      "accuracy is 0.858\n",
      "testing acc is\n",
      "accuracy is 0.733\n",
      "On epoch 5\n",
      "training acc is\n",
      "accuracy is 0.868\n",
      "testing acc is\n",
      "accuracy is 0.738\n",
      "On epoch 6\n",
      "training acc is\n",
      "accuracy is 0.871\n",
      "testing acc is\n",
      "accuracy is 0.739\n",
      "On epoch 7\n",
      "training acc is\n",
      "accuracy is 0.8788\n",
      "testing acc is\n",
      "accuracy is 0.73\n",
      "On epoch 8\n",
      "training acc is\n",
      "accuracy is 0.8798\n",
      "testing acc is\n",
      "accuracy is 0.729\n",
      "On epoch 9\n",
      "training acc is\n",
      "accuracy is 0.8784\n",
      "testing acc is\n",
      "accuracy is 0.727\n",
      "On epoch 10\n",
      "training acc is\n",
      "accuracy is 0.9012\n",
      "testing acc is\n",
      "accuracy is 0.745\n",
      "On epoch 11\n",
      "training acc is\n",
      "accuracy is 0.9046\n",
      "testing acc is\n",
      "accuracy is 0.732\n",
      "On epoch 12\n",
      "training acc is\n",
      "accuracy is 0.9054\n",
      "testing acc is\n",
      "accuracy is 0.731\n",
      "On epoch 13\n",
      "training acc is\n",
      "accuracy is 0.9078\n",
      "testing acc is\n",
      "accuracy is 0.74\n",
      "On epoch 14\n",
      "training acc is\n",
      "accuracy is 0.9052\n",
      "testing acc is\n",
      "accuracy is 0.733\n",
      "On epoch 15\n",
      "training acc is\n",
      "accuracy is 0.9086\n",
      "testing acc is\n",
      "accuracy is 0.73\n",
      "On epoch 16\n",
      "training acc is\n",
      "accuracy is 0.8952\n",
      "testing acc is\n",
      "accuracy is 0.726\n",
      "On epoch 17\n",
      "training acc is\n",
      "accuracy is 0.909\n",
      "testing acc is\n",
      "accuracy is 0.733\n",
      "On epoch 18\n",
      "training acc is\n",
      "accuracy is 0.909\n",
      "testing acc is\n",
      "accuracy is 0.731\n",
      "On epoch 19\n",
      "training acc is\n",
      "accuracy is 0.9106\n",
      "testing acc is\n",
      "accuracy is 0.732\n",
      "On epoch 20\n",
      "training acc is\n",
      "accuracy is 0.9036\n",
      "testing acc is\n",
      "accuracy is 0.726\n",
      "On epoch 21\n",
      "training acc is\n",
      "accuracy is 0.9146\n",
      "testing acc is\n",
      "accuracy is 0.734\n",
      "On epoch 22\n",
      "training acc is\n",
      "accuracy is 0.9184\n",
      "testing acc is\n",
      "accuracy is 0.738\n",
      "On epoch 23\n",
      "training acc is\n",
      "accuracy is 0.9168\n",
      "testing acc is\n",
      "accuracy is 0.733\n",
      "On epoch 24\n",
      "training acc is\n",
      "accuracy is 0.9144\n",
      "testing acc is\n",
      "accuracy is 0.72\n",
      "On epoch 25\n",
      "training acc is\n",
      "accuracy is 0.916\n",
      "testing acc is\n",
      "accuracy is 0.73\n",
      "On epoch 26\n",
      "training acc is\n",
      "accuracy is 0.913\n",
      "testing acc is\n",
      "accuracy is 0.727\n",
      "On epoch 27\n",
      "training acc is\n",
      "accuracy is 0.919\n",
      "testing acc is\n",
      "accuracy is 0.725\n",
      "On epoch 28\n",
      "training acc is\n",
      "accuracy is 0.9178\n",
      "testing acc is\n",
      "accuracy is 0.719\n",
      "On epoch 29\n",
      "training acc is\n",
      "accuracy is 0.918\n",
      "testing acc is\n",
      "accuracy is 0.722\n"
     ]
    }
   ],
   "source": [
    "trained_weights = train(weights, np_train_img, trainingLabel, np_test_img, testLabel, epoch_num, 0.8)"
   ]
  },
  {
   "cell_type": "code",
   "execution_count": 57,
   "metadata": {},
   "outputs": [],
   "source": [
    "def conf_matrix(trueLabel, predLabel):\n",
    "    cm = np.zeros((10,10))\n",
    "    for i in range(len(trueLabel)):\n",
    "        cm[int(trueLabel[i])][int(predLabel[i])] += 1\n",
    "    for i in range(10):\n",
    "        cur_row_sum = np.sum(cm[i])\n",
    "        cm[i] /= cur_row_sum    \n",
    "    return cm"
   ]
  },
  {
   "cell_type": "code",
   "execution_count": 58,
   "metadata": {},
   "outputs": [],
   "source": [
    "predLabel = inference(trained_weights, np_test_img)"
   ]
  },
  {
   "cell_type": "code",
   "execution_count": 59,
   "metadata": {},
   "outputs": [
    {
     "name": "stdout",
     "output_type": "stream",
     "text": [
      "90.0\n",
      "108.0\n",
      "103.0\n",
      "100.0\n",
      "107.0\n",
      "92.0\n",
      "91.0\n",
      "106.0\n",
      "103.0\n",
      "100.0\n"
     ]
    }
   ],
   "source": [
    "cm = conf_matrix(testLabel, predLabel)\n",
    "print(cm)"
   ]
  },
  {
   "cell_type": "code",
   "execution_count": 39,
   "metadata": {},
   "outputs": [],
   "source": [
    "#print(type(predLabel[0]), type(testLabel[0]))\n",
    "###!!!! predLabel is float type and testLabel is string type"
   ]
  }
 ],
 "metadata": {
  "kernelspec": {
   "display_name": "Python 3",
   "language": "python",
   "name": "python3"
  },
  "language_info": {
   "codemirror_mode": {
    "name": "ipython",
    "version": 3
   },
   "file_extension": ".py",
   "mimetype": "text/x-python",
   "name": "python",
   "nbconvert_exporter": "python",
   "pygments_lexer": "ipython3",
   "version": "3.6.2"
  }
 },
 "nbformat": 4,
 "nbformat_minor": 2
}
